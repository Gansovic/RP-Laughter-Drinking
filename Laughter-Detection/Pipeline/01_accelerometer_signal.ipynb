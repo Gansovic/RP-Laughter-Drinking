{
 "cells": [
  {
   "cell_type": "code",
   "id": "initial_id",
   "metadata": {
    "collapsed": true,
    "ExecuteTime": {
     "end_time": "2025-05-28T10:18:22.461972Z",
     "start_time": "2025-05-28T10:18:19.117547Z"
    }
   },
   "source": [
    "# Imports necesarios\n",
    "import os\n",
    "import pickle\n",
    "import pandas as pd\n",
    "import numpy as np\n",
    "from scipy.signal import butter, filtfilt\n",
    "from sklearn.preprocessing import StandardScaler\n",
    "\n",
    "# Funciones (reutiliza tu lógica existente)\n",
    "def butter_bandpass(lowcut, highcut, fs, order=4):\n",
    "    nyq = 0.5 * fs\n",
    "    low, high = lowcut / nyq, highcut / nyq\n",
    "    return butter(order, [low, high], btype='band')\n",
    "\n",
    "def apply_filter(signal, lowcut=0.5, highcut=10.0, fs=50):\n",
    "    b, a = butter_bandpass(lowcut, highcut, fs)\n",
    "    return filtfilt(b, a, signal)\n",
    "\n",
    "# Ruta base\n",
    "sensor_base = \"/Volumes/conflab-mm/v4/release/data_processed/wearables\"\n",
    "pkl_base = \"pkls\"\n",
    "\n",
    "os.makedirs(pkl_base, exist_ok=True)\n",
    "\n",
    "# Procesar cada participante\n",
    "for pid in range(1, 51):\n",
    "    try:\n",
    "        df = pd.read_csv(os.path.join(sensor_base, f\"{pid}.csv\"))\n",
    "        for axis in ['accelX', 'accelY', 'accelZ']:\n",
    "            df[f'{axis}_filtered'] = apply_filter(df[axis].dropna())\n",
    "\n",
    "        scaler = StandardScaler()\n",
    "        df[['accelX_filtered', 'accelY_filtered', 'accelZ_filtered']] = scaler.fit_transform(\n",
    "            df[['accelX_filtered', 'accelY_filtered', 'accelZ_filtered']].dropna()\n",
    "        )\n",
    "\n",
    "        with open(os.path.join(pkl_base, f\"{pid}.pkl\"), \"wb\") as f:\n",
    "            pickle.dump(df, f)\n",
    "\n",
    "        print(f\"✅ Processed and saved participant {pid}\")\n",
    "    except Exception as e:\n",
    "        print(f\"⚠️ Error participant {pid}: {e}\")\n"
   ],
   "outputs": [
    {
     "name": "stdout",
     "output_type": "stream",
     "text": [
      "✅ Processed and saved participant 1\n",
      "✅ Processed and saved participant 2\n",
      "✅ Processed and saved participant 3\n",
      "✅ Processed and saved participant 4\n",
      "✅ Processed and saved participant 5\n",
      "✅ Processed and saved participant 6\n",
      "✅ Processed and saved participant 7\n",
      "✅ Processed and saved participant 8\n",
      "✅ Processed and saved participant 9\n",
      "✅ Processed and saved participant 10\n",
      "✅ Processed and saved participant 11\n",
      "✅ Processed and saved participant 12\n",
      "✅ Processed and saved participant 13\n",
      "✅ Processed and saved participant 14\n",
      "✅ Processed and saved participant 15\n",
      "✅ Processed and saved participant 16\n",
      "✅ Processed and saved participant 17\n",
      "✅ Processed and saved participant 18\n",
      "✅ Processed and saved participant 19\n",
      "✅ Processed and saved participant 20\n",
      "✅ Processed and saved participant 21\n",
      "✅ Processed and saved participant 22\n",
      "✅ Processed and saved participant 23\n",
      "✅ Processed and saved participant 24\n",
      "✅ Processed and saved participant 25\n",
      "✅ Processed and saved participant 26\n",
      "✅ Processed and saved participant 27\n",
      "✅ Processed and saved participant 28\n",
      "✅ Processed and saved participant 29\n",
      "✅ Processed and saved participant 30\n",
      "✅ Processed and saved participant 31\n",
      "✅ Processed and saved participant 32\n",
      "✅ Processed and saved participant 33\n",
      "✅ Processed and saved participant 34\n",
      "✅ Processed and saved participant 35\n",
      "✅ Processed and saved participant 36\n",
      "✅ Processed and saved participant 37\n",
      "⚠️ Error participant 38: [Errno 2] No such file or directory: '/Volumes/conflab-mm/v4/release/data_processed/wearables/38.csv'\n",
      "⚠️ Error participant 39: [Errno 2] No such file or directory: '/Volumes/conflab-mm/v4/release/data_processed/wearables/39.csv'\n",
      "✅ Processed and saved participant 40\n",
      "✅ Processed and saved participant 41\n",
      "✅ Processed and saved participant 42\n",
      "✅ Processed and saved participant 43\n",
      "✅ Processed and saved participant 44\n",
      "✅ Processed and saved participant 45\n",
      "✅ Processed and saved participant 46\n",
      "✅ Processed and saved participant 47\n",
      "✅ Processed and saved participant 48\n",
      "✅ Processed and saved participant 49\n",
      "✅ Processed and saved participant 50\n"
     ]
    }
   ],
   "execution_count": 3
  },
  {
   "metadata": {},
   "cell_type": "code",
   "outputs": [],
   "execution_count": null,
   "source": "",
   "id": "ee07519a33053929"
  }
 ],
 "metadata": {
  "kernelspec": {
   "display_name": "Python 3",
   "language": "python",
   "name": "python3"
  },
  "language_info": {
   "codemirror_mode": {
    "name": "ipython",
    "version": 2
   },
   "file_extension": ".py",
   "mimetype": "text/x-python",
   "name": "python",
   "nbconvert_exporter": "python",
   "pygments_lexer": "ipython2",
   "version": "2.7.6"
  }
 },
 "nbformat": 4,
 "nbformat_minor": 5
}
