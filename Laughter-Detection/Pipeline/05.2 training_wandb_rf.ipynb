{
 "cells": [
  {
   "cell_type": "code",
   "id": "initial_id",
   "metadata": {
    "collapsed": true,
    "ExecuteTime": {
     "end_time": "2025-06-02T10:57:56.293005Z",
     "start_time": "2025-06-02T10:57:56.282700Z"
    }
   },
   "source": [
    "import os\n",
    "import numpy as np\n",
    "import pandas as pd\n",
    "\n",
    "from sklearn.ensemble import RandomForestClassifier\n",
    "from sklearn.model_selection import train_test_split\n",
    "from sklearn.metrics import f1_score, classification_report\n",
    "from sklearn.preprocessing import StandardScaler, MinMaxScaler\n",
    "\n",
    "import wandb\n"
   ],
   "outputs": [],
   "execution_count": 20
  },
  {
   "metadata": {
    "ExecuteTime": {
     "end_time": "2025-06-02T11:05:44.702487Z",
     "start_time": "2025-06-02T11:05:44.694621Z"
    }
   },
   "cell_type": "code",
   "source": [
    "def train():\n",
    "    run = wandb.init(project=\"rf-window-classification\", job_type=\"training\")\n",
    "    config = run.config\n",
    "\n",
    "    # 1) Cargar CSV\n",
    "    feat_file = f\"./features_csvs/features_fixed_{config.window_size_seconds}s.csv\"\n",
    "    if not os.path.exists(feat_file):\n",
    "        raise FileNotFoundError(f\"Archivo no encontrado: {feat_file}\")\n",
    "\n",
    "    df = pd.read_csv(feat_file)\n",
    "\n",
    "    # 2) Eliminar columnas de metadata si están presentes\n",
    "    candidate_cols = [\"video_id\", \"segment\", \"participant\", \"window_i\", \"window_s\", \"run_count\", \"modality\"]\n",
    "    drop_cols = [c for c in candidate_cols if c in df.columns]\n",
    "    df = df.drop(columns=drop_cols)\n",
    "\n",
    "    # 3) Separar X e y\n",
    "    df[\"label\"] = df[\"label\"].astype(int)\n",
    "    feature_cols = df.select_dtypes(include=[np.number]).columns.drop(\"label\")\n",
    "    X = df[feature_cols].values\n",
    "    y = df[\"label\"].values\n",
    "\n",
    "    # 4) Escalado opcional\n",
    "    if config.scaler_type == \"standard\":\n",
    "        scaler = StandardScaler()\n",
    "    elif config.scaler_type == \"minmax\":\n",
    "        scaler = MinMaxScaler()\n",
    "    else:\n",
    "        scaler = None\n",
    "\n",
    "    if scaler is not None:\n",
    "        X = scaler.fit_transform(X)\n",
    "    wandb.log({\"preprocessing/scaler_type\": config.scaler_type})\n",
    "\n",
    "    # 5) Split en entrenamiento y validación\n",
    "    X_train, X_val, y_train, y_val = train_test_split(\n",
    "        X, y, test_size=0.2, stratify=y, random_state=config.random_state\n",
    "    )\n",
    "\n",
    "    # 6) Entrenar modelo Random Forest\n",
    "    clf = RandomForestClassifier(\n",
    "        n_estimators=config.n_estimators,\n",
    "        max_depth=config.max_depth,\n",
    "        class_weight=config.class_weight,\n",
    "        random_state=config.random_state\n",
    "    )\n",
    "    clf.fit(X_train, y_train)\n",
    "\n",
    "    # 7) Evaluación\n",
    "    y_pred = clf.predict(X_val)\n",
    "    f1 = f1_score(y_val, y_pred, average=\"macro\")\n",
    "    wandb.log({\"val/f1_macro\": f1})\n",
    "    print(f\"✅ F1-macro = {f1:.3f}\")\n",
    "\n",
    "    # 8) Classification report\n",
    "    report = classification_report(y_val, y_pred, output_dict=True, zero_division=0)\n",
    "    for label, metrics in report.items():\n",
    "        if isinstance(metrics, dict):\n",
    "            for metric_name, value in metrics.items():\n",
    "                wandb.log({f\"{label}/{metric_name}\": value})\n",
    "        else:\n",
    "            wandb.log({label: metrics})\n",
    "\n",
    "    run.finish()\n"
   ],
   "id": "b70646ad66ef73e2",
   "outputs": [],
   "execution_count": 24
  },
  {
   "metadata": {
    "ExecuteTime": {
     "end_time": "2025-06-02T12:12:52.700128Z",
     "start_time": "2025-06-02T12:12:52.185048Z"
    }
   },
   "cell_type": "code",
   "source": [
    "sweep_config = {\n",
    "    \"method\": \"bayes\",\n",
    "    \"metric\": {\n",
    "        \"name\": \"val/f1_macro\",\n",
    "        \"goal\": \"maximize\"\n",
    "    },\n",
    "    \"parameters\": {\n",
    "        \"window_size_seconds\": {\n",
    "            \"values\": [1, 5, 10]\n",
    "        },\n",
    "        \"n_estimators\": {\n",
    "            \"values\": [50, 100, 200]\n",
    "        },\n",
    "        \"max_depth\": {\n",
    "            \"values\": [5, 10, 20]\n",
    "        },\n",
    "        \"random_state\": {\n",
    "            \"value\": 42\n",
    "        },\n",
    "        \"class_weight\": {\n",
    "            \"values\": [\"balanced\", \"balanced_subsample\"]\n",
    "        },\n",
    "        \"scaler_type\": {\n",
    "            \"values\": [\"standard\"]\n",
    "        }\n",
    "    }\n",
    "}\n",
    "\n",
    "sweep_id = wandb.sweep(sweep_config, project=\"rf-sequence-classification\")\n",
    "print(\"Sweep ID:\", sweep_id)\n"
   ],
   "id": "f0e2304834630299",
   "outputs": [
    {
     "name": "stdout",
     "output_type": "stream",
     "text": [
      "Create sweep with ID: 0hueicyq\n",
      "Sweep URL: https://wandb.ai/knezevicoluka-tu-delft/rf-sequence-classification/sweeps/0hueicyq\n",
      "Sweep ID: 0hueicyq\n"
     ]
    }
   ],
   "execution_count": 27
  },
  {
   "metadata": {
    "ExecuteTime": {
     "end_time": "2025-06-02T12:20:49.373414Z",
     "start_time": "2025-06-02T12:12:54.585541Z"
    }
   },
   "cell_type": "code",
   "source": [
    "# ─── Cell 4: Launch agents directly from the notebook ─────────────────────────\n",
    "\n",
    "# You can spin up multiple agents (in parallel or sequentially) by running this cell multiple times.\n",
    "# Each agent will pull one new config from the sweep and run train() under that config.\n",
    "\n",
    "wandb.agent(sweep_id, function=train, count=10)\n",
    "\n",
    "# - `count=10` means “run 10 different trials” (or until the sweep ends).\n",
    "# - Omit `count` if you want to keep going until you manually stop it or exhausting the search space.\n"
   ],
   "id": "5a59a0271af8e58a",
   "outputs": [
    {
     "name": "stderr",
     "output_type": "stream",
     "text": [
      "\u001B[34m\u001B[1mwandb\u001B[0m: Agent Starting Run: jbru3c0w with config:\n",
      "\u001B[34m\u001B[1mwandb\u001B[0m: \tclass_weight: balanced_subsample\n",
      "\u001B[34m\u001B[1mwandb\u001B[0m: \tmax_depth: 20\n",
      "\u001B[34m\u001B[1mwandb\u001B[0m: \tn_estimators: 100\n",
      "\u001B[34m\u001B[1mwandb\u001B[0m: \trandom_state: 42\n",
      "\u001B[34m\u001B[1mwandb\u001B[0m: \tscaler_type: standard\n",
      "\u001B[34m\u001B[1mwandb\u001B[0m: \twindow_size_seconds: 10\n"
     ]
    },
    {
     "data": {
      "text/plain": [
       "<IPython.core.display.HTML object>"
      ],
      "text/html": [
       "Ignoring project 'rf-window-classification' when running a sweep."
      ]
     },
     "metadata": {},
     "output_type": "display_data"
    },
    {
     "data": {
      "text/plain": [
       "<IPython.core.display.HTML object>"
      ],
      "text/html": [
       "Tracking run with wandb version 0.19.11"
      ]
     },
     "metadata": {},
     "output_type": "display_data"
    },
    {
     "data": {
      "text/plain": [
       "<IPython.core.display.HTML object>"
      ],
      "text/html": [
       "Run data is saved locally in <code>/Users/lukini/Documents/GitHub/RP-Laughter-Drinking/Laughter-Detection/Pipeline/wandb/run-20250602_141256-jbru3c0w</code>"
      ]
     },
     "metadata": {},
     "output_type": "display_data"
    },
    {
     "data": {
      "text/plain": [
       "<IPython.core.display.HTML object>"
      ],
      "text/html": [
       "Syncing run <strong><a href='https://wandb.ai/knezevicoluka-tu-delft/rf-sequence-classification/runs/jbru3c0w' target=\"_blank\">sunny-sweep-1</a></strong> to <a href='https://wandb.ai/knezevicoluka-tu-delft/rf-sequence-classification' target=\"_blank\">Weights & Biases</a> (<a href='https://wandb.me/developer-guide' target=\"_blank\">docs</a>)<br>Sweep page: <a href='https://wandb.ai/knezevicoluka-tu-delft/rf-sequence-classification/sweeps/0hueicyq' target=\"_blank\">https://wandb.ai/knezevicoluka-tu-delft/rf-sequence-classification/sweeps/0hueicyq</a>"
      ]
     },
     "metadata": {},
     "output_type": "display_data"
    },
    {
     "data": {
      "text/plain": [
       "<IPython.core.display.HTML object>"
      ],
      "text/html": [
       " View project at <a href='https://wandb.ai/knezevicoluka-tu-delft/rf-sequence-classification' target=\"_blank\">https://wandb.ai/knezevicoluka-tu-delft/rf-sequence-classification</a>"
      ]
     },
     "metadata": {},
     "output_type": "display_data"
    },
    {
     "data": {
      "text/plain": [
       "<IPython.core.display.HTML object>"
      ],
      "text/html": [
       " View sweep at <a href='https://wandb.ai/knezevicoluka-tu-delft/rf-sequence-classification/sweeps/0hueicyq' target=\"_blank\">https://wandb.ai/knezevicoluka-tu-delft/rf-sequence-classification/sweeps/0hueicyq</a>"
      ]
     },
     "metadata": {},
     "output_type": "display_data"
    },
    {
     "data": {
      "text/plain": [
       "<IPython.core.display.HTML object>"
      ],
      "text/html": [
       " View run at <a href='https://wandb.ai/knezevicoluka-tu-delft/rf-sequence-classification/runs/jbru3c0w' target=\"_blank\">https://wandb.ai/knezevicoluka-tu-delft/rf-sequence-classification/runs/jbru3c0w</a>"
      ]
     },
     "metadata": {},
     "output_type": "display_data"
    },
    {
     "name": "stdout",
     "output_type": "stream",
     "text": [
      "✅ F1-macro = 0.519\n"
     ]
    },
    {
     "data": {
      "text/plain": [
       "<IPython.core.display.HTML object>"
      ],
      "text/html": []
     },
     "metadata": {},
     "output_type": "display_data"
    },
    {
     "data": {
      "text/plain": [
       "<IPython.core.display.HTML object>"
      ],
      "text/html": [
       "<br>    <style><br>        .wandb-row {<br>            display: flex;<br>            flex-direction: row;<br>            flex-wrap: wrap;<br>            justify-content: flex-start;<br>            width: 100%;<br>        }<br>        .wandb-col {<br>            display: flex;<br>            flex-direction: column;<br>            flex-basis: 100%;<br>            flex: 1;<br>            padding: 10px;<br>        }<br>    </style><br><div class=\"wandb-row\"><div class=\"wandb-col\"><h3>Run history:</h3><br/><table class=\"wandb\"><tr><td>0/f1-score</td><td>▁</td></tr><tr><td>0/precision</td><td>▁</td></tr><tr><td>0/recall</td><td>▁</td></tr><tr><td>0/support</td><td>▁</td></tr><tr><td>1/f1-score</td><td>▁</td></tr><tr><td>1/precision</td><td>▁</td></tr><tr><td>1/recall</td><td>▁</td></tr><tr><td>1/support</td><td>▁</td></tr><tr><td>accuracy</td><td>▁</td></tr><tr><td>macro avg/f1-score</td><td>▁</td></tr><tr><td>macro avg/precision</td><td>▁</td></tr><tr><td>macro avg/recall</td><td>▁</td></tr><tr><td>macro avg/support</td><td>▁</td></tr><tr><td>val/f1_macro</td><td>▁</td></tr><tr><td>weighted avg/f1-score</td><td>▁</td></tr><tr><td>weighted avg/precision</td><td>▁</td></tr><tr><td>weighted avg/recall</td><td>▁</td></tr><tr><td>weighted avg/support</td><td>▁</td></tr></table><br/></div><div class=\"wandb-col\"><h3>Run summary:</h3><br/><table class=\"wandb\"><tr><td>0/f1-score</td><td>0.77325</td></tr><tr><td>0/precision</td><td>0.8575</td></tr><tr><td>0/recall</td><td>0.70407</td></tr><tr><td>0/support</td><td>17795</td></tr><tr><td>1/f1-score</td><td>0.26432</td></tr><tr><td>1/precision</td><td>0.20043</td></tr><tr><td>1/recall</td><td>0.38801</td></tr><tr><td>1/support</td><td>3402</td></tr><tr><td>accuracy</td><td>0.65335</td></tr><tr><td>macro avg/f1-score</td><td>0.51878</td></tr><tr><td>macro avg/precision</td><td>0.52896</td></tr><tr><td>macro avg/recall</td><td>0.54604</td></tr><tr><td>macro avg/support</td><td>21197</td></tr><tr><td>preprocessing/scaler_type</td><td>standard</td></tr><tr><td>val/f1_macro</td><td>0.51878</td></tr><tr><td>weighted avg/f1-score</td><td>0.69157</td></tr><tr><td>weighted avg/precision</td><td>0.75205</td></tr><tr><td>weighted avg/recall</td><td>0.65335</td></tr><tr><td>weighted avg/support</td><td>21197</td></tr></table><br/></div></div>"
      ]
     },
     "metadata": {},
     "output_type": "display_data"
    },
    {
     "data": {
      "text/plain": [
       "<IPython.core.display.HTML object>"
      ],
      "text/html": [
       " View run <strong style=\"color:#cdcd00\">sunny-sweep-1</strong> at: <a href='https://wandb.ai/knezevicoluka-tu-delft/rf-sequence-classification/runs/jbru3c0w' target=\"_blank\">https://wandb.ai/knezevicoluka-tu-delft/rf-sequence-classification/runs/jbru3c0w</a><br> View project at: <a href='https://wandb.ai/knezevicoluka-tu-delft/rf-sequence-classification' target=\"_blank\">https://wandb.ai/knezevicoluka-tu-delft/rf-sequence-classification</a><br>Synced 5 W&B file(s), 0 media file(s), 0 artifact file(s) and 0 other file(s)"
      ]
     },
     "metadata": {},
     "output_type": "display_data"
    },
    {
     "data": {
      "text/plain": [
       "<IPython.core.display.HTML object>"
      ],
      "text/html": [
       "Find logs at: <code>./wandb/run-20250602_141256-jbru3c0w/logs</code>"
      ]
     },
     "metadata": {},
     "output_type": "display_data"
    },
    {
     "name": "stderr",
     "output_type": "stream",
     "text": [
      "\u001B[34m\u001B[1mwandb\u001B[0m: Sweep Agent: Waiting for job.\n",
      "\u001B[34m\u001B[1mwandb\u001B[0m: Job received.\n",
      "\u001B[34m\u001B[1mwandb\u001B[0m: Agent Starting Run: f4karbzc with config:\n",
      "\u001B[34m\u001B[1mwandb\u001B[0m: \tclass_weight: balanced\n",
      "\u001B[34m\u001B[1mwandb\u001B[0m: \tmax_depth: 10\n",
      "\u001B[34m\u001B[1mwandb\u001B[0m: \tn_estimators: 50\n",
      "\u001B[34m\u001B[1mwandb\u001B[0m: \trandom_state: 42\n",
      "\u001B[34m\u001B[1mwandb\u001B[0m: \tscaler_type: standard\n",
      "\u001B[34m\u001B[1mwandb\u001B[0m: \twindow_size_seconds: 10\n"
     ]
    },
    {
     "data": {
      "text/plain": [
       "<IPython.core.display.HTML object>"
      ],
      "text/html": [
       "Ignoring project 'rf-window-classification' when running a sweep."
      ]
     },
     "metadata": {},
     "output_type": "display_data"
    },
    {
     "data": {
      "text/plain": [
       "<IPython.core.display.HTML object>"
      ],
      "text/html": [
       "Tracking run with wandb version 0.19.11"
      ]
     },
     "metadata": {},
     "output_type": "display_data"
    },
    {
     "data": {
      "text/plain": [
       "<IPython.core.display.HTML object>"
      ],
      "text/html": [
       "Run data is saved locally in <code>/Users/lukini/Documents/GitHub/RP-Laughter-Drinking/Laughter-Detection/Pipeline/wandb/run-20250602_141327-f4karbzc</code>"
      ]
     },
     "metadata": {},
     "output_type": "display_data"
    },
    {
     "data": {
      "text/plain": [
       "<IPython.core.display.HTML object>"
      ],
      "text/html": [
       "Syncing run <strong><a href='https://wandb.ai/knezevicoluka-tu-delft/rf-sequence-classification/runs/f4karbzc' target=\"_blank\">usual-sweep-2</a></strong> to <a href='https://wandb.ai/knezevicoluka-tu-delft/rf-sequence-classification' target=\"_blank\">Weights & Biases</a> (<a href='https://wandb.me/developer-guide' target=\"_blank\">docs</a>)<br>Sweep page: <a href='https://wandb.ai/knezevicoluka-tu-delft/rf-sequence-classification/sweeps/0hueicyq' target=\"_blank\">https://wandb.ai/knezevicoluka-tu-delft/rf-sequence-classification/sweeps/0hueicyq</a>"
      ]
     },
     "metadata": {},
     "output_type": "display_data"
    },
    {
     "data": {
      "text/plain": [
       "<IPython.core.display.HTML object>"
      ],
      "text/html": [
       " View project at <a href='https://wandb.ai/knezevicoluka-tu-delft/rf-sequence-classification' target=\"_blank\">https://wandb.ai/knezevicoluka-tu-delft/rf-sequence-classification</a>"
      ]
     },
     "metadata": {},
     "output_type": "display_data"
    },
    {
     "data": {
      "text/plain": [
       "<IPython.core.display.HTML object>"
      ],
      "text/html": [
       " View sweep at <a href='https://wandb.ai/knezevicoluka-tu-delft/rf-sequence-classification/sweeps/0hueicyq' target=\"_blank\">https://wandb.ai/knezevicoluka-tu-delft/rf-sequence-classification/sweeps/0hueicyq</a>"
      ]
     },
     "metadata": {},
     "output_type": "display_data"
    },
    {
     "data": {
      "text/plain": [
       "<IPython.core.display.HTML object>"
      ],
      "text/html": [
       " View run at <a href='https://wandb.ai/knezevicoluka-tu-delft/rf-sequence-classification/runs/f4karbzc' target=\"_blank\">https://wandb.ai/knezevicoluka-tu-delft/rf-sequence-classification/runs/f4karbzc</a>"
      ]
     },
     "metadata": {},
     "output_type": "display_data"
    },
    {
     "name": "stdout",
     "output_type": "stream",
     "text": [
      "✅ F1-macro = 0.498\n"
     ]
    },
    {
     "data": {
      "text/plain": [
       "<IPython.core.display.HTML object>"
      ],
      "text/html": []
     },
     "metadata": {},
     "output_type": "display_data"
    },
    {
     "data": {
      "text/plain": [
       "<IPython.core.display.HTML object>"
      ],
      "text/html": [
       "<br>    <style><br>        .wandb-row {<br>            display: flex;<br>            flex-direction: row;<br>            flex-wrap: wrap;<br>            justify-content: flex-start;<br>            width: 100%;<br>        }<br>        .wandb-col {<br>            display: flex;<br>            flex-direction: column;<br>            flex-basis: 100%;<br>            flex: 1;<br>            padding: 10px;<br>        }<br>    </style><br><div class=\"wandb-row\"><div class=\"wandb-col\"><h3>Run history:</h3><br/><table class=\"wandb\"><tr><td>0/f1-score</td><td>▁</td></tr><tr><td>0/precision</td><td>▁</td></tr><tr><td>0/recall</td><td>▁</td></tr><tr><td>0/support</td><td>▁</td></tr><tr><td>1/f1-score</td><td>▁</td></tr><tr><td>1/precision</td><td>▁</td></tr><tr><td>1/recall</td><td>▁</td></tr><tr><td>1/support</td><td>▁</td></tr><tr><td>accuracy</td><td>▁</td></tr><tr><td>macro avg/f1-score</td><td>▁</td></tr><tr><td>macro avg/precision</td><td>▁</td></tr><tr><td>macro avg/recall</td><td>▁</td></tr><tr><td>macro avg/support</td><td>▁</td></tr><tr><td>val/f1_macro</td><td>▁</td></tr><tr><td>weighted avg/f1-score</td><td>▁</td></tr><tr><td>weighted avg/precision</td><td>▁</td></tr><tr><td>weighted avg/recall</td><td>▁</td></tr><tr><td>weighted avg/support</td><td>▁</td></tr></table><br/></div><div class=\"wandb-col\"><h3>Run summary:</h3><br/><table class=\"wandb\"><tr><td>0/f1-score</td><td>0.72216</td></tr><tr><td>0/precision</td><td>0.86018</td></tr><tr><td>0/recall</td><td>0.62231</td></tr><tr><td>0/support</td><td>17795</td></tr><tr><td>1/f1-score</td><td>0.27326</td></tr><tr><td>1/precision</td><td>0.19248</td></tr><tr><td>1/recall</td><td>0.4709</td></tr><tr><td>1/support</td><td>3402</td></tr><tr><td>accuracy</td><td>0.59801</td></tr><tr><td>macro avg/f1-score</td><td>0.49771</td></tr><tr><td>macro avg/precision</td><td>0.52633</td></tr><tr><td>macro avg/recall</td><td>0.5466</td></tr><tr><td>macro avg/support</td><td>21197</td></tr><tr><td>preprocessing/scaler_type</td><td>standard</td></tr><tr><td>val/f1_macro</td><td>0.49771</td></tr><tr><td>weighted avg/f1-score</td><td>0.65012</td></tr><tr><td>weighted avg/precision</td><td>0.75302</td></tr><tr><td>weighted avg/recall</td><td>0.59801</td></tr><tr><td>weighted avg/support</td><td>21197</td></tr></table><br/></div></div>"
      ]
     },
     "metadata": {},
     "output_type": "display_data"
    },
    {
     "data": {
      "text/plain": [
       "<IPython.core.display.HTML object>"
      ],
      "text/html": [
       " View run <strong style=\"color:#cdcd00\">usual-sweep-2</strong> at: <a href='https://wandb.ai/knezevicoluka-tu-delft/rf-sequence-classification/runs/f4karbzc' target=\"_blank\">https://wandb.ai/knezevicoluka-tu-delft/rf-sequence-classification/runs/f4karbzc</a><br> View project at: <a href='https://wandb.ai/knezevicoluka-tu-delft/rf-sequence-classification' target=\"_blank\">https://wandb.ai/knezevicoluka-tu-delft/rf-sequence-classification</a><br>Synced 5 W&B file(s), 0 media file(s), 0 artifact file(s) and 0 other file(s)"
      ]
     },
     "metadata": {},
     "output_type": "display_data"
    },
    {
     "data": {
      "text/plain": [
       "<IPython.core.display.HTML object>"
      ],
      "text/html": [
       "Find logs at: <code>./wandb/run-20250602_141327-f4karbzc/logs</code>"
      ]
     },
     "metadata": {},
     "output_type": "display_data"
    },
    {
     "name": "stderr",
     "output_type": "stream",
     "text": [
      "\u001B[34m\u001B[1mwandb\u001B[0m: Agent Starting Run: 76i6ri7c with config:\n",
      "\u001B[34m\u001B[1mwandb\u001B[0m: \tclass_weight: balanced_subsample\n",
      "\u001B[34m\u001B[1mwandb\u001B[0m: \tmax_depth: 10\n",
      "\u001B[34m\u001B[1mwandb\u001B[0m: \tn_estimators: 200\n",
      "\u001B[34m\u001B[1mwandb\u001B[0m: \trandom_state: 42\n",
      "\u001B[34m\u001B[1mwandb\u001B[0m: \tscaler_type: standard\n",
      "\u001B[34m\u001B[1mwandb\u001B[0m: \twindow_size_seconds: 10\n"
     ]
    },
    {
     "data": {
      "text/plain": [
       "<IPython.core.display.HTML object>"
      ],
      "text/html": [
       "Ignoring project 'rf-window-classification' when running a sweep."
      ]
     },
     "metadata": {},
     "output_type": "display_data"
    },
    {
     "data": {
      "text/plain": [
       "<IPython.core.display.HTML object>"
      ],
      "text/html": [
       "Tracking run with wandb version 0.19.11"
      ]
     },
     "metadata": {},
     "output_type": "display_data"
    },
    {
     "data": {
      "text/plain": [
       "<IPython.core.display.HTML object>"
      ],
      "text/html": [
       "Run data is saved locally in <code>/Users/lukini/Documents/GitHub/RP-Laughter-Drinking/Laughter-Detection/Pipeline/wandb/run-20250602_141338-76i6ri7c</code>"
      ]
     },
     "metadata": {},
     "output_type": "display_data"
    },
    {
     "data": {
      "text/plain": [
       "<IPython.core.display.HTML object>"
      ],
      "text/html": [
       "Syncing run <strong><a href='https://wandb.ai/knezevicoluka-tu-delft/rf-sequence-classification/runs/76i6ri7c' target=\"_blank\">eager-sweep-3</a></strong> to <a href='https://wandb.ai/knezevicoluka-tu-delft/rf-sequence-classification' target=\"_blank\">Weights & Biases</a> (<a href='https://wandb.me/developer-guide' target=\"_blank\">docs</a>)<br>Sweep page: <a href='https://wandb.ai/knezevicoluka-tu-delft/rf-sequence-classification/sweeps/0hueicyq' target=\"_blank\">https://wandb.ai/knezevicoluka-tu-delft/rf-sequence-classification/sweeps/0hueicyq</a>"
      ]
     },
     "metadata": {},
     "output_type": "display_data"
    },
    {
     "data": {
      "text/plain": [
       "<IPython.core.display.HTML object>"
      ],
      "text/html": [
       " View project at <a href='https://wandb.ai/knezevicoluka-tu-delft/rf-sequence-classification' target=\"_blank\">https://wandb.ai/knezevicoluka-tu-delft/rf-sequence-classification</a>"
      ]
     },
     "metadata": {},
     "output_type": "display_data"
    },
    {
     "data": {
      "text/plain": [
       "<IPython.core.display.HTML object>"
      ],
      "text/html": [
       " View sweep at <a href='https://wandb.ai/knezevicoluka-tu-delft/rf-sequence-classification/sweeps/0hueicyq' target=\"_blank\">https://wandb.ai/knezevicoluka-tu-delft/rf-sequence-classification/sweeps/0hueicyq</a>"
      ]
     },
     "metadata": {},
     "output_type": "display_data"
    },
    {
     "data": {
      "text/plain": [
       "<IPython.core.display.HTML object>"
      ],
      "text/html": [
       " View run at <a href='https://wandb.ai/knezevicoluka-tu-delft/rf-sequence-classification/runs/76i6ri7c' target=\"_blank\">https://wandb.ai/knezevicoluka-tu-delft/rf-sequence-classification/runs/76i6ri7c</a>"
      ]
     },
     "metadata": {},
     "output_type": "display_data"
    },
    {
     "name": "stdout",
     "output_type": "stream",
     "text": [
      "✅ F1-macro = 0.504\n"
     ]
    },
    {
     "data": {
      "text/plain": [
       "<IPython.core.display.HTML object>"
      ],
      "text/html": []
     },
     "metadata": {},
     "output_type": "display_data"
    },
    {
     "data": {
      "text/plain": [
       "<IPython.core.display.HTML object>"
      ],
      "text/html": [
       "<br>    <style><br>        .wandb-row {<br>            display: flex;<br>            flex-direction: row;<br>            flex-wrap: wrap;<br>            justify-content: flex-start;<br>            width: 100%;<br>        }<br>        .wandb-col {<br>            display: flex;<br>            flex-direction: column;<br>            flex-basis: 100%;<br>            flex: 1;<br>            padding: 10px;<br>        }<br>    </style><br><div class=\"wandb-row\"><div class=\"wandb-col\"><h3>Run history:</h3><br/><table class=\"wandb\"><tr><td>0/f1-score</td><td>▁</td></tr><tr><td>0/precision</td><td>▁</td></tr><tr><td>0/recall</td><td>▁</td></tr><tr><td>0/support</td><td>▁</td></tr><tr><td>1/f1-score</td><td>▁</td></tr><tr><td>1/precision</td><td>▁</td></tr><tr><td>1/recall</td><td>▁</td></tr><tr><td>1/support</td><td>▁</td></tr><tr><td>accuracy</td><td>▁</td></tr><tr><td>macro avg/f1-score</td><td>▁</td></tr><tr><td>macro avg/precision</td><td>▁</td></tr><tr><td>macro avg/recall</td><td>▁</td></tr><tr><td>macro avg/support</td><td>▁</td></tr><tr><td>val/f1_macro</td><td>▁</td></tr><tr><td>weighted avg/f1-score</td><td>▁</td></tr><tr><td>weighted avg/precision</td><td>▁</td></tr><tr><td>weighted avg/recall</td><td>▁</td></tr><tr><td>weighted avg/support</td><td>▁</td></tr></table><br/></div><div class=\"wandb-col\"><h3>Run summary:</h3><br/><table class=\"wandb\"><tr><td>0/f1-score</td><td>0.73265</td></tr><tr><td>0/precision</td><td>0.86152</td></tr><tr><td>0/recall</td><td>0.63731</td></tr><tr><td>0/support</td><td>17795</td></tr><tr><td>1/f1-score</td><td>0.27617</td></tr><tr><td>1/precision</td><td>0.19656</td></tr><tr><td>1/recall</td><td>0.46414</td></tr><tr><td>1/support</td><td>3402</td></tr><tr><td>accuracy</td><td>0.60952</td></tr><tr><td>macro avg/f1-score</td><td>0.50441</td></tr><tr><td>macro avg/precision</td><td>0.52904</td></tr><tr><td>macro avg/recall</td><td>0.55073</td></tr><tr><td>macro avg/support</td><td>21197</td></tr><tr><td>preprocessing/scaler_type</td><td>standard</td></tr><tr><td>val/f1_macro</td><td>0.50441</td></tr><tr><td>weighted avg/f1-score</td><td>0.65938</td></tr><tr><td>weighted avg/precision</td><td>0.7548</td></tr><tr><td>weighted avg/recall</td><td>0.60952</td></tr><tr><td>weighted avg/support</td><td>21197</td></tr></table><br/></div></div>"
      ]
     },
     "metadata": {},
     "output_type": "display_data"
    },
    {
     "data": {
      "text/plain": [
       "<IPython.core.display.HTML object>"
      ],
      "text/html": [
       " View run <strong style=\"color:#cdcd00\">eager-sweep-3</strong> at: <a href='https://wandb.ai/knezevicoluka-tu-delft/rf-sequence-classification/runs/76i6ri7c' target=\"_blank\">https://wandb.ai/knezevicoluka-tu-delft/rf-sequence-classification/runs/76i6ri7c</a><br> View project at: <a href='https://wandb.ai/knezevicoluka-tu-delft/rf-sequence-classification' target=\"_blank\">https://wandb.ai/knezevicoluka-tu-delft/rf-sequence-classification</a><br>Synced 5 W&B file(s), 0 media file(s), 0 artifact file(s) and 0 other file(s)"
      ]
     },
     "metadata": {},
     "output_type": "display_data"
    },
    {
     "data": {
      "text/plain": [
       "<IPython.core.display.HTML object>"
      ],
      "text/html": [
       "Find logs at: <code>./wandb/run-20250602_141338-76i6ri7c/logs</code>"
      ]
     },
     "metadata": {},
     "output_type": "display_data"
    },
    {
     "name": "stderr",
     "output_type": "stream",
     "text": [
      "\u001B[34m\u001B[1mwandb\u001B[0m: Sweep Agent: Waiting for job.\n",
      "\u001B[34m\u001B[1mwandb\u001B[0m: Job received.\n",
      "\u001B[34m\u001B[1mwandb\u001B[0m: Agent Starting Run: vosx98og with config:\n",
      "\u001B[34m\u001B[1mwandb\u001B[0m: \tclass_weight: balanced\n",
      "\u001B[34m\u001B[1mwandb\u001B[0m: \tmax_depth: 5\n",
      "\u001B[34m\u001B[1mwandb\u001B[0m: \tn_estimators: 200\n",
      "\u001B[34m\u001B[1mwandb\u001B[0m: \trandom_state: 42\n",
      "\u001B[34m\u001B[1mwandb\u001B[0m: \tscaler_type: standard\n",
      "\u001B[34m\u001B[1mwandb\u001B[0m: \twindow_size_seconds: 1\n"
     ]
    },
    {
     "data": {
      "text/plain": [
       "<IPython.core.display.HTML object>"
      ],
      "text/html": [
       "Ignoring project 'rf-window-classification' when running a sweep."
      ]
     },
     "metadata": {},
     "output_type": "display_data"
    },
    {
     "data": {
      "text/plain": [
       "<IPython.core.display.HTML object>"
      ],
      "text/html": [
       "Tracking run with wandb version 0.19.11"
      ]
     },
     "metadata": {},
     "output_type": "display_data"
    },
    {
     "data": {
      "text/plain": [
       "<IPython.core.display.HTML object>"
      ],
      "text/html": [
       "Run data is saved locally in <code>/Users/lukini/Documents/GitHub/RP-Laughter-Drinking/Laughter-Detection/Pipeline/wandb/run-20250602_141415-vosx98og</code>"
      ]
     },
     "metadata": {},
     "output_type": "display_data"
    },
    {
     "data": {
      "text/plain": [
       "<IPython.core.display.HTML object>"
      ],
      "text/html": [
       "Syncing run <strong><a href='https://wandb.ai/knezevicoluka-tu-delft/rf-sequence-classification/runs/vosx98og' target=\"_blank\">zesty-sweep-4</a></strong> to <a href='https://wandb.ai/knezevicoluka-tu-delft/rf-sequence-classification' target=\"_blank\">Weights & Biases</a> (<a href='https://wandb.me/developer-guide' target=\"_blank\">docs</a>)<br>Sweep page: <a href='https://wandb.ai/knezevicoluka-tu-delft/rf-sequence-classification/sweeps/0hueicyq' target=\"_blank\">https://wandb.ai/knezevicoluka-tu-delft/rf-sequence-classification/sweeps/0hueicyq</a>"
      ]
     },
     "metadata": {},
     "output_type": "display_data"
    },
    {
     "data": {
      "text/plain": [
       "<IPython.core.display.HTML object>"
      ],
      "text/html": [
       " View project at <a href='https://wandb.ai/knezevicoluka-tu-delft/rf-sequence-classification' target=\"_blank\">https://wandb.ai/knezevicoluka-tu-delft/rf-sequence-classification</a>"
      ]
     },
     "metadata": {},
     "output_type": "display_data"
    },
    {
     "data": {
      "text/plain": [
       "<IPython.core.display.HTML object>"
      ],
      "text/html": [
       " View sweep at <a href='https://wandb.ai/knezevicoluka-tu-delft/rf-sequence-classification/sweeps/0hueicyq' target=\"_blank\">https://wandb.ai/knezevicoluka-tu-delft/rf-sequence-classification/sweeps/0hueicyq</a>"
      ]
     },
     "metadata": {},
     "output_type": "display_data"
    },
    {
     "data": {
      "text/plain": [
       "<IPython.core.display.HTML object>"
      ],
      "text/html": [
       " View run at <a href='https://wandb.ai/knezevicoluka-tu-delft/rf-sequence-classification/runs/vosx98og' target=\"_blank\">https://wandb.ai/knezevicoluka-tu-delft/rf-sequence-classification/runs/vosx98og</a>"
      ]
     },
     "metadata": {},
     "output_type": "display_data"
    },
    {
     "name": "stdout",
     "output_type": "stream",
     "text": [
      "✅ F1-macro = 0.316\n"
     ]
    },
    {
     "data": {
      "text/plain": [
       "<IPython.core.display.HTML object>"
      ],
      "text/html": []
     },
     "metadata": {},
     "output_type": "display_data"
    },
    {
     "data": {
      "text/plain": [
       "<IPython.core.display.HTML object>"
      ],
      "text/html": [
       "<br>    <style><br>        .wandb-row {<br>            display: flex;<br>            flex-direction: row;<br>            flex-wrap: wrap;<br>            justify-content: flex-start;<br>            width: 100%;<br>        }<br>        .wandb-col {<br>            display: flex;<br>            flex-direction: column;<br>            flex-basis: 100%;<br>            flex: 1;<br>            padding: 10px;<br>        }<br>    </style><br><div class=\"wandb-row\"><div class=\"wandb-col\"><h3>Run history:</h3><br/><table class=\"wandb\"><tr><td>0/f1-score</td><td>▁</td></tr><tr><td>0/precision</td><td>▁</td></tr><tr><td>0/recall</td><td>▁</td></tr><tr><td>0/support</td><td>▁</td></tr><tr><td>1/f1-score</td><td>▁</td></tr><tr><td>1/precision</td><td>▁</td></tr><tr><td>1/recall</td><td>▁</td></tr><tr><td>1/support</td><td>▁</td></tr><tr><td>accuracy</td><td>▁</td></tr><tr><td>macro avg/f1-score</td><td>▁</td></tr><tr><td>macro avg/precision</td><td>▁</td></tr><tr><td>macro avg/recall</td><td>▁</td></tr><tr><td>macro avg/support</td><td>▁</td></tr><tr><td>val/f1_macro</td><td>▁</td></tr><tr><td>weighted avg/f1-score</td><td>▁</td></tr><tr><td>weighted avg/precision</td><td>▁</td></tr><tr><td>weighted avg/recall</td><td>▁</td></tr><tr><td>weighted avg/support</td><td>▁</td></tr></table><br/></div><div class=\"wandb-col\"><h3>Run summary:</h3><br/><table class=\"wandb\"><tr><td>0/f1-score</td><td>0.52206</td></tr><tr><td>0/precision</td><td>0.95121</td></tr><tr><td>0/recall</td><td>0.35975</td></tr><tr><td>0/support</td><td>299280</td></tr><tr><td>1/f1-score</td><td>0.11037</td></tr><tr><td>1/precision</td><td>0.05999</td></tr><tr><td>1/recall</td><td>0.68892</td></tr><tr><td>1/support</td><td>17751</td></tr><tr><td>accuracy</td><td>0.37818</td></tr><tr><td>macro avg/f1-score</td><td>0.31622</td></tr><tr><td>macro avg/precision</td><td>0.5056</td></tr><tr><td>macro avg/recall</td><td>0.52434</td></tr><tr><td>macro avg/support</td><td>317031</td></tr><tr><td>preprocessing/scaler_type</td><td>standard</td></tr><tr><td>val/f1_macro</td><td>0.31622</td></tr><tr><td>weighted avg/f1-score</td><td>0.49901</td></tr><tr><td>weighted avg/precision</td><td>0.90131</td></tr><tr><td>weighted avg/recall</td><td>0.37818</td></tr><tr><td>weighted avg/support</td><td>317031</td></tr></table><br/></div></div>"
      ]
     },
     "metadata": {},
     "output_type": "display_data"
    },
    {
     "data": {
      "text/plain": [
       "<IPython.core.display.HTML object>"
      ],
      "text/html": [
       " View run <strong style=\"color:#cdcd00\">zesty-sweep-4</strong> at: <a href='https://wandb.ai/knezevicoluka-tu-delft/rf-sequence-classification/runs/vosx98og' target=\"_blank\">https://wandb.ai/knezevicoluka-tu-delft/rf-sequence-classification/runs/vosx98og</a><br> View project at: <a href='https://wandb.ai/knezevicoluka-tu-delft/rf-sequence-classification' target=\"_blank\">https://wandb.ai/knezevicoluka-tu-delft/rf-sequence-classification</a><br>Synced 5 W&B file(s), 0 media file(s), 0 artifact file(s) and 0 other file(s)"
      ]
     },
     "metadata": {},
     "output_type": "display_data"
    },
    {
     "data": {
      "text/plain": [
       "<IPython.core.display.HTML object>"
      ],
      "text/html": [
       "Find logs at: <code>./wandb/run-20250602_141415-vosx98og/logs</code>"
      ]
     },
     "metadata": {},
     "output_type": "display_data"
    },
    {
     "name": "stderr",
     "output_type": "stream",
     "text": [
      "\u001B[34m\u001B[1mwandb\u001B[0m: Agent Starting Run: 0x03pi93 with config:\n",
      "\u001B[34m\u001B[1mwandb\u001B[0m: \tclass_weight: balanced_subsample\n",
      "\u001B[34m\u001B[1mwandb\u001B[0m: \tmax_depth: 20\n",
      "\u001B[34m\u001B[1mwandb\u001B[0m: \tn_estimators: 100\n",
      "\u001B[34m\u001B[1mwandb\u001B[0m: \trandom_state: 42\n",
      "\u001B[34m\u001B[1mwandb\u001B[0m: \tscaler_type: standard\n",
      "\u001B[34m\u001B[1mwandb\u001B[0m: \twindow_size_seconds: 10\n"
     ]
    },
    {
     "data": {
      "text/plain": [
       "<IPython.core.display.HTML object>"
      ],
      "text/html": [
       "Ignoring project 'rf-window-classification' when running a sweep."
      ]
     },
     "metadata": {},
     "output_type": "display_data"
    },
    {
     "data": {
      "text/plain": [
       "<IPython.core.display.HTML object>"
      ],
      "text/html": [
       "Tracking run with wandb version 0.19.11"
      ]
     },
     "metadata": {},
     "output_type": "display_data"
    },
    {
     "data": {
      "text/plain": [
       "<IPython.core.display.HTML object>"
      ],
      "text/html": [
       "Run data is saved locally in <code>/Users/lukini/Documents/GitHub/RP-Laughter-Drinking/Laughter-Detection/Pipeline/wandb/run-20250602_141834-0x03pi93</code>"
      ]
     },
     "metadata": {},
     "output_type": "display_data"
    },
    {
     "data": {
      "text/plain": [
       "<IPython.core.display.HTML object>"
      ],
      "text/html": [
       "Syncing run <strong><a href='https://wandb.ai/knezevicoluka-tu-delft/rf-sequence-classification/runs/0x03pi93' target=\"_blank\">polar-sweep-5</a></strong> to <a href='https://wandb.ai/knezevicoluka-tu-delft/rf-sequence-classification' target=\"_blank\">Weights & Biases</a> (<a href='https://wandb.me/developer-guide' target=\"_blank\">docs</a>)<br>Sweep page: <a href='https://wandb.ai/knezevicoluka-tu-delft/rf-sequence-classification/sweeps/0hueicyq' target=\"_blank\">https://wandb.ai/knezevicoluka-tu-delft/rf-sequence-classification/sweeps/0hueicyq</a>"
      ]
     },
     "metadata": {},
     "output_type": "display_data"
    },
    {
     "data": {
      "text/plain": [
       "<IPython.core.display.HTML object>"
      ],
      "text/html": [
       " View project at <a href='https://wandb.ai/knezevicoluka-tu-delft/rf-sequence-classification' target=\"_blank\">https://wandb.ai/knezevicoluka-tu-delft/rf-sequence-classification</a>"
      ]
     },
     "metadata": {},
     "output_type": "display_data"
    },
    {
     "data": {
      "text/plain": [
       "<IPython.core.display.HTML object>"
      ],
      "text/html": [
       " View sweep at <a href='https://wandb.ai/knezevicoluka-tu-delft/rf-sequence-classification/sweeps/0hueicyq' target=\"_blank\">https://wandb.ai/knezevicoluka-tu-delft/rf-sequence-classification/sweeps/0hueicyq</a>"
      ]
     },
     "metadata": {},
     "output_type": "display_data"
    },
    {
     "data": {
      "text/plain": [
       "<IPython.core.display.HTML object>"
      ],
      "text/html": [
       " View run at <a href='https://wandb.ai/knezevicoluka-tu-delft/rf-sequence-classification/runs/0x03pi93' target=\"_blank\">https://wandb.ai/knezevicoluka-tu-delft/rf-sequence-classification/runs/0x03pi93</a>"
      ]
     },
     "metadata": {},
     "output_type": "display_data"
    },
    {
     "name": "stdout",
     "output_type": "stream",
     "text": [
      "✅ F1-macro = 0.519\n"
     ]
    },
    {
     "data": {
      "text/plain": [
       "<IPython.core.display.HTML object>"
      ],
      "text/html": []
     },
     "metadata": {},
     "output_type": "display_data"
    },
    {
     "data": {
      "text/plain": [
       "<IPython.core.display.HTML object>"
      ],
      "text/html": [
       "<br>    <style><br>        .wandb-row {<br>            display: flex;<br>            flex-direction: row;<br>            flex-wrap: wrap;<br>            justify-content: flex-start;<br>            width: 100%;<br>        }<br>        .wandb-col {<br>            display: flex;<br>            flex-direction: column;<br>            flex-basis: 100%;<br>            flex: 1;<br>            padding: 10px;<br>        }<br>    </style><br><div class=\"wandb-row\"><div class=\"wandb-col\"><h3>Run history:</h3><br/><table class=\"wandb\"><tr><td>0/f1-score</td><td>▁</td></tr><tr><td>0/precision</td><td>▁</td></tr><tr><td>0/recall</td><td>▁</td></tr><tr><td>0/support</td><td>▁</td></tr><tr><td>1/f1-score</td><td>▁</td></tr><tr><td>1/precision</td><td>▁</td></tr><tr><td>1/recall</td><td>▁</td></tr><tr><td>1/support</td><td>▁</td></tr><tr><td>accuracy</td><td>▁</td></tr><tr><td>macro avg/f1-score</td><td>▁</td></tr><tr><td>macro avg/precision</td><td>▁</td></tr><tr><td>macro avg/recall</td><td>▁</td></tr><tr><td>macro avg/support</td><td>▁</td></tr><tr><td>val/f1_macro</td><td>▁</td></tr><tr><td>weighted avg/f1-score</td><td>▁</td></tr><tr><td>weighted avg/precision</td><td>▁</td></tr><tr><td>weighted avg/recall</td><td>▁</td></tr><tr><td>weighted avg/support</td><td>▁</td></tr></table><br/></div><div class=\"wandb-col\"><h3>Run summary:</h3><br/><table class=\"wandb\"><tr><td>0/f1-score</td><td>0.77325</td></tr><tr><td>0/precision</td><td>0.8575</td></tr><tr><td>0/recall</td><td>0.70407</td></tr><tr><td>0/support</td><td>17795</td></tr><tr><td>1/f1-score</td><td>0.26432</td></tr><tr><td>1/precision</td><td>0.20043</td></tr><tr><td>1/recall</td><td>0.38801</td></tr><tr><td>1/support</td><td>3402</td></tr><tr><td>accuracy</td><td>0.65335</td></tr><tr><td>macro avg/f1-score</td><td>0.51878</td></tr><tr><td>macro avg/precision</td><td>0.52896</td></tr><tr><td>macro avg/recall</td><td>0.54604</td></tr><tr><td>macro avg/support</td><td>21197</td></tr><tr><td>preprocessing/scaler_type</td><td>standard</td></tr><tr><td>val/f1_macro</td><td>0.51878</td></tr><tr><td>weighted avg/f1-score</td><td>0.69157</td></tr><tr><td>weighted avg/precision</td><td>0.75205</td></tr><tr><td>weighted avg/recall</td><td>0.65335</td></tr><tr><td>weighted avg/support</td><td>21197</td></tr></table><br/></div></div>"
      ]
     },
     "metadata": {},
     "output_type": "display_data"
    },
    {
     "data": {
      "text/plain": [
       "<IPython.core.display.HTML object>"
      ],
      "text/html": [
       " View run <strong style=\"color:#cdcd00\">polar-sweep-5</strong> at: <a href='https://wandb.ai/knezevicoluka-tu-delft/rf-sequence-classification/runs/0x03pi93' target=\"_blank\">https://wandb.ai/knezevicoluka-tu-delft/rf-sequence-classification/runs/0x03pi93</a><br> View project at: <a href='https://wandb.ai/knezevicoluka-tu-delft/rf-sequence-classification' target=\"_blank\">https://wandb.ai/knezevicoluka-tu-delft/rf-sequence-classification</a><br>Synced 5 W&B file(s), 0 media file(s), 0 artifact file(s) and 0 other file(s)"
      ]
     },
     "metadata": {},
     "output_type": "display_data"
    },
    {
     "data": {
      "text/plain": [
       "<IPython.core.display.HTML object>"
      ],
      "text/html": [
       "Find logs at: <code>./wandb/run-20250602_141834-0x03pi93/logs</code>"
      ]
     },
     "metadata": {},
     "output_type": "display_data"
    },
    {
     "name": "stderr",
     "output_type": "stream",
     "text": [
      "\u001B[34m\u001B[1mwandb\u001B[0m: Sweep Agent: Waiting for job.\n",
      "\u001B[34m\u001B[1mwandb\u001B[0m: Job received.\n",
      "\u001B[34m\u001B[1mwandb\u001B[0m: Agent Starting Run: gt0i790u with config:\n",
      "\u001B[34m\u001B[1mwandb\u001B[0m: \tclass_weight: balanced_subsample\n",
      "\u001B[34m\u001B[1mwandb\u001B[0m: \tmax_depth: 20\n",
      "\u001B[34m\u001B[1mwandb\u001B[0m: \tn_estimators: 50\n",
      "\u001B[34m\u001B[1mwandb\u001B[0m: \trandom_state: 42\n",
      "\u001B[34m\u001B[1mwandb\u001B[0m: \tscaler_type: standard\n",
      "\u001B[34m\u001B[1mwandb\u001B[0m: \twindow_size_seconds: 10\n"
     ]
    },
    {
     "data": {
      "text/plain": [
       "<IPython.core.display.HTML object>"
      ],
      "text/html": [
       "Ignoring project 'rf-window-classification' when running a sweep."
      ]
     },
     "metadata": {},
     "output_type": "display_data"
    },
    {
     "data": {
      "text/plain": [
       "<IPython.core.display.HTML object>"
      ],
      "text/html": [
       "Tracking run with wandb version 0.19.11"
      ]
     },
     "metadata": {},
     "output_type": "display_data"
    },
    {
     "data": {
      "text/plain": [
       "<IPython.core.display.HTML object>"
      ],
      "text/html": [
       "Run data is saved locally in <code>/Users/lukini/Documents/GitHub/RP-Laughter-Drinking/Laughter-Detection/Pipeline/wandb/run-20250602_141905-gt0i790u</code>"
      ]
     },
     "metadata": {},
     "output_type": "display_data"
    },
    {
     "data": {
      "text/plain": [
       "<IPython.core.display.HTML object>"
      ],
      "text/html": [
       "Syncing run <strong><a href='https://wandb.ai/knezevicoluka-tu-delft/rf-sequence-classification/runs/gt0i790u' target=\"_blank\">zesty-sweep-6</a></strong> to <a href='https://wandb.ai/knezevicoluka-tu-delft/rf-sequence-classification' target=\"_blank\">Weights & Biases</a> (<a href='https://wandb.me/developer-guide' target=\"_blank\">docs</a>)<br>Sweep page: <a href='https://wandb.ai/knezevicoluka-tu-delft/rf-sequence-classification/sweeps/0hueicyq' target=\"_blank\">https://wandb.ai/knezevicoluka-tu-delft/rf-sequence-classification/sweeps/0hueicyq</a>"
      ]
     },
     "metadata": {},
     "output_type": "display_data"
    },
    {
     "data": {
      "text/plain": [
       "<IPython.core.display.HTML object>"
      ],
      "text/html": [
       " View project at <a href='https://wandb.ai/knezevicoluka-tu-delft/rf-sequence-classification' target=\"_blank\">https://wandb.ai/knezevicoluka-tu-delft/rf-sequence-classification</a>"
      ]
     },
     "metadata": {},
     "output_type": "display_data"
    },
    {
     "data": {
      "text/plain": [
       "<IPython.core.display.HTML object>"
      ],
      "text/html": [
       " View sweep at <a href='https://wandb.ai/knezevicoluka-tu-delft/rf-sequence-classification/sweeps/0hueicyq' target=\"_blank\">https://wandb.ai/knezevicoluka-tu-delft/rf-sequence-classification/sweeps/0hueicyq</a>"
      ]
     },
     "metadata": {},
     "output_type": "display_data"
    },
    {
     "data": {
      "text/plain": [
       "<IPython.core.display.HTML object>"
      ],
      "text/html": [
       " View run at <a href='https://wandb.ai/knezevicoluka-tu-delft/rf-sequence-classification/runs/gt0i790u' target=\"_blank\">https://wandb.ai/knezevicoluka-tu-delft/rf-sequence-classification/runs/gt0i790u</a>"
      ]
     },
     "metadata": {},
     "output_type": "display_data"
    },
    {
     "name": "stdout",
     "output_type": "stream",
     "text": [
      "✅ F1-macro = 0.520\n"
     ]
    },
    {
     "data": {
      "text/plain": [
       "<IPython.core.display.HTML object>"
      ],
      "text/html": []
     },
     "metadata": {},
     "output_type": "display_data"
    },
    {
     "data": {
      "text/plain": [
       "<IPython.core.display.HTML object>"
      ],
      "text/html": [
       "<br>    <style><br>        .wandb-row {<br>            display: flex;<br>            flex-direction: row;<br>            flex-wrap: wrap;<br>            justify-content: flex-start;<br>            width: 100%;<br>        }<br>        .wandb-col {<br>            display: flex;<br>            flex-direction: column;<br>            flex-basis: 100%;<br>            flex: 1;<br>            padding: 10px;<br>        }<br>    </style><br><div class=\"wandb-row\"><div class=\"wandb-col\"><h3>Run history:</h3><br/><table class=\"wandb\"><tr><td>0/f1-score</td><td>▁</td></tr><tr><td>0/precision</td><td>▁</td></tr><tr><td>0/recall</td><td>▁</td></tr><tr><td>0/support</td><td>▁</td></tr><tr><td>1/f1-score</td><td>▁</td></tr><tr><td>1/precision</td><td>▁</td></tr><tr><td>1/recall</td><td>▁</td></tr><tr><td>1/support</td><td>▁</td></tr><tr><td>accuracy</td><td>▁</td></tr><tr><td>macro avg/f1-score</td><td>▁</td></tr><tr><td>macro avg/precision</td><td>▁</td></tr><tr><td>macro avg/recall</td><td>▁</td></tr><tr><td>macro avg/support</td><td>▁</td></tr><tr><td>val/f1_macro</td><td>▁</td></tr><tr><td>weighted avg/f1-score</td><td>▁</td></tr><tr><td>weighted avg/precision</td><td>▁</td></tr><tr><td>weighted avg/recall</td><td>▁</td></tr><tr><td>weighted avg/support</td><td>▁</td></tr></table><br/></div><div class=\"wandb-col\"><h3>Run summary:</h3><br/><table class=\"wandb\"><tr><td>0/f1-score</td><td>0.77169</td></tr><tr><td>0/precision</td><td>0.85869</td></tr><tr><td>0/recall</td><td>0.7007</td></tr><tr><td>0/support</td><td>17795</td></tr><tr><td>1/f1-score</td><td>0.26791</td></tr><tr><td>1/precision</td><td>0.20222</td></tr><tr><td>1/recall</td><td>0.39683</td></tr><tr><td>1/support</td><td>3402</td></tr><tr><td>accuracy</td><td>0.65193</td></tr><tr><td>macro avg/f1-score</td><td>0.5198</td></tr><tr><td>macro avg/precision</td><td>0.53045</td></tr><tr><td>macro avg/recall</td><td>0.54876</td></tr><tr><td>macro avg/support</td><td>21197</td></tr><tr><td>preprocessing/scaler_type</td><td>standard</td></tr><tr><td>val/f1_macro</td><td>0.5198</td></tr><tr><td>weighted avg/f1-score</td><td>0.69084</td></tr><tr><td>weighted avg/precision</td><td>0.75333</td></tr><tr><td>weighted avg/recall</td><td>0.65193</td></tr><tr><td>weighted avg/support</td><td>21197</td></tr></table><br/></div></div>"
      ]
     },
     "metadata": {},
     "output_type": "display_data"
    },
    {
     "data": {
      "text/plain": [
       "<IPython.core.display.HTML object>"
      ],
      "text/html": [
       " View run <strong style=\"color:#cdcd00\">zesty-sweep-6</strong> at: <a href='https://wandb.ai/knezevicoluka-tu-delft/rf-sequence-classification/runs/gt0i790u' target=\"_blank\">https://wandb.ai/knezevicoluka-tu-delft/rf-sequence-classification/runs/gt0i790u</a><br> View project at: <a href='https://wandb.ai/knezevicoluka-tu-delft/rf-sequence-classification' target=\"_blank\">https://wandb.ai/knezevicoluka-tu-delft/rf-sequence-classification</a><br>Synced 5 W&B file(s), 0 media file(s), 0 artifact file(s) and 0 other file(s)"
      ]
     },
     "metadata": {},
     "output_type": "display_data"
    },
    {
     "data": {
      "text/plain": [
       "<IPython.core.display.HTML object>"
      ],
      "text/html": [
       "Find logs at: <code>./wandb/run-20250602_141905-gt0i790u/logs</code>"
      ]
     },
     "metadata": {},
     "output_type": "display_data"
    },
    {
     "name": "stderr",
     "output_type": "stream",
     "text": [
      "\u001B[34m\u001B[1mwandb\u001B[0m: Agent Starting Run: amgvj0zn with config:\n",
      "\u001B[34m\u001B[1mwandb\u001B[0m: \tclass_weight: balanced_subsample\n",
      "\u001B[34m\u001B[1mwandb\u001B[0m: \tmax_depth: 20\n",
      "\u001B[34m\u001B[1mwandb\u001B[0m: \tn_estimators: 50\n",
      "\u001B[34m\u001B[1mwandb\u001B[0m: \trandom_state: 42\n",
      "\u001B[34m\u001B[1mwandb\u001B[0m: \tscaler_type: standard\n",
      "\u001B[34m\u001B[1mwandb\u001B[0m: \twindow_size_seconds: 10\n"
     ]
    },
    {
     "data": {
      "text/plain": [
       "<IPython.core.display.HTML object>"
      ],
      "text/html": [
       "Ignoring project 'rf-window-classification' when running a sweep."
      ]
     },
     "metadata": {},
     "output_type": "display_data"
    },
    {
     "data": {
      "text/plain": [
       "<IPython.core.display.HTML object>"
      ],
      "text/html": [
       "Tracking run with wandb version 0.19.11"
      ]
     },
     "metadata": {},
     "output_type": "display_data"
    },
    {
     "data": {
      "text/plain": [
       "<IPython.core.display.HTML object>"
      ],
      "text/html": [
       "Run data is saved locally in <code>/Users/lukini/Documents/GitHub/RP-Laughter-Drinking/Laughter-Detection/Pipeline/wandb/run-20250602_141922-amgvj0zn</code>"
      ]
     },
     "metadata": {},
     "output_type": "display_data"
    },
    {
     "data": {
      "text/plain": [
       "<IPython.core.display.HTML object>"
      ],
      "text/html": [
       "Syncing run <strong><a href='https://wandb.ai/knezevicoluka-tu-delft/rf-sequence-classification/runs/amgvj0zn' target=\"_blank\">fresh-sweep-7</a></strong> to <a href='https://wandb.ai/knezevicoluka-tu-delft/rf-sequence-classification' target=\"_blank\">Weights & Biases</a> (<a href='https://wandb.me/developer-guide' target=\"_blank\">docs</a>)<br>Sweep page: <a href='https://wandb.ai/knezevicoluka-tu-delft/rf-sequence-classification/sweeps/0hueicyq' target=\"_blank\">https://wandb.ai/knezevicoluka-tu-delft/rf-sequence-classification/sweeps/0hueicyq</a>"
      ]
     },
     "metadata": {},
     "output_type": "display_data"
    },
    {
     "data": {
      "text/plain": [
       "<IPython.core.display.HTML object>"
      ],
      "text/html": [
       " View project at <a href='https://wandb.ai/knezevicoluka-tu-delft/rf-sequence-classification' target=\"_blank\">https://wandb.ai/knezevicoluka-tu-delft/rf-sequence-classification</a>"
      ]
     },
     "metadata": {},
     "output_type": "display_data"
    },
    {
     "data": {
      "text/plain": [
       "<IPython.core.display.HTML object>"
      ],
      "text/html": [
       " View sweep at <a href='https://wandb.ai/knezevicoluka-tu-delft/rf-sequence-classification/sweeps/0hueicyq' target=\"_blank\">https://wandb.ai/knezevicoluka-tu-delft/rf-sequence-classification/sweeps/0hueicyq</a>"
      ]
     },
     "metadata": {},
     "output_type": "display_data"
    },
    {
     "data": {
      "text/plain": [
       "<IPython.core.display.HTML object>"
      ],
      "text/html": [
       " View run at <a href='https://wandb.ai/knezevicoluka-tu-delft/rf-sequence-classification/runs/amgvj0zn' target=\"_blank\">https://wandb.ai/knezevicoluka-tu-delft/rf-sequence-classification/runs/amgvj0zn</a>"
      ]
     },
     "metadata": {},
     "output_type": "display_data"
    },
    {
     "name": "stdout",
     "output_type": "stream",
     "text": [
      "✅ F1-macro = 0.520\n"
     ]
    },
    {
     "data": {
      "text/plain": [
       "<IPython.core.display.HTML object>"
      ],
      "text/html": []
     },
     "metadata": {},
     "output_type": "display_data"
    },
    {
     "data": {
      "text/plain": [
       "<IPython.core.display.HTML object>"
      ],
      "text/html": [
       "<br>    <style><br>        .wandb-row {<br>            display: flex;<br>            flex-direction: row;<br>            flex-wrap: wrap;<br>            justify-content: flex-start;<br>            width: 100%;<br>        }<br>        .wandb-col {<br>            display: flex;<br>            flex-direction: column;<br>            flex-basis: 100%;<br>            flex: 1;<br>            padding: 10px;<br>        }<br>    </style><br><div class=\"wandb-row\"><div class=\"wandb-col\"><h3>Run history:</h3><br/><table class=\"wandb\"><tr><td>0/f1-score</td><td>▁</td></tr><tr><td>0/precision</td><td>▁</td></tr><tr><td>0/recall</td><td>▁</td></tr><tr><td>0/support</td><td>▁</td></tr><tr><td>1/f1-score</td><td>▁</td></tr><tr><td>1/precision</td><td>▁</td></tr><tr><td>1/recall</td><td>▁</td></tr><tr><td>1/support</td><td>▁</td></tr><tr><td>accuracy</td><td>▁</td></tr><tr><td>macro avg/f1-score</td><td>▁</td></tr><tr><td>macro avg/precision</td><td>▁</td></tr><tr><td>macro avg/recall</td><td>▁</td></tr><tr><td>macro avg/support</td><td>▁</td></tr><tr><td>val/f1_macro</td><td>▁</td></tr><tr><td>weighted avg/f1-score</td><td>▁</td></tr><tr><td>weighted avg/precision</td><td>▁</td></tr><tr><td>weighted avg/recall</td><td>▁</td></tr><tr><td>weighted avg/support</td><td>▁</td></tr></table><br/></div><div class=\"wandb-col\"><h3>Run summary:</h3><br/><table class=\"wandb\"><tr><td>0/f1-score</td><td>0.77169</td></tr><tr><td>0/precision</td><td>0.85869</td></tr><tr><td>0/recall</td><td>0.7007</td></tr><tr><td>0/support</td><td>17795</td></tr><tr><td>1/f1-score</td><td>0.26791</td></tr><tr><td>1/precision</td><td>0.20222</td></tr><tr><td>1/recall</td><td>0.39683</td></tr><tr><td>1/support</td><td>3402</td></tr><tr><td>accuracy</td><td>0.65193</td></tr><tr><td>macro avg/f1-score</td><td>0.5198</td></tr><tr><td>macro avg/precision</td><td>0.53045</td></tr><tr><td>macro avg/recall</td><td>0.54876</td></tr><tr><td>macro avg/support</td><td>21197</td></tr><tr><td>preprocessing/scaler_type</td><td>standard</td></tr><tr><td>val/f1_macro</td><td>0.5198</td></tr><tr><td>weighted avg/f1-score</td><td>0.69084</td></tr><tr><td>weighted avg/precision</td><td>0.75333</td></tr><tr><td>weighted avg/recall</td><td>0.65193</td></tr><tr><td>weighted avg/support</td><td>21197</td></tr></table><br/></div></div>"
      ]
     },
     "metadata": {},
     "output_type": "display_data"
    },
    {
     "data": {
      "text/plain": [
       "<IPython.core.display.HTML object>"
      ],
      "text/html": [
       " View run <strong style=\"color:#cdcd00\">fresh-sweep-7</strong> at: <a href='https://wandb.ai/knezevicoluka-tu-delft/rf-sequence-classification/runs/amgvj0zn' target=\"_blank\">https://wandb.ai/knezevicoluka-tu-delft/rf-sequence-classification/runs/amgvj0zn</a><br> View project at: <a href='https://wandb.ai/knezevicoluka-tu-delft/rf-sequence-classification' target=\"_blank\">https://wandb.ai/knezevicoluka-tu-delft/rf-sequence-classification</a><br>Synced 5 W&B file(s), 0 media file(s), 0 artifact file(s) and 0 other file(s)"
      ]
     },
     "metadata": {},
     "output_type": "display_data"
    },
    {
     "data": {
      "text/plain": [
       "<IPython.core.display.HTML object>"
      ],
      "text/html": [
       "Find logs at: <code>./wandb/run-20250602_141922-amgvj0zn/logs</code>"
      ]
     },
     "metadata": {},
     "output_type": "display_data"
    },
    {
     "name": "stderr",
     "output_type": "stream",
     "text": [
      "\u001B[34m\u001B[1mwandb\u001B[0m: Agent Starting Run: r1l64ydl with config:\n",
      "\u001B[34m\u001B[1mwandb\u001B[0m: \tclass_weight: balanced_subsample\n",
      "\u001B[34m\u001B[1mwandb\u001B[0m: \tmax_depth: 20\n",
      "\u001B[34m\u001B[1mwandb\u001B[0m: \tn_estimators: 50\n",
      "\u001B[34m\u001B[1mwandb\u001B[0m: \trandom_state: 42\n",
      "\u001B[34m\u001B[1mwandb\u001B[0m: \tscaler_type: standard\n",
      "\u001B[34m\u001B[1mwandb\u001B[0m: \twindow_size_seconds: 10\n"
     ]
    },
    {
     "data": {
      "text/plain": [
       "<IPython.core.display.HTML object>"
      ],
      "text/html": [
       "Ignoring project 'rf-window-classification' when running a sweep."
      ]
     },
     "metadata": {},
     "output_type": "display_data"
    },
    {
     "data": {
      "text/plain": [
       "<IPython.core.display.HTML object>"
      ],
      "text/html": [
       "Tracking run with wandb version 0.19.11"
      ]
     },
     "metadata": {},
     "output_type": "display_data"
    },
    {
     "data": {
      "text/plain": [
       "<IPython.core.display.HTML object>"
      ],
      "text/html": [
       "Run data is saved locally in <code>/Users/lukini/Documents/GitHub/RP-Laughter-Drinking/Laughter-Detection/Pipeline/wandb/run-20250602_141937-r1l64ydl</code>"
      ]
     },
     "metadata": {},
     "output_type": "display_data"
    },
    {
     "data": {
      "text/plain": [
       "<IPython.core.display.HTML object>"
      ],
      "text/html": [
       "Syncing run <strong><a href='https://wandb.ai/knezevicoluka-tu-delft/rf-sequence-classification/runs/r1l64ydl' target=\"_blank\">vibrant-sweep-8</a></strong> to <a href='https://wandb.ai/knezevicoluka-tu-delft/rf-sequence-classification' target=\"_blank\">Weights & Biases</a> (<a href='https://wandb.me/developer-guide' target=\"_blank\">docs</a>)<br>Sweep page: <a href='https://wandb.ai/knezevicoluka-tu-delft/rf-sequence-classification/sweeps/0hueicyq' target=\"_blank\">https://wandb.ai/knezevicoluka-tu-delft/rf-sequence-classification/sweeps/0hueicyq</a>"
      ]
     },
     "metadata": {},
     "output_type": "display_data"
    },
    {
     "data": {
      "text/plain": [
       "<IPython.core.display.HTML object>"
      ],
      "text/html": [
       " View project at <a href='https://wandb.ai/knezevicoluka-tu-delft/rf-sequence-classification' target=\"_blank\">https://wandb.ai/knezevicoluka-tu-delft/rf-sequence-classification</a>"
      ]
     },
     "metadata": {},
     "output_type": "display_data"
    },
    {
     "data": {
      "text/plain": [
       "<IPython.core.display.HTML object>"
      ],
      "text/html": [
       " View sweep at <a href='https://wandb.ai/knezevicoluka-tu-delft/rf-sequence-classification/sweeps/0hueicyq' target=\"_blank\">https://wandb.ai/knezevicoluka-tu-delft/rf-sequence-classification/sweeps/0hueicyq</a>"
      ]
     },
     "metadata": {},
     "output_type": "display_data"
    },
    {
     "data": {
      "text/plain": [
       "<IPython.core.display.HTML object>"
      ],
      "text/html": [
       " View run at <a href='https://wandb.ai/knezevicoluka-tu-delft/rf-sequence-classification/runs/r1l64ydl' target=\"_blank\">https://wandb.ai/knezevicoluka-tu-delft/rf-sequence-classification/runs/r1l64ydl</a>"
      ]
     },
     "metadata": {},
     "output_type": "display_data"
    },
    {
     "name": "stdout",
     "output_type": "stream",
     "text": [
      "✅ F1-macro = 0.520\n"
     ]
    },
    {
     "data": {
      "text/plain": [
       "<IPython.core.display.HTML object>"
      ],
      "text/html": []
     },
     "metadata": {},
     "output_type": "display_data"
    },
    {
     "data": {
      "text/plain": [
       "<IPython.core.display.HTML object>"
      ],
      "text/html": [
       "<br>    <style><br>        .wandb-row {<br>            display: flex;<br>            flex-direction: row;<br>            flex-wrap: wrap;<br>            justify-content: flex-start;<br>            width: 100%;<br>        }<br>        .wandb-col {<br>            display: flex;<br>            flex-direction: column;<br>            flex-basis: 100%;<br>            flex: 1;<br>            padding: 10px;<br>        }<br>    </style><br><div class=\"wandb-row\"><div class=\"wandb-col\"><h3>Run history:</h3><br/><table class=\"wandb\"><tr><td>0/f1-score</td><td>▁</td></tr><tr><td>0/precision</td><td>▁</td></tr><tr><td>0/recall</td><td>▁</td></tr><tr><td>0/support</td><td>▁</td></tr><tr><td>1/f1-score</td><td>▁</td></tr><tr><td>1/precision</td><td>▁</td></tr><tr><td>1/recall</td><td>▁</td></tr><tr><td>1/support</td><td>▁</td></tr><tr><td>accuracy</td><td>▁</td></tr><tr><td>macro avg/f1-score</td><td>▁</td></tr><tr><td>macro avg/precision</td><td>▁</td></tr><tr><td>macro avg/recall</td><td>▁</td></tr><tr><td>macro avg/support</td><td>▁</td></tr><tr><td>val/f1_macro</td><td>▁</td></tr><tr><td>weighted avg/f1-score</td><td>▁</td></tr><tr><td>weighted avg/precision</td><td>▁</td></tr><tr><td>weighted avg/recall</td><td>▁</td></tr><tr><td>weighted avg/support</td><td>▁</td></tr></table><br/></div><div class=\"wandb-col\"><h3>Run summary:</h3><br/><table class=\"wandb\"><tr><td>0/f1-score</td><td>0.77169</td></tr><tr><td>0/precision</td><td>0.85869</td></tr><tr><td>0/recall</td><td>0.7007</td></tr><tr><td>0/support</td><td>17795</td></tr><tr><td>1/f1-score</td><td>0.26791</td></tr><tr><td>1/precision</td><td>0.20222</td></tr><tr><td>1/recall</td><td>0.39683</td></tr><tr><td>1/support</td><td>3402</td></tr><tr><td>accuracy</td><td>0.65193</td></tr><tr><td>macro avg/f1-score</td><td>0.5198</td></tr><tr><td>macro avg/precision</td><td>0.53045</td></tr><tr><td>macro avg/recall</td><td>0.54876</td></tr><tr><td>macro avg/support</td><td>21197</td></tr><tr><td>preprocessing/scaler_type</td><td>standard</td></tr><tr><td>val/f1_macro</td><td>0.5198</td></tr><tr><td>weighted avg/f1-score</td><td>0.69084</td></tr><tr><td>weighted avg/precision</td><td>0.75333</td></tr><tr><td>weighted avg/recall</td><td>0.65193</td></tr><tr><td>weighted avg/support</td><td>21197</td></tr></table><br/></div></div>"
      ]
     },
     "metadata": {},
     "output_type": "display_data"
    },
    {
     "data": {
      "text/plain": [
       "<IPython.core.display.HTML object>"
      ],
      "text/html": [
       " View run <strong style=\"color:#cdcd00\">vibrant-sweep-8</strong> at: <a href='https://wandb.ai/knezevicoluka-tu-delft/rf-sequence-classification/runs/r1l64ydl' target=\"_blank\">https://wandb.ai/knezevicoluka-tu-delft/rf-sequence-classification/runs/r1l64ydl</a><br> View project at: <a href='https://wandb.ai/knezevicoluka-tu-delft/rf-sequence-classification' target=\"_blank\">https://wandb.ai/knezevicoluka-tu-delft/rf-sequence-classification</a><br>Synced 5 W&B file(s), 0 media file(s), 0 artifact file(s) and 0 other file(s)"
      ]
     },
     "metadata": {},
     "output_type": "display_data"
    },
    {
     "data": {
      "text/plain": [
       "<IPython.core.display.HTML object>"
      ],
      "text/html": [
       "Find logs at: <code>./wandb/run-20250602_141937-r1l64ydl/logs</code>"
      ]
     },
     "metadata": {},
     "output_type": "display_data"
    },
    {
     "name": "stderr",
     "output_type": "stream",
     "text": [
      "\u001B[34m\u001B[1mwandb\u001B[0m: Agent Starting Run: ogny9mn5 with config:\n",
      "\u001B[34m\u001B[1mwandb\u001B[0m: \tclass_weight: balanced_subsample\n",
      "\u001B[34m\u001B[1mwandb\u001B[0m: \tmax_depth: 20\n",
      "\u001B[34m\u001B[1mwandb\u001B[0m: \tn_estimators: 50\n",
      "\u001B[34m\u001B[1mwandb\u001B[0m: \trandom_state: 42\n",
      "\u001B[34m\u001B[1mwandb\u001B[0m: \tscaler_type: standard\n",
      "\u001B[34m\u001B[1mwandb\u001B[0m: \twindow_size_seconds: 10\n"
     ]
    },
    {
     "data": {
      "text/plain": [
       "<IPython.core.display.HTML object>"
      ],
      "text/html": [
       "Ignoring project 'rf-window-classification' when running a sweep."
      ]
     },
     "metadata": {},
     "output_type": "display_data"
    },
    {
     "data": {
      "text/plain": [
       "<IPython.core.display.HTML object>"
      ],
      "text/html": [
       "Tracking run with wandb version 0.19.11"
      ]
     },
     "metadata": {},
     "output_type": "display_data"
    },
    {
     "data": {
      "text/plain": [
       "<IPython.core.display.HTML object>"
      ],
      "text/html": [
       "Run data is saved locally in <code>/Users/lukini/Documents/GitHub/RP-Laughter-Drinking/Laughter-Detection/Pipeline/wandb/run-20250602_141954-ogny9mn5</code>"
      ]
     },
     "metadata": {},
     "output_type": "display_data"
    },
    {
     "data": {
      "text/plain": [
       "<IPython.core.display.HTML object>"
      ],
      "text/html": [
       "Syncing run <strong><a href='https://wandb.ai/knezevicoluka-tu-delft/rf-sequence-classification/runs/ogny9mn5' target=\"_blank\">dandy-sweep-9</a></strong> to <a href='https://wandb.ai/knezevicoluka-tu-delft/rf-sequence-classification' target=\"_blank\">Weights & Biases</a> (<a href='https://wandb.me/developer-guide' target=\"_blank\">docs</a>)<br>Sweep page: <a href='https://wandb.ai/knezevicoluka-tu-delft/rf-sequence-classification/sweeps/0hueicyq' target=\"_blank\">https://wandb.ai/knezevicoluka-tu-delft/rf-sequence-classification/sweeps/0hueicyq</a>"
      ]
     },
     "metadata": {},
     "output_type": "display_data"
    },
    {
     "data": {
      "text/plain": [
       "<IPython.core.display.HTML object>"
      ],
      "text/html": [
       " View project at <a href='https://wandb.ai/knezevicoluka-tu-delft/rf-sequence-classification' target=\"_blank\">https://wandb.ai/knezevicoluka-tu-delft/rf-sequence-classification</a>"
      ]
     },
     "metadata": {},
     "output_type": "display_data"
    },
    {
     "data": {
      "text/plain": [
       "<IPython.core.display.HTML object>"
      ],
      "text/html": [
       " View sweep at <a href='https://wandb.ai/knezevicoluka-tu-delft/rf-sequence-classification/sweeps/0hueicyq' target=\"_blank\">https://wandb.ai/knezevicoluka-tu-delft/rf-sequence-classification/sweeps/0hueicyq</a>"
      ]
     },
     "metadata": {},
     "output_type": "display_data"
    },
    {
     "data": {
      "text/plain": [
       "<IPython.core.display.HTML object>"
      ],
      "text/html": [
       " View run at <a href='https://wandb.ai/knezevicoluka-tu-delft/rf-sequence-classification/runs/ogny9mn5' target=\"_blank\">https://wandb.ai/knezevicoluka-tu-delft/rf-sequence-classification/runs/ogny9mn5</a>"
      ]
     },
     "metadata": {},
     "output_type": "display_data"
    },
    {
     "name": "stdout",
     "output_type": "stream",
     "text": [
      "✅ F1-macro = 0.520\n"
     ]
    },
    {
     "data": {
      "text/plain": [
       "<IPython.core.display.HTML object>"
      ],
      "text/html": []
     },
     "metadata": {},
     "output_type": "display_data"
    },
    {
     "data": {
      "text/plain": [
       "<IPython.core.display.HTML object>"
      ],
      "text/html": [
       "<br>    <style><br>        .wandb-row {<br>            display: flex;<br>            flex-direction: row;<br>            flex-wrap: wrap;<br>            justify-content: flex-start;<br>            width: 100%;<br>        }<br>        .wandb-col {<br>            display: flex;<br>            flex-direction: column;<br>            flex-basis: 100%;<br>            flex: 1;<br>            padding: 10px;<br>        }<br>    </style><br><div class=\"wandb-row\"><div class=\"wandb-col\"><h3>Run history:</h3><br/><table class=\"wandb\"><tr><td>0/f1-score</td><td>▁</td></tr><tr><td>0/precision</td><td>▁</td></tr><tr><td>0/recall</td><td>▁</td></tr><tr><td>0/support</td><td>▁</td></tr><tr><td>1/f1-score</td><td>▁</td></tr><tr><td>1/precision</td><td>▁</td></tr><tr><td>1/recall</td><td>▁</td></tr><tr><td>1/support</td><td>▁</td></tr><tr><td>accuracy</td><td>▁</td></tr><tr><td>macro avg/f1-score</td><td>▁</td></tr><tr><td>macro avg/precision</td><td>▁</td></tr><tr><td>macro avg/recall</td><td>▁</td></tr><tr><td>macro avg/support</td><td>▁</td></tr><tr><td>val/f1_macro</td><td>▁</td></tr><tr><td>weighted avg/f1-score</td><td>▁</td></tr><tr><td>weighted avg/precision</td><td>▁</td></tr><tr><td>weighted avg/recall</td><td>▁</td></tr><tr><td>weighted avg/support</td><td>▁</td></tr></table><br/></div><div class=\"wandb-col\"><h3>Run summary:</h3><br/><table class=\"wandb\"><tr><td>0/f1-score</td><td>0.77169</td></tr><tr><td>0/precision</td><td>0.85869</td></tr><tr><td>0/recall</td><td>0.7007</td></tr><tr><td>0/support</td><td>17795</td></tr><tr><td>1/f1-score</td><td>0.26791</td></tr><tr><td>1/precision</td><td>0.20222</td></tr><tr><td>1/recall</td><td>0.39683</td></tr><tr><td>1/support</td><td>3402</td></tr><tr><td>accuracy</td><td>0.65193</td></tr><tr><td>macro avg/f1-score</td><td>0.5198</td></tr><tr><td>macro avg/precision</td><td>0.53045</td></tr><tr><td>macro avg/recall</td><td>0.54876</td></tr><tr><td>macro avg/support</td><td>21197</td></tr><tr><td>preprocessing/scaler_type</td><td>standard</td></tr><tr><td>val/f1_macro</td><td>0.5198</td></tr><tr><td>weighted avg/f1-score</td><td>0.69084</td></tr><tr><td>weighted avg/precision</td><td>0.75333</td></tr><tr><td>weighted avg/recall</td><td>0.65193</td></tr><tr><td>weighted avg/support</td><td>21197</td></tr></table><br/></div></div>"
      ]
     },
     "metadata": {},
     "output_type": "display_data"
    },
    {
     "data": {
      "text/plain": [
       "<IPython.core.display.HTML object>"
      ],
      "text/html": [
       " View run <strong style=\"color:#cdcd00\">dandy-sweep-9</strong> at: <a href='https://wandb.ai/knezevicoluka-tu-delft/rf-sequence-classification/runs/ogny9mn5' target=\"_blank\">https://wandb.ai/knezevicoluka-tu-delft/rf-sequence-classification/runs/ogny9mn5</a><br> View project at: <a href='https://wandb.ai/knezevicoluka-tu-delft/rf-sequence-classification' target=\"_blank\">https://wandb.ai/knezevicoluka-tu-delft/rf-sequence-classification</a><br>Synced 5 W&B file(s), 0 media file(s), 0 artifact file(s) and 0 other file(s)"
      ]
     },
     "metadata": {},
     "output_type": "display_data"
    },
    {
     "data": {
      "text/plain": [
       "<IPython.core.display.HTML object>"
      ],
      "text/html": [
       "Find logs at: <code>./wandb/run-20250602_141954-ogny9mn5/logs</code>"
      ]
     },
     "metadata": {},
     "output_type": "display_data"
    },
    {
     "name": "stderr",
     "output_type": "stream",
     "text": [
      "\u001B[34m\u001B[1mwandb\u001B[0m: Sweep Agent: Waiting for job.\n",
      "\u001B[34m\u001B[1mwandb\u001B[0m: Job received.\n",
      "\u001B[34m\u001B[1mwandb\u001B[0m: Agent Starting Run: b8qlwsy5 with config:\n",
      "\u001B[34m\u001B[1mwandb\u001B[0m: \tclass_weight: balanced_subsample\n",
      "\u001B[34m\u001B[1mwandb\u001B[0m: \tmax_depth: 20\n",
      "\u001B[34m\u001B[1mwandb\u001B[0m: \tn_estimators: 50\n",
      "\u001B[34m\u001B[1mwandb\u001B[0m: \trandom_state: 42\n",
      "\u001B[34m\u001B[1mwandb\u001B[0m: \tscaler_type: standard\n",
      "\u001B[34m\u001B[1mwandb\u001B[0m: \twindow_size_seconds: 10\n"
     ]
    },
    {
     "data": {
      "text/plain": [
       "<IPython.core.display.HTML object>"
      ],
      "text/html": [
       "Ignoring project 'rf-window-classification' when running a sweep."
      ]
     },
     "metadata": {},
     "output_type": "display_data"
    },
    {
     "data": {
      "text/plain": [
       "<IPython.core.display.HTML object>"
      ],
      "text/html": [
       "Tracking run with wandb version 0.19.11"
      ]
     },
     "metadata": {},
     "output_type": "display_data"
    },
    {
     "data": {
      "text/plain": [
       "<IPython.core.display.HTML object>"
      ],
      "text/html": [
       "Run data is saved locally in <code>/Users/lukini/Documents/GitHub/RP-Laughter-Drinking/Laughter-Detection/Pipeline/wandb/run-20250602_142037-b8qlwsy5</code>"
      ]
     },
     "metadata": {},
     "output_type": "display_data"
    },
    {
     "data": {
      "text/plain": [
       "<IPython.core.display.HTML object>"
      ],
      "text/html": [
       "Syncing run <strong><a href='https://wandb.ai/knezevicoluka-tu-delft/rf-sequence-classification/runs/b8qlwsy5' target=\"_blank\">scarlet-sweep-10</a></strong> to <a href='https://wandb.ai/knezevicoluka-tu-delft/rf-sequence-classification' target=\"_blank\">Weights & Biases</a> (<a href='https://wandb.me/developer-guide' target=\"_blank\">docs</a>)<br>Sweep page: <a href='https://wandb.ai/knezevicoluka-tu-delft/rf-sequence-classification/sweeps/0hueicyq' target=\"_blank\">https://wandb.ai/knezevicoluka-tu-delft/rf-sequence-classification/sweeps/0hueicyq</a>"
      ]
     },
     "metadata": {},
     "output_type": "display_data"
    },
    {
     "data": {
      "text/plain": [
       "<IPython.core.display.HTML object>"
      ],
      "text/html": [
       " View project at <a href='https://wandb.ai/knezevicoluka-tu-delft/rf-sequence-classification' target=\"_blank\">https://wandb.ai/knezevicoluka-tu-delft/rf-sequence-classification</a>"
      ]
     },
     "metadata": {},
     "output_type": "display_data"
    },
    {
     "data": {
      "text/plain": [
       "<IPython.core.display.HTML object>"
      ],
      "text/html": [
       " View sweep at <a href='https://wandb.ai/knezevicoluka-tu-delft/rf-sequence-classification/sweeps/0hueicyq' target=\"_blank\">https://wandb.ai/knezevicoluka-tu-delft/rf-sequence-classification/sweeps/0hueicyq</a>"
      ]
     },
     "metadata": {},
     "output_type": "display_data"
    },
    {
     "data": {
      "text/plain": [
       "<IPython.core.display.HTML object>"
      ],
      "text/html": [
       " View run at <a href='https://wandb.ai/knezevicoluka-tu-delft/rf-sequence-classification/runs/b8qlwsy5' target=\"_blank\">https://wandb.ai/knezevicoluka-tu-delft/rf-sequence-classification/runs/b8qlwsy5</a>"
      ]
     },
     "metadata": {},
     "output_type": "display_data"
    },
    {
     "name": "stdout",
     "output_type": "stream",
     "text": [
      "✅ F1-macro = 0.520\n"
     ]
    },
    {
     "data": {
      "text/plain": [
       "<IPython.core.display.HTML object>"
      ],
      "text/html": []
     },
     "metadata": {},
     "output_type": "display_data"
    },
    {
     "data": {
      "text/plain": [
       "<IPython.core.display.HTML object>"
      ],
      "text/html": [
       "<br>    <style><br>        .wandb-row {<br>            display: flex;<br>            flex-direction: row;<br>            flex-wrap: wrap;<br>            justify-content: flex-start;<br>            width: 100%;<br>        }<br>        .wandb-col {<br>            display: flex;<br>            flex-direction: column;<br>            flex-basis: 100%;<br>            flex: 1;<br>            padding: 10px;<br>        }<br>    </style><br><div class=\"wandb-row\"><div class=\"wandb-col\"><h3>Run history:</h3><br/><table class=\"wandb\"><tr><td>0/f1-score</td><td>▁</td></tr><tr><td>0/precision</td><td>▁</td></tr><tr><td>0/recall</td><td>▁</td></tr><tr><td>0/support</td><td>▁</td></tr><tr><td>1/f1-score</td><td>▁</td></tr><tr><td>1/precision</td><td>▁</td></tr><tr><td>1/recall</td><td>▁</td></tr><tr><td>1/support</td><td>▁</td></tr><tr><td>accuracy</td><td>▁</td></tr><tr><td>macro avg/f1-score</td><td>▁</td></tr><tr><td>macro avg/precision</td><td>▁</td></tr><tr><td>macro avg/recall</td><td>▁</td></tr><tr><td>macro avg/support</td><td>▁</td></tr><tr><td>val/f1_macro</td><td>▁</td></tr><tr><td>weighted avg/f1-score</td><td>▁</td></tr><tr><td>weighted avg/precision</td><td>▁</td></tr><tr><td>weighted avg/recall</td><td>▁</td></tr><tr><td>weighted avg/support</td><td>▁</td></tr></table><br/></div><div class=\"wandb-col\"><h3>Run summary:</h3><br/><table class=\"wandb\"><tr><td>0/f1-score</td><td>0.77169</td></tr><tr><td>0/precision</td><td>0.85869</td></tr><tr><td>0/recall</td><td>0.7007</td></tr><tr><td>0/support</td><td>17795</td></tr><tr><td>1/f1-score</td><td>0.26791</td></tr><tr><td>1/precision</td><td>0.20222</td></tr><tr><td>1/recall</td><td>0.39683</td></tr><tr><td>1/support</td><td>3402</td></tr><tr><td>accuracy</td><td>0.65193</td></tr><tr><td>macro avg/f1-score</td><td>0.5198</td></tr><tr><td>macro avg/precision</td><td>0.53045</td></tr><tr><td>macro avg/recall</td><td>0.54876</td></tr><tr><td>macro avg/support</td><td>21197</td></tr><tr><td>preprocessing/scaler_type</td><td>standard</td></tr><tr><td>val/f1_macro</td><td>0.5198</td></tr><tr><td>weighted avg/f1-score</td><td>0.69084</td></tr><tr><td>weighted avg/precision</td><td>0.75333</td></tr><tr><td>weighted avg/recall</td><td>0.65193</td></tr><tr><td>weighted avg/support</td><td>21197</td></tr></table><br/></div></div>"
      ]
     },
     "metadata": {},
     "output_type": "display_data"
    },
    {
     "data": {
      "text/plain": [
       "<IPython.core.display.HTML object>"
      ],
      "text/html": [
       " View run <strong style=\"color:#cdcd00\">scarlet-sweep-10</strong> at: <a href='https://wandb.ai/knezevicoluka-tu-delft/rf-sequence-classification/runs/b8qlwsy5' target=\"_blank\">https://wandb.ai/knezevicoluka-tu-delft/rf-sequence-classification/runs/b8qlwsy5</a><br> View project at: <a href='https://wandb.ai/knezevicoluka-tu-delft/rf-sequence-classification' target=\"_blank\">https://wandb.ai/knezevicoluka-tu-delft/rf-sequence-classification</a><br>Synced 5 W&B file(s), 0 media file(s), 0 artifact file(s) and 0 other file(s)"
      ]
     },
     "metadata": {},
     "output_type": "display_data"
    },
    {
     "data": {
      "text/plain": [
       "<IPython.core.display.HTML object>"
      ],
      "text/html": [
       "Find logs at: <code>./wandb/run-20250602_142037-b8qlwsy5/logs</code>"
      ]
     },
     "metadata": {},
     "output_type": "display_data"
    }
   ],
   "execution_count": 28
  },
  {
   "metadata": {},
   "cell_type": "code",
   "outputs": [],
   "execution_count": null,
   "source": "",
   "id": "59ae49c417b7757a"
  }
 ],
 "metadata": {
  "kernelspec": {
   "display_name": "Python 3",
   "language": "python",
   "name": "python3"
  },
  "language_info": {
   "codemirror_mode": {
    "name": "ipython",
    "version": 2
   },
   "file_extension": ".py",
   "mimetype": "text/x-python",
   "name": "python",
   "nbconvert_exporter": "python",
   "pygments_lexer": "ipython2",
   "version": "2.7.6"
  }
 },
 "nbformat": 4,
 "nbformat_minor": 5
}
