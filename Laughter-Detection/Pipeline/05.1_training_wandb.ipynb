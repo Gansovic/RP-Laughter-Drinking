{
 "cells": [
  {
   "cell_type": "code",
   "id": "initial_id",
   "metadata": {
    "collapsed": true,
    "ExecuteTime": {
     "end_time": "2025-06-01T13:13:01.566250Z",
     "start_time": "2025-06-01T13:12:59.411740Z"
    }
   },
   "source": [
    "# ─── Cell 1: Imports + wandb Initialization ───────────────────────────────────\n",
    "\n",
    "import os\n",
    "import numpy as np\n",
    "import pandas as pd\n",
    "\n",
    "from sklearn.model_selection import train_test_split\n",
    "from sklearn.metrics import f1_score, classification_report\n",
    "from sklearn.preprocessing import StandardScaler, MinMaxScaler\n",
    "\n",
    "from hmmlearn.hmm import GaussianHMM\n",
    "\n",
    "import wandb\n",
    "\n",
    "# We’ll define our train() function below, which calls wandb.init() internally.\n",
    "# No global wandb.init() here—each run gets its own init inside train().\n"
   ],
   "outputs": [],
   "execution_count": 1
  },
  {
   "metadata": {
    "ExecuteTime": {
     "end_time": "2025-06-01T13:41:25.025322Z",
     "start_time": "2025-06-01T13:41:25.014419Z"
    }
   },
   "cell_type": "code",
   "source": [
    "# ─── Cell 2 (UPDATED): Define the `train()` function with the fix for classification report logging ────────────────────────────────────\n",
    "\n",
    "def train():\n",
    "    \"\"\"\n",
    "    This function will be called by wandb.agent() for each combination of hyperparameters.\n",
    "    Inside, it pulls everything from wandb.config, loads the appropriate CSV, builds sequences,\n",
    "    trains the HMM, sweeps over alpha, and logs metrics to wandb.\n",
    "    \"\"\"\n",
    "    # 1) Initialize a new wandb run (with config = wandb.config auto‐populated by the agent).\n",
    "    run = wandb.init(project=\"hmm-sequence-classification\", job_type=\"training\")\n",
    "    config = run.config\n",
    "\n",
    "    # 2) Load / Aggregate data by window_size_seconds.\n",
    "    feat_file = f\"./features_csvs/features_segments_with_audio_{config.window_size_seconds}s.csv\"\n",
    "    if not os.path.exists(feat_file):\n",
    "        raise FileNotFoundError(f\"Expected {feat_file} to exist.\")\n",
    "\n",
    "    df = pd.read_csv(feat_file)\n",
    "    drop_cols    = [\"video_id\", \"segment\", \"participant\", \"window_i\", \"window_s\", \"label\"]\n",
    "    feature_cols = [c for c in df.columns if c not in drop_cols]\n",
    "\n",
    "    # 3) Build sequences of length T = config.T\n",
    "    T = config.T\n",
    "    seqs, lengths, seq_labels = [], [], []\n",
    "\n",
    "    for _, grp in df.groupby([\"video_id\", \"segment\", \"participant\"]):\n",
    "        grp = grp.sort_values(\"window_i\")\n",
    "        feats = grp[feature_cols].values\n",
    "        labs  = grp[\"label\"].values\n",
    "        n_chunks = len(feats) // T\n",
    "\n",
    "        for i in range(n_chunks):\n",
    "            seqs.append(feats[i*T : (i+1)*T])\n",
    "            lengths.append(T)\n",
    "            seq_labels.append(int(labs[i*T : (i+1)*T].sum() > 0))\n",
    "\n",
    "    n_seqs = len(seqs)\n",
    "    y_seqs = np.array(seq_labels)\n",
    "\n",
    "    # 4) Stratified train/val split (by‐sequence)\n",
    "    seq_ids = np.arange(n_seqs)\n",
    "    train_ids, val_ids = train_test_split(\n",
    "        seq_ids,\n",
    "        test_size=0.2,\n",
    "        stratify=y_seqs,\n",
    "        random_state=config.random_state\n",
    "    )\n",
    "\n",
    "    def stack_by_ids(ids_list):\n",
    "        X_list, L_list, Y_list = [], [], []\n",
    "        for idx in ids_list:\n",
    "            X_list.append(seqs[idx])\n",
    "            L_list.append(lengths[idx])\n",
    "            Y_list.append(y_seqs[idx])\n",
    "        return np.vstack(X_list), np.array(L_list), np.array(Y_list)\n",
    "\n",
    "    X_tr, len_tr, y_tr = stack_by_ids(train_ids)\n",
    "    X_val, len_val, y_val = stack_by_ids(val_ids)\n",
    "\n",
    "    # 5) Optional feature scaling\n",
    "    if config.scaler_type == \"standard\":\n",
    "        scaler = StandardScaler()\n",
    "    elif config.scaler_type == \"minmax\":\n",
    "        scaler = MinMaxScaler()\n",
    "    else:\n",
    "        scaler = None\n",
    "\n",
    "    if scaler is not None:\n",
    "        X_tr = scaler.fit_transform(X_tr)\n",
    "        X_val = scaler.transform(X_val)\n",
    "\n",
    "    wandb.log({\"preprocessing/scaler_type\": config.scaler_type})\n",
    "\n",
    "    # 6) Train the GaussianHMM\n",
    "    # When constructing the HMM:\n",
    "    model = GaussianHMM(\n",
    "        n_components=config.n_components,\n",
    "        covariance_type=config.covariance_type,      # always diagonal\n",
    "        n_iter=config.n_iter,\n",
    "        random_state=config.random_state,\n",
    "        verbose=False\n",
    "    )\n",
    "    model.fit(X_tr, lengths=len_tr)\n",
    "\n",
    "    # Log the final training log‐likelihood\n",
    "    train_loglik = model.score(X_tr, lengths=len_tr)\n",
    "    wandb.log({\n",
    "        \"model/n_components\": config.n_components,\n",
    "        \"model/covariance_type\": config.covariance_type,\n",
    "        \"train/log_likelihood\": train_loglik\n",
    "    })\n",
    "\n",
    "    # 7) Predict on validation, compute prop1, sweep alpha\n",
    "    states_val = []\n",
    "    idx = 0\n",
    "    for L in len_val:\n",
    "        st = model.predict(X_val[idx : idx + L])\n",
    "        states_val.append(st)\n",
    "        idx += L\n",
    "\n",
    "    prop1 = np.array([s.sum() / len(s) for s in states_val])\n",
    "\n",
    "    alphas = np.linspace(0, 1, config.alpha_steps)\n",
    "    best_f1, best_alpha = -1, None\n",
    "\n",
    "    for alpha in alphas:\n",
    "        y_hat = (prop1 >= alpha).astype(int)\n",
    "        f1 = f1_score(y_val, y_hat, average=\"macro\")\n",
    "        wandb.log({\"val/alpha\": alpha, \"val/f1_macro\": f1})\n",
    "        if f1 > best_f1:\n",
    "            best_f1, best_alpha = f1, alpha\n",
    "\n",
    "    wandb.log({\n",
    "        \"val/best_alpha\": best_alpha,\n",
    "        \"val/best_f1_macro\": best_f1\n",
    "    })\n",
    "    print(f\"✅ Mejor α = {best_alpha:.2f}, F1-macro = {best_f1:.3f}\")\n",
    "\n",
    "    # 8) Classification report logging (per‐class and overall metrics)\n",
    "    y_pred_best = (prop1 >= best_alpha).astype(int)\n",
    "    report_dict = classification_report(\n",
    "        y_val, y_pred_best,\n",
    "        output_dict=True, zero_division=0\n",
    "    )\n",
    "\n",
    "    for label, metrics in report_dict.items():\n",
    "        if isinstance(metrics, dict):\n",
    "            # For labels \"0\" and \"1\", or macro/weighted averages:\n",
    "            for metric_name, metric_value in metrics.items():\n",
    "                wandb.log({f\"{label}/{metric_name}\": metric_value})\n",
    "        else:\n",
    "            # For entries like 'accuracy' that are floats:\n",
    "            wandb.log({label: metrics})\n",
    "\n",
    "    run.finish()\n"
   ],
   "id": "cf16527f73f514f0",
   "outputs": [],
   "execution_count": 11
  },
  {
   "metadata": {
    "ExecuteTime": {
     "end_time": "2025-06-01T13:41:27.534483Z",
     "start_time": "2025-06-01T13:41:27.031204Z"
    }
   },
   "cell_type": "code",
   "source": [
    "# ─── Cell 3: Define your sweep configuration in‐notebook ────────────────────────\n",
    "\n",
    "# This is equivalent to having a sweep.yaml, but as a Python dict:\n",
    "sweep_config = {\n",
    "    \"method\": \"bayes\", # or \"grid\" / \"random\"\n",
    "    \"metric\": {\n",
    "        \"name\": \"val/best_f1_macro\",\n",
    "        \"goal\": \"maximize\"\n",
    "    },\n",
    "    \"parameters\": {\n",
    "        \"window_size_seconds\": {\n",
    "            \"values\": [5, 10, 20]\n",
    "        },\n",
    "        \"T\": {\n",
    "            \"values\": [5, 10, 20]\n",
    "        },\n",
    "        \"n_components\": {\n",
    "            \"values\": [2, 3, 4]\n",
    "        },\n",
    "        \"covariance_type\": {\n",
    "            \"values\": [\"diag\", \"full\"]\n",
    "        },\n",
    "        \"random_state\": {\n",
    "            \"value\": 42\n",
    "        },\n",
    "        \"alpha_steps\": {\n",
    "            \"value\": 51\n",
    "        },\n",
    "        \"scaler_type\": {\n",
    "            \"values\": [\"none\", \"standard\", \"minmax\"]\n",
    "        },\n",
    "        \"n_iter\": {\n",
    "            \"value\": 100\n",
    "        }\n",
    "    }\n",
    "}\n",
    "\n",
    "# Create the sweep in‐notebook (returns a sweep_id string)\n",
    "sweep_id = wandb.sweep(sweep_config, project=\"hmm-sequence-classification\")\n",
    "print(\"Sweep ID:\", sweep_id)\n"
   ],
   "id": "cf8c3bef4a20c5d6",
   "outputs": [
    {
     "name": "stdout",
     "output_type": "stream",
     "text": [
      "Create sweep with ID: 0jn8ip4f\n",
      "Sweep URL: https://wandb.ai/knezevicoluka-tu-delft/hmm-sequence-classification/sweeps/0jn8ip4f\n",
      "Sweep ID: 0jn8ip4f\n"
     ]
    }
   ],
   "execution_count": 12
  },
  {
   "metadata": {
    "ExecuteTime": {
     "end_time": "2025-06-01T13:46:19.465389Z",
     "start_time": "2025-06-01T13:41:41.325108Z"
    }
   },
   "cell_type": "code",
   "source": [
    "# ─── Cell 4: Launch agents directly from the notebook ─────────────────────────\n",
    "\n",
    "# You can spin up multiple agents (in parallel or sequentially) by running this cell multiple times.\n",
    "# Each agent will pull one new config from the sweep and run train() under that config.\n",
    "\n",
    "wandb.agent(sweep_id, function=train, count=10)\n",
    "\n",
    "# - `count=10` means “run 10 different trials” (or until the sweep ends).\n",
    "# - Omit `count` if you want to keep going until you manually stop it or exhausting the search space.\n"
   ],
   "id": "dfeeeabd8f5fe598",
   "outputs": [
    {
     "name": "stderr",
     "output_type": "stream",
     "text": [
      "\u001B[34m\u001B[1mwandb\u001B[0m: Agent Starting Run: 31931sek with config:\n",
      "\u001B[34m\u001B[1mwandb\u001B[0m: \tT: 10\n",
      "\u001B[34m\u001B[1mwandb\u001B[0m: \talpha_steps: 51\n",
      "\u001B[34m\u001B[1mwandb\u001B[0m: \tcovariance_type: full\n",
      "\u001B[34m\u001B[1mwandb\u001B[0m: \tn_components: 3\n",
      "\u001B[34m\u001B[1mwandb\u001B[0m: \tn_iter: 100\n",
      "\u001B[34m\u001B[1mwandb\u001B[0m: \trandom_state: 42\n",
      "\u001B[34m\u001B[1mwandb\u001B[0m: \tscaler_type: standard\n",
      "\u001B[34m\u001B[1mwandb\u001B[0m: \twindow_size_seconds: 5\n"
     ]
    },
    {
     "data": {
      "text/plain": [
       "<IPython.core.display.HTML object>"
      ],
      "text/html": [
       "Ignoring project 'hmm-sequence-classification' when running a sweep."
      ]
     },
     "metadata": {},
     "output_type": "display_data"
    },
    {
     "data": {
      "text/plain": [
       "<IPython.core.display.HTML object>"
      ],
      "text/html": [
       "Tracking run with wandb version 0.19.11"
      ]
     },
     "metadata": {},
     "output_type": "display_data"
    },
    {
     "data": {
      "text/plain": [
       "<IPython.core.display.HTML object>"
      ],
      "text/html": [
       "Run data is saved locally in <code>/Users/lukini/Documents/GitHub/RP-Laughter-Drinking/Laughter-Detection/Pipeline/wandb/run-20250601_154143-31931sek</code>"
      ]
     },
     "metadata": {},
     "output_type": "display_data"
    },
    {
     "data": {
      "text/plain": [
       "<IPython.core.display.HTML object>"
      ],
      "text/html": [
       "Syncing run <strong><a href='https://wandb.ai/knezevicoluka-tu-delft/hmm-sequence-classification/runs/31931sek' target=\"_blank\">bright-sweep-1</a></strong> to <a href='https://wandb.ai/knezevicoluka-tu-delft/hmm-sequence-classification' target=\"_blank\">Weights & Biases</a> (<a href='https://wandb.me/developer-guide' target=\"_blank\">docs</a>)<br>Sweep page: <a href='https://wandb.ai/knezevicoluka-tu-delft/hmm-sequence-classification/sweeps/0jn8ip4f' target=\"_blank\">https://wandb.ai/knezevicoluka-tu-delft/hmm-sequence-classification/sweeps/0jn8ip4f</a>"
      ]
     },
     "metadata": {},
     "output_type": "display_data"
    },
    {
     "data": {
      "text/plain": [
       "<IPython.core.display.HTML object>"
      ],
      "text/html": [
       " View project at <a href='https://wandb.ai/knezevicoluka-tu-delft/hmm-sequence-classification' target=\"_blank\">https://wandb.ai/knezevicoluka-tu-delft/hmm-sequence-classification</a>"
      ]
     },
     "metadata": {},
     "output_type": "display_data"
    },
    {
     "data": {
      "text/plain": [
       "<IPython.core.display.HTML object>"
      ],
      "text/html": [
       " View sweep at <a href='https://wandb.ai/knezevicoluka-tu-delft/hmm-sequence-classification/sweeps/0jn8ip4f' target=\"_blank\">https://wandb.ai/knezevicoluka-tu-delft/hmm-sequence-classification/sweeps/0jn8ip4f</a>"
      ]
     },
     "metadata": {},
     "output_type": "display_data"
    },
    {
     "data": {
      "text/plain": [
       "<IPython.core.display.HTML object>"
      ],
      "text/html": [
       " View run at <a href='https://wandb.ai/knezevicoluka-tu-delft/hmm-sequence-classification/runs/31931sek' target=\"_blank\">https://wandb.ai/knezevicoluka-tu-delft/hmm-sequence-classification/runs/31931sek</a>"
      ]
     },
     "metadata": {},
     "output_type": "display_data"
    },
    {
     "name": "stdout",
     "output_type": "stream",
     "text": [
      "✅ Mejor α = 0.70, F1-macro = 0.500\n"
     ]
    },
    {
     "data": {
      "text/plain": [
       "<IPython.core.display.HTML object>"
      ],
      "text/html": []
     },
     "metadata": {},
     "output_type": "display_data"
    },
    {
     "data": {
      "text/plain": [
       "<IPython.core.display.HTML object>"
      ],
      "text/html": [
       "<br>    <style><br>        .wandb-row {<br>            display: flex;<br>            flex-direction: row;<br>            flex-wrap: wrap;<br>            justify-content: flex-start;<br>            width: 100%;<br>        }<br>        .wandb-col {<br>            display: flex;<br>            flex-direction: column;<br>            flex-basis: 100%;<br>            flex: 1;<br>            padding: 10px;<br>        }<br>    </style><br><div class=\"wandb-row\"><div class=\"wandb-col\"><h3>Run history:</h3><br/><table class=\"wandb\"><tr><td>0/f1-score</td><td>▁</td></tr><tr><td>0/precision</td><td>▁</td></tr><tr><td>0/recall</td><td>▁</td></tr><tr><td>0/support</td><td>▁</td></tr><tr><td>1/f1-score</td><td>▁</td></tr><tr><td>1/precision</td><td>▁</td></tr><tr><td>1/recall</td><td>▁</td></tr><tr><td>1/support</td><td>▁</td></tr><tr><td>accuracy</td><td>▁</td></tr><tr><td>macro avg/f1-score</td><td>▁</td></tr><tr><td>macro avg/precision</td><td>▁</td></tr><tr><td>macro avg/recall</td><td>▁</td></tr><tr><td>macro avg/support</td><td>▁</td></tr><tr><td>model/n_components</td><td>▁</td></tr><tr><td>train/log_likelihood</td><td>▁</td></tr><tr><td>val/alpha</td><td>▁▁▁▁▂▂▂▂▂▂▃▃▃▃▃▄▄▄▄▄▄▅▅▅▅▅▅▅▆▆▆▆▆▇▇▇▇▇██</td></tr><tr><td>val/best_alpha</td><td>▁</td></tr><tr><td>val/best_f1_macro</td><td>▁</td></tr><tr><td>val/f1_macro</td><td>▁▂▂▂▂▃▃▃▃▄▄▄▅▅▅▅▇▇▇▇████████████████▇▇▇▇</td></tr><tr><td>weighted avg/f1-score</td><td>▁</td></tr><tr><td>weighted avg/precision</td><td>▁</td></tr><tr><td>weighted avg/recall</td><td>▁</td></tr><tr><td>weighted avg/support</td><td>▁</td></tr></table><br/></div><div class=\"wandb-col\"><h3>Run summary:</h3><br/><table class=\"wandb\"><tr><td>0/f1-score</td><td>0.63596</td></tr><tr><td>0/precision</td><td>0.63227</td></tr><tr><td>0/recall</td><td>0.63971</td></tr><tr><td>0/support</td><td>680</td></tr><tr><td>1/f1-score</td><td>0.3648</td></tr><tr><td>1/precision</td><td>0.36856</td></tr><tr><td>1/recall</td><td>0.36111</td></tr><tr><td>1/support</td><td>396</td></tr><tr><td>accuracy</td><td>0.53717</td></tr><tr><td>macro avg/f1-score</td><td>0.50038</td></tr><tr><td>macro avg/precision</td><td>0.50041</td></tr><tr><td>macro avg/recall</td><td>0.50041</td></tr><tr><td>macro avg/support</td><td>1076</td></tr><tr><td>model/covariance_type</td><td>full</td></tr><tr><td>model/n_components</td><td>3</td></tr><tr><td>preprocessing/scaler_type</td><td>standard</td></tr><tr><td>train/log_likelihood</td><td>383415.30944</td></tr><tr><td>val/alpha</td><td>1</td></tr><tr><td>val/best_alpha</td><td>0.7</td></tr><tr><td>val/best_f1_macro</td><td>0.50038</td></tr><tr><td>val/f1_macro</td><td>0.47585</td></tr><tr><td>weighted avg/f1-score</td><td>0.53617</td></tr><tr><td>weighted avg/precision</td><td>0.53521</td></tr><tr><td>weighted avg/recall</td><td>0.53717</td></tr><tr><td>weighted avg/support</td><td>1076</td></tr></table><br/></div></div>"
      ]
     },
     "metadata": {},
     "output_type": "display_data"
    },
    {
     "data": {
      "text/plain": [
       "<IPython.core.display.HTML object>"
      ],
      "text/html": [
       " View run <strong style=\"color:#cdcd00\">bright-sweep-1</strong> at: <a href='https://wandb.ai/knezevicoluka-tu-delft/hmm-sequence-classification/runs/31931sek' target=\"_blank\">https://wandb.ai/knezevicoluka-tu-delft/hmm-sequence-classification/runs/31931sek</a><br> View project at: <a href='https://wandb.ai/knezevicoluka-tu-delft/hmm-sequence-classification' target=\"_blank\">https://wandb.ai/knezevicoluka-tu-delft/hmm-sequence-classification</a><br>Synced 5 W&B file(s), 0 media file(s), 0 artifact file(s) and 0 other file(s)"
      ]
     },
     "metadata": {},
     "output_type": "display_data"
    },
    {
     "data": {
      "text/plain": [
       "<IPython.core.display.HTML object>"
      ],
      "text/html": [
       "Find logs at: <code>./wandb/run-20250601_154143-31931sek/logs</code>"
      ]
     },
     "metadata": {},
     "output_type": "display_data"
    },
    {
     "name": "stderr",
     "output_type": "stream",
     "text": [
      "\u001B[34m\u001B[1mwandb\u001B[0m: Agent Starting Run: 3zwofrn9 with config:\n",
      "\u001B[34m\u001B[1mwandb\u001B[0m: \tT: 10\n",
      "\u001B[34m\u001B[1mwandb\u001B[0m: \talpha_steps: 51\n",
      "\u001B[34m\u001B[1mwandb\u001B[0m: \tcovariance_type: full\n",
      "\u001B[34m\u001B[1mwandb\u001B[0m: \tn_components: 2\n",
      "\u001B[34m\u001B[1mwandb\u001B[0m: \tn_iter: 100\n",
      "\u001B[34m\u001B[1mwandb\u001B[0m: \trandom_state: 42\n",
      "\u001B[34m\u001B[1mwandb\u001B[0m: \tscaler_type: none\n",
      "\u001B[34m\u001B[1mwandb\u001B[0m: \twindow_size_seconds: 20\n"
     ]
    },
    {
     "data": {
      "text/plain": [
       "<IPython.core.display.HTML object>"
      ],
      "text/html": [
       "Ignoring project 'hmm-sequence-classification' when running a sweep."
      ]
     },
     "metadata": {},
     "output_type": "display_data"
    },
    {
     "data": {
      "text/plain": [
       "<IPython.core.display.HTML object>"
      ],
      "text/html": [
       "Tracking run with wandb version 0.19.11"
      ]
     },
     "metadata": {},
     "output_type": "display_data"
    },
    {
     "data": {
      "text/plain": [
       "<IPython.core.display.HTML object>"
      ],
      "text/html": [
       "Run data is saved locally in <code>/Users/lukini/Documents/GitHub/RP-Laughter-Drinking/Laughter-Detection/Pipeline/wandb/run-20250601_154245-3zwofrn9</code>"
      ]
     },
     "metadata": {},
     "output_type": "display_data"
    },
    {
     "data": {
      "text/plain": [
       "<IPython.core.display.HTML object>"
      ],
      "text/html": [
       "Syncing run <strong><a href='https://wandb.ai/knezevicoluka-tu-delft/hmm-sequence-classification/runs/3zwofrn9' target=\"_blank\">devoted-sweep-2</a></strong> to <a href='https://wandb.ai/knezevicoluka-tu-delft/hmm-sequence-classification' target=\"_blank\">Weights & Biases</a> (<a href='https://wandb.me/developer-guide' target=\"_blank\">docs</a>)<br>Sweep page: <a href='https://wandb.ai/knezevicoluka-tu-delft/hmm-sequence-classification/sweeps/0jn8ip4f' target=\"_blank\">https://wandb.ai/knezevicoluka-tu-delft/hmm-sequence-classification/sweeps/0jn8ip4f</a>"
      ]
     },
     "metadata": {},
     "output_type": "display_data"
    },
    {
     "data": {
      "text/plain": [
       "<IPython.core.display.HTML object>"
      ],
      "text/html": [
       " View project at <a href='https://wandb.ai/knezevicoluka-tu-delft/hmm-sequence-classification' target=\"_blank\">https://wandb.ai/knezevicoluka-tu-delft/hmm-sequence-classification</a>"
      ]
     },
     "metadata": {},
     "output_type": "display_data"
    },
    {
     "data": {
      "text/plain": [
       "<IPython.core.display.HTML object>"
      ],
      "text/html": [
       " View sweep at <a href='https://wandb.ai/knezevicoluka-tu-delft/hmm-sequence-classification/sweeps/0jn8ip4f' target=\"_blank\">https://wandb.ai/knezevicoluka-tu-delft/hmm-sequence-classification/sweeps/0jn8ip4f</a>"
      ]
     },
     "metadata": {},
     "output_type": "display_data"
    },
    {
     "data": {
      "text/plain": [
       "<IPython.core.display.HTML object>"
      ],
      "text/html": [
       " View run at <a href='https://wandb.ai/knezevicoluka-tu-delft/hmm-sequence-classification/runs/3zwofrn9' target=\"_blank\">https://wandb.ai/knezevicoluka-tu-delft/hmm-sequence-classification/runs/3zwofrn9</a>"
      ]
     },
     "metadata": {},
     "output_type": "display_data"
    },
    {
     "name": "stderr",
     "output_type": "stream",
     "text": [
      "Model is not converging.  Current: 164913.1369780108 is not greater than 164943.42064255945. Delta is -30.283664548653178\n"
     ]
    },
    {
     "name": "stdout",
     "output_type": "stream",
     "text": [
      "✅ Mejor α = 0.00, F1-macro = 0.408\n"
     ]
    },
    {
     "data": {
      "text/plain": [
       "<IPython.core.display.HTML object>"
      ],
      "text/html": []
     },
     "metadata": {},
     "output_type": "display_data"
    },
    {
     "data": {
      "text/plain": [
       "<IPython.core.display.HTML object>"
      ],
      "text/html": [
       "<br>    <style><br>        .wandb-row {<br>            display: flex;<br>            flex-direction: row;<br>            flex-wrap: wrap;<br>            justify-content: flex-start;<br>            width: 100%;<br>        }<br>        .wandb-col {<br>            display: flex;<br>            flex-direction: column;<br>            flex-basis: 100%;<br>            flex: 1;<br>            padding: 10px;<br>        }<br>    </style><br><div class=\"wandb-row\"><div class=\"wandb-col\"><h3>Run history:</h3><br/><table class=\"wandb\"><tr><td>0/f1-score</td><td>▁</td></tr><tr><td>0/precision</td><td>▁</td></tr><tr><td>0/recall</td><td>▁</td></tr><tr><td>0/support</td><td>▁</td></tr><tr><td>1/f1-score</td><td>▁</td></tr><tr><td>1/precision</td><td>▁</td></tr><tr><td>1/recall</td><td>▁</td></tr><tr><td>1/support</td><td>▁</td></tr><tr><td>accuracy</td><td>▁</td></tr><tr><td>macro avg/f1-score</td><td>▁</td></tr><tr><td>macro avg/precision</td><td>▁</td></tr><tr><td>macro avg/recall</td><td>▁</td></tr><tr><td>macro avg/support</td><td>▁</td></tr><tr><td>model/n_components</td><td>▁</td></tr><tr><td>train/log_likelihood</td><td>▁</td></tr><tr><td>val/alpha</td><td>▁▁▁▁▂▂▂▂▂▃▃▃▃▃▃▄▄▄▄▄▅▅▅▅▅▅▆▆▆▆▆▆▇▇▇▇▇███</td></tr><tr><td>val/best_alpha</td><td>▁</td></tr><tr><td>val/best_f1_macro</td><td>▁</td></tr><tr><td>val/f1_macro</td><td>█▂▂▂▂▁▁▁▁▁▁▁▁▁▁▁▁▁▁▁▁▁▁▁▁▁▁▁▁▁▁▁▁▁▁▁▁▁▁▁</td></tr><tr><td>weighted avg/f1-score</td><td>▁</td></tr><tr><td>weighted avg/precision</td><td>▁</td></tr><tr><td>weighted avg/recall</td><td>▁</td></tr><tr><td>weighted avg/support</td><td>▁</td></tr></table><br/></div><div class=\"wandb-col\"><h3>Run summary:</h3><br/><table class=\"wandb\"><tr><td>0/f1-score</td><td>0</td></tr><tr><td>0/precision</td><td>0</td></tr><tr><td>0/recall</td><td>0</td></tr><tr><td>0/support</td><td>69</td></tr><tr><td>1/f1-score</td><td>0.81501</td></tr><tr><td>1/precision</td><td>0.68778</td></tr><tr><td>1/recall</td><td>1</td></tr><tr><td>1/support</td><td>152</td></tr><tr><td>accuracy</td><td>0.68778</td></tr><tr><td>macro avg/f1-score</td><td>0.40751</td></tr><tr><td>macro avg/precision</td><td>0.34389</td></tr><tr><td>macro avg/recall</td><td>0.5</td></tr><tr><td>macro avg/support</td><td>221</td></tr><tr><td>model/covariance_type</td><td>full</td></tr><tr><td>model/n_components</td><td>2</td></tr><tr><td>preprocessing/scaler_type</td><td>none</td></tr><tr><td>train/log_likelihood</td><td>164913.13698</td></tr><tr><td>val/alpha</td><td>1</td></tr><tr><td>val/best_alpha</td><td>0</td></tr><tr><td>val/best_f1_macro</td><td>0.40751</td></tr><tr><td>val/f1_macro</td><td>0.23793</td></tr><tr><td>weighted avg/f1-score</td><td>0.56055</td></tr><tr><td>weighted avg/precision</td><td>0.47305</td></tr><tr><td>weighted avg/recall</td><td>0.68778</td></tr><tr><td>weighted avg/support</td><td>221</td></tr></table><br/></div></div>"
      ]
     },
     "metadata": {},
     "output_type": "display_data"
    },
    {
     "data": {
      "text/plain": [
       "<IPython.core.display.HTML object>"
      ],
      "text/html": [
       " View run <strong style=\"color:#cdcd00\">devoted-sweep-2</strong> at: <a href='https://wandb.ai/knezevicoluka-tu-delft/hmm-sequence-classification/runs/3zwofrn9' target=\"_blank\">https://wandb.ai/knezevicoluka-tu-delft/hmm-sequence-classification/runs/3zwofrn9</a><br> View project at: <a href='https://wandb.ai/knezevicoluka-tu-delft/hmm-sequence-classification' target=\"_blank\">https://wandb.ai/knezevicoluka-tu-delft/hmm-sequence-classification</a><br>Synced 5 W&B file(s), 0 media file(s), 0 artifact file(s) and 0 other file(s)"
      ]
     },
     "metadata": {},
     "output_type": "display_data"
    },
    {
     "data": {
      "text/plain": [
       "<IPython.core.display.HTML object>"
      ],
      "text/html": [
       "Find logs at: <code>./wandb/run-20250601_154245-3zwofrn9/logs</code>"
      ]
     },
     "metadata": {},
     "output_type": "display_data"
    },
    {
     "name": "stderr",
     "output_type": "stream",
     "text": [
      "\u001B[34m\u001B[1mwandb\u001B[0m: Agent Starting Run: 69dv2b32 with config:\n",
      "\u001B[34m\u001B[1mwandb\u001B[0m: \tT: 20\n",
      "\u001B[34m\u001B[1mwandb\u001B[0m: \talpha_steps: 51\n",
      "\u001B[34m\u001B[1mwandb\u001B[0m: \tcovariance_type: full\n",
      "\u001B[34m\u001B[1mwandb\u001B[0m: \tn_components: 3\n",
      "\u001B[34m\u001B[1mwandb\u001B[0m: \tn_iter: 100\n",
      "\u001B[34m\u001B[1mwandb\u001B[0m: \trandom_state: 42\n",
      "\u001B[34m\u001B[1mwandb\u001B[0m: \tscaler_type: standard\n",
      "\u001B[34m\u001B[1mwandb\u001B[0m: \twindow_size_seconds: 10\n"
     ]
    },
    {
     "data": {
      "text/plain": [
       "<IPython.core.display.HTML object>"
      ],
      "text/html": [
       "Ignoring project 'hmm-sequence-classification' when running a sweep."
      ]
     },
     "metadata": {},
     "output_type": "display_data"
    },
    {
     "data": {
      "text/plain": [
       "<IPython.core.display.HTML object>"
      ],
      "text/html": [
       "Tracking run with wandb version 0.19.11"
      ]
     },
     "metadata": {},
     "output_type": "display_data"
    },
    {
     "data": {
      "text/plain": [
       "<IPython.core.display.HTML object>"
      ],
      "text/html": [
       "Run data is saved locally in <code>/Users/lukini/Documents/GitHub/RP-Laughter-Drinking/Laughter-Detection/Pipeline/wandb/run-20250601_154251-69dv2b32</code>"
      ]
     },
     "metadata": {},
     "output_type": "display_data"
    },
    {
     "data": {
      "text/plain": [
       "<IPython.core.display.HTML object>"
      ],
      "text/html": [
       "Syncing run <strong><a href='https://wandb.ai/knezevicoluka-tu-delft/hmm-sequence-classification/runs/69dv2b32' target=\"_blank\">bumbling-sweep-3</a></strong> to <a href='https://wandb.ai/knezevicoluka-tu-delft/hmm-sequence-classification' target=\"_blank\">Weights & Biases</a> (<a href='https://wandb.me/developer-guide' target=\"_blank\">docs</a>)<br>Sweep page: <a href='https://wandb.ai/knezevicoluka-tu-delft/hmm-sequence-classification/sweeps/0jn8ip4f' target=\"_blank\">https://wandb.ai/knezevicoluka-tu-delft/hmm-sequence-classification/sweeps/0jn8ip4f</a>"
      ]
     },
     "metadata": {},
     "output_type": "display_data"
    },
    {
     "data": {
      "text/plain": [
       "<IPython.core.display.HTML object>"
      ],
      "text/html": [
       " View project at <a href='https://wandb.ai/knezevicoluka-tu-delft/hmm-sequence-classification' target=\"_blank\">https://wandb.ai/knezevicoluka-tu-delft/hmm-sequence-classification</a>"
      ]
     },
     "metadata": {},
     "output_type": "display_data"
    },
    {
     "data": {
      "text/plain": [
       "<IPython.core.display.HTML object>"
      ],
      "text/html": [
       " View sweep at <a href='https://wandb.ai/knezevicoluka-tu-delft/hmm-sequence-classification/sweeps/0jn8ip4f' target=\"_blank\">https://wandb.ai/knezevicoluka-tu-delft/hmm-sequence-classification/sweeps/0jn8ip4f</a>"
      ]
     },
     "metadata": {},
     "output_type": "display_data"
    },
    {
     "data": {
      "text/plain": [
       "<IPython.core.display.HTML object>"
      ],
      "text/html": [
       " View run at <a href='https://wandb.ai/knezevicoluka-tu-delft/hmm-sequence-classification/runs/69dv2b32' target=\"_blank\">https://wandb.ai/knezevicoluka-tu-delft/hmm-sequence-classification/runs/69dv2b32</a>"
      ]
     },
     "metadata": {},
     "output_type": "display_data"
    },
    {
     "name": "stdout",
     "output_type": "stream",
     "text": [
      "✅ Mejor α = 0.46, F1-macro = 0.517\n"
     ]
    },
    {
     "data": {
      "text/plain": [
       "<IPython.core.display.HTML object>"
      ],
      "text/html": []
     },
     "metadata": {},
     "output_type": "display_data"
    },
    {
     "data": {
      "text/plain": [
       "<IPython.core.display.HTML object>"
      ],
      "text/html": [
       "<br>    <style><br>        .wandb-row {<br>            display: flex;<br>            flex-direction: row;<br>            flex-wrap: wrap;<br>            justify-content: flex-start;<br>            width: 100%;<br>        }<br>        .wandb-col {<br>            display: flex;<br>            flex-direction: column;<br>            flex-basis: 100%;<br>            flex: 1;<br>            padding: 10px;<br>        }<br>    </style><br><div class=\"wandb-row\"><div class=\"wandb-col\"><h3>Run history:</h3><br/><table class=\"wandb\"><tr><td>0/f1-score</td><td>▁</td></tr><tr><td>0/precision</td><td>▁</td></tr><tr><td>0/recall</td><td>▁</td></tr><tr><td>0/support</td><td>▁</td></tr><tr><td>1/f1-score</td><td>▁</td></tr><tr><td>1/precision</td><td>▁</td></tr><tr><td>1/recall</td><td>▁</td></tr><tr><td>1/support</td><td>▁</td></tr><tr><td>accuracy</td><td>▁</td></tr><tr><td>macro avg/f1-score</td><td>▁</td></tr><tr><td>macro avg/precision</td><td>▁</td></tr><tr><td>macro avg/recall</td><td>▁</td></tr><tr><td>macro avg/support</td><td>▁</td></tr><tr><td>model/n_components</td><td>▁</td></tr><tr><td>train/log_likelihood</td><td>▁</td></tr><tr><td>val/alpha</td><td>▁▁▁▁▂▂▂▂▂▂▃▃▃▃▃▄▄▄▄▄▅▅▅▅▅▅▅▆▆▆▆▆▇▇▇▇▇▇██</td></tr><tr><td>val/best_alpha</td><td>▁</td></tr><tr><td>val/best_f1_macro</td><td>▁</td></tr><tr><td>val/f1_macro</td><td>▄▄▄▄▄▇▇▇▇▇▇▇▇▇▇▇▇▆▆█▇▇▇▇▆▆▆▃▃▃▃▃▃▃▂▂▂▂▁▁</td></tr><tr><td>weighted avg/f1-score</td><td>▁</td></tr><tr><td>weighted avg/precision</td><td>▁</td></tr><tr><td>weighted avg/recall</td><td>▁</td></tr><tr><td>weighted avg/support</td><td>▁</td></tr></table><br/></div><div class=\"wandb-col\"><h3>Run summary:</h3><br/><table class=\"wandb\"><tr><td>0/f1-score</td><td>0.32061</td></tr><tr><td>0/precision</td><td>0.33871</td></tr><tr><td>0/recall</td><td>0.30435</td></tr><tr><td>0/support</td><td>69</td></tr><tr><td>1/f1-score</td><td>0.71383</td></tr><tr><td>1/precision</td><td>0.69811</td></tr><tr><td>1/recall</td><td>0.73026</td></tr><tr><td>1/support</td><td>152</td></tr><tr><td>accuracy</td><td>0.59729</td></tr><tr><td>macro avg/f1-score</td><td>0.51722</td></tr><tr><td>macro avg/precision</td><td>0.51841</td></tr><tr><td>macro avg/recall</td><td>0.51731</td></tr><tr><td>macro avg/support</td><td>221</td></tr><tr><td>model/covariance_type</td><td>full</td></tr><tr><td>model/n_components</td><td>3</td></tr><tr><td>preprocessing/scaler_type</td><td>standard</td></tr><tr><td>train/log_likelihood</td><td>213574.6546</td></tr><tr><td>val/alpha</td><td>1</td></tr><tr><td>val/best_alpha</td><td>0.46</td></tr><tr><td>val/best_f1_macro</td><td>0.51722</td></tr><tr><td>val/f1_macro</td><td>0.31681</td></tr><tr><td>weighted avg/f1-score</td><td>0.59106</td></tr><tr><td>weighted avg/precision</td><td>0.5859</td></tr><tr><td>weighted avg/recall</td><td>0.59729</td></tr><tr><td>weighted avg/support</td><td>221</td></tr></table><br/></div></div>"
      ]
     },
     "metadata": {},
     "output_type": "display_data"
    },
    {
     "data": {
      "text/plain": [
       "<IPython.core.display.HTML object>"
      ],
      "text/html": [
       " View run <strong style=\"color:#cdcd00\">bumbling-sweep-3</strong> at: <a href='https://wandb.ai/knezevicoluka-tu-delft/hmm-sequence-classification/runs/69dv2b32' target=\"_blank\">https://wandb.ai/knezevicoluka-tu-delft/hmm-sequence-classification/runs/69dv2b32</a><br> View project at: <a href='https://wandb.ai/knezevicoluka-tu-delft/hmm-sequence-classification' target=\"_blank\">https://wandb.ai/knezevicoluka-tu-delft/hmm-sequence-classification</a><br>Synced 5 W&B file(s), 0 media file(s), 0 artifact file(s) and 0 other file(s)"
      ]
     },
     "metadata": {},
     "output_type": "display_data"
    },
    {
     "data": {
      "text/plain": [
       "<IPython.core.display.HTML object>"
      ],
      "text/html": [
       "Find logs at: <code>./wandb/run-20250601_154251-69dv2b32/logs</code>"
      ]
     },
     "metadata": {},
     "output_type": "display_data"
    },
    {
     "name": "stderr",
     "output_type": "stream",
     "text": [
      "\u001B[34m\u001B[1mwandb\u001B[0m: Agent Starting Run: jhe0hsh6 with config:\n",
      "\u001B[34m\u001B[1mwandb\u001B[0m: \tT: 20\n",
      "\u001B[34m\u001B[1mwandb\u001B[0m: \talpha_steps: 51\n",
      "\u001B[34m\u001B[1mwandb\u001B[0m: \tcovariance_type: full\n",
      "\u001B[34m\u001B[1mwandb\u001B[0m: \tn_components: 4\n",
      "\u001B[34m\u001B[1mwandb\u001B[0m: \tn_iter: 100\n",
      "\u001B[34m\u001B[1mwandb\u001B[0m: \trandom_state: 42\n",
      "\u001B[34m\u001B[1mwandb\u001B[0m: \tscaler_type: standard\n",
      "\u001B[34m\u001B[1mwandb\u001B[0m: \twindow_size_seconds: 20\n"
     ]
    },
    {
     "data": {
      "text/plain": [
       "<IPython.core.display.HTML object>"
      ],
      "text/html": [
       "Ignoring project 'hmm-sequence-classification' when running a sweep."
      ]
     },
     "metadata": {},
     "output_type": "display_data"
    },
    {
     "data": {
      "text/plain": [
       "<IPython.core.display.HTML object>"
      ],
      "text/html": [
       "Tracking run with wandb version 0.19.11"
      ]
     },
     "metadata": {},
     "output_type": "display_data"
    },
    {
     "data": {
      "text/plain": [
       "<IPython.core.display.HTML object>"
      ],
      "text/html": [
       "Run data is saved locally in <code>/Users/lukini/Documents/GitHub/RP-Laughter-Drinking/Laughter-Detection/Pipeline/wandb/run-20250601_154311-jhe0hsh6</code>"
      ]
     },
     "metadata": {},
     "output_type": "display_data"
    },
    {
     "data": {
      "text/plain": [
       "<IPython.core.display.HTML object>"
      ],
      "text/html": [
       "Syncing run <strong><a href='https://wandb.ai/knezevicoluka-tu-delft/hmm-sequence-classification/runs/jhe0hsh6' target=\"_blank\">usual-sweep-4</a></strong> to <a href='https://wandb.ai/knezevicoluka-tu-delft/hmm-sequence-classification' target=\"_blank\">Weights & Biases</a> (<a href='https://wandb.me/developer-guide' target=\"_blank\">docs</a>)<br>Sweep page: <a href='https://wandb.ai/knezevicoluka-tu-delft/hmm-sequence-classification/sweeps/0jn8ip4f' target=\"_blank\">https://wandb.ai/knezevicoluka-tu-delft/hmm-sequence-classification/sweeps/0jn8ip4f</a>"
      ]
     },
     "metadata": {},
     "output_type": "display_data"
    },
    {
     "data": {
      "text/plain": [
       "<IPython.core.display.HTML object>"
      ],
      "text/html": [
       " View project at <a href='https://wandb.ai/knezevicoluka-tu-delft/hmm-sequence-classification' target=\"_blank\">https://wandb.ai/knezevicoluka-tu-delft/hmm-sequence-classification</a>"
      ]
     },
     "metadata": {},
     "output_type": "display_data"
    },
    {
     "data": {
      "text/plain": [
       "<IPython.core.display.HTML object>"
      ],
      "text/html": [
       " View sweep at <a href='https://wandb.ai/knezevicoluka-tu-delft/hmm-sequence-classification/sweeps/0jn8ip4f' target=\"_blank\">https://wandb.ai/knezevicoluka-tu-delft/hmm-sequence-classification/sweeps/0jn8ip4f</a>"
      ]
     },
     "metadata": {},
     "output_type": "display_data"
    },
    {
     "data": {
      "text/plain": [
       "<IPython.core.display.HTML object>"
      ],
      "text/html": [
       " View run at <a href='https://wandb.ai/knezevicoluka-tu-delft/hmm-sequence-classification/runs/jhe0hsh6' target=\"_blank\">https://wandb.ai/knezevicoluka-tu-delft/hmm-sequence-classification/runs/jhe0hsh6</a>"
      ]
     },
     "metadata": {},
     "output_type": "display_data"
    },
    {
     "data": {
      "text/plain": [
       "<IPython.core.display.HTML object>"
      ],
      "text/html": []
     },
     "metadata": {},
     "output_type": "display_data"
    },
    {
     "data": {
      "text/plain": [
       "<IPython.core.display.HTML object>"
      ],
      "text/html": [
       " View run <strong style=\"color:#cdcd00\">usual-sweep-4</strong> at: <a href='https://wandb.ai/knezevicoluka-tu-delft/hmm-sequence-classification/runs/jhe0hsh6' target=\"_blank\">https://wandb.ai/knezevicoluka-tu-delft/hmm-sequence-classification/runs/jhe0hsh6</a><br> View project at: <a href='https://wandb.ai/knezevicoluka-tu-delft/hmm-sequence-classification' target=\"_blank\">https://wandb.ai/knezevicoluka-tu-delft/hmm-sequence-classification</a><br>Synced 5 W&B file(s), 0 media file(s), 0 artifact file(s) and 0 other file(s)"
      ]
     },
     "metadata": {},
     "output_type": "display_data"
    },
    {
     "data": {
      "text/plain": [
       "<IPython.core.display.HTML object>"
      ],
      "text/html": [
       "Find logs at: <code>./wandb/run-20250601_154311-jhe0hsh6/logs</code>"
      ]
     },
     "metadata": {},
     "output_type": "display_data"
    },
    {
     "name": "stderr",
     "output_type": "stream",
     "text": [
      "\u001B[34m\u001B[1mwandb\u001B[0m: \u001B[32m\u001B[41mERROR\u001B[0m Run jhe0hsh6 errored:\n",
      "\u001B[34m\u001B[1mwandb\u001B[0m: \u001B[32m\u001B[41mERROR\u001B[0m Traceback (most recent call last):\n",
      "\u001B[34m\u001B[1mwandb\u001B[0m: \u001B[32m\u001B[41mERROR\u001B[0m   File \"/Library/Frameworks/Python.framework/Versions/3.11/lib/python3.11/site-packages/wandb/agents/pyagent.py\", line 306, in _run_job\n",
      "\u001B[34m\u001B[1mwandb\u001B[0m: \u001B[32m\u001B[41mERROR\u001B[0m     self._function()\n",
      "\u001B[34m\u001B[1mwandb\u001B[0m: \u001B[32m\u001B[41mERROR\u001B[0m   File \"/var/folders/75/lrrp6ghd2csd748_l4sy8y0c0000gn/T/ipykernel_29366/276456944.py\", line 42, in train\n",
      "\u001B[34m\u001B[1mwandb\u001B[0m: \u001B[32m\u001B[41mERROR\u001B[0m     train_ids, val_ids = train_test_split(\n",
      "\u001B[34m\u001B[1mwandb\u001B[0m: \u001B[32m\u001B[41mERROR\u001B[0m                          ^^^^^^^^^^^^^^^^^\n",
      "\u001B[34m\u001B[1mwandb\u001B[0m: \u001B[32m\u001B[41mERROR\u001B[0m   File \"/Library/Frameworks/Python.framework/Versions/3.11/lib/python3.11/site-packages/sklearn/utils/_param_validation.py\", line 214, in wrapper\n",
      "\u001B[34m\u001B[1mwandb\u001B[0m: \u001B[32m\u001B[41mERROR\u001B[0m     return func(*args, **kwargs)\n",
      "\u001B[34m\u001B[1mwandb\u001B[0m: \u001B[32m\u001B[41mERROR\u001B[0m            ^^^^^^^^^^^^^^^^^^^^^\n",
      "\u001B[34m\u001B[1mwandb\u001B[0m: \u001B[32m\u001B[41mERROR\u001B[0m   File \"/Library/Frameworks/Python.framework/Versions/3.11/lib/python3.11/site-packages/sklearn/model_selection/_split.py\", line 2649, in train_test_split\n",
      "\u001B[34m\u001B[1mwandb\u001B[0m: \u001B[32m\u001B[41mERROR\u001B[0m     n_train, n_test = _validate_shuffle_split(\n",
      "\u001B[34m\u001B[1mwandb\u001B[0m: \u001B[32m\u001B[41mERROR\u001B[0m                       ^^^^^^^^^^^^^^^^^^^^^^^^\n",
      "\u001B[34m\u001B[1mwandb\u001B[0m: \u001B[32m\u001B[41mERROR\u001B[0m   File \"/Library/Frameworks/Python.framework/Versions/3.11/lib/python3.11/site-packages/sklearn/model_selection/_split.py\", line 2305, in _validate_shuffle_split\n",
      "\u001B[34m\u001B[1mwandb\u001B[0m: \u001B[32m\u001B[41mERROR\u001B[0m     raise ValueError(\n",
      "\u001B[34m\u001B[1mwandb\u001B[0m: \u001B[32m\u001B[41mERROR\u001B[0m ValueError: With n_samples=0, test_size=0.2 and train_size=None, the resulting train set will be empty. Adjust any of the aforementioned parameters.\n",
      "\u001B[34m\u001B[1mwandb\u001B[0m: \u001B[32m\u001B[41mERROR\u001B[0m \n",
      "\u001B[34m\u001B[1mwandb\u001B[0m: Agent Starting Run: cvn30fat with config:\n",
      "\u001B[34m\u001B[1mwandb\u001B[0m: \tT: 20\n",
      "\u001B[34m\u001B[1mwandb\u001B[0m: \talpha_steps: 51\n",
      "\u001B[34m\u001B[1mwandb\u001B[0m: \tcovariance_type: diag\n",
      "\u001B[34m\u001B[1mwandb\u001B[0m: \tn_components: 2\n",
      "\u001B[34m\u001B[1mwandb\u001B[0m: \tn_iter: 100\n",
      "\u001B[34m\u001B[1mwandb\u001B[0m: \trandom_state: 42\n",
      "\u001B[34m\u001B[1mwandb\u001B[0m: \tscaler_type: minmax\n",
      "\u001B[34m\u001B[1mwandb\u001B[0m: \twindow_size_seconds: 10\n"
     ]
    },
    {
     "data": {
      "text/plain": [
       "<IPython.core.display.HTML object>"
      ],
      "text/html": [
       "Ignoring project 'hmm-sequence-classification' when running a sweep."
      ]
     },
     "metadata": {},
     "output_type": "display_data"
    },
    {
     "data": {
      "text/plain": [
       "<IPython.core.display.HTML object>"
      ],
      "text/html": [
       "Tracking run with wandb version 0.19.11"
      ]
     },
     "metadata": {},
     "output_type": "display_data"
    },
    {
     "data": {
      "text/plain": [
       "<IPython.core.display.HTML object>"
      ],
      "text/html": [
       "Run data is saved locally in <code>/Users/lukini/Documents/GitHub/RP-Laughter-Drinking/Laughter-Detection/Pipeline/wandb/run-20250601_154317-cvn30fat</code>"
      ]
     },
     "metadata": {},
     "output_type": "display_data"
    },
    {
     "data": {
      "text/plain": [
       "<IPython.core.display.HTML object>"
      ],
      "text/html": [
       "Syncing run <strong><a href='https://wandb.ai/knezevicoluka-tu-delft/hmm-sequence-classification/runs/cvn30fat' target=\"_blank\">ethereal-sweep-5</a></strong> to <a href='https://wandb.ai/knezevicoluka-tu-delft/hmm-sequence-classification' target=\"_blank\">Weights & Biases</a> (<a href='https://wandb.me/developer-guide' target=\"_blank\">docs</a>)<br>Sweep page: <a href='https://wandb.ai/knezevicoluka-tu-delft/hmm-sequence-classification/sweeps/0jn8ip4f' target=\"_blank\">https://wandb.ai/knezevicoluka-tu-delft/hmm-sequence-classification/sweeps/0jn8ip4f</a>"
      ]
     },
     "metadata": {},
     "output_type": "display_data"
    },
    {
     "data": {
      "text/plain": [
       "<IPython.core.display.HTML object>"
      ],
      "text/html": [
       " View project at <a href='https://wandb.ai/knezevicoluka-tu-delft/hmm-sequence-classification' target=\"_blank\">https://wandb.ai/knezevicoluka-tu-delft/hmm-sequence-classification</a>"
      ]
     },
     "metadata": {},
     "output_type": "display_data"
    },
    {
     "data": {
      "text/plain": [
       "<IPython.core.display.HTML object>"
      ],
      "text/html": [
       " View sweep at <a href='https://wandb.ai/knezevicoluka-tu-delft/hmm-sequence-classification/sweeps/0jn8ip4f' target=\"_blank\">https://wandb.ai/knezevicoluka-tu-delft/hmm-sequence-classification/sweeps/0jn8ip4f</a>"
      ]
     },
     "metadata": {},
     "output_type": "display_data"
    },
    {
     "data": {
      "text/plain": [
       "<IPython.core.display.HTML object>"
      ],
      "text/html": [
       " View run at <a href='https://wandb.ai/knezevicoluka-tu-delft/hmm-sequence-classification/runs/cvn30fat' target=\"_blank\">https://wandb.ai/knezevicoluka-tu-delft/hmm-sequence-classification/runs/cvn30fat</a>"
      ]
     },
     "metadata": {},
     "output_type": "display_data"
    },
    {
     "name": "stdout",
     "output_type": "stream",
     "text": [
      "✅ Mejor α = 0.12, F1-macro = 0.552\n"
     ]
    },
    {
     "data": {
      "text/plain": [
       "<IPython.core.display.HTML object>"
      ],
      "text/html": []
     },
     "metadata": {},
     "output_type": "display_data"
    },
    {
     "data": {
      "text/plain": [
       "<IPython.core.display.HTML object>"
      ],
      "text/html": [
       "<br>    <style><br>        .wandb-row {<br>            display: flex;<br>            flex-direction: row;<br>            flex-wrap: wrap;<br>            justify-content: flex-start;<br>            width: 100%;<br>        }<br>        .wandb-col {<br>            display: flex;<br>            flex-direction: column;<br>            flex-basis: 100%;<br>            flex: 1;<br>            padding: 10px;<br>        }<br>    </style><br><div class=\"wandb-row\"><div class=\"wandb-col\"><h3>Run history:</h3><br/><table class=\"wandb\"><tr><td>0/f1-score</td><td>▁</td></tr><tr><td>0/precision</td><td>▁</td></tr><tr><td>0/recall</td><td>▁</td></tr><tr><td>0/support</td><td>▁</td></tr><tr><td>1/f1-score</td><td>▁</td></tr><tr><td>1/precision</td><td>▁</td></tr><tr><td>1/recall</td><td>▁</td></tr><tr><td>1/support</td><td>▁</td></tr><tr><td>accuracy</td><td>▁</td></tr><tr><td>macro avg/f1-score</td><td>▁</td></tr><tr><td>macro avg/precision</td><td>▁</td></tr><tr><td>macro avg/recall</td><td>▁</td></tr><tr><td>macro avg/support</td><td>▁</td></tr><tr><td>model/n_components</td><td>▁</td></tr><tr><td>train/log_likelihood</td><td>▁</td></tr><tr><td>val/alpha</td><td>▁▁▁▁▂▂▂▂▂▂▃▃▃▃▃▄▄▄▄▄▅▅▅▅▅▅▆▆▆▆▆▆▇▇▇▇▇▇██</td></tr><tr><td>val/best_alpha</td><td>▁</td></tr><tr><td>val/best_f1_macro</td><td>▁</td></tr><tr><td>val/f1_macro</td><td>▅▇▇▇▇██▇▇█▇▇▆▆▄▄▃▃▃▃▂▂▂▂▂▂▂▂▂▂▁▁▁▁▁▁▁▁▁▁</td></tr><tr><td>weighted avg/f1-score</td><td>▁</td></tr><tr><td>weighted avg/precision</td><td>▁</td></tr><tr><td>weighted avg/recall</td><td>▁</td></tr><tr><td>weighted avg/support</td><td>▁</td></tr></table><br/></div><div class=\"wandb-col\"><h3>Run summary:</h3><br/><table class=\"wandb\"><tr><td>0/f1-score</td><td>0.35484</td></tr><tr><td>0/precision</td><td>0.4</td></tr><tr><td>0/recall</td><td>0.31884</td></tr><tr><td>0/support</td><td>69</td></tr><tr><td>1/f1-score</td><td>0.74843</td></tr><tr><td>1/precision</td><td>0.71687</td></tr><tr><td>1/recall</td><td>0.78289</td></tr><tr><td>1/support</td><td>152</td></tr><tr><td>accuracy</td><td>0.63801</td></tr><tr><td>macro avg/f1-score</td><td>0.55163</td></tr><tr><td>macro avg/precision</td><td>0.55843</td></tr><tr><td>macro avg/recall</td><td>0.55087</td></tr><tr><td>macro avg/support</td><td>221</td></tr><tr><td>model/covariance_type</td><td>diag</td></tr><tr><td>model/n_components</td><td>2</td></tr><tr><td>preprocessing/scaler_type</td><td>minmax</td></tr><tr><td>train/log_likelihood</td><td>525475.40669</td></tr><tr><td>val/alpha</td><td>1</td></tr><tr><td>val/best_alpha</td><td>0.12</td></tr><tr><td>val/best_f1_macro</td><td>0.55163</td></tr><tr><td>val/f1_macro</td><td>0.23793</td></tr><tr><td>weighted avg/f1-score</td><td>0.62554</td></tr><tr><td>weighted avg/precision</td><td>0.61794</td></tr><tr><td>weighted avg/recall</td><td>0.63801</td></tr><tr><td>weighted avg/support</td><td>221</td></tr></table><br/></div></div>"
      ]
     },
     "metadata": {},
     "output_type": "display_data"
    },
    {
     "data": {
      "text/plain": [
       "<IPython.core.display.HTML object>"
      ],
      "text/html": [
       " View run <strong style=\"color:#cdcd00\">ethereal-sweep-5</strong> at: <a href='https://wandb.ai/knezevicoluka-tu-delft/hmm-sequence-classification/runs/cvn30fat' target=\"_blank\">https://wandb.ai/knezevicoluka-tu-delft/hmm-sequence-classification/runs/cvn30fat</a><br> View project at: <a href='https://wandb.ai/knezevicoluka-tu-delft/hmm-sequence-classification' target=\"_blank\">https://wandb.ai/knezevicoluka-tu-delft/hmm-sequence-classification</a><br>Synced 5 W&B file(s), 0 media file(s), 0 artifact file(s) and 0 other file(s)"
      ]
     },
     "metadata": {},
     "output_type": "display_data"
    },
    {
     "data": {
      "text/plain": [
       "<IPython.core.display.HTML object>"
      ],
      "text/html": [
       "Find logs at: <code>./wandb/run-20250601_154317-cvn30fat/logs</code>"
      ]
     },
     "metadata": {},
     "output_type": "display_data"
    },
    {
     "name": "stderr",
     "output_type": "stream",
     "text": [
      "\u001B[34m\u001B[1mwandb\u001B[0m: Sweep Agent: Waiting for job.\n",
      "\u001B[34m\u001B[1mwandb\u001B[0m: Job received.\n",
      "\u001B[34m\u001B[1mwandb\u001B[0m: Agent Starting Run: cswlpo5z with config:\n",
      "\u001B[34m\u001B[1mwandb\u001B[0m: \tT: 5\n",
      "\u001B[34m\u001B[1mwandb\u001B[0m: \talpha_steps: 51\n",
      "\u001B[34m\u001B[1mwandb\u001B[0m: \tcovariance_type: diag\n",
      "\u001B[34m\u001B[1mwandb\u001B[0m: \tn_components: 4\n",
      "\u001B[34m\u001B[1mwandb\u001B[0m: \tn_iter: 100\n",
      "\u001B[34m\u001B[1mwandb\u001B[0m: \trandom_state: 42\n",
      "\u001B[34m\u001B[1mwandb\u001B[0m: \tscaler_type: none\n",
      "\u001B[34m\u001B[1mwandb\u001B[0m: \twindow_size_seconds: 5\n"
     ]
    },
    {
     "data": {
      "text/plain": [
       "<IPython.core.display.HTML object>"
      ],
      "text/html": [
       "Ignoring project 'hmm-sequence-classification' when running a sweep."
      ]
     },
     "metadata": {},
     "output_type": "display_data"
    },
    {
     "data": {
      "text/plain": [
       "<IPython.core.display.HTML object>"
      ],
      "text/html": [
       "Tracking run with wandb version 0.19.11"
      ]
     },
     "metadata": {},
     "output_type": "display_data"
    },
    {
     "data": {
      "text/plain": [
       "<IPython.core.display.HTML object>"
      ],
      "text/html": [
       "Run data is saved locally in <code>/Users/lukini/Documents/GitHub/RP-Laughter-Drinking/Laughter-Detection/Pipeline/wandb/run-20250601_154353-cswlpo5z</code>"
      ]
     },
     "metadata": {},
     "output_type": "display_data"
    },
    {
     "data": {
      "text/plain": [
       "<IPython.core.display.HTML object>"
      ],
      "text/html": [
       "Syncing run <strong><a href='https://wandb.ai/knezevicoluka-tu-delft/hmm-sequence-classification/runs/cswlpo5z' target=\"_blank\">daily-sweep-6</a></strong> to <a href='https://wandb.ai/knezevicoluka-tu-delft/hmm-sequence-classification' target=\"_blank\">Weights & Biases</a> (<a href='https://wandb.me/developer-guide' target=\"_blank\">docs</a>)<br>Sweep page: <a href='https://wandb.ai/knezevicoluka-tu-delft/hmm-sequence-classification/sweeps/0jn8ip4f' target=\"_blank\">https://wandb.ai/knezevicoluka-tu-delft/hmm-sequence-classification/sweeps/0jn8ip4f</a>"
      ]
     },
     "metadata": {},
     "output_type": "display_data"
    },
    {
     "data": {
      "text/plain": [
       "<IPython.core.display.HTML object>"
      ],
      "text/html": [
       " View project at <a href='https://wandb.ai/knezevicoluka-tu-delft/hmm-sequence-classification' target=\"_blank\">https://wandb.ai/knezevicoluka-tu-delft/hmm-sequence-classification</a>"
      ]
     },
     "metadata": {},
     "output_type": "display_data"
    },
    {
     "data": {
      "text/plain": [
       "<IPython.core.display.HTML object>"
      ],
      "text/html": [
       " View sweep at <a href='https://wandb.ai/knezevicoluka-tu-delft/hmm-sequence-classification/sweeps/0jn8ip4f' target=\"_blank\">https://wandb.ai/knezevicoluka-tu-delft/hmm-sequence-classification/sweeps/0jn8ip4f</a>"
      ]
     },
     "metadata": {},
     "output_type": "display_data"
    },
    {
     "data": {
      "text/plain": [
       "<IPython.core.display.HTML object>"
      ],
      "text/html": [
       " View run at <a href='https://wandb.ai/knezevicoluka-tu-delft/hmm-sequence-classification/runs/cswlpo5z' target=\"_blank\">https://wandb.ai/knezevicoluka-tu-delft/hmm-sequence-classification/runs/cswlpo5z</a>"
      ]
     },
     "metadata": {},
     "output_type": "display_data"
    },
    {
     "name": "stdout",
     "output_type": "stream",
     "text": [
      "✅ Mejor α = 0.82, F1-macro = 0.312\n"
     ]
    },
    {
     "data": {
      "text/plain": [
       "<IPython.core.display.HTML object>"
      ],
      "text/html": []
     },
     "metadata": {},
     "output_type": "display_data"
    },
    {
     "data": {
      "text/plain": [
       "<IPython.core.display.HTML object>"
      ],
      "text/html": [
       "<br>    <style><br>        .wandb-row {<br>            display: flex;<br>            flex-direction: row;<br>            flex-wrap: wrap;<br>            justify-content: flex-start;<br>            width: 100%;<br>        }<br>        .wandb-col {<br>            display: flex;<br>            flex-direction: column;<br>            flex-basis: 100%;<br>            flex: 1;<br>            padding: 10px;<br>        }<br>    </style><br><div class=\"wandb-row\"><div class=\"wandb-col\"><h3>Run history:</h3><br/><table class=\"wandb\"><tr><td>0/f1-score</td><td>▁</td></tr><tr><td>0/precision</td><td>▁</td></tr><tr><td>0/recall</td><td>▁</td></tr><tr><td>0/support</td><td>▁</td></tr><tr><td>1/f1-score</td><td>▁</td></tr><tr><td>1/precision</td><td>▁</td></tr><tr><td>1/recall</td><td>▁</td></tr><tr><td>1/support</td><td>▁</td></tr><tr><td>accuracy</td><td>▁</td></tr><tr><td>macro avg/f1-score</td><td>▁</td></tr><tr><td>macro avg/precision</td><td>▁</td></tr><tr><td>macro avg/recall</td><td>▁</td></tr><tr><td>macro avg/support</td><td>▁</td></tr><tr><td>model/n_components</td><td>▁</td></tr><tr><td>train/log_likelihood</td><td>▁</td></tr><tr><td>val/alpha</td><td>▁▁▁▁▂▂▂▂▂▂▃▃▃▃▃▄▄▄▄▄▅▅▅▅▅▅▆▆▆▆▆▇▇▇▇▇▇███</td></tr><tr><td>val/best_alpha</td><td>▁</td></tr><tr><td>val/best_f1_macro</td><td>▁</td></tr><tr><td>val/f1_macro</td><td>▁▇▇▇▇▇▇▇▇▇▇▇▇▇▇▇▇▇▇▇▇▇▇▇▇███████████████</td></tr><tr><td>weighted avg/f1-score</td><td>▁</td></tr><tr><td>weighted avg/precision</td><td>▁</td></tr><tr><td>weighted avg/recall</td><td>▁</td></tr><tr><td>weighted avg/support</td><td>▁</td></tr></table><br/></div><div class=\"wandb-col\"><h3>Run summary:</h3><br/><table class=\"wandb\"><tr><td>0/f1-score</td><td>0.23051</td></tr><tr><td>0/precision</td><td>0.77244</td></tr><tr><td>0/recall</td><td>0.13547</td></tr><tr><td>0/support</td><td>1779</td></tr><tr><td>1/f1-score</td><td>0.39352</td></tr><tr><td>1/precision</td><td>0.2534</td></tr><tr><td>1/recall</td><td>0.88027</td></tr><tr><td>1/support</td><td>593</td></tr><tr><td>accuracy</td><td>0.32167</td></tr><tr><td>macro avg/f1-score</td><td>0.31201</td></tr><tr><td>macro avg/precision</td><td>0.51292</td></tr><tr><td>macro avg/recall</td><td>0.50787</td></tr><tr><td>macro avg/support</td><td>2372</td></tr><tr><td>model/covariance_type</td><td>diag</td></tr><tr><td>model/n_components</td><td>4</td></tr><tr><td>preprocessing/scaler_type</td><td>none</td></tr><tr><td>train/log_likelihood</td><td>-113669.15836</td></tr><tr><td>val/alpha</td><td>1</td></tr><tr><td>val/best_alpha</td><td>0.82</td></tr><tr><td>val/best_f1_macro</td><td>0.31201</td></tr><tr><td>val/f1_macro</td><td>0.31201</td></tr><tr><td>weighted avg/f1-score</td><td>0.27126</td></tr><tr><td>weighted avg/precision</td><td>0.64268</td></tr><tr><td>weighted avg/recall</td><td>0.32167</td></tr><tr><td>weighted avg/support</td><td>2372</td></tr></table><br/></div></div>"
      ]
     },
     "metadata": {},
     "output_type": "display_data"
    },
    {
     "data": {
      "text/plain": [
       "<IPython.core.display.HTML object>"
      ],
      "text/html": [
       " View run <strong style=\"color:#cdcd00\">daily-sweep-6</strong> at: <a href='https://wandb.ai/knezevicoluka-tu-delft/hmm-sequence-classification/runs/cswlpo5z' target=\"_blank\">https://wandb.ai/knezevicoluka-tu-delft/hmm-sequence-classification/runs/cswlpo5z</a><br> View project at: <a href='https://wandb.ai/knezevicoluka-tu-delft/hmm-sequence-classification' target=\"_blank\">https://wandb.ai/knezevicoluka-tu-delft/hmm-sequence-classification</a><br>Synced 5 W&B file(s), 0 media file(s), 0 artifact file(s) and 0 other file(s)"
      ]
     },
     "metadata": {},
     "output_type": "display_data"
    },
    {
     "data": {
      "text/plain": [
       "<IPython.core.display.HTML object>"
      ],
      "text/html": [
       "Find logs at: <code>./wandb/run-20250601_154353-cswlpo5z/logs</code>"
      ]
     },
     "metadata": {},
     "output_type": "display_data"
    },
    {
     "name": "stderr",
     "output_type": "stream",
     "text": [
      "\u001B[34m\u001B[1mwandb\u001B[0m: Sweep Agent: Waiting for job.\n",
      "\u001B[34m\u001B[1mwandb\u001B[0m: Job received.\n",
      "\u001B[34m\u001B[1mwandb\u001B[0m: Agent Starting Run: 75tjua30 with config:\n",
      "\u001B[34m\u001B[1mwandb\u001B[0m: \tT: 20\n",
      "\u001B[34m\u001B[1mwandb\u001B[0m: \talpha_steps: 51\n",
      "\u001B[34m\u001B[1mwandb\u001B[0m: \tcovariance_type: diag\n",
      "\u001B[34m\u001B[1mwandb\u001B[0m: \tn_components: 3\n",
      "\u001B[34m\u001B[1mwandb\u001B[0m: \tn_iter: 100\n",
      "\u001B[34m\u001B[1mwandb\u001B[0m: \trandom_state: 42\n",
      "\u001B[34m\u001B[1mwandb\u001B[0m: \tscaler_type: minmax\n",
      "\u001B[34m\u001B[1mwandb\u001B[0m: \twindow_size_seconds: 5\n"
     ]
    },
    {
     "data": {
      "text/plain": [
       "<IPython.core.display.HTML object>"
      ],
      "text/html": [
       "Ignoring project 'hmm-sequence-classification' when running a sweep."
      ]
     },
     "metadata": {},
     "output_type": "display_data"
    },
    {
     "data": {
      "text/plain": [
       "<IPython.core.display.HTML object>"
      ],
      "text/html": [
       "Tracking run with wandb version 0.19.11"
      ]
     },
     "metadata": {},
     "output_type": "display_data"
    },
    {
     "data": {
      "text/plain": [
       "<IPython.core.display.HTML object>"
      ],
      "text/html": [
       "Run data is saved locally in <code>/Users/lukini/Documents/GitHub/RP-Laughter-Drinking/Laughter-Detection/Pipeline/wandb/run-20250601_154508-75tjua30</code>"
      ]
     },
     "metadata": {},
     "output_type": "display_data"
    },
    {
     "data": {
      "text/plain": [
       "<IPython.core.display.HTML object>"
      ],
      "text/html": [
       "Syncing run <strong><a href='https://wandb.ai/knezevicoluka-tu-delft/hmm-sequence-classification/runs/75tjua30' target=\"_blank\">spring-sweep-7</a></strong> to <a href='https://wandb.ai/knezevicoluka-tu-delft/hmm-sequence-classification' target=\"_blank\">Weights & Biases</a> (<a href='https://wandb.me/developer-guide' target=\"_blank\">docs</a>)<br>Sweep page: <a href='https://wandb.ai/knezevicoluka-tu-delft/hmm-sequence-classification/sweeps/0jn8ip4f' target=\"_blank\">https://wandb.ai/knezevicoluka-tu-delft/hmm-sequence-classification/sweeps/0jn8ip4f</a>"
      ]
     },
     "metadata": {},
     "output_type": "display_data"
    },
    {
     "data": {
      "text/plain": [
       "<IPython.core.display.HTML object>"
      ],
      "text/html": [
       " View project at <a href='https://wandb.ai/knezevicoluka-tu-delft/hmm-sequence-classification' target=\"_blank\">https://wandb.ai/knezevicoluka-tu-delft/hmm-sequence-classification</a>"
      ]
     },
     "metadata": {},
     "output_type": "display_data"
    },
    {
     "data": {
      "text/plain": [
       "<IPython.core.display.HTML object>"
      ],
      "text/html": [
       " View sweep at <a href='https://wandb.ai/knezevicoluka-tu-delft/hmm-sequence-classification/sweeps/0jn8ip4f' target=\"_blank\">https://wandb.ai/knezevicoluka-tu-delft/hmm-sequence-classification/sweeps/0jn8ip4f</a>"
      ]
     },
     "metadata": {},
     "output_type": "display_data"
    },
    {
     "data": {
      "text/plain": [
       "<IPython.core.display.HTML object>"
      ],
      "text/html": [
       " View run at <a href='https://wandb.ai/knezevicoluka-tu-delft/hmm-sequence-classification/runs/75tjua30' target=\"_blank\">https://wandb.ai/knezevicoluka-tu-delft/hmm-sequence-classification/runs/75tjua30</a>"
      ]
     },
     "metadata": {},
     "output_type": "display_data"
    },
    {
     "name": "stdout",
     "output_type": "stream",
     "text": [
      "✅ Mejor α = 0.92, F1-macro = 0.498\n"
     ]
    },
    {
     "data": {
      "text/plain": [
       "<IPython.core.display.HTML object>"
      ],
      "text/html": []
     },
     "metadata": {},
     "output_type": "display_data"
    },
    {
     "data": {
      "text/plain": [
       "<IPython.core.display.HTML object>"
      ],
      "text/html": [
       "<br>    <style><br>        .wandb-row {<br>            display: flex;<br>            flex-direction: row;<br>            flex-wrap: wrap;<br>            justify-content: flex-start;<br>            width: 100%;<br>        }<br>        .wandb-col {<br>            display: flex;<br>            flex-direction: column;<br>            flex-basis: 100%;<br>            flex: 1;<br>            padding: 10px;<br>        }<br>    </style><br><div class=\"wandb-row\"><div class=\"wandb-col\"><h3>Run history:</h3><br/><table class=\"wandb\"><tr><td>0/f1-score</td><td>▁</td></tr><tr><td>0/precision</td><td>▁</td></tr><tr><td>0/recall</td><td>▁</td></tr><tr><td>0/support</td><td>▁</td></tr><tr><td>1/f1-score</td><td>▁</td></tr><tr><td>1/precision</td><td>▁</td></tr><tr><td>1/recall</td><td>▁</td></tr><tr><td>1/support</td><td>▁</td></tr><tr><td>accuracy</td><td>▁</td></tr><tr><td>macro avg/f1-score</td><td>▁</td></tr><tr><td>macro avg/precision</td><td>▁</td></tr><tr><td>macro avg/recall</td><td>▁</td></tr><tr><td>macro avg/support</td><td>▁</td></tr><tr><td>model/n_components</td><td>▁</td></tr><tr><td>train/log_likelihood</td><td>▁</td></tr><tr><td>val/alpha</td><td>▁▁▁▁▂▂▂▂▂▂▃▃▃▃▃▄▄▄▄▄▅▅▅▅▅▅▆▆▆▆▆▇▇▇▇▇▇███</td></tr><tr><td>val/best_alpha</td><td>▁</td></tr><tr><td>val/best_f1_macro</td><td>▁</td></tr><tr><td>val/f1_macro</td><td>▁▁▁▁▁▁▁▁▁▁▁▁▁▁▁▂▂▂▂▂▂▃▃▄▄▅▅▅▅▅▅▆▆▆▆▇▇███</td></tr><tr><td>weighted avg/f1-score</td><td>▁</td></tr><tr><td>weighted avg/precision</td><td>▁</td></tr><tr><td>weighted avg/recall</td><td>▁</td></tr><tr><td>weighted avg/support</td><td>▁</td></tr></table><br/></div><div class=\"wandb-col\"><h3>Run summary:</h3><br/><table class=\"wandb\"><tr><td>0/f1-score</td><td>0.42932</td></tr><tr><td>0/precision</td><td>0.48521</td></tr><tr><td>0/recall</td><td>0.38498</td></tr><tr><td>0/support</td><td>213</td></tr><tr><td>1/f1-score</td><td>0.56574</td></tr><tr><td>1/precision</td><td>0.52015</td></tr><tr><td>1/recall</td><td>0.62009</td></tr><tr><td>1/support</td><td>229</td></tr><tr><td>accuracy</td><td>0.50679</td></tr><tr><td>macro avg/f1-score</td><td>0.49753</td></tr><tr><td>macro avg/precision</td><td>0.50268</td></tr><tr><td>macro avg/recall</td><td>0.50253</td></tr><tr><td>macro avg/support</td><td>442</td></tr><tr><td>model/covariance_type</td><td>diag</td></tr><tr><td>model/n_components</td><td>3</td></tr><tr><td>preprocessing/scaler_type</td><td>minmax</td></tr><tr><td>train/log_likelihood</td><td>1457157.55198</td></tr><tr><td>val/alpha</td><td>1</td></tr><tr><td>val/best_alpha</td><td>0.92</td></tr><tr><td>val/best_f1_macro</td><td>0.49753</td></tr><tr><td>val/f1_macro</td><td>0.49298</td></tr><tr><td>weighted avg/f1-score</td><td>0.5</td></tr><tr><td>weighted avg/precision</td><td>0.50331</td></tr><tr><td>weighted avg/recall</td><td>0.50679</td></tr><tr><td>weighted avg/support</td><td>442</td></tr></table><br/></div></div>"
      ]
     },
     "metadata": {},
     "output_type": "display_data"
    },
    {
     "data": {
      "text/plain": [
       "<IPython.core.display.HTML object>"
      ],
      "text/html": [
       " View run <strong style=\"color:#cdcd00\">spring-sweep-7</strong> at: <a href='https://wandb.ai/knezevicoluka-tu-delft/hmm-sequence-classification/runs/75tjua30' target=\"_blank\">https://wandb.ai/knezevicoluka-tu-delft/hmm-sequence-classification/runs/75tjua30</a><br> View project at: <a href='https://wandb.ai/knezevicoluka-tu-delft/hmm-sequence-classification' target=\"_blank\">https://wandb.ai/knezevicoluka-tu-delft/hmm-sequence-classification</a><br>Synced 5 W&B file(s), 0 media file(s), 0 artifact file(s) and 0 other file(s)"
      ]
     },
     "metadata": {},
     "output_type": "display_data"
    },
    {
     "data": {
      "text/plain": [
       "<IPython.core.display.HTML object>"
      ],
      "text/html": [
       "Find logs at: <code>./wandb/run-20250601_154508-75tjua30/logs</code>"
      ]
     },
     "metadata": {},
     "output_type": "display_data"
    },
    {
     "name": "stderr",
     "output_type": "stream",
     "text": [
      "\u001B[34m\u001B[1mwandb\u001B[0m: Agent Starting Run: ovhi2i8a with config:\n",
      "\u001B[34m\u001B[1mwandb\u001B[0m: \tT: 20\n",
      "\u001B[34m\u001B[1mwandb\u001B[0m: \talpha_steps: 51\n",
      "\u001B[34m\u001B[1mwandb\u001B[0m: \tcovariance_type: full\n",
      "\u001B[34m\u001B[1mwandb\u001B[0m: \tn_components: 2\n",
      "\u001B[34m\u001B[1mwandb\u001B[0m: \tn_iter: 100\n",
      "\u001B[34m\u001B[1mwandb\u001B[0m: \trandom_state: 42\n",
      "\u001B[34m\u001B[1mwandb\u001B[0m: \tscaler_type: minmax\n",
      "\u001B[34m\u001B[1mwandb\u001B[0m: \twindow_size_seconds: 10\n"
     ]
    },
    {
     "data": {
      "text/plain": [
       "<IPython.core.display.HTML object>"
      ],
      "text/html": [
       "Ignoring project 'hmm-sequence-classification' when running a sweep."
      ]
     },
     "metadata": {},
     "output_type": "display_data"
    },
    {
     "data": {
      "text/plain": [
       "<IPython.core.display.HTML object>"
      ],
      "text/html": [
       "Tracking run with wandb version 0.19.11"
      ]
     },
     "metadata": {},
     "output_type": "display_data"
    },
    {
     "data": {
      "text/plain": [
       "<IPython.core.display.HTML object>"
      ],
      "text/html": [
       "Run data is saved locally in <code>/Users/lukini/Documents/GitHub/RP-Laughter-Drinking/Laughter-Detection/Pipeline/wandb/run-20250601_154519-ovhi2i8a</code>"
      ]
     },
     "metadata": {},
     "output_type": "display_data"
    },
    {
     "data": {
      "text/plain": [
       "<IPython.core.display.HTML object>"
      ],
      "text/html": [
       "Syncing run <strong><a href='https://wandb.ai/knezevicoluka-tu-delft/hmm-sequence-classification/runs/ovhi2i8a' target=\"_blank\">spring-sweep-8</a></strong> to <a href='https://wandb.ai/knezevicoluka-tu-delft/hmm-sequence-classification' target=\"_blank\">Weights & Biases</a> (<a href='https://wandb.me/developer-guide' target=\"_blank\">docs</a>)<br>Sweep page: <a href='https://wandb.ai/knezevicoluka-tu-delft/hmm-sequence-classification/sweeps/0jn8ip4f' target=\"_blank\">https://wandb.ai/knezevicoluka-tu-delft/hmm-sequence-classification/sweeps/0jn8ip4f</a>"
      ]
     },
     "metadata": {},
     "output_type": "display_data"
    },
    {
     "data": {
      "text/plain": [
       "<IPython.core.display.HTML object>"
      ],
      "text/html": [
       " View project at <a href='https://wandb.ai/knezevicoluka-tu-delft/hmm-sequence-classification' target=\"_blank\">https://wandb.ai/knezevicoluka-tu-delft/hmm-sequence-classification</a>"
      ]
     },
     "metadata": {},
     "output_type": "display_data"
    },
    {
     "data": {
      "text/plain": [
       "<IPython.core.display.HTML object>"
      ],
      "text/html": [
       " View sweep at <a href='https://wandb.ai/knezevicoluka-tu-delft/hmm-sequence-classification/sweeps/0jn8ip4f' target=\"_blank\">https://wandb.ai/knezevicoluka-tu-delft/hmm-sequence-classification/sweeps/0jn8ip4f</a>"
      ]
     },
     "metadata": {},
     "output_type": "display_data"
    },
    {
     "data": {
      "text/plain": [
       "<IPython.core.display.HTML object>"
      ],
      "text/html": [
       " View run at <a href='https://wandb.ai/knezevicoluka-tu-delft/hmm-sequence-classification/runs/ovhi2i8a' target=\"_blank\">https://wandb.ai/knezevicoluka-tu-delft/hmm-sequence-classification/runs/ovhi2i8a</a>"
      ]
     },
     "metadata": {},
     "output_type": "display_data"
    },
    {
     "name": "stdout",
     "output_type": "stream",
     "text": [
      "✅ Mejor α = 0.16, F1-macro = 0.541\n"
     ]
    },
    {
     "data": {
      "text/plain": [
       "<IPython.core.display.HTML object>"
      ],
      "text/html": []
     },
     "metadata": {},
     "output_type": "display_data"
    },
    {
     "data": {
      "text/plain": [
       "<IPython.core.display.HTML object>"
      ],
      "text/html": [
       "<br>    <style><br>        .wandb-row {<br>            display: flex;<br>            flex-direction: row;<br>            flex-wrap: wrap;<br>            justify-content: flex-start;<br>            width: 100%;<br>        }<br>        .wandb-col {<br>            display: flex;<br>            flex-direction: column;<br>            flex-basis: 100%;<br>            flex: 1;<br>            padding: 10px;<br>        }<br>    </style><br><div class=\"wandb-row\"><div class=\"wandb-col\"><h3>Run history:</h3><br/><table class=\"wandb\"><tr><td>0/f1-score</td><td>▁</td></tr><tr><td>0/precision</td><td>▁</td></tr><tr><td>0/recall</td><td>▁</td></tr><tr><td>0/support</td><td>▁</td></tr><tr><td>1/f1-score</td><td>▁</td></tr><tr><td>1/precision</td><td>▁</td></tr><tr><td>1/recall</td><td>▁</td></tr><tr><td>1/support</td><td>▁</td></tr><tr><td>accuracy</td><td>▁</td></tr><tr><td>macro avg/f1-score</td><td>▁</td></tr><tr><td>macro avg/precision</td><td>▁</td></tr><tr><td>macro avg/recall</td><td>▁</td></tr><tr><td>macro avg/support</td><td>▁</td></tr><tr><td>model/n_components</td><td>▁</td></tr><tr><td>train/log_likelihood</td><td>▁</td></tr><tr><td>val/alpha</td><td>▁▁▁▁▂▂▂▂▂▂▃▃▃▃▃▄▄▄▄▄▅▅▅▅▅▅▅▆▆▆▆▆▇▇▇▇▇▇██</td></tr><tr><td>val/best_alpha</td><td>▁</td></tr><tr><td>val/best_f1_macro</td><td>▁</td></tr><tr><td>val/f1_macro</td><td>▅▇▇▆████▇▇▇▇▆▆▆▆▄▄▄▄▃▃▃▃▂▂▂▂▂▂▁▁▁▁▁▁▁▁▁▁</td></tr><tr><td>weighted avg/f1-score</td><td>▁</td></tr><tr><td>weighted avg/precision</td><td>▁</td></tr><tr><td>weighted avg/recall</td><td>▁</td></tr><tr><td>weighted avg/support</td><td>▁</td></tr></table><br/></div><div class=\"wandb-col\"><h3>Run summary:</h3><br/><table class=\"wandb\"><tr><td>0/f1-score</td><td>0.32479</td></tr><tr><td>0/precision</td><td>0.39583</td></tr><tr><td>0/recall</td><td>0.27536</td></tr><tr><td>0/support</td><td>69</td></tr><tr><td>1/f1-score</td><td>0.75692</td></tr><tr><td>1/precision</td><td>0.71098</td></tr><tr><td>1/recall</td><td>0.80921</td></tr><tr><td>1/support</td><td>152</td></tr><tr><td>accuracy</td><td>0.64253</td></tr><tr><td>macro avg/f1-score</td><td>0.54085</td></tr><tr><td>macro avg/precision</td><td>0.55341</td></tr><tr><td>macro avg/recall</td><td>0.54229</td></tr><tr><td>macro avg/support</td><td>221</td></tr><tr><td>model/covariance_type</td><td>full</td></tr><tr><td>model/n_components</td><td>2</td></tr><tr><td>preprocessing/scaler_type</td><td>minmax</td></tr><tr><td>train/log_likelihood</td><td>1040145.09663</td></tr><tr><td>val/alpha</td><td>1</td></tr><tr><td>val/best_alpha</td><td>0.16</td></tr><tr><td>val/best_f1_macro</td><td>0.54085</td></tr><tr><td>val/f1_macro</td><td>0.23793</td></tr><tr><td>weighted avg/f1-score</td><td>0.622</td></tr><tr><td>weighted avg/precision</td><td>0.61259</td></tr><tr><td>weighted avg/recall</td><td>0.64253</td></tr><tr><td>weighted avg/support</td><td>221</td></tr></table><br/></div></div>"
      ]
     },
     "metadata": {},
     "output_type": "display_data"
    },
    {
     "data": {
      "text/plain": [
       "<IPython.core.display.HTML object>"
      ],
      "text/html": [
       " View run <strong style=\"color:#cdcd00\">spring-sweep-8</strong> at: <a href='https://wandb.ai/knezevicoluka-tu-delft/hmm-sequence-classification/runs/ovhi2i8a' target=\"_blank\">https://wandb.ai/knezevicoluka-tu-delft/hmm-sequence-classification/runs/ovhi2i8a</a><br> View project at: <a href='https://wandb.ai/knezevicoluka-tu-delft/hmm-sequence-classification' target=\"_blank\">https://wandb.ai/knezevicoluka-tu-delft/hmm-sequence-classification</a><br>Synced 5 W&B file(s), 0 media file(s), 0 artifact file(s) and 0 other file(s)"
      ]
     },
     "metadata": {},
     "output_type": "display_data"
    },
    {
     "data": {
      "text/plain": [
       "<IPython.core.display.HTML object>"
      ],
      "text/html": [
       "Find logs at: <code>./wandb/run-20250601_154519-ovhi2i8a/logs</code>"
      ]
     },
     "metadata": {},
     "output_type": "display_data"
    },
    {
     "name": "stderr",
     "output_type": "stream",
     "text": [
      "\u001B[34m\u001B[1mwandb\u001B[0m: Agent Starting Run: l5y6qg5n with config:\n",
      "\u001B[34m\u001B[1mwandb\u001B[0m: \tT: 20\n",
      "\u001B[34m\u001B[1mwandb\u001B[0m: \talpha_steps: 51\n",
      "\u001B[34m\u001B[1mwandb\u001B[0m: \tcovariance_type: full\n",
      "\u001B[34m\u001B[1mwandb\u001B[0m: \tn_components: 3\n",
      "\u001B[34m\u001B[1mwandb\u001B[0m: \tn_iter: 100\n",
      "\u001B[34m\u001B[1mwandb\u001B[0m: \trandom_state: 42\n",
      "\u001B[34m\u001B[1mwandb\u001B[0m: \tscaler_type: minmax\n",
      "\u001B[34m\u001B[1mwandb\u001B[0m: \twindow_size_seconds: 10\n"
     ]
    },
    {
     "data": {
      "text/plain": [
       "<IPython.core.display.HTML object>"
      ],
      "text/html": [
       "Ignoring project 'hmm-sequence-classification' when running a sweep."
      ]
     },
     "metadata": {},
     "output_type": "display_data"
    },
    {
     "data": {
      "text/plain": [
       "<IPython.core.display.HTML object>"
      ],
      "text/html": [
       "Tracking run with wandb version 0.19.11"
      ]
     },
     "metadata": {},
     "output_type": "display_data"
    },
    {
     "data": {
      "text/plain": [
       "<IPython.core.display.HTML object>"
      ],
      "text/html": [
       "Run data is saved locally in <code>/Users/lukini/Documents/GitHub/RP-Laughter-Drinking/Laughter-Detection/Pipeline/wandb/run-20250601_154535-l5y6qg5n</code>"
      ]
     },
     "metadata": {},
     "output_type": "display_data"
    },
    {
     "data": {
      "text/plain": [
       "<IPython.core.display.HTML object>"
      ],
      "text/html": [
       "Syncing run <strong><a href='https://wandb.ai/knezevicoluka-tu-delft/hmm-sequence-classification/runs/l5y6qg5n' target=\"_blank\">dashing-sweep-9</a></strong> to <a href='https://wandb.ai/knezevicoluka-tu-delft/hmm-sequence-classification' target=\"_blank\">Weights & Biases</a> (<a href='https://wandb.me/developer-guide' target=\"_blank\">docs</a>)<br>Sweep page: <a href='https://wandb.ai/knezevicoluka-tu-delft/hmm-sequence-classification/sweeps/0jn8ip4f' target=\"_blank\">https://wandb.ai/knezevicoluka-tu-delft/hmm-sequence-classification/sweeps/0jn8ip4f</a>"
      ]
     },
     "metadata": {},
     "output_type": "display_data"
    },
    {
     "data": {
      "text/plain": [
       "<IPython.core.display.HTML object>"
      ],
      "text/html": [
       " View project at <a href='https://wandb.ai/knezevicoluka-tu-delft/hmm-sequence-classification' target=\"_blank\">https://wandb.ai/knezevicoluka-tu-delft/hmm-sequence-classification</a>"
      ]
     },
     "metadata": {},
     "output_type": "display_data"
    },
    {
     "data": {
      "text/plain": [
       "<IPython.core.display.HTML object>"
      ],
      "text/html": [
       " View sweep at <a href='https://wandb.ai/knezevicoluka-tu-delft/hmm-sequence-classification/sweeps/0jn8ip4f' target=\"_blank\">https://wandb.ai/knezevicoluka-tu-delft/hmm-sequence-classification/sweeps/0jn8ip4f</a>"
      ]
     },
     "metadata": {},
     "output_type": "display_data"
    },
    {
     "data": {
      "text/plain": [
       "<IPython.core.display.HTML object>"
      ],
      "text/html": [
       " View run at <a href='https://wandb.ai/knezevicoluka-tu-delft/hmm-sequence-classification/runs/l5y6qg5n' target=\"_blank\">https://wandb.ai/knezevicoluka-tu-delft/hmm-sequence-classification/runs/l5y6qg5n</a>"
      ]
     },
     "metadata": {},
     "output_type": "display_data"
    },
    {
     "name": "stdout",
     "output_type": "stream",
     "text": [
      "✅ Mejor α = 0.42, F1-macro = 0.554\n"
     ]
    },
    {
     "data": {
      "text/plain": [
       "<IPython.core.display.HTML object>"
      ],
      "text/html": []
     },
     "metadata": {},
     "output_type": "display_data"
    },
    {
     "data": {
      "text/plain": [
       "<IPython.core.display.HTML object>"
      ],
      "text/html": [
       "<br>    <style><br>        .wandb-row {<br>            display: flex;<br>            flex-direction: row;<br>            flex-wrap: wrap;<br>            justify-content: flex-start;<br>            width: 100%;<br>        }<br>        .wandb-col {<br>            display: flex;<br>            flex-direction: column;<br>            flex-basis: 100%;<br>            flex: 1;<br>            padding: 10px;<br>        }<br>    </style><br><div class=\"wandb-row\"><div class=\"wandb-col\"><h3>Run history:</h3><br/><table class=\"wandb\"><tr><td>0/f1-score</td><td>▁</td></tr><tr><td>0/precision</td><td>▁</td></tr><tr><td>0/recall</td><td>▁</td></tr><tr><td>0/support</td><td>▁</td></tr><tr><td>1/f1-score</td><td>▁</td></tr><tr><td>1/precision</td><td>▁</td></tr><tr><td>1/recall</td><td>▁</td></tr><tr><td>1/support</td><td>▁</td></tr><tr><td>accuracy</td><td>▁</td></tr><tr><td>macro avg/f1-score</td><td>▁</td></tr><tr><td>macro avg/precision</td><td>▁</td></tr><tr><td>macro avg/recall</td><td>▁</td></tr><tr><td>macro avg/support</td><td>▁</td></tr><tr><td>model/n_components</td><td>▁</td></tr><tr><td>train/log_likelihood</td><td>▁</td></tr><tr><td>val/alpha</td><td>▁▁▁▁▂▂▂▂▂▃▃▃▃▃▃▄▄▄▄▄▅▅▅▅▅▅▆▆▆▆▆▇▇▇▇▇▇███</td></tr><tr><td>val/best_alpha</td><td>▁</td></tr><tr><td>val/best_f1_macro</td><td>▁</td></tr><tr><td>val/f1_macro</td><td>▄▅▅▅▅▅▅▇▇▇▇▇▇▇▇▇▇██▇▅▅▅▅▅▅▅▄▄▄▃▃▃▃▂▂▂▂▁▁</td></tr><tr><td>weighted avg/f1-score</td><td>▁</td></tr><tr><td>weighted avg/precision</td><td>▁</td></tr><tr><td>weighted avg/recall</td><td>▁</td></tr><tr><td>weighted avg/support</td><td>▁</td></tr></table><br/></div><div class=\"wandb-col\"><h3>Run summary:</h3><br/><table class=\"wandb\"><tr><td>0/f1-score</td><td>0.4</td></tr><tr><td>0/precision</td><td>0.38158</td></tr><tr><td>0/recall</td><td>0.42029</td></tr><tr><td>0/support</td><td>69</td></tr><tr><td>1/f1-score</td><td>0.70707</td></tr><tr><td>1/precision</td><td>0.72414</td></tr><tr><td>1/recall</td><td>0.69079</td></tr><tr><td>1/support</td><td>152</td></tr><tr><td>accuracy</td><td>0.60633</td></tr><tr><td>macro avg/f1-score</td><td>0.55354</td></tr><tr><td>macro avg/precision</td><td>0.55286</td></tr><tr><td>macro avg/recall</td><td>0.55554</td></tr><tr><td>macro avg/support</td><td>221</td></tr><tr><td>model/covariance_type</td><td>full</td></tr><tr><td>model/n_components</td><td>3</td></tr><tr><td>preprocessing/scaler_type</td><td>minmax</td></tr><tr><td>train/log_likelihood</td><td>1120171.5833</td></tr><tr><td>val/alpha</td><td>1</td></tr><tr><td>val/best_alpha</td><td>0.42</td></tr><tr><td>val/best_f1_macro</td><td>0.55354</td></tr><tr><td>val/f1_macro</td><td>0.32237</td></tr><tr><td>weighted avg/f1-score</td><td>0.6112</td></tr><tr><td>weighted avg/precision</td><td>0.61719</td></tr><tr><td>weighted avg/recall</td><td>0.60633</td></tr><tr><td>weighted avg/support</td><td>221</td></tr></table><br/></div></div>"
      ]
     },
     "metadata": {},
     "output_type": "display_data"
    },
    {
     "data": {
      "text/plain": [
       "<IPython.core.display.HTML object>"
      ],
      "text/html": [
       " View run <strong style=\"color:#cdcd00\">dashing-sweep-9</strong> at: <a href='https://wandb.ai/knezevicoluka-tu-delft/hmm-sequence-classification/runs/l5y6qg5n' target=\"_blank\">https://wandb.ai/knezevicoluka-tu-delft/hmm-sequence-classification/runs/l5y6qg5n</a><br> View project at: <a href='https://wandb.ai/knezevicoluka-tu-delft/hmm-sequence-classification' target=\"_blank\">https://wandb.ai/knezevicoluka-tu-delft/hmm-sequence-classification</a><br>Synced 5 W&B file(s), 0 media file(s), 0 artifact file(s) and 0 other file(s)"
      ]
     },
     "metadata": {},
     "output_type": "display_data"
    },
    {
     "data": {
      "text/plain": [
       "<IPython.core.display.HTML object>"
      ],
      "text/html": [
       "Find logs at: <code>./wandb/run-20250601_154535-l5y6qg5n/logs</code>"
      ]
     },
     "metadata": {},
     "output_type": "display_data"
    },
    {
     "name": "stderr",
     "output_type": "stream",
     "text": [
      "\u001B[34m\u001B[1mwandb\u001B[0m: Agent Starting Run: qo5sftnm with config:\n",
      "\u001B[34m\u001B[1mwandb\u001B[0m: \tT: 20\n",
      "\u001B[34m\u001B[1mwandb\u001B[0m: \talpha_steps: 51\n",
      "\u001B[34m\u001B[1mwandb\u001B[0m: \tcovariance_type: full\n",
      "\u001B[34m\u001B[1mwandb\u001B[0m: \tn_components: 2\n",
      "\u001B[34m\u001B[1mwandb\u001B[0m: \tn_iter: 100\n",
      "\u001B[34m\u001B[1mwandb\u001B[0m: \trandom_state: 42\n",
      "\u001B[34m\u001B[1mwandb\u001B[0m: \tscaler_type: minmax\n",
      "\u001B[34m\u001B[1mwandb\u001B[0m: \twindow_size_seconds: 10\n"
     ]
    },
    {
     "data": {
      "text/plain": [
       "<IPython.core.display.HTML object>"
      ],
      "text/html": [
       "Ignoring project 'hmm-sequence-classification' when running a sweep."
      ]
     },
     "metadata": {},
     "output_type": "display_data"
    },
    {
     "data": {
      "text/plain": [
       "<IPython.core.display.HTML object>"
      ],
      "text/html": [
       "Tracking run with wandb version 0.19.11"
      ]
     },
     "metadata": {},
     "output_type": "display_data"
    },
    {
     "data": {
      "text/plain": [
       "<IPython.core.display.HTML object>"
      ],
      "text/html": [
       "Run data is saved locally in <code>/Users/lukini/Documents/GitHub/RP-Laughter-Drinking/Laughter-Detection/Pipeline/wandb/run-20250601_154606-qo5sftnm</code>"
      ]
     },
     "metadata": {},
     "output_type": "display_data"
    },
    {
     "data": {
      "text/plain": [
       "<IPython.core.display.HTML object>"
      ],
      "text/html": [
       "Syncing run <strong><a href='https://wandb.ai/knezevicoluka-tu-delft/hmm-sequence-classification/runs/qo5sftnm' target=\"_blank\">pleasant-sweep-10</a></strong> to <a href='https://wandb.ai/knezevicoluka-tu-delft/hmm-sequence-classification' target=\"_blank\">Weights & Biases</a> (<a href='https://wandb.me/developer-guide' target=\"_blank\">docs</a>)<br>Sweep page: <a href='https://wandb.ai/knezevicoluka-tu-delft/hmm-sequence-classification/sweeps/0jn8ip4f' target=\"_blank\">https://wandb.ai/knezevicoluka-tu-delft/hmm-sequence-classification/sweeps/0jn8ip4f</a>"
      ]
     },
     "metadata": {},
     "output_type": "display_data"
    },
    {
     "data": {
      "text/plain": [
       "<IPython.core.display.HTML object>"
      ],
      "text/html": [
       " View project at <a href='https://wandb.ai/knezevicoluka-tu-delft/hmm-sequence-classification' target=\"_blank\">https://wandb.ai/knezevicoluka-tu-delft/hmm-sequence-classification</a>"
      ]
     },
     "metadata": {},
     "output_type": "display_data"
    },
    {
     "data": {
      "text/plain": [
       "<IPython.core.display.HTML object>"
      ],
      "text/html": [
       " View sweep at <a href='https://wandb.ai/knezevicoluka-tu-delft/hmm-sequence-classification/sweeps/0jn8ip4f' target=\"_blank\">https://wandb.ai/knezevicoluka-tu-delft/hmm-sequence-classification/sweeps/0jn8ip4f</a>"
      ]
     },
     "metadata": {},
     "output_type": "display_data"
    },
    {
     "data": {
      "text/plain": [
       "<IPython.core.display.HTML object>"
      ],
      "text/html": [
       " View run at <a href='https://wandb.ai/knezevicoluka-tu-delft/hmm-sequence-classification/runs/qo5sftnm' target=\"_blank\">https://wandb.ai/knezevicoluka-tu-delft/hmm-sequence-classification/runs/qo5sftnm</a>"
      ]
     },
     "metadata": {},
     "output_type": "display_data"
    },
    {
     "name": "stdout",
     "output_type": "stream",
     "text": [
      "✅ Mejor α = 0.16, F1-macro = 0.541\n"
     ]
    },
    {
     "data": {
      "text/plain": [
       "<IPython.core.display.HTML object>"
      ],
      "text/html": []
     },
     "metadata": {},
     "output_type": "display_data"
    },
    {
     "data": {
      "text/plain": [
       "<IPython.core.display.HTML object>"
      ],
      "text/html": [
       "<br>    <style><br>        .wandb-row {<br>            display: flex;<br>            flex-direction: row;<br>            flex-wrap: wrap;<br>            justify-content: flex-start;<br>            width: 100%;<br>        }<br>        .wandb-col {<br>            display: flex;<br>            flex-direction: column;<br>            flex-basis: 100%;<br>            flex: 1;<br>            padding: 10px;<br>        }<br>    </style><br><div class=\"wandb-row\"><div class=\"wandb-col\"><h3>Run history:</h3><br/><table class=\"wandb\"><tr><td>0/f1-score</td><td>▁</td></tr><tr><td>0/precision</td><td>▁</td></tr><tr><td>0/recall</td><td>▁</td></tr><tr><td>0/support</td><td>▁</td></tr><tr><td>1/f1-score</td><td>▁</td></tr><tr><td>1/precision</td><td>▁</td></tr><tr><td>1/recall</td><td>▁</td></tr><tr><td>1/support</td><td>▁</td></tr><tr><td>accuracy</td><td>▁</td></tr><tr><td>macro avg/f1-score</td><td>▁</td></tr><tr><td>macro avg/precision</td><td>▁</td></tr><tr><td>macro avg/recall</td><td>▁</td></tr><tr><td>macro avg/support</td><td>▁</td></tr><tr><td>model/n_components</td><td>▁</td></tr><tr><td>train/log_likelihood</td><td>▁</td></tr><tr><td>val/alpha</td><td>▁▁▁▂▂▂▂▂▂▃▃▃▃▃▃▄▄▄▄▄▅▅▅▅▅▅▆▆▆▆▆▆▇▇▇▇▇▇██</td></tr><tr><td>val/best_alpha</td><td>▁</td></tr><tr><td>val/best_f1_macro</td><td>▁</td></tr><tr><td>val/f1_macro</td><td>▅▇▇▆▆█████▇▇▇▇▆▆▆▆▄▄▄▄▃▃▃▂▂▂▂▂▂▁▁▁▁▁▁▁▁▁</td></tr><tr><td>weighted avg/f1-score</td><td>▁</td></tr><tr><td>weighted avg/precision</td><td>▁</td></tr><tr><td>weighted avg/recall</td><td>▁</td></tr><tr><td>weighted avg/support</td><td>▁</td></tr></table><br/></div><div class=\"wandb-col\"><h3>Run summary:</h3><br/><table class=\"wandb\"><tr><td>0/f1-score</td><td>0.32479</td></tr><tr><td>0/precision</td><td>0.39583</td></tr><tr><td>0/recall</td><td>0.27536</td></tr><tr><td>0/support</td><td>69</td></tr><tr><td>1/f1-score</td><td>0.75692</td></tr><tr><td>1/precision</td><td>0.71098</td></tr><tr><td>1/recall</td><td>0.80921</td></tr><tr><td>1/support</td><td>152</td></tr><tr><td>accuracy</td><td>0.64253</td></tr><tr><td>macro avg/f1-score</td><td>0.54085</td></tr><tr><td>macro avg/precision</td><td>0.55341</td></tr><tr><td>macro avg/recall</td><td>0.54229</td></tr><tr><td>macro avg/support</td><td>221</td></tr><tr><td>model/covariance_type</td><td>full</td></tr><tr><td>model/n_components</td><td>2</td></tr><tr><td>preprocessing/scaler_type</td><td>minmax</td></tr><tr><td>train/log_likelihood</td><td>1040145.09668</td></tr><tr><td>val/alpha</td><td>1</td></tr><tr><td>val/best_alpha</td><td>0.16</td></tr><tr><td>val/best_f1_macro</td><td>0.54085</td></tr><tr><td>val/f1_macro</td><td>0.23793</td></tr><tr><td>weighted avg/f1-score</td><td>0.622</td></tr><tr><td>weighted avg/precision</td><td>0.61259</td></tr><tr><td>weighted avg/recall</td><td>0.64253</td></tr><tr><td>weighted avg/support</td><td>221</td></tr></table><br/></div></div>"
      ]
     },
     "metadata": {},
     "output_type": "display_data"
    },
    {
     "data": {
      "text/plain": [
       "<IPython.core.display.HTML object>"
      ],
      "text/html": [
       " View run <strong style=\"color:#cdcd00\">pleasant-sweep-10</strong> at: <a href='https://wandb.ai/knezevicoluka-tu-delft/hmm-sequence-classification/runs/qo5sftnm' target=\"_blank\">https://wandb.ai/knezevicoluka-tu-delft/hmm-sequence-classification/runs/qo5sftnm</a><br> View project at: <a href='https://wandb.ai/knezevicoluka-tu-delft/hmm-sequence-classification' target=\"_blank\">https://wandb.ai/knezevicoluka-tu-delft/hmm-sequence-classification</a><br>Synced 5 W&B file(s), 0 media file(s), 0 artifact file(s) and 0 other file(s)"
      ]
     },
     "metadata": {},
     "output_type": "display_data"
    },
    {
     "data": {
      "text/plain": [
       "<IPython.core.display.HTML object>"
      ],
      "text/html": [
       "Find logs at: <code>./wandb/run-20250601_154606-qo5sftnm/logs</code>"
      ]
     },
     "metadata": {},
     "output_type": "display_data"
    }
   ],
   "execution_count": 13
  },
  {
   "metadata": {},
   "cell_type": "code",
   "outputs": [],
   "execution_count": null,
   "source": "",
   "id": "583422841cdd8d1b"
  }
 ],
 "metadata": {
  "kernelspec": {
   "display_name": "Python 3",
   "language": "python",
   "name": "python3"
  },
  "language_info": {
   "codemirror_mode": {
    "name": "ipython",
    "version": 2
   },
   "file_extension": ".py",
   "mimetype": "text/x-python",
   "name": "python",
   "nbconvert_exporter": "python",
   "pygments_lexer": "ipython2",
   "version": "2.7.6"
  }
 },
 "nbformat": 4,
 "nbformat_minor": 5
}
