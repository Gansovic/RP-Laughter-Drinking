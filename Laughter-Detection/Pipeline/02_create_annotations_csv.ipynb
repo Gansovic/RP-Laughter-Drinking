{
 "cells": [
  {
   "cell_type": "code",
   "id": "initial_id",
   "metadata": {
    "collapsed": true,
    "ExecuteTime": {
     "end_time": "2025-05-28T10:22:18.250552Z",
     "start_time": "2025-05-28T10:22:18.238951Z"
    }
   },
   "source": [
    "import os\n",
    "import pandas as pd\n",
    "from glob import glob\n",
    "import numpy as np\n",
    "from collections import defaultdict\n",
    "\n",
    "# Base path for raw annotation CSVs\n",
    "annotation_base = \"/Volumes/conflab-mm/v4/release/annotations/actions/laughing\"\n",
    "# Output directory for consolidated CSVs\n",
    "output_dir = \"./annotations_csvs\"\n",
    "os.makedirs(output_dir, exist_ok=True)\n",
    "\n",
    "def load_annotation_files(modality):\n",
    "    \"\"\"Return sorted list of all CSV paths for a given modality.\"\"\"\n",
    "    folder = os.path.join(annotation_base, modality)\n",
    "    return sorted(glob(os.path.join(folder, \"*.csv\")))\n",
    "\n",
    "def consolidate_modality(modality, participant_ids=range(1,51)):\n",
    "    \"\"\"\n",
    "    For a given modality, read all annotator CSVs (with robust fallback),\n",
    "    apply Union Voting per participant & frame, and write out a single consolidated CSV.\n",
    "    \"\"\"\n",
    "    seg_ann = defaultdict(list)\n",
    "    for path in load_annotation_files(modality):\n",
    "        fn = os.path.basename(path).replace('.csv','')\n",
    "        vid, seg, ann = fn.split('_')\n",
    "        # robust CSV load\n",
    "        try:\n",
    "            df = pd.read_csv(path, encoding='latin1', on_bad_lines='skip', engine='python')\n",
    "        except Exception:\n",
    "            # fallback to manual parse\n",
    "            with open(path, 'r', encoding='latin1', errors='ignore') as f:\n",
    "                lines = f.readlines()\n",
    "            header = lines[0].strip().split(',')\n",
    "            data = [line.strip().split(',') for line in lines[1:] if ',' in line]\n",
    "            df = pd.DataFrame(data, columns=header)\n",
    "        # coerce to int 0/1\n",
    "        df = df.apply(pd.to_numeric, errors='coerce').fillna(0).astype(int)\n",
    "        seg_ann[(vid, seg)].append(df)\n",
    "\n",
    "    records = []\n",
    "    for (vid, seg), dfs in seg_ann.items():\n",
    "        max_len = max(len(df) for df in dfs)\n",
    "        for pid in participant_ids:\n",
    "            col = str(pid)\n",
    "            votes = []\n",
    "            for df in dfs:\n",
    "                if col in df.columns:\n",
    "                    v = df[col].values\n",
    "                else:\n",
    "                    v = np.zeros(len(df), dtype=int)\n",
    "                votes.append(v)\n",
    "            padded = [np.pad(v, (0, max_len - len(v)), constant_values=0) for v in votes]\n",
    "            union = np.logical_or.reduce(padded).astype(int)\n",
    "            for frame, label in enumerate(union):\n",
    "                records.append({\n",
    "                    \"modality\": modality,\n",
    "                    \"video_id\": vid,\n",
    "                    \"segment\": seg,\n",
    "                    \"participant\": pid,\n",
    "                    \"frame\": frame,\n",
    "                    \"label\": int(label)\n",
    "                })\n",
    "\n",
    "    df_out = pd.DataFrame(records)\n",
    "    csv_path = os.path.join(output_dir, f\"annotations_{modality.lower()}.csv\")\n",
    "    df_out.to_csv(csv_path, index=False)\n",
    "    print(f\"✅ Saved {csv_path} — {len(df_out)} rows\")\n"
   ],
   "outputs": [],
   "execution_count": 3
  },
  {
   "metadata": {
    "ExecuteTime": {
     "end_time": "2025-05-28T10:23:54.674147Z",
     "start_time": "2025-05-28T10:22:20.549054Z"
    }
   },
   "cell_type": "code",
   "source": [
    "\n",
    "# Run for all three modalities\n",
    "for modality in [\"No_Audio\", \"Only_Audio\", \"With_Audio\"]:\n",
    "    consolidate_modality(modality)\n"
   ],
   "id": "ed5694d8dacc8b13",
   "outputs": [
    {
     "name": "stdout",
     "output_type": "stream",
     "text": [
      "✅ Saved ./annotations_csvs/annotations_no_audio.csv — 8083500 rows\n",
      "✅ Saved ./annotations_csvs/annotations_only_audio.csv — 8141250 rows\n",
      "✅ Saved ./annotations_csvs/annotations_with_audio.csv — 8145450 rows\n"
     ]
    }
   ],
   "execution_count": 4
  },
  {
   "metadata": {},
   "cell_type": "code",
   "outputs": [],
   "execution_count": null,
   "source": "",
   "id": "29ddb11df69edc74"
  }
 ],
 "metadata": {
  "kernelspec": {
   "display_name": "Python 3",
   "language": "python",
   "name": "python3"
  },
  "language_info": {
   "codemirror_mode": {
    "name": "ipython",
    "version": 2
   },
   "file_extension": ".py",
   "mimetype": "text/x-python",
   "name": "python",
   "nbconvert_exporter": "python",
   "pygments_lexer": "ipython2",
   "version": "2.7.6"
  }
 },
 "nbformat": 4,
 "nbformat_minor": 5
}
