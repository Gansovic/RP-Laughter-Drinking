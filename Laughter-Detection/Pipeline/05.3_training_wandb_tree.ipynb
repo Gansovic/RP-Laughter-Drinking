{
 "cells": [
  {
   "metadata": {
    "ExecuteTime": {
     "end_time": "2025-06-03T12:28:37.333470Z",
     "start_time": "2025-06-03T12:28:35.658067Z"
    }
   },
   "cell_type": "code",
   "source": [
    "import os\n",
    "import numpy as np\n",
    "import pandas as pd\n",
    "\n",
    "from sklearn.ensemble import RandomForestClassifier\n",
    "from sklearn.model_selection import train_test_split\n",
    "from sklearn.metrics import f1_score, classification_report\n",
    "from sklearn.preprocessing import StandardScaler, MinMaxScaler\n",
    "\n",
    "import wandb\n"
   ],
   "id": "638d1ff02520da94",
   "outputs": [],
   "execution_count": 3
  },
  {
   "metadata": {
    "ExecuteTime": {
     "end_time": "2025-06-03T12:28:38.469146Z",
     "start_time": "2025-06-03T12:28:38.462326Z"
    }
   },
   "cell_type": "code",
   "source": [
    "def train():\n",
    "    run = wandb.init(project=\"rf-window-classification\", job_type=\"training\")\n",
    "    config = run.config\n",
    "\n",
    "    # 1) Cargar CSV\n",
    "    feat_file = f\"./features_csvs/features_full_tree.csv\"\n",
    "    if not os.path.exists(feat_file):\n",
    "        raise FileNotFoundError(f\"Archivo no encontrado: {feat_file}\")\n",
    "\n",
    "    df = pd.read_csv(feat_file)\n",
    "    print(df.columns.tolist())\n",
    "\n",
    "    # 2) Eliminar columnas de metadata si están presentes\n",
    "    candidate_cols = [\"video_id\", \"segment\", \"participant\", \"start_s\", \"end_s\", \"modality\", \"run_count\"]\n",
    "    drop_cols = [c for c in candidate_cols if c in df.columns]\n",
    "    df = df.drop(columns=drop_cols)\n",
    "\n",
    "    # 3) Separar X e y\n",
    "    df[\"label\"] = df[\"label\"].astype(int)\n",
    "    feature_cols = df.select_dtypes(include=[np.number]).columns.drop(\"label\")\n",
    "    X = df[feature_cols].values\n",
    "    y = df[\"label\"].values\n",
    "\n",
    "    # 4) Escalado opcional\n",
    "    if config.scaler_type == \"standard\":\n",
    "        scaler = StandardScaler()\n",
    "    elif config.scaler_type == \"minmax\":\n",
    "        scaler = MinMaxScaler()\n",
    "    else:\n",
    "        scaler = None\n",
    "\n",
    "    if scaler is not None:\n",
    "        X = scaler.fit_transform(X)\n",
    "    wandb.log({\"preprocessing/scaler_type\": config.scaler_type})\n",
    "\n",
    "    # 5) Split en entrenamiento y validación\n",
    "    X_train, X_val, y_train, y_val = train_test_split(\n",
    "        X, y, test_size=0.2, stratify=y, random_state=config.random_state\n",
    "    )\n",
    "\n",
    "    # 6) Entrenar modelo Random Forest\n",
    "    clf = RandomForestClassifier(\n",
    "        n_estimators=config.n_estimators,\n",
    "        max_depth=config.max_depth,\n",
    "        class_weight=config.class_weight,\n",
    "        random_state=config.random_state\n",
    "    )\n",
    "    clf.fit(X_train, y_train)\n",
    "\n",
    "    # 7) Evaluación\n",
    "    y_pred = clf.predict(X_val)\n",
    "    f1 = f1_score(y_val, y_pred, average=\"macro\")\n",
    "    wandb.log({\"val/f1_macro\": f1})\n",
    "    print(f\"✅ F1-macro = {f1:.3f}\")\n",
    "\n",
    "    # 8) Classification report\n",
    "    report = classification_report(y_val, y_pred, output_dict=True, zero_division=0)\n",
    "    for label, metrics in report.items():\n",
    "        if isinstance(metrics, dict):\n",
    "            for metric_name, value in metrics.items():\n",
    "                wandb.log({f\"{label}/{metric_name}\": value})\n",
    "        else:\n",
    "            wandb.log({label: metrics})\n",
    "\n",
    "    # 9) Feature Importances\n",
    "    feat_importances = pd.Series(clf.feature_importances_, index=feature_cols)\n",
    "    feat_importances_sorted = feat_importances.sort_values(ascending=False)\n",
    "\n",
    "    # Log full importances to wandb\n",
    "    wandb.log({\"feature_importance\": feat_importances_sorted.to_dict()})\n",
    "    wandb.log({\"feature_importance/duration_s\": feat_importances.get(\"duration_s\", 0)})\n",
    "\n",
    "    run.finish()\n"
   ],
   "id": "3c6bf7a63ca0b008",
   "outputs": [],
   "execution_count": 4
  },
  {
   "metadata": {
    "ExecuteTime": {
     "end_time": "2025-06-03T12:28:54.185258Z",
     "start_time": "2025-06-03T12:28:40.709106Z"
    }
   },
   "cell_type": "code",
   "source": [
    "sweep_config = {\n",
    "    \"method\": \"bayes\",\n",
    "    \"metric\": {\n",
    "        \"name\": \"val/f1_macro\",\n",
    "        \"goal\": \"maximize\"\n",
    "    },\n",
    "    \"parameters\": {\n",
    "        \"window_size_seconds\": {\n",
    "            \"values\": [10]\n",
    "        },\n",
    "        \"n_estimators\": {\n",
    "            \"values\": [50, 100, 200]\n",
    "        },\n",
    "        \"max_depth\": {\n",
    "            \"values\": [5, 10, 20]\n",
    "        },\n",
    "        \"random_state\": {\n",
    "            \"value\": 42\n",
    "        },\n",
    "        \"class_weight\": {\n",
    "            \"values\": [\"balanced\", \"balanced_subsample\"]\n",
    "        },\n",
    "        \"scaler_type\": {\n",
    "            \"values\": [\"standard\"]\n",
    "        }\n",
    "    }\n",
    "}\n",
    "\n",
    "sweep_id = wandb.sweep(sweep_config, project=\"rf-sequence-classification\")\n",
    "print(\"Sweep ID:\", sweep_id)\n"
   ],
   "id": "df9c36c9e6cb147a",
   "outputs": [
    {
     "name": "stdout",
     "output_type": "stream",
     "text": [
      "Create sweep with ID: jncqpahd\n",
      "Sweep URL: https://wandb.ai/knezevicoluka-tu-delft/rf-sequence-classification/sweeps/jncqpahd\n",
      "Sweep ID: jncqpahd\n"
     ]
    }
   ],
   "execution_count": 5
  },
  {
   "metadata": {
    "ExecuteTime": {
     "end_time": "2025-06-03T12:33:39.002989Z",
     "start_time": "2025-06-03T12:29:00.130448Z"
    }
   },
   "cell_type": "code",
   "source": [
    "# ─── Cell 4: Launch agents directly from the notebook ─────────────────────────\n",
    "\n",
    "# You can spin up multiple agents (in parallel or sequentially) by running this cell multiple times.\n",
    "# Each agent will pull one new config from the sweep and run train() under that config.\n",
    "\n",
    "wandb.agent(sweep_id, function=train, count=10)\n",
    "\n",
    "# - `count=10` means “run 10 different trials” (or until the sweep ends).\n",
    "# - Omit `count` if you want to keep going until you manually stop it or exhausting the search space.\n"
   ],
   "id": "bfde6de326079bb6",
   "outputs": [
    {
     "name": "stderr",
     "output_type": "stream",
     "text": [
      "\u001B[34m\u001B[1mwandb\u001B[0m: Agent Starting Run: ptynqiz9 with config:\n",
      "\u001B[34m\u001B[1mwandb\u001B[0m: \tclass_weight: balanced_subsample\n",
      "\u001B[34m\u001B[1mwandb\u001B[0m: \tmax_depth: 20\n",
      "\u001B[34m\u001B[1mwandb\u001B[0m: \tn_estimators: 200\n",
      "\u001B[34m\u001B[1mwandb\u001B[0m: \trandom_state: 42\n",
      "\u001B[34m\u001B[1mwandb\u001B[0m: \tscaler_type: standard\n",
      "\u001B[34m\u001B[1mwandb\u001B[0m: \twindow_size_seconds: 10\n",
      "\u001B[34m\u001B[1mwandb\u001B[0m: Currently logged in as: \u001B[33mknezevicoluka\u001B[0m (\u001B[33mknezevicoluka-tu-delft\u001B[0m) to \u001B[32mhttps://api.wandb.ai\u001B[0m. Use \u001B[1m`wandb login --relogin`\u001B[0m to force relogin\n"
     ]
    },
    {
     "data": {
      "text/plain": [
       "<IPython.core.display.HTML object>"
      ],
      "text/html": [
       "Ignoring project 'rf-window-classification' when running a sweep."
      ]
     },
     "metadata": {},
     "output_type": "display_data"
    },
    {
     "data": {
      "text/plain": [
       "<IPython.core.display.HTML object>"
      ],
      "text/html": [
       "Tracking run with wandb version 0.19.11"
      ]
     },
     "metadata": {},
     "output_type": "display_data"
    },
    {
     "data": {
      "text/plain": [
       "<IPython.core.display.HTML object>"
      ],
      "text/html": [
       "Run data is saved locally in <code>/Users/lukini/Documents/GitHub/RP-Laughter-Drinking/Laughter-Detection/Pipeline/wandb/run-20250603_142901-ptynqiz9</code>"
      ]
     },
     "metadata": {},
     "output_type": "display_data"
    },
    {
     "data": {
      "text/plain": [
       "<IPython.core.display.HTML object>"
      ],
      "text/html": [
       "Syncing run <strong><a href='https://wandb.ai/knezevicoluka-tu-delft/rf-sequence-classification/runs/ptynqiz9' target=\"_blank\">woven-sweep-1</a></strong> to <a href='https://wandb.ai/knezevicoluka-tu-delft/rf-sequence-classification' target=\"_blank\">Weights & Biases</a> (<a href='https://wandb.me/developer-guide' target=\"_blank\">docs</a>)<br>Sweep page: <a href='https://wandb.ai/knezevicoluka-tu-delft/rf-sequence-classification/sweeps/jncqpahd' target=\"_blank\">https://wandb.ai/knezevicoluka-tu-delft/rf-sequence-classification/sweeps/jncqpahd</a>"
      ]
     },
     "metadata": {},
     "output_type": "display_data"
    },
    {
     "data": {
      "text/plain": [
       "<IPython.core.display.HTML object>"
      ],
      "text/html": [
       " View project at <a href='https://wandb.ai/knezevicoluka-tu-delft/rf-sequence-classification' target=\"_blank\">https://wandb.ai/knezevicoluka-tu-delft/rf-sequence-classification</a>"
      ]
     },
     "metadata": {},
     "output_type": "display_data"
    },
    {
     "data": {
      "text/plain": [
       "<IPython.core.display.HTML object>"
      ],
      "text/html": [
       " View sweep at <a href='https://wandb.ai/knezevicoluka-tu-delft/rf-sequence-classification/sweeps/jncqpahd' target=\"_blank\">https://wandb.ai/knezevicoluka-tu-delft/rf-sequence-classification/sweeps/jncqpahd</a>"
      ]
     },
     "metadata": {},
     "output_type": "display_data"
    },
    {
     "data": {
      "text/plain": [
       "<IPython.core.display.HTML object>"
      ],
      "text/html": [
       " View run at <a href='https://wandb.ai/knezevicoluka-tu-delft/rf-sequence-classification/runs/ptynqiz9' target=\"_blank\">https://wandb.ai/knezevicoluka-tu-delft/rf-sequence-classification/runs/ptynqiz9</a>"
      ]
     },
     "metadata": {},
     "output_type": "display_data"
    },
    {
     "name": "stdout",
     "output_type": "stream",
     "text": [
      "['accelX_filtered_mean', 'accelX_filtered_var', 'accelX_filtered_energy', 'accelY_filtered_mean', 'accelY_filtered_var', 'accelY_filtered_energy', 'accelZ_filtered_mean', 'accelZ_filtered_var', 'accelZ_filtered_energy', 'accelX_filtered_deriv_mean', 'accelX_filtered_deriv_std', 'accelY_filtered_deriv_mean', 'accelY_filtered_deriv_std', 'accelZ_filtered_deriv_mean', 'accelZ_filtered_deriv_std', 'SMA', 'corr_xy', 'corr_xz', 'corr_yz', 'modality', 'video_id', 'segment', 'participant', 'start_s', 'end_s', 'duration_s', 'run_count', 'level', 'label']\n",
      "✅ F1-macro = 0.624\n"
     ]
    },
    {
     "data": {
      "text/plain": [
       "<IPython.core.display.HTML object>"
      ],
      "text/html": []
     },
     "metadata": {},
     "output_type": "display_data"
    },
    {
     "data": {
      "text/plain": [
       "<IPython.core.display.HTML object>"
      ],
      "text/html": [
       "<br>    <style><br>        .wandb-row {<br>            display: flex;<br>            flex-direction: row;<br>            flex-wrap: wrap;<br>            justify-content: flex-start;<br>            width: 100%;<br>        }<br>        .wandb-col {<br>            display: flex;<br>            flex-direction: column;<br>            flex-basis: 100%;<br>            flex: 1;<br>            padding: 10px;<br>        }<br>    </style><br><div class=\"wandb-row\"><div class=\"wandb-col\"><h3>Run history:</h3><br/><table class=\"wandb\"><tr><td>0/f1-score</td><td>▁</td></tr><tr><td>0/precision</td><td>▁</td></tr><tr><td>0/recall</td><td>▁</td></tr><tr><td>0/support</td><td>▁</td></tr><tr><td>1/f1-score</td><td>▁</td></tr><tr><td>1/precision</td><td>▁</td></tr><tr><td>1/recall</td><td>▁</td></tr><tr><td>1/support</td><td>▁</td></tr><tr><td>accuracy</td><td>▁</td></tr><tr><td>feature_importance/duration_s</td><td>▁</td></tr><tr><td>macro avg/f1-score</td><td>▁</td></tr><tr><td>macro avg/precision</td><td>▁</td></tr><tr><td>macro avg/recall</td><td>▁</td></tr><tr><td>macro avg/support</td><td>▁</td></tr><tr><td>val/f1_macro</td><td>▁</td></tr><tr><td>weighted avg/f1-score</td><td>▁</td></tr><tr><td>weighted avg/precision</td><td>▁</td></tr><tr><td>weighted avg/recall</td><td>▁</td></tr><tr><td>weighted avg/support</td><td>▁</td></tr></table><br/></div><div class=\"wandb-col\"><h3>Run summary:</h3><br/><table class=\"wandb\"><tr><td>0/f1-score</td><td>0.79132</td></tr><tr><td>0/precision</td><td>0.8164</td></tr><tr><td>0/recall</td><td>0.76773</td></tr><tr><td>0/support</td><td>31085</td></tr><tr><td>1/f1-score</td><td>0.45621</td></tr><tr><td>1/precision</td><td>0.4224</td></tr><tr><td>1/recall</td><td>0.49591</td></tr><tr><td>1/support</td><td>10647</td></tr><tr><td>accuracy</td><td>0.69838</td></tr><tr><td>feature_importance/duration_s</td><td>0.11003</td></tr><tr><td>macro avg/f1-score</td><td>0.62377</td></tr><tr><td>macro avg/precision</td><td>0.6194</td></tr><tr><td>macro avg/recall</td><td>0.63182</td></tr><tr><td>macro avg/support</td><td>41732</td></tr><tr><td>preprocessing/scaler_type</td><td>standard</td></tr><tr><td>val/f1_macro</td><td>0.62377</td></tr><tr><td>weighted avg/f1-score</td><td>0.70582</td></tr><tr><td>weighted avg/precision</td><td>0.71588</td></tr><tr><td>weighted avg/recall</td><td>0.69838</td></tr><tr><td>weighted avg/support</td><td>41732</td></tr></table><br/></div></div>"
      ]
     },
     "metadata": {},
     "output_type": "display_data"
    },
    {
     "data": {
      "text/plain": [
       "<IPython.core.display.HTML object>"
      ],
      "text/html": [
       " View run <strong style=\"color:#cdcd00\">woven-sweep-1</strong> at: <a href='https://wandb.ai/knezevicoluka-tu-delft/rf-sequence-classification/runs/ptynqiz9' target=\"_blank\">https://wandb.ai/knezevicoluka-tu-delft/rf-sequence-classification/runs/ptynqiz9</a><br> View project at: <a href='https://wandb.ai/knezevicoluka-tu-delft/rf-sequence-classification' target=\"_blank\">https://wandb.ai/knezevicoluka-tu-delft/rf-sequence-classification</a><br>Synced 5 W&B file(s), 0 media file(s), 0 artifact file(s) and 0 other file(s)"
      ]
     },
     "metadata": {},
     "output_type": "display_data"
    },
    {
     "data": {
      "text/plain": [
       "<IPython.core.display.HTML object>"
      ],
      "text/html": [
       "Find logs at: <code>./wandb/run-20250603_142901-ptynqiz9/logs</code>"
      ]
     },
     "metadata": {},
     "output_type": "display_data"
    },
    {
     "name": "stderr",
     "output_type": "stream",
     "text": [
      "\u001B[34m\u001B[1mwandb\u001B[0m: Agent Starting Run: fk126hc6 with config:\n",
      "\u001B[34m\u001B[1mwandb\u001B[0m: \tclass_weight: balanced_subsample\n",
      "\u001B[34m\u001B[1mwandb\u001B[0m: \tmax_depth: 5\n",
      "\u001B[34m\u001B[1mwandb\u001B[0m: \tn_estimators: 50\n",
      "\u001B[34m\u001B[1mwandb\u001B[0m: \trandom_state: 42\n",
      "\u001B[34m\u001B[1mwandb\u001B[0m: \tscaler_type: standard\n",
      "\u001B[34m\u001B[1mwandb\u001B[0m: \twindow_size_seconds: 10\n"
     ]
    },
    {
     "data": {
      "text/plain": [
       "<IPython.core.display.HTML object>"
      ],
      "text/html": [
       "Ignoring project 'rf-window-classification' when running a sweep."
      ]
     },
     "metadata": {},
     "output_type": "display_data"
    },
    {
     "data": {
      "text/plain": [
       "<IPython.core.display.HTML object>"
      ],
      "text/html": [
       "Tracking run with wandb version 0.19.11"
      ]
     },
     "metadata": {},
     "output_type": "display_data"
    },
    {
     "data": {
      "text/plain": [
       "<IPython.core.display.HTML object>"
      ],
      "text/html": [
       "Run data is saved locally in <code>/Users/lukini/Documents/GitHub/RP-Laughter-Drinking/Laughter-Detection/Pipeline/wandb/run-20250603_143014-fk126hc6</code>"
      ]
     },
     "metadata": {},
     "output_type": "display_data"
    },
    {
     "data": {
      "text/plain": [
       "<IPython.core.display.HTML object>"
      ],
      "text/html": [
       "Syncing run <strong><a href='https://wandb.ai/knezevicoluka-tu-delft/rf-sequence-classification/runs/fk126hc6' target=\"_blank\">easy-sweep-2</a></strong> to <a href='https://wandb.ai/knezevicoluka-tu-delft/rf-sequence-classification' target=\"_blank\">Weights & Biases</a> (<a href='https://wandb.me/developer-guide' target=\"_blank\">docs</a>)<br>Sweep page: <a href='https://wandb.ai/knezevicoluka-tu-delft/rf-sequence-classification/sweeps/jncqpahd' target=\"_blank\">https://wandb.ai/knezevicoluka-tu-delft/rf-sequence-classification/sweeps/jncqpahd</a>"
      ]
     },
     "metadata": {},
     "output_type": "display_data"
    },
    {
     "data": {
      "text/plain": [
       "<IPython.core.display.HTML object>"
      ],
      "text/html": [
       " View project at <a href='https://wandb.ai/knezevicoluka-tu-delft/rf-sequence-classification' target=\"_blank\">https://wandb.ai/knezevicoluka-tu-delft/rf-sequence-classification</a>"
      ]
     },
     "metadata": {},
     "output_type": "display_data"
    },
    {
     "data": {
      "text/plain": [
       "<IPython.core.display.HTML object>"
      ],
      "text/html": [
       " View sweep at <a href='https://wandb.ai/knezevicoluka-tu-delft/rf-sequence-classification/sweeps/jncqpahd' target=\"_blank\">https://wandb.ai/knezevicoluka-tu-delft/rf-sequence-classification/sweeps/jncqpahd</a>"
      ]
     },
     "metadata": {},
     "output_type": "display_data"
    },
    {
     "data": {
      "text/plain": [
       "<IPython.core.display.HTML object>"
      ],
      "text/html": [
       " View run at <a href='https://wandb.ai/knezevicoluka-tu-delft/rf-sequence-classification/runs/fk126hc6' target=\"_blank\">https://wandb.ai/knezevicoluka-tu-delft/rf-sequence-classification/runs/fk126hc6</a>"
      ]
     },
     "metadata": {},
     "output_type": "display_data"
    },
    {
     "name": "stdout",
     "output_type": "stream",
     "text": [
      "['accelX_filtered_mean', 'accelX_filtered_var', 'accelX_filtered_energy', 'accelY_filtered_mean', 'accelY_filtered_var', 'accelY_filtered_energy', 'accelZ_filtered_mean', 'accelZ_filtered_var', 'accelZ_filtered_energy', 'accelX_filtered_deriv_mean', 'accelX_filtered_deriv_std', 'accelY_filtered_deriv_mean', 'accelY_filtered_deriv_std', 'accelZ_filtered_deriv_mean', 'accelZ_filtered_deriv_std', 'SMA', 'corr_xy', 'corr_xz', 'corr_yz', 'modality', 'video_id', 'segment', 'participant', 'start_s', 'end_s', 'duration_s', 'run_count', 'level', 'label']\n",
      "✅ F1-macro = 0.639\n"
     ]
    },
    {
     "data": {
      "text/plain": [
       "<IPython.core.display.HTML object>"
      ],
      "text/html": []
     },
     "metadata": {},
     "output_type": "display_data"
    },
    {
     "data": {
      "text/plain": [
       "<IPython.core.display.HTML object>"
      ],
      "text/html": [
       "<br>    <style><br>        .wandb-row {<br>            display: flex;<br>            flex-direction: row;<br>            flex-wrap: wrap;<br>            justify-content: flex-start;<br>            width: 100%;<br>        }<br>        .wandb-col {<br>            display: flex;<br>            flex-direction: column;<br>            flex-basis: 100%;<br>            flex: 1;<br>            padding: 10px;<br>        }<br>    </style><br><div class=\"wandb-row\"><div class=\"wandb-col\"><h3>Run history:</h3><br/><table class=\"wandb\"><tr><td>0/f1-score</td><td>▁</td></tr><tr><td>0/precision</td><td>▁</td></tr><tr><td>0/recall</td><td>▁</td></tr><tr><td>0/support</td><td>▁</td></tr><tr><td>1/f1-score</td><td>▁</td></tr><tr><td>1/precision</td><td>▁</td></tr><tr><td>1/recall</td><td>▁</td></tr><tr><td>1/support</td><td>▁</td></tr><tr><td>accuracy</td><td>▁</td></tr><tr><td>feature_importance/duration_s</td><td>▁</td></tr><tr><td>macro avg/f1-score</td><td>▁</td></tr><tr><td>macro avg/precision</td><td>▁</td></tr><tr><td>macro avg/recall</td><td>▁</td></tr><tr><td>macro avg/support</td><td>▁</td></tr><tr><td>val/f1_macro</td><td>▁</td></tr><tr><td>weighted avg/f1-score</td><td>▁</td></tr><tr><td>weighted avg/precision</td><td>▁</td></tr><tr><td>weighted avg/recall</td><td>▁</td></tr><tr><td>weighted avg/support</td><td>▁</td></tr></table><br/></div><div class=\"wandb-col\"><h3>Run summary:</h3><br/><table class=\"wandb\"><tr><td>0/f1-score</td><td>0.81301</td></tr><tr><td>0/precision</td><td>0.81705</td></tr><tr><td>0/recall</td><td>0.80901</td></tr><tr><td>0/support</td><td>31085</td></tr><tr><td>1/f1-score</td><td>0.46444</td></tr><tr><td>1/precision</td><td>0.45796</td></tr><tr><td>1/recall</td><td>0.47112</td></tr><tr><td>1/support</td><td>10647</td></tr><tr><td>accuracy</td><td>0.7228</td></tr><tr><td>feature_importance/duration_s</td><td>0.28446</td></tr><tr><td>macro avg/f1-score</td><td>0.63873</td></tr><tr><td>macro avg/precision</td><td>0.6375</td></tr><tr><td>macro avg/recall</td><td>0.64006</td></tr><tr><td>macro avg/support</td><td>41732</td></tr><tr><td>preprocessing/scaler_type</td><td>standard</td></tr><tr><td>val/f1_macro</td><td>0.63873</td></tr><tr><td>weighted avg/f1-score</td><td>0.72408</td></tr><tr><td>weighted avg/precision</td><td>0.72544</td></tr><tr><td>weighted avg/recall</td><td>0.7228</td></tr><tr><td>weighted avg/support</td><td>41732</td></tr></table><br/></div></div>"
      ]
     },
     "metadata": {},
     "output_type": "display_data"
    },
    {
     "data": {
      "text/plain": [
       "<IPython.core.display.HTML object>"
      ],
      "text/html": [
       " View run <strong style=\"color:#cdcd00\">easy-sweep-2</strong> at: <a href='https://wandb.ai/knezevicoluka-tu-delft/rf-sequence-classification/runs/fk126hc6' target=\"_blank\">https://wandb.ai/knezevicoluka-tu-delft/rf-sequence-classification/runs/fk126hc6</a><br> View project at: <a href='https://wandb.ai/knezevicoluka-tu-delft/rf-sequence-classification' target=\"_blank\">https://wandb.ai/knezevicoluka-tu-delft/rf-sequence-classification</a><br>Synced 5 W&B file(s), 0 media file(s), 0 artifact file(s) and 0 other file(s)"
      ]
     },
     "metadata": {},
     "output_type": "display_data"
    },
    {
     "data": {
      "text/plain": [
       "<IPython.core.display.HTML object>"
      ],
      "text/html": [
       "Find logs at: <code>./wandb/run-20250603_143014-fk126hc6/logs</code>"
      ]
     },
     "metadata": {},
     "output_type": "display_data"
    },
    {
     "name": "stderr",
     "output_type": "stream",
     "text": [
      "\u001B[34m\u001B[1mwandb\u001B[0m: Sweep Agent: Waiting for job.\n",
      "\u001B[34m\u001B[1mwandb\u001B[0m: Job received.\n",
      "\u001B[34m\u001B[1mwandb\u001B[0m: Agent Starting Run: 0mss5x4x with config:\n",
      "\u001B[34m\u001B[1mwandb\u001B[0m: \tclass_weight: balanced\n",
      "\u001B[34m\u001B[1mwandb\u001B[0m: \tmax_depth: 20\n",
      "\u001B[34m\u001B[1mwandb\u001B[0m: \tn_estimators: 200\n",
      "\u001B[34m\u001B[1mwandb\u001B[0m: \trandom_state: 42\n",
      "\u001B[34m\u001B[1mwandb\u001B[0m: \tscaler_type: standard\n",
      "\u001B[34m\u001B[1mwandb\u001B[0m: \twindow_size_seconds: 10\n"
     ]
    },
    {
     "data": {
      "text/plain": [
       "<IPython.core.display.HTML object>"
      ],
      "text/html": [
       "Ignoring project 'rf-window-classification' when running a sweep."
      ]
     },
     "metadata": {},
     "output_type": "display_data"
    },
    {
     "data": {
      "text/plain": [
       "<IPython.core.display.HTML object>"
      ],
      "text/html": [
       "Tracking run with wandb version 0.19.11"
      ]
     },
     "metadata": {},
     "output_type": "display_data"
    },
    {
     "data": {
      "text/plain": [
       "<IPython.core.display.HTML object>"
      ],
      "text/html": [
       "Run data is saved locally in <code>/Users/lukini/Documents/GitHub/RP-Laughter-Drinking/Laughter-Detection/Pipeline/wandb/run-20250603_143036-0mss5x4x</code>"
      ]
     },
     "metadata": {},
     "output_type": "display_data"
    },
    {
     "data": {
      "text/plain": [
       "<IPython.core.display.HTML object>"
      ],
      "text/html": [
       "Syncing run <strong><a href='https://wandb.ai/knezevicoluka-tu-delft/rf-sequence-classification/runs/0mss5x4x' target=\"_blank\">flowing-sweep-3</a></strong> to <a href='https://wandb.ai/knezevicoluka-tu-delft/rf-sequence-classification' target=\"_blank\">Weights & Biases</a> (<a href='https://wandb.me/developer-guide' target=\"_blank\">docs</a>)<br>Sweep page: <a href='https://wandb.ai/knezevicoluka-tu-delft/rf-sequence-classification/sweeps/jncqpahd' target=\"_blank\">https://wandb.ai/knezevicoluka-tu-delft/rf-sequence-classification/sweeps/jncqpahd</a>"
      ]
     },
     "metadata": {},
     "output_type": "display_data"
    },
    {
     "data": {
      "text/plain": [
       "<IPython.core.display.HTML object>"
      ],
      "text/html": [
       " View project at <a href='https://wandb.ai/knezevicoluka-tu-delft/rf-sequence-classification' target=\"_blank\">https://wandb.ai/knezevicoluka-tu-delft/rf-sequence-classification</a>"
      ]
     },
     "metadata": {},
     "output_type": "display_data"
    },
    {
     "data": {
      "text/plain": [
       "<IPython.core.display.HTML object>"
      ],
      "text/html": [
       " View sweep at <a href='https://wandb.ai/knezevicoluka-tu-delft/rf-sequence-classification/sweeps/jncqpahd' target=\"_blank\">https://wandb.ai/knezevicoluka-tu-delft/rf-sequence-classification/sweeps/jncqpahd</a>"
      ]
     },
     "metadata": {},
     "output_type": "display_data"
    },
    {
     "data": {
      "text/plain": [
       "<IPython.core.display.HTML object>"
      ],
      "text/html": [
       " View run at <a href='https://wandb.ai/knezevicoluka-tu-delft/rf-sequence-classification/runs/0mss5x4x' target=\"_blank\">https://wandb.ai/knezevicoluka-tu-delft/rf-sequence-classification/runs/0mss5x4x</a>"
      ]
     },
     "metadata": {},
     "output_type": "display_data"
    },
    {
     "name": "stdout",
     "output_type": "stream",
     "text": [
      "['accelX_filtered_mean', 'accelX_filtered_var', 'accelX_filtered_energy', 'accelY_filtered_mean', 'accelY_filtered_var', 'accelY_filtered_energy', 'accelZ_filtered_mean', 'accelZ_filtered_var', 'accelZ_filtered_energy', 'accelX_filtered_deriv_mean', 'accelX_filtered_deriv_std', 'accelY_filtered_deriv_mean', 'accelY_filtered_deriv_std', 'accelZ_filtered_deriv_mean', 'accelZ_filtered_deriv_std', 'SMA', 'corr_xy', 'corr_xz', 'corr_yz', 'modality', 'video_id', 'segment', 'participant', 'start_s', 'end_s', 'duration_s', 'run_count', 'level', 'label']\n",
      "✅ F1-macro = 0.624\n"
     ]
    },
    {
     "data": {
      "text/plain": [
       "<IPython.core.display.HTML object>"
      ],
      "text/html": []
     },
     "metadata": {},
     "output_type": "display_data"
    },
    {
     "data": {
      "text/plain": [
       "<IPython.core.display.HTML object>"
      ],
      "text/html": [
       "<br>    <style><br>        .wandb-row {<br>            display: flex;<br>            flex-direction: row;<br>            flex-wrap: wrap;<br>            justify-content: flex-start;<br>            width: 100%;<br>        }<br>        .wandb-col {<br>            display: flex;<br>            flex-direction: column;<br>            flex-basis: 100%;<br>            flex: 1;<br>            padding: 10px;<br>        }<br>    </style><br><div class=\"wandb-row\"><div class=\"wandb-col\"><h3>Run history:</h3><br/><table class=\"wandb\"><tr><td>0/f1-score</td><td>▁</td></tr><tr><td>0/precision</td><td>▁</td></tr><tr><td>0/recall</td><td>▁</td></tr><tr><td>0/support</td><td>▁</td></tr><tr><td>1/f1-score</td><td>▁</td></tr><tr><td>1/precision</td><td>▁</td></tr><tr><td>1/recall</td><td>▁</td></tr><tr><td>1/support</td><td>▁</td></tr><tr><td>accuracy</td><td>▁</td></tr><tr><td>feature_importance/duration_s</td><td>▁</td></tr><tr><td>macro avg/f1-score</td><td>▁</td></tr><tr><td>macro avg/precision</td><td>▁</td></tr><tr><td>macro avg/recall</td><td>▁</td></tr><tr><td>macro avg/support</td><td>▁</td></tr><tr><td>val/f1_macro</td><td>▁</td></tr><tr><td>weighted avg/f1-score</td><td>▁</td></tr><tr><td>weighted avg/precision</td><td>▁</td></tr><tr><td>weighted avg/recall</td><td>▁</td></tr><tr><td>weighted avg/support</td><td>▁</td></tr></table><br/></div><div class=\"wandb-col\"><h3>Run summary:</h3><br/><table class=\"wandb\"><tr><td>0/f1-score</td><td>0.79197</td></tr><tr><td>0/precision</td><td>0.8158</td></tr><tr><td>0/recall</td><td>0.7695</td></tr><tr><td>0/support</td><td>31085</td></tr><tr><td>1/f1-score</td><td>0.45503</td></tr><tr><td>1/precision</td><td>0.42269</td></tr><tr><td>1/recall</td><td>0.49272</td></tr><tr><td>1/support</td><td>10647</td></tr><tr><td>accuracy</td><td>0.69889</td></tr><tr><td>feature_importance/duration_s</td><td>0.10959</td></tr><tr><td>macro avg/f1-score</td><td>0.6235</td></tr><tr><td>macro avg/precision</td><td>0.61924</td></tr><tr><td>macro avg/recall</td><td>0.63111</td></tr><tr><td>macro avg/support</td><td>41732</td></tr><tr><td>preprocessing/scaler_type</td><td>standard</td></tr><tr><td>val/f1_macro</td><td>0.6235</td></tr><tr><td>weighted avg/f1-score</td><td>0.70601</td></tr><tr><td>weighted avg/precision</td><td>0.7155</td></tr><tr><td>weighted avg/recall</td><td>0.69889</td></tr><tr><td>weighted avg/support</td><td>41732</td></tr></table><br/></div></div>"
      ]
     },
     "metadata": {},
     "output_type": "display_data"
    },
    {
     "data": {
      "text/plain": [
       "<IPython.core.display.HTML object>"
      ],
      "text/html": [
       " View run <strong style=\"color:#cdcd00\">flowing-sweep-3</strong> at: <a href='https://wandb.ai/knezevicoluka-tu-delft/rf-sequence-classification/runs/0mss5x4x' target=\"_blank\">https://wandb.ai/knezevicoluka-tu-delft/rf-sequence-classification/runs/0mss5x4x</a><br> View project at: <a href='https://wandb.ai/knezevicoluka-tu-delft/rf-sequence-classification' target=\"_blank\">https://wandb.ai/knezevicoluka-tu-delft/rf-sequence-classification</a><br>Synced 5 W&B file(s), 0 media file(s), 0 artifact file(s) and 0 other file(s)"
      ]
     },
     "metadata": {},
     "output_type": "display_data"
    },
    {
     "data": {
      "text/plain": [
       "<IPython.core.display.HTML object>"
      ],
      "text/html": [
       "Find logs at: <code>./wandb/run-20250603_143036-0mss5x4x/logs</code>"
      ]
     },
     "metadata": {},
     "output_type": "display_data"
    },
    {
     "name": "stderr",
     "output_type": "stream",
     "text": [
      "\u001B[34m\u001B[1mwandb\u001B[0m: Agent Starting Run: 8zekr7qs with config:\n",
      "\u001B[34m\u001B[1mwandb\u001B[0m: \tclass_weight: balanced_subsample\n",
      "\u001B[34m\u001B[1mwandb\u001B[0m: \tmax_depth: 5\n",
      "\u001B[34m\u001B[1mwandb\u001B[0m: \tn_estimators: 50\n",
      "\u001B[34m\u001B[1mwandb\u001B[0m: \trandom_state: 42\n",
      "\u001B[34m\u001B[1mwandb\u001B[0m: \tscaler_type: standard\n",
      "\u001B[34m\u001B[1mwandb\u001B[0m: \twindow_size_seconds: 10\n"
     ]
    },
    {
     "data": {
      "text/plain": [
       "<IPython.core.display.HTML object>"
      ],
      "text/html": [
       "Ignoring project 'rf-window-classification' when running a sweep."
      ]
     },
     "metadata": {},
     "output_type": "display_data"
    },
    {
     "data": {
      "text/plain": [
       "<IPython.core.display.HTML object>"
      ],
      "text/html": [
       "Tracking run with wandb version 0.19.11"
      ]
     },
     "metadata": {},
     "output_type": "display_data"
    },
    {
     "data": {
      "text/plain": [
       "<IPython.core.display.HTML object>"
      ],
      "text/html": [
       "Run data is saved locally in <code>/Users/lukini/Documents/GitHub/RP-Laughter-Drinking/Laughter-Detection/Pipeline/wandb/run-20250603_143144-8zekr7qs</code>"
      ]
     },
     "metadata": {},
     "output_type": "display_data"
    },
    {
     "data": {
      "text/plain": [
       "<IPython.core.display.HTML object>"
      ],
      "text/html": [
       "Syncing run <strong><a href='https://wandb.ai/knezevicoluka-tu-delft/rf-sequence-classification/runs/8zekr7qs' target=\"_blank\">apricot-sweep-4</a></strong> to <a href='https://wandb.ai/knezevicoluka-tu-delft/rf-sequence-classification' target=\"_blank\">Weights & Biases</a> (<a href='https://wandb.me/developer-guide' target=\"_blank\">docs</a>)<br>Sweep page: <a href='https://wandb.ai/knezevicoluka-tu-delft/rf-sequence-classification/sweeps/jncqpahd' target=\"_blank\">https://wandb.ai/knezevicoluka-tu-delft/rf-sequence-classification/sweeps/jncqpahd</a>"
      ]
     },
     "metadata": {},
     "output_type": "display_data"
    },
    {
     "data": {
      "text/plain": [
       "<IPython.core.display.HTML object>"
      ],
      "text/html": [
       " View project at <a href='https://wandb.ai/knezevicoluka-tu-delft/rf-sequence-classification' target=\"_blank\">https://wandb.ai/knezevicoluka-tu-delft/rf-sequence-classification</a>"
      ]
     },
     "metadata": {},
     "output_type": "display_data"
    },
    {
     "data": {
      "text/plain": [
       "<IPython.core.display.HTML object>"
      ],
      "text/html": [
       " View sweep at <a href='https://wandb.ai/knezevicoluka-tu-delft/rf-sequence-classification/sweeps/jncqpahd' target=\"_blank\">https://wandb.ai/knezevicoluka-tu-delft/rf-sequence-classification/sweeps/jncqpahd</a>"
      ]
     },
     "metadata": {},
     "output_type": "display_data"
    },
    {
     "data": {
      "text/plain": [
       "<IPython.core.display.HTML object>"
      ],
      "text/html": [
       " View run at <a href='https://wandb.ai/knezevicoluka-tu-delft/rf-sequence-classification/runs/8zekr7qs' target=\"_blank\">https://wandb.ai/knezevicoluka-tu-delft/rf-sequence-classification/runs/8zekr7qs</a>"
      ]
     },
     "metadata": {},
     "output_type": "display_data"
    },
    {
     "name": "stdout",
     "output_type": "stream",
     "text": [
      "['accelX_filtered_mean', 'accelX_filtered_var', 'accelX_filtered_energy', 'accelY_filtered_mean', 'accelY_filtered_var', 'accelY_filtered_energy', 'accelZ_filtered_mean', 'accelZ_filtered_var', 'accelZ_filtered_energy', 'accelX_filtered_deriv_mean', 'accelX_filtered_deriv_std', 'accelY_filtered_deriv_mean', 'accelY_filtered_deriv_std', 'accelZ_filtered_deriv_mean', 'accelZ_filtered_deriv_std', 'SMA', 'corr_xy', 'corr_xz', 'corr_yz', 'modality', 'video_id', 'segment', 'participant', 'start_s', 'end_s', 'duration_s', 'run_count', 'level', 'label']\n",
      "✅ F1-macro = 0.639\n"
     ]
    },
    {
     "data": {
      "text/plain": [
       "<IPython.core.display.HTML object>"
      ],
      "text/html": []
     },
     "metadata": {},
     "output_type": "display_data"
    },
    {
     "data": {
      "text/plain": [
       "<IPython.core.display.HTML object>"
      ],
      "text/html": [
       "<br>    <style><br>        .wandb-row {<br>            display: flex;<br>            flex-direction: row;<br>            flex-wrap: wrap;<br>            justify-content: flex-start;<br>            width: 100%;<br>        }<br>        .wandb-col {<br>            display: flex;<br>            flex-direction: column;<br>            flex-basis: 100%;<br>            flex: 1;<br>            padding: 10px;<br>        }<br>    </style><br><div class=\"wandb-row\"><div class=\"wandb-col\"><h3>Run history:</h3><br/><table class=\"wandb\"><tr><td>0/f1-score</td><td>▁</td></tr><tr><td>0/precision</td><td>▁</td></tr><tr><td>0/recall</td><td>▁</td></tr><tr><td>0/support</td><td>▁</td></tr><tr><td>1/f1-score</td><td>▁</td></tr><tr><td>1/precision</td><td>▁</td></tr><tr><td>1/recall</td><td>▁</td></tr><tr><td>1/support</td><td>▁</td></tr><tr><td>accuracy</td><td>▁</td></tr><tr><td>feature_importance/duration_s</td><td>▁</td></tr><tr><td>macro avg/f1-score</td><td>▁</td></tr><tr><td>macro avg/precision</td><td>▁</td></tr><tr><td>macro avg/recall</td><td>▁</td></tr><tr><td>macro avg/support</td><td>▁</td></tr><tr><td>val/f1_macro</td><td>▁</td></tr><tr><td>weighted avg/f1-score</td><td>▁</td></tr><tr><td>weighted avg/precision</td><td>▁</td></tr><tr><td>weighted avg/recall</td><td>▁</td></tr><tr><td>weighted avg/support</td><td>▁</td></tr></table><br/></div><div class=\"wandb-col\"><h3>Run summary:</h3><br/><table class=\"wandb\"><tr><td>0/f1-score</td><td>0.81301</td></tr><tr><td>0/precision</td><td>0.81705</td></tr><tr><td>0/recall</td><td>0.80901</td></tr><tr><td>0/support</td><td>31085</td></tr><tr><td>1/f1-score</td><td>0.46444</td></tr><tr><td>1/precision</td><td>0.45796</td></tr><tr><td>1/recall</td><td>0.47112</td></tr><tr><td>1/support</td><td>10647</td></tr><tr><td>accuracy</td><td>0.7228</td></tr><tr><td>feature_importance/duration_s</td><td>0.28446</td></tr><tr><td>macro avg/f1-score</td><td>0.63873</td></tr><tr><td>macro avg/precision</td><td>0.6375</td></tr><tr><td>macro avg/recall</td><td>0.64006</td></tr><tr><td>macro avg/support</td><td>41732</td></tr><tr><td>preprocessing/scaler_type</td><td>standard</td></tr><tr><td>val/f1_macro</td><td>0.63873</td></tr><tr><td>weighted avg/f1-score</td><td>0.72408</td></tr><tr><td>weighted avg/precision</td><td>0.72544</td></tr><tr><td>weighted avg/recall</td><td>0.7228</td></tr><tr><td>weighted avg/support</td><td>41732</td></tr></table><br/></div></div>"
      ]
     },
     "metadata": {},
     "output_type": "display_data"
    },
    {
     "data": {
      "text/plain": [
       "<IPython.core.display.HTML object>"
      ],
      "text/html": [
       " View run <strong style=\"color:#cdcd00\">apricot-sweep-4</strong> at: <a href='https://wandb.ai/knezevicoluka-tu-delft/rf-sequence-classification/runs/8zekr7qs' target=\"_blank\">https://wandb.ai/knezevicoluka-tu-delft/rf-sequence-classification/runs/8zekr7qs</a><br> View project at: <a href='https://wandb.ai/knezevicoluka-tu-delft/rf-sequence-classification' target=\"_blank\">https://wandb.ai/knezevicoluka-tu-delft/rf-sequence-classification</a><br>Synced 5 W&B file(s), 0 media file(s), 0 artifact file(s) and 0 other file(s)"
      ]
     },
     "metadata": {},
     "output_type": "display_data"
    },
    {
     "data": {
      "text/plain": [
       "<IPython.core.display.HTML object>"
      ],
      "text/html": [
       "Find logs at: <code>./wandb/run-20250603_143144-8zekr7qs/logs</code>"
      ]
     },
     "metadata": {},
     "output_type": "display_data"
    },
    {
     "name": "stderr",
     "output_type": "stream",
     "text": [
      "\u001B[34m\u001B[1mwandb\u001B[0m: Sweep Agent: Waiting for job.\n",
      "\u001B[34m\u001B[1mwandb\u001B[0m: Job received.\n",
      "\u001B[34m\u001B[1mwandb\u001B[0m: Agent Starting Run: 8by6wm03 with config:\n",
      "\u001B[34m\u001B[1mwandb\u001B[0m: \tclass_weight: balanced_subsample\n",
      "\u001B[34m\u001B[1mwandb\u001B[0m: \tmax_depth: 5\n",
      "\u001B[34m\u001B[1mwandb\u001B[0m: \tn_estimators: 50\n",
      "\u001B[34m\u001B[1mwandb\u001B[0m: \trandom_state: 42\n",
      "\u001B[34m\u001B[1mwandb\u001B[0m: \tscaler_type: standard\n",
      "\u001B[34m\u001B[1mwandb\u001B[0m: \twindow_size_seconds: 10\n"
     ]
    },
    {
     "data": {
      "text/plain": [
       "<IPython.core.display.HTML object>"
      ],
      "text/html": [
       "Ignoring project 'rf-window-classification' when running a sweep."
      ]
     },
     "metadata": {},
     "output_type": "display_data"
    },
    {
     "data": {
      "text/plain": [
       "<IPython.core.display.HTML object>"
      ],
      "text/html": [
       "Tracking run with wandb version 0.19.11"
      ]
     },
     "metadata": {},
     "output_type": "display_data"
    },
    {
     "data": {
      "text/plain": [
       "<IPython.core.display.HTML object>"
      ],
      "text/html": [
       "Run data is saved locally in <code>/Users/lukini/Documents/GitHub/RP-Laughter-Drinking/Laughter-Detection/Pipeline/wandb/run-20250603_143226-8by6wm03</code>"
      ]
     },
     "metadata": {},
     "output_type": "display_data"
    },
    {
     "data": {
      "text/plain": [
       "<IPython.core.display.HTML object>"
      ],
      "text/html": [
       "Syncing run <strong><a href='https://wandb.ai/knezevicoluka-tu-delft/rf-sequence-classification/runs/8by6wm03' target=\"_blank\">resilient-sweep-5</a></strong> to <a href='https://wandb.ai/knezevicoluka-tu-delft/rf-sequence-classification' target=\"_blank\">Weights & Biases</a> (<a href='https://wandb.me/developer-guide' target=\"_blank\">docs</a>)<br>Sweep page: <a href='https://wandb.ai/knezevicoluka-tu-delft/rf-sequence-classification/sweeps/jncqpahd' target=\"_blank\">https://wandb.ai/knezevicoluka-tu-delft/rf-sequence-classification/sweeps/jncqpahd</a>"
      ]
     },
     "metadata": {},
     "output_type": "display_data"
    },
    {
     "data": {
      "text/plain": [
       "<IPython.core.display.HTML object>"
      ],
      "text/html": [
       " View project at <a href='https://wandb.ai/knezevicoluka-tu-delft/rf-sequence-classification' target=\"_blank\">https://wandb.ai/knezevicoluka-tu-delft/rf-sequence-classification</a>"
      ]
     },
     "metadata": {},
     "output_type": "display_data"
    },
    {
     "data": {
      "text/plain": [
       "<IPython.core.display.HTML object>"
      ],
      "text/html": [
       " View sweep at <a href='https://wandb.ai/knezevicoluka-tu-delft/rf-sequence-classification/sweeps/jncqpahd' target=\"_blank\">https://wandb.ai/knezevicoluka-tu-delft/rf-sequence-classification/sweeps/jncqpahd</a>"
      ]
     },
     "metadata": {},
     "output_type": "display_data"
    },
    {
     "data": {
      "text/plain": [
       "<IPython.core.display.HTML object>"
      ],
      "text/html": [
       " View run at <a href='https://wandb.ai/knezevicoluka-tu-delft/rf-sequence-classification/runs/8by6wm03' target=\"_blank\">https://wandb.ai/knezevicoluka-tu-delft/rf-sequence-classification/runs/8by6wm03</a>"
      ]
     },
     "metadata": {},
     "output_type": "display_data"
    },
    {
     "name": "stdout",
     "output_type": "stream",
     "text": [
      "['accelX_filtered_mean', 'accelX_filtered_var', 'accelX_filtered_energy', 'accelY_filtered_mean', 'accelY_filtered_var', 'accelY_filtered_energy', 'accelZ_filtered_mean', 'accelZ_filtered_var', 'accelZ_filtered_energy', 'accelX_filtered_deriv_mean', 'accelX_filtered_deriv_std', 'accelY_filtered_deriv_mean', 'accelY_filtered_deriv_std', 'accelZ_filtered_deriv_mean', 'accelZ_filtered_deriv_std', 'SMA', 'corr_xy', 'corr_xz', 'corr_yz', 'modality', 'video_id', 'segment', 'participant', 'start_s', 'end_s', 'duration_s', 'run_count', 'level', 'label']\n",
      "✅ F1-macro = 0.639\n"
     ]
    },
    {
     "data": {
      "text/plain": [
       "<IPython.core.display.HTML object>"
      ],
      "text/html": []
     },
     "metadata": {},
     "output_type": "display_data"
    },
    {
     "data": {
      "text/plain": [
       "<IPython.core.display.HTML object>"
      ],
      "text/html": [
       "<br>    <style><br>        .wandb-row {<br>            display: flex;<br>            flex-direction: row;<br>            flex-wrap: wrap;<br>            justify-content: flex-start;<br>            width: 100%;<br>        }<br>        .wandb-col {<br>            display: flex;<br>            flex-direction: column;<br>            flex-basis: 100%;<br>            flex: 1;<br>            padding: 10px;<br>        }<br>    </style><br><div class=\"wandb-row\"><div class=\"wandb-col\"><h3>Run history:</h3><br/><table class=\"wandb\"><tr><td>0/f1-score</td><td>▁</td></tr><tr><td>0/precision</td><td>▁</td></tr><tr><td>0/recall</td><td>▁</td></tr><tr><td>0/support</td><td>▁</td></tr><tr><td>1/f1-score</td><td>▁</td></tr><tr><td>1/precision</td><td>▁</td></tr><tr><td>1/recall</td><td>▁</td></tr><tr><td>1/support</td><td>▁</td></tr><tr><td>accuracy</td><td>▁</td></tr><tr><td>feature_importance/duration_s</td><td>▁</td></tr><tr><td>macro avg/f1-score</td><td>▁</td></tr><tr><td>macro avg/precision</td><td>▁</td></tr><tr><td>macro avg/recall</td><td>▁</td></tr><tr><td>macro avg/support</td><td>▁</td></tr><tr><td>val/f1_macro</td><td>▁</td></tr><tr><td>weighted avg/f1-score</td><td>▁</td></tr><tr><td>weighted avg/precision</td><td>▁</td></tr><tr><td>weighted avg/recall</td><td>▁</td></tr><tr><td>weighted avg/support</td><td>▁</td></tr></table><br/></div><div class=\"wandb-col\"><h3>Run summary:</h3><br/><table class=\"wandb\"><tr><td>0/f1-score</td><td>0.81301</td></tr><tr><td>0/precision</td><td>0.81705</td></tr><tr><td>0/recall</td><td>0.80901</td></tr><tr><td>0/support</td><td>31085</td></tr><tr><td>1/f1-score</td><td>0.46444</td></tr><tr><td>1/precision</td><td>0.45796</td></tr><tr><td>1/recall</td><td>0.47112</td></tr><tr><td>1/support</td><td>10647</td></tr><tr><td>accuracy</td><td>0.7228</td></tr><tr><td>feature_importance/duration_s</td><td>0.28446</td></tr><tr><td>macro avg/f1-score</td><td>0.63873</td></tr><tr><td>macro avg/precision</td><td>0.6375</td></tr><tr><td>macro avg/recall</td><td>0.64006</td></tr><tr><td>macro avg/support</td><td>41732</td></tr><tr><td>preprocessing/scaler_type</td><td>standard</td></tr><tr><td>val/f1_macro</td><td>0.63873</td></tr><tr><td>weighted avg/f1-score</td><td>0.72408</td></tr><tr><td>weighted avg/precision</td><td>0.72544</td></tr><tr><td>weighted avg/recall</td><td>0.7228</td></tr><tr><td>weighted avg/support</td><td>41732</td></tr></table><br/></div></div>"
      ]
     },
     "metadata": {},
     "output_type": "display_data"
    },
    {
     "data": {
      "text/plain": [
       "<IPython.core.display.HTML object>"
      ],
      "text/html": [
       " View run <strong style=\"color:#cdcd00\">resilient-sweep-5</strong> at: <a href='https://wandb.ai/knezevicoluka-tu-delft/rf-sequence-classification/runs/8by6wm03' target=\"_blank\">https://wandb.ai/knezevicoluka-tu-delft/rf-sequence-classification/runs/8by6wm03</a><br> View project at: <a href='https://wandb.ai/knezevicoluka-tu-delft/rf-sequence-classification' target=\"_blank\">https://wandb.ai/knezevicoluka-tu-delft/rf-sequence-classification</a><br>Synced 5 W&B file(s), 0 media file(s), 0 artifact file(s) and 0 other file(s)"
      ]
     },
     "metadata": {},
     "output_type": "display_data"
    },
    {
     "data": {
      "text/plain": [
       "<IPython.core.display.HTML object>"
      ],
      "text/html": [
       "Find logs at: <code>./wandb/run-20250603_143226-8by6wm03/logs</code>"
      ]
     },
     "metadata": {},
     "output_type": "display_data"
    },
    {
     "name": "stderr",
     "output_type": "stream",
     "text": [
      "\u001B[34m\u001B[1mwandb\u001B[0m: Sweep Agent: Waiting for job.\n",
      "\u001B[34m\u001B[1mwandb\u001B[0m: Job received.\n",
      "\u001B[34m\u001B[1mwandb\u001B[0m: Agent Starting Run: a2d55s8v with config:\n",
      "\u001B[34m\u001B[1mwandb\u001B[0m: \tclass_weight: balanced_subsample\n",
      "\u001B[34m\u001B[1mwandb\u001B[0m: \tmax_depth: 5\n",
      "\u001B[34m\u001B[1mwandb\u001B[0m: \tn_estimators: 50\n",
      "\u001B[34m\u001B[1mwandb\u001B[0m: \trandom_state: 42\n",
      "\u001B[34m\u001B[1mwandb\u001B[0m: \tscaler_type: standard\n",
      "\u001B[34m\u001B[1mwandb\u001B[0m: \twindow_size_seconds: 10\n"
     ]
    },
    {
     "data": {
      "text/plain": [
       "<IPython.core.display.HTML object>"
      ],
      "text/html": [
       "Ignoring project 'rf-window-classification' when running a sweep."
      ]
     },
     "metadata": {},
     "output_type": "display_data"
    },
    {
     "data": {
      "text/plain": [
       "<IPython.core.display.HTML object>"
      ],
      "text/html": [
       "Tracking run with wandb version 0.19.11"
      ]
     },
     "metadata": {},
     "output_type": "display_data"
    },
    {
     "data": {
      "text/plain": [
       "<IPython.core.display.HTML object>"
      ],
      "text/html": [
       "Run data is saved locally in <code>/Users/lukini/Documents/GitHub/RP-Laughter-Drinking/Laughter-Detection/Pipeline/wandb/run-20250603_143247-a2d55s8v</code>"
      ]
     },
     "metadata": {},
     "output_type": "display_data"
    },
    {
     "data": {
      "text/plain": [
       "<IPython.core.display.HTML object>"
      ],
      "text/html": [
       "Syncing run <strong><a href='https://wandb.ai/knezevicoluka-tu-delft/rf-sequence-classification/runs/a2d55s8v' target=\"_blank\">apricot-sweep-6</a></strong> to <a href='https://wandb.ai/knezevicoluka-tu-delft/rf-sequence-classification' target=\"_blank\">Weights & Biases</a> (<a href='https://wandb.me/developer-guide' target=\"_blank\">docs</a>)<br>Sweep page: <a href='https://wandb.ai/knezevicoluka-tu-delft/rf-sequence-classification/sweeps/jncqpahd' target=\"_blank\">https://wandb.ai/knezevicoluka-tu-delft/rf-sequence-classification/sweeps/jncqpahd</a>"
      ]
     },
     "metadata": {},
     "output_type": "display_data"
    },
    {
     "data": {
      "text/plain": [
       "<IPython.core.display.HTML object>"
      ],
      "text/html": [
       " View project at <a href='https://wandb.ai/knezevicoluka-tu-delft/rf-sequence-classification' target=\"_blank\">https://wandb.ai/knezevicoluka-tu-delft/rf-sequence-classification</a>"
      ]
     },
     "metadata": {},
     "output_type": "display_data"
    },
    {
     "data": {
      "text/plain": [
       "<IPython.core.display.HTML object>"
      ],
      "text/html": [
       " View sweep at <a href='https://wandb.ai/knezevicoluka-tu-delft/rf-sequence-classification/sweeps/jncqpahd' target=\"_blank\">https://wandb.ai/knezevicoluka-tu-delft/rf-sequence-classification/sweeps/jncqpahd</a>"
      ]
     },
     "metadata": {},
     "output_type": "display_data"
    },
    {
     "data": {
      "text/plain": [
       "<IPython.core.display.HTML object>"
      ],
      "text/html": [
       " View run at <a href='https://wandb.ai/knezevicoluka-tu-delft/rf-sequence-classification/runs/a2d55s8v' target=\"_blank\">https://wandb.ai/knezevicoluka-tu-delft/rf-sequence-classification/runs/a2d55s8v</a>"
      ]
     },
     "metadata": {},
     "output_type": "display_data"
    },
    {
     "name": "stdout",
     "output_type": "stream",
     "text": [
      "['accelX_filtered_mean', 'accelX_filtered_var', 'accelX_filtered_energy', 'accelY_filtered_mean', 'accelY_filtered_var', 'accelY_filtered_energy', 'accelZ_filtered_mean', 'accelZ_filtered_var', 'accelZ_filtered_energy', 'accelX_filtered_deriv_mean', 'accelX_filtered_deriv_std', 'accelY_filtered_deriv_mean', 'accelY_filtered_deriv_std', 'accelZ_filtered_deriv_mean', 'accelZ_filtered_deriv_std', 'SMA', 'corr_xy', 'corr_xz', 'corr_yz', 'modality', 'video_id', 'segment', 'participant', 'start_s', 'end_s', 'duration_s', 'run_count', 'level', 'label']\n",
      "✅ F1-macro = 0.639\n"
     ]
    },
    {
     "data": {
      "text/plain": [
       "<IPython.core.display.HTML object>"
      ],
      "text/html": []
     },
     "metadata": {},
     "output_type": "display_data"
    },
    {
     "data": {
      "text/plain": [
       "<IPython.core.display.HTML object>"
      ],
      "text/html": [
       "<br>    <style><br>        .wandb-row {<br>            display: flex;<br>            flex-direction: row;<br>            flex-wrap: wrap;<br>            justify-content: flex-start;<br>            width: 100%;<br>        }<br>        .wandb-col {<br>            display: flex;<br>            flex-direction: column;<br>            flex-basis: 100%;<br>            flex: 1;<br>            padding: 10px;<br>        }<br>    </style><br><div class=\"wandb-row\"><div class=\"wandb-col\"><h3>Run history:</h3><br/><table class=\"wandb\"><tr><td>0/f1-score</td><td>▁</td></tr><tr><td>0/precision</td><td>▁</td></tr><tr><td>0/recall</td><td>▁</td></tr><tr><td>0/support</td><td>▁</td></tr><tr><td>1/f1-score</td><td>▁</td></tr><tr><td>1/precision</td><td>▁</td></tr><tr><td>1/recall</td><td>▁</td></tr><tr><td>1/support</td><td>▁</td></tr><tr><td>accuracy</td><td>▁</td></tr><tr><td>feature_importance/duration_s</td><td>▁</td></tr><tr><td>macro avg/f1-score</td><td>▁</td></tr><tr><td>macro avg/precision</td><td>▁</td></tr><tr><td>macro avg/recall</td><td>▁</td></tr><tr><td>macro avg/support</td><td>▁</td></tr><tr><td>val/f1_macro</td><td>▁</td></tr><tr><td>weighted avg/f1-score</td><td>▁</td></tr><tr><td>weighted avg/precision</td><td>▁</td></tr><tr><td>weighted avg/recall</td><td>▁</td></tr><tr><td>weighted avg/support</td><td>▁</td></tr></table><br/></div><div class=\"wandb-col\"><h3>Run summary:</h3><br/><table class=\"wandb\"><tr><td>0/f1-score</td><td>0.81301</td></tr><tr><td>0/precision</td><td>0.81705</td></tr><tr><td>0/recall</td><td>0.80901</td></tr><tr><td>0/support</td><td>31085</td></tr><tr><td>1/f1-score</td><td>0.46444</td></tr><tr><td>1/precision</td><td>0.45796</td></tr><tr><td>1/recall</td><td>0.47112</td></tr><tr><td>1/support</td><td>10647</td></tr><tr><td>accuracy</td><td>0.7228</td></tr><tr><td>feature_importance/duration_s</td><td>0.28446</td></tr><tr><td>macro avg/f1-score</td><td>0.63873</td></tr><tr><td>macro avg/precision</td><td>0.6375</td></tr><tr><td>macro avg/recall</td><td>0.64006</td></tr><tr><td>macro avg/support</td><td>41732</td></tr><tr><td>preprocessing/scaler_type</td><td>standard</td></tr><tr><td>val/f1_macro</td><td>0.63873</td></tr><tr><td>weighted avg/f1-score</td><td>0.72408</td></tr><tr><td>weighted avg/precision</td><td>0.72544</td></tr><tr><td>weighted avg/recall</td><td>0.7228</td></tr><tr><td>weighted avg/support</td><td>41732</td></tr></table><br/></div></div>"
      ]
     },
     "metadata": {},
     "output_type": "display_data"
    },
    {
     "data": {
      "text/plain": [
       "<IPython.core.display.HTML object>"
      ],
      "text/html": [
       " View run <strong style=\"color:#cdcd00\">apricot-sweep-6</strong> at: <a href='https://wandb.ai/knezevicoluka-tu-delft/rf-sequence-classification/runs/a2d55s8v' target=\"_blank\">https://wandb.ai/knezevicoluka-tu-delft/rf-sequence-classification/runs/a2d55s8v</a><br> View project at: <a href='https://wandb.ai/knezevicoluka-tu-delft/rf-sequence-classification' target=\"_blank\">https://wandb.ai/knezevicoluka-tu-delft/rf-sequence-classification</a><br>Synced 5 W&B file(s), 0 media file(s), 0 artifact file(s) and 0 other file(s)"
      ]
     },
     "metadata": {},
     "output_type": "display_data"
    },
    {
     "data": {
      "text/plain": [
       "<IPython.core.display.HTML object>"
      ],
      "text/html": [
       "Find logs at: <code>./wandb/run-20250603_143247-a2d55s8v/logs</code>"
      ]
     },
     "metadata": {},
     "output_type": "display_data"
    },
    {
     "name": "stderr",
     "output_type": "stream",
     "text": [
      "\u001B[34m\u001B[1mwandb\u001B[0m: Agent Starting Run: 6omcbrm7 with config:\n",
      "\u001B[34m\u001B[1mwandb\u001B[0m: \tclass_weight: balanced_subsample\n",
      "\u001B[34m\u001B[1mwandb\u001B[0m: \tmax_depth: 5\n",
      "\u001B[34m\u001B[1mwandb\u001B[0m: \tn_estimators: 50\n",
      "\u001B[34m\u001B[1mwandb\u001B[0m: \trandom_state: 42\n",
      "\u001B[34m\u001B[1mwandb\u001B[0m: \tscaler_type: standard\n",
      "\u001B[34m\u001B[1mwandb\u001B[0m: \twindow_size_seconds: 10\n"
     ]
    },
    {
     "data": {
      "text/plain": [
       "<IPython.core.display.HTML object>"
      ],
      "text/html": [
       "Ignoring project 'rf-window-classification' when running a sweep."
      ]
     },
     "metadata": {},
     "output_type": "display_data"
    },
    {
     "data": {
      "text/plain": [
       "<IPython.core.display.HTML object>"
      ],
      "text/html": [
       "Tracking run with wandb version 0.19.11"
      ]
     },
     "metadata": {},
     "output_type": "display_data"
    },
    {
     "data": {
      "text/plain": [
       "<IPython.core.display.HTML object>"
      ],
      "text/html": [
       "Run data is saved locally in <code>/Users/lukini/Documents/GitHub/RP-Laughter-Drinking/Laughter-Detection/Pipeline/wandb/run-20250603_143258-6omcbrm7</code>"
      ]
     },
     "metadata": {},
     "output_type": "display_data"
    },
    {
     "data": {
      "text/plain": [
       "<IPython.core.display.HTML object>"
      ],
      "text/html": [
       "Syncing run <strong><a href='https://wandb.ai/knezevicoluka-tu-delft/rf-sequence-classification/runs/6omcbrm7' target=\"_blank\">crisp-sweep-7</a></strong> to <a href='https://wandb.ai/knezevicoluka-tu-delft/rf-sequence-classification' target=\"_blank\">Weights & Biases</a> (<a href='https://wandb.me/developer-guide' target=\"_blank\">docs</a>)<br>Sweep page: <a href='https://wandb.ai/knezevicoluka-tu-delft/rf-sequence-classification/sweeps/jncqpahd' target=\"_blank\">https://wandb.ai/knezevicoluka-tu-delft/rf-sequence-classification/sweeps/jncqpahd</a>"
      ]
     },
     "metadata": {},
     "output_type": "display_data"
    },
    {
     "data": {
      "text/plain": [
       "<IPython.core.display.HTML object>"
      ],
      "text/html": [
       " View project at <a href='https://wandb.ai/knezevicoluka-tu-delft/rf-sequence-classification' target=\"_blank\">https://wandb.ai/knezevicoluka-tu-delft/rf-sequence-classification</a>"
      ]
     },
     "metadata": {},
     "output_type": "display_data"
    },
    {
     "data": {
      "text/plain": [
       "<IPython.core.display.HTML object>"
      ],
      "text/html": [
       " View sweep at <a href='https://wandb.ai/knezevicoluka-tu-delft/rf-sequence-classification/sweeps/jncqpahd' target=\"_blank\">https://wandb.ai/knezevicoluka-tu-delft/rf-sequence-classification/sweeps/jncqpahd</a>"
      ]
     },
     "metadata": {},
     "output_type": "display_data"
    },
    {
     "data": {
      "text/plain": [
       "<IPython.core.display.HTML object>"
      ],
      "text/html": [
       " View run at <a href='https://wandb.ai/knezevicoluka-tu-delft/rf-sequence-classification/runs/6omcbrm7' target=\"_blank\">https://wandb.ai/knezevicoluka-tu-delft/rf-sequence-classification/runs/6omcbrm7</a>"
      ]
     },
     "metadata": {},
     "output_type": "display_data"
    },
    {
     "name": "stdout",
     "output_type": "stream",
     "text": [
      "['accelX_filtered_mean', 'accelX_filtered_var', 'accelX_filtered_energy', 'accelY_filtered_mean', 'accelY_filtered_var', 'accelY_filtered_energy', 'accelZ_filtered_mean', 'accelZ_filtered_var', 'accelZ_filtered_energy', 'accelX_filtered_deriv_mean', 'accelX_filtered_deriv_std', 'accelY_filtered_deriv_mean', 'accelY_filtered_deriv_std', 'accelZ_filtered_deriv_mean', 'accelZ_filtered_deriv_std', 'SMA', 'corr_xy', 'corr_xz', 'corr_yz', 'modality', 'video_id', 'segment', 'participant', 'start_s', 'end_s', 'duration_s', 'run_count', 'level', 'label']\n",
      "✅ F1-macro = 0.639\n"
     ]
    },
    {
     "data": {
      "text/plain": [
       "<IPython.core.display.HTML object>"
      ],
      "text/html": []
     },
     "metadata": {},
     "output_type": "display_data"
    },
    {
     "data": {
      "text/plain": [
       "<IPython.core.display.HTML object>"
      ],
      "text/html": [
       "<br>    <style><br>        .wandb-row {<br>            display: flex;<br>            flex-direction: row;<br>            flex-wrap: wrap;<br>            justify-content: flex-start;<br>            width: 100%;<br>        }<br>        .wandb-col {<br>            display: flex;<br>            flex-direction: column;<br>            flex-basis: 100%;<br>            flex: 1;<br>            padding: 10px;<br>        }<br>    </style><br><div class=\"wandb-row\"><div class=\"wandb-col\"><h3>Run history:</h3><br/><table class=\"wandb\"><tr><td>0/f1-score</td><td>▁</td></tr><tr><td>0/precision</td><td>▁</td></tr><tr><td>0/recall</td><td>▁</td></tr><tr><td>0/support</td><td>▁</td></tr><tr><td>1/f1-score</td><td>▁</td></tr><tr><td>1/precision</td><td>▁</td></tr><tr><td>1/recall</td><td>▁</td></tr><tr><td>1/support</td><td>▁</td></tr><tr><td>accuracy</td><td>▁</td></tr><tr><td>feature_importance/duration_s</td><td>▁</td></tr><tr><td>macro avg/f1-score</td><td>▁</td></tr><tr><td>macro avg/precision</td><td>▁</td></tr><tr><td>macro avg/recall</td><td>▁</td></tr><tr><td>macro avg/support</td><td>▁</td></tr><tr><td>val/f1_macro</td><td>▁</td></tr><tr><td>weighted avg/f1-score</td><td>▁</td></tr><tr><td>weighted avg/precision</td><td>▁</td></tr><tr><td>weighted avg/recall</td><td>▁</td></tr><tr><td>weighted avg/support</td><td>▁</td></tr></table><br/></div><div class=\"wandb-col\"><h3>Run summary:</h3><br/><table class=\"wandb\"><tr><td>0/f1-score</td><td>0.81301</td></tr><tr><td>0/precision</td><td>0.81705</td></tr><tr><td>0/recall</td><td>0.80901</td></tr><tr><td>0/support</td><td>31085</td></tr><tr><td>1/f1-score</td><td>0.46444</td></tr><tr><td>1/precision</td><td>0.45796</td></tr><tr><td>1/recall</td><td>0.47112</td></tr><tr><td>1/support</td><td>10647</td></tr><tr><td>accuracy</td><td>0.7228</td></tr><tr><td>feature_importance/duration_s</td><td>0.28446</td></tr><tr><td>macro avg/f1-score</td><td>0.63873</td></tr><tr><td>macro avg/precision</td><td>0.6375</td></tr><tr><td>macro avg/recall</td><td>0.64006</td></tr><tr><td>macro avg/support</td><td>41732</td></tr><tr><td>preprocessing/scaler_type</td><td>standard</td></tr><tr><td>val/f1_macro</td><td>0.63873</td></tr><tr><td>weighted avg/f1-score</td><td>0.72408</td></tr><tr><td>weighted avg/precision</td><td>0.72544</td></tr><tr><td>weighted avg/recall</td><td>0.7228</td></tr><tr><td>weighted avg/support</td><td>41732</td></tr></table><br/></div></div>"
      ]
     },
     "metadata": {},
     "output_type": "display_data"
    },
    {
     "data": {
      "text/plain": [
       "<IPython.core.display.HTML object>"
      ],
      "text/html": [
       " View run <strong style=\"color:#cdcd00\">crisp-sweep-7</strong> at: <a href='https://wandb.ai/knezevicoluka-tu-delft/rf-sequence-classification/runs/6omcbrm7' target=\"_blank\">https://wandb.ai/knezevicoluka-tu-delft/rf-sequence-classification/runs/6omcbrm7</a><br> View project at: <a href='https://wandb.ai/knezevicoluka-tu-delft/rf-sequence-classification' target=\"_blank\">https://wandb.ai/knezevicoluka-tu-delft/rf-sequence-classification</a><br>Synced 5 W&B file(s), 0 media file(s), 0 artifact file(s) and 0 other file(s)"
      ]
     },
     "metadata": {},
     "output_type": "display_data"
    },
    {
     "data": {
      "text/plain": [
       "<IPython.core.display.HTML object>"
      ],
      "text/html": [
       "Find logs at: <code>./wandb/run-20250603_143258-6omcbrm7/logs</code>"
      ]
     },
     "metadata": {},
     "output_type": "display_data"
    },
    {
     "name": "stderr",
     "output_type": "stream",
     "text": [
      "\u001B[34m\u001B[1mwandb\u001B[0m: Agent Starting Run: d52ix83b with config:\n",
      "\u001B[34m\u001B[1mwandb\u001B[0m: \tclass_weight: balanced_subsample\n",
      "\u001B[34m\u001B[1mwandb\u001B[0m: \tmax_depth: 5\n",
      "\u001B[34m\u001B[1mwandb\u001B[0m: \tn_estimators: 50\n",
      "\u001B[34m\u001B[1mwandb\u001B[0m: \trandom_state: 42\n",
      "\u001B[34m\u001B[1mwandb\u001B[0m: \tscaler_type: standard\n",
      "\u001B[34m\u001B[1mwandb\u001B[0m: \twindow_size_seconds: 10\n"
     ]
    },
    {
     "data": {
      "text/plain": [
       "<IPython.core.display.HTML object>"
      ],
      "text/html": [
       "Ignoring project 'rf-window-classification' when running a sweep."
      ]
     },
     "metadata": {},
     "output_type": "display_data"
    },
    {
     "data": {
      "text/plain": [
       "<IPython.core.display.HTML object>"
      ],
      "text/html": [
       "Tracking run with wandb version 0.19.11"
      ]
     },
     "metadata": {},
     "output_type": "display_data"
    },
    {
     "data": {
      "text/plain": [
       "<IPython.core.display.HTML object>"
      ],
      "text/html": [
       "Run data is saved locally in <code>/Users/lukini/Documents/GitHub/RP-Laughter-Drinking/Laughter-Detection/Pipeline/wandb/run-20250603_143308-d52ix83b</code>"
      ]
     },
     "metadata": {},
     "output_type": "display_data"
    },
    {
     "data": {
      "text/plain": [
       "<IPython.core.display.HTML object>"
      ],
      "text/html": [
       "Syncing run <strong><a href='https://wandb.ai/knezevicoluka-tu-delft/rf-sequence-classification/runs/d52ix83b' target=\"_blank\">fast-sweep-8</a></strong> to <a href='https://wandb.ai/knezevicoluka-tu-delft/rf-sequence-classification' target=\"_blank\">Weights & Biases</a> (<a href='https://wandb.me/developer-guide' target=\"_blank\">docs</a>)<br>Sweep page: <a href='https://wandb.ai/knezevicoluka-tu-delft/rf-sequence-classification/sweeps/jncqpahd' target=\"_blank\">https://wandb.ai/knezevicoluka-tu-delft/rf-sequence-classification/sweeps/jncqpahd</a>"
      ]
     },
     "metadata": {},
     "output_type": "display_data"
    },
    {
     "data": {
      "text/plain": [
       "<IPython.core.display.HTML object>"
      ],
      "text/html": [
       " View project at <a href='https://wandb.ai/knezevicoluka-tu-delft/rf-sequence-classification' target=\"_blank\">https://wandb.ai/knezevicoluka-tu-delft/rf-sequence-classification</a>"
      ]
     },
     "metadata": {},
     "output_type": "display_data"
    },
    {
     "data": {
      "text/plain": [
       "<IPython.core.display.HTML object>"
      ],
      "text/html": [
       " View sweep at <a href='https://wandb.ai/knezevicoluka-tu-delft/rf-sequence-classification/sweeps/jncqpahd' target=\"_blank\">https://wandb.ai/knezevicoluka-tu-delft/rf-sequence-classification/sweeps/jncqpahd</a>"
      ]
     },
     "metadata": {},
     "output_type": "display_data"
    },
    {
     "data": {
      "text/plain": [
       "<IPython.core.display.HTML object>"
      ],
      "text/html": [
       " View run at <a href='https://wandb.ai/knezevicoluka-tu-delft/rf-sequence-classification/runs/d52ix83b' target=\"_blank\">https://wandb.ai/knezevicoluka-tu-delft/rf-sequence-classification/runs/d52ix83b</a>"
      ]
     },
     "metadata": {},
     "output_type": "display_data"
    },
    {
     "name": "stdout",
     "output_type": "stream",
     "text": [
      "['accelX_filtered_mean', 'accelX_filtered_var', 'accelX_filtered_energy', 'accelY_filtered_mean', 'accelY_filtered_var', 'accelY_filtered_energy', 'accelZ_filtered_mean', 'accelZ_filtered_var', 'accelZ_filtered_energy', 'accelX_filtered_deriv_mean', 'accelX_filtered_deriv_std', 'accelY_filtered_deriv_mean', 'accelY_filtered_deriv_std', 'accelZ_filtered_deriv_mean', 'accelZ_filtered_deriv_std', 'SMA', 'corr_xy', 'corr_xz', 'corr_yz', 'modality', 'video_id', 'segment', 'participant', 'start_s', 'end_s', 'duration_s', 'run_count', 'level', 'label']\n",
      "✅ F1-macro = 0.639\n"
     ]
    },
    {
     "data": {
      "text/plain": [
       "<IPython.core.display.HTML object>"
      ],
      "text/html": []
     },
     "metadata": {},
     "output_type": "display_data"
    },
    {
     "data": {
      "text/plain": [
       "<IPython.core.display.HTML object>"
      ],
      "text/html": [
       "<br>    <style><br>        .wandb-row {<br>            display: flex;<br>            flex-direction: row;<br>            flex-wrap: wrap;<br>            justify-content: flex-start;<br>            width: 100%;<br>        }<br>        .wandb-col {<br>            display: flex;<br>            flex-direction: column;<br>            flex-basis: 100%;<br>            flex: 1;<br>            padding: 10px;<br>        }<br>    </style><br><div class=\"wandb-row\"><div class=\"wandb-col\"><h3>Run history:</h3><br/><table class=\"wandb\"><tr><td>0/f1-score</td><td>▁</td></tr><tr><td>0/precision</td><td>▁</td></tr><tr><td>0/recall</td><td>▁</td></tr><tr><td>0/support</td><td>▁</td></tr><tr><td>1/f1-score</td><td>▁</td></tr><tr><td>1/precision</td><td>▁</td></tr><tr><td>1/recall</td><td>▁</td></tr><tr><td>1/support</td><td>▁</td></tr><tr><td>accuracy</td><td>▁</td></tr><tr><td>feature_importance/duration_s</td><td>▁</td></tr><tr><td>macro avg/f1-score</td><td>▁</td></tr><tr><td>macro avg/precision</td><td>▁</td></tr><tr><td>macro avg/recall</td><td>▁</td></tr><tr><td>macro avg/support</td><td>▁</td></tr><tr><td>val/f1_macro</td><td>▁</td></tr><tr><td>weighted avg/f1-score</td><td>▁</td></tr><tr><td>weighted avg/precision</td><td>▁</td></tr><tr><td>weighted avg/recall</td><td>▁</td></tr><tr><td>weighted avg/support</td><td>▁</td></tr></table><br/></div><div class=\"wandb-col\"><h3>Run summary:</h3><br/><table class=\"wandb\"><tr><td>0/f1-score</td><td>0.81301</td></tr><tr><td>0/precision</td><td>0.81705</td></tr><tr><td>0/recall</td><td>0.80901</td></tr><tr><td>0/support</td><td>31085</td></tr><tr><td>1/f1-score</td><td>0.46444</td></tr><tr><td>1/precision</td><td>0.45796</td></tr><tr><td>1/recall</td><td>0.47112</td></tr><tr><td>1/support</td><td>10647</td></tr><tr><td>accuracy</td><td>0.7228</td></tr><tr><td>feature_importance/duration_s</td><td>0.28446</td></tr><tr><td>macro avg/f1-score</td><td>0.63873</td></tr><tr><td>macro avg/precision</td><td>0.6375</td></tr><tr><td>macro avg/recall</td><td>0.64006</td></tr><tr><td>macro avg/support</td><td>41732</td></tr><tr><td>preprocessing/scaler_type</td><td>standard</td></tr><tr><td>val/f1_macro</td><td>0.63873</td></tr><tr><td>weighted avg/f1-score</td><td>0.72408</td></tr><tr><td>weighted avg/precision</td><td>0.72544</td></tr><tr><td>weighted avg/recall</td><td>0.7228</td></tr><tr><td>weighted avg/support</td><td>41732</td></tr></table><br/></div></div>"
      ]
     },
     "metadata": {},
     "output_type": "display_data"
    },
    {
     "data": {
      "text/plain": [
       "<IPython.core.display.HTML object>"
      ],
      "text/html": [
       " View run <strong style=\"color:#cdcd00\">fast-sweep-8</strong> at: <a href='https://wandb.ai/knezevicoluka-tu-delft/rf-sequence-classification/runs/d52ix83b' target=\"_blank\">https://wandb.ai/knezevicoluka-tu-delft/rf-sequence-classification/runs/d52ix83b</a><br> View project at: <a href='https://wandb.ai/knezevicoluka-tu-delft/rf-sequence-classification' target=\"_blank\">https://wandb.ai/knezevicoluka-tu-delft/rf-sequence-classification</a><br>Synced 5 W&B file(s), 0 media file(s), 0 artifact file(s) and 0 other file(s)"
      ]
     },
     "metadata": {},
     "output_type": "display_data"
    },
    {
     "data": {
      "text/plain": [
       "<IPython.core.display.HTML object>"
      ],
      "text/html": [
       "Find logs at: <code>./wandb/run-20250603_143308-d52ix83b/logs</code>"
      ]
     },
     "metadata": {},
     "output_type": "display_data"
    },
    {
     "name": "stderr",
     "output_type": "stream",
     "text": [
      "\u001B[34m\u001B[1mwandb\u001B[0m: Agent Starting Run: kos01heg with config:\n",
      "\u001B[34m\u001B[1mwandb\u001B[0m: \tclass_weight: balanced_subsample\n",
      "\u001B[34m\u001B[1mwandb\u001B[0m: \tmax_depth: 5\n",
      "\u001B[34m\u001B[1mwandb\u001B[0m: \tn_estimators: 50\n",
      "\u001B[34m\u001B[1mwandb\u001B[0m: \trandom_state: 42\n",
      "\u001B[34m\u001B[1mwandb\u001B[0m: \tscaler_type: standard\n",
      "\u001B[34m\u001B[1mwandb\u001B[0m: \twindow_size_seconds: 10\n"
     ]
    },
    {
     "data": {
      "text/plain": [
       "<IPython.core.display.HTML object>"
      ],
      "text/html": [
       "Ignoring project 'rf-window-classification' when running a sweep."
      ]
     },
     "metadata": {},
     "output_type": "display_data"
    },
    {
     "data": {
      "text/plain": [
       "<IPython.core.display.HTML object>"
      ],
      "text/html": [
       "Tracking run with wandb version 0.19.11"
      ]
     },
     "metadata": {},
     "output_type": "display_data"
    },
    {
     "data": {
      "text/plain": [
       "<IPython.core.display.HTML object>"
      ],
      "text/html": [
       "Run data is saved locally in <code>/Users/lukini/Documents/GitHub/RP-Laughter-Drinking/Laughter-Detection/Pipeline/wandb/run-20250603_143319-kos01heg</code>"
      ]
     },
     "metadata": {},
     "output_type": "display_data"
    },
    {
     "data": {
      "text/plain": [
       "<IPython.core.display.HTML object>"
      ],
      "text/html": [
       "Syncing run <strong><a href='https://wandb.ai/knezevicoluka-tu-delft/rf-sequence-classification/runs/kos01heg' target=\"_blank\">dutiful-sweep-9</a></strong> to <a href='https://wandb.ai/knezevicoluka-tu-delft/rf-sequence-classification' target=\"_blank\">Weights & Biases</a> (<a href='https://wandb.me/developer-guide' target=\"_blank\">docs</a>)<br>Sweep page: <a href='https://wandb.ai/knezevicoluka-tu-delft/rf-sequence-classification/sweeps/jncqpahd' target=\"_blank\">https://wandb.ai/knezevicoluka-tu-delft/rf-sequence-classification/sweeps/jncqpahd</a>"
      ]
     },
     "metadata": {},
     "output_type": "display_data"
    },
    {
     "data": {
      "text/plain": [
       "<IPython.core.display.HTML object>"
      ],
      "text/html": [
       " View project at <a href='https://wandb.ai/knezevicoluka-tu-delft/rf-sequence-classification' target=\"_blank\">https://wandb.ai/knezevicoluka-tu-delft/rf-sequence-classification</a>"
      ]
     },
     "metadata": {},
     "output_type": "display_data"
    },
    {
     "data": {
      "text/plain": [
       "<IPython.core.display.HTML object>"
      ],
      "text/html": [
       " View sweep at <a href='https://wandb.ai/knezevicoluka-tu-delft/rf-sequence-classification/sweeps/jncqpahd' target=\"_blank\">https://wandb.ai/knezevicoluka-tu-delft/rf-sequence-classification/sweeps/jncqpahd</a>"
      ]
     },
     "metadata": {},
     "output_type": "display_data"
    },
    {
     "data": {
      "text/plain": [
       "<IPython.core.display.HTML object>"
      ],
      "text/html": [
       " View run at <a href='https://wandb.ai/knezevicoluka-tu-delft/rf-sequence-classification/runs/kos01heg' target=\"_blank\">https://wandb.ai/knezevicoluka-tu-delft/rf-sequence-classification/runs/kos01heg</a>"
      ]
     },
     "metadata": {},
     "output_type": "display_data"
    },
    {
     "name": "stdout",
     "output_type": "stream",
     "text": [
      "['accelX_filtered_mean', 'accelX_filtered_var', 'accelX_filtered_energy', 'accelY_filtered_mean', 'accelY_filtered_var', 'accelY_filtered_energy', 'accelZ_filtered_mean', 'accelZ_filtered_var', 'accelZ_filtered_energy', 'accelX_filtered_deriv_mean', 'accelX_filtered_deriv_std', 'accelY_filtered_deriv_mean', 'accelY_filtered_deriv_std', 'accelZ_filtered_deriv_mean', 'accelZ_filtered_deriv_std', 'SMA', 'corr_xy', 'corr_xz', 'corr_yz', 'modality', 'video_id', 'segment', 'participant', 'start_s', 'end_s', 'duration_s', 'run_count', 'level', 'label']\n",
      "✅ F1-macro = 0.639\n"
     ]
    },
    {
     "data": {
      "text/plain": [
       "<IPython.core.display.HTML object>"
      ],
      "text/html": []
     },
     "metadata": {},
     "output_type": "display_data"
    },
    {
     "data": {
      "text/plain": [
       "<IPython.core.display.HTML object>"
      ],
      "text/html": [
       "<br>    <style><br>        .wandb-row {<br>            display: flex;<br>            flex-direction: row;<br>            flex-wrap: wrap;<br>            justify-content: flex-start;<br>            width: 100%;<br>        }<br>        .wandb-col {<br>            display: flex;<br>            flex-direction: column;<br>            flex-basis: 100%;<br>            flex: 1;<br>            padding: 10px;<br>        }<br>    </style><br><div class=\"wandb-row\"><div class=\"wandb-col\"><h3>Run history:</h3><br/><table class=\"wandb\"><tr><td>0/f1-score</td><td>▁</td></tr><tr><td>0/precision</td><td>▁</td></tr><tr><td>0/recall</td><td>▁</td></tr><tr><td>0/support</td><td>▁</td></tr><tr><td>1/f1-score</td><td>▁</td></tr><tr><td>1/precision</td><td>▁</td></tr><tr><td>1/recall</td><td>▁</td></tr><tr><td>1/support</td><td>▁</td></tr><tr><td>accuracy</td><td>▁</td></tr><tr><td>feature_importance/duration_s</td><td>▁</td></tr><tr><td>macro avg/f1-score</td><td>▁</td></tr><tr><td>macro avg/precision</td><td>▁</td></tr><tr><td>macro avg/recall</td><td>▁</td></tr><tr><td>macro avg/support</td><td>▁</td></tr><tr><td>val/f1_macro</td><td>▁</td></tr><tr><td>weighted avg/f1-score</td><td>▁</td></tr><tr><td>weighted avg/precision</td><td>▁</td></tr><tr><td>weighted avg/recall</td><td>▁</td></tr><tr><td>weighted avg/support</td><td>▁</td></tr></table><br/></div><div class=\"wandb-col\"><h3>Run summary:</h3><br/><table class=\"wandb\"><tr><td>0/f1-score</td><td>0.81301</td></tr><tr><td>0/precision</td><td>0.81705</td></tr><tr><td>0/recall</td><td>0.80901</td></tr><tr><td>0/support</td><td>31085</td></tr><tr><td>1/f1-score</td><td>0.46444</td></tr><tr><td>1/precision</td><td>0.45796</td></tr><tr><td>1/recall</td><td>0.47112</td></tr><tr><td>1/support</td><td>10647</td></tr><tr><td>accuracy</td><td>0.7228</td></tr><tr><td>feature_importance/duration_s</td><td>0.28446</td></tr><tr><td>macro avg/f1-score</td><td>0.63873</td></tr><tr><td>macro avg/precision</td><td>0.6375</td></tr><tr><td>macro avg/recall</td><td>0.64006</td></tr><tr><td>macro avg/support</td><td>41732</td></tr><tr><td>preprocessing/scaler_type</td><td>standard</td></tr><tr><td>val/f1_macro</td><td>0.63873</td></tr><tr><td>weighted avg/f1-score</td><td>0.72408</td></tr><tr><td>weighted avg/precision</td><td>0.72544</td></tr><tr><td>weighted avg/recall</td><td>0.7228</td></tr><tr><td>weighted avg/support</td><td>41732</td></tr></table><br/></div></div>"
      ]
     },
     "metadata": {},
     "output_type": "display_data"
    },
    {
     "data": {
      "text/plain": [
       "<IPython.core.display.HTML object>"
      ],
      "text/html": [
       " View run <strong style=\"color:#cdcd00\">dutiful-sweep-9</strong> at: <a href='https://wandb.ai/knezevicoluka-tu-delft/rf-sequence-classification/runs/kos01heg' target=\"_blank\">https://wandb.ai/knezevicoluka-tu-delft/rf-sequence-classification/runs/kos01heg</a><br> View project at: <a href='https://wandb.ai/knezevicoluka-tu-delft/rf-sequence-classification' target=\"_blank\">https://wandb.ai/knezevicoluka-tu-delft/rf-sequence-classification</a><br>Synced 5 W&B file(s), 0 media file(s), 0 artifact file(s) and 0 other file(s)"
      ]
     },
     "metadata": {},
     "output_type": "display_data"
    },
    {
     "data": {
      "text/plain": [
       "<IPython.core.display.HTML object>"
      ],
      "text/html": [
       "Find logs at: <code>./wandb/run-20250603_143319-kos01heg/logs</code>"
      ]
     },
     "metadata": {},
     "output_type": "display_data"
    },
    {
     "name": "stderr",
     "output_type": "stream",
     "text": [
      "\u001B[34m\u001B[1mwandb\u001B[0m: Agent Starting Run: yz4rafqm with config:\n",
      "\u001B[34m\u001B[1mwandb\u001B[0m: \tclass_weight: balanced_subsample\n",
      "\u001B[34m\u001B[1mwandb\u001B[0m: \tmax_depth: 5\n",
      "\u001B[34m\u001B[1mwandb\u001B[0m: \tn_estimators: 50\n",
      "\u001B[34m\u001B[1mwandb\u001B[0m: \trandom_state: 42\n",
      "\u001B[34m\u001B[1mwandb\u001B[0m: \tscaler_type: standard\n",
      "\u001B[34m\u001B[1mwandb\u001B[0m: \twindow_size_seconds: 10\n"
     ]
    },
    {
     "data": {
      "text/plain": [
       "<IPython.core.display.HTML object>"
      ],
      "text/html": [
       "Ignoring project 'rf-window-classification' when running a sweep."
      ]
     },
     "metadata": {},
     "output_type": "display_data"
    },
    {
     "data": {
      "text/plain": [
       "<IPython.core.display.HTML object>"
      ],
      "text/html": [
       "Tracking run with wandb version 0.19.11"
      ]
     },
     "metadata": {},
     "output_type": "display_data"
    },
    {
     "data": {
      "text/plain": [
       "<IPython.core.display.HTML object>"
      ],
      "text/html": [
       "Run data is saved locally in <code>/Users/lukini/Documents/GitHub/RP-Laughter-Drinking/Laughter-Detection/Pipeline/wandb/run-20250603_143330-yz4rafqm</code>"
      ]
     },
     "metadata": {},
     "output_type": "display_data"
    },
    {
     "data": {
      "text/plain": [
       "<IPython.core.display.HTML object>"
      ],
      "text/html": [
       "Syncing run <strong><a href='https://wandb.ai/knezevicoluka-tu-delft/rf-sequence-classification/runs/yz4rafqm' target=\"_blank\">youthful-sweep-10</a></strong> to <a href='https://wandb.ai/knezevicoluka-tu-delft/rf-sequence-classification' target=\"_blank\">Weights & Biases</a> (<a href='https://wandb.me/developer-guide' target=\"_blank\">docs</a>)<br>Sweep page: <a href='https://wandb.ai/knezevicoluka-tu-delft/rf-sequence-classification/sweeps/jncqpahd' target=\"_blank\">https://wandb.ai/knezevicoluka-tu-delft/rf-sequence-classification/sweeps/jncqpahd</a>"
      ]
     },
     "metadata": {},
     "output_type": "display_data"
    },
    {
     "data": {
      "text/plain": [
       "<IPython.core.display.HTML object>"
      ],
      "text/html": [
       " View project at <a href='https://wandb.ai/knezevicoluka-tu-delft/rf-sequence-classification' target=\"_blank\">https://wandb.ai/knezevicoluka-tu-delft/rf-sequence-classification</a>"
      ]
     },
     "metadata": {},
     "output_type": "display_data"
    },
    {
     "data": {
      "text/plain": [
       "<IPython.core.display.HTML object>"
      ],
      "text/html": [
       " View sweep at <a href='https://wandb.ai/knezevicoluka-tu-delft/rf-sequence-classification/sweeps/jncqpahd' target=\"_blank\">https://wandb.ai/knezevicoluka-tu-delft/rf-sequence-classification/sweeps/jncqpahd</a>"
      ]
     },
     "metadata": {},
     "output_type": "display_data"
    },
    {
     "data": {
      "text/plain": [
       "<IPython.core.display.HTML object>"
      ],
      "text/html": [
       " View run at <a href='https://wandb.ai/knezevicoluka-tu-delft/rf-sequence-classification/runs/yz4rafqm' target=\"_blank\">https://wandb.ai/knezevicoluka-tu-delft/rf-sequence-classification/runs/yz4rafqm</a>"
      ]
     },
     "metadata": {},
     "output_type": "display_data"
    },
    {
     "name": "stdout",
     "output_type": "stream",
     "text": [
      "['accelX_filtered_mean', 'accelX_filtered_var', 'accelX_filtered_energy', 'accelY_filtered_mean', 'accelY_filtered_var', 'accelY_filtered_energy', 'accelZ_filtered_mean', 'accelZ_filtered_var', 'accelZ_filtered_energy', 'accelX_filtered_deriv_mean', 'accelX_filtered_deriv_std', 'accelY_filtered_deriv_mean', 'accelY_filtered_deriv_std', 'accelZ_filtered_deriv_mean', 'accelZ_filtered_deriv_std', 'SMA', 'corr_xy', 'corr_xz', 'corr_yz', 'modality', 'video_id', 'segment', 'participant', 'start_s', 'end_s', 'duration_s', 'run_count', 'level', 'label']\n",
      "✅ F1-macro = 0.639\n"
     ]
    },
    {
     "data": {
      "text/plain": [
       "<IPython.core.display.HTML object>"
      ],
      "text/html": []
     },
     "metadata": {},
     "output_type": "display_data"
    },
    {
     "data": {
      "text/plain": [
       "<IPython.core.display.HTML object>"
      ],
      "text/html": [
       "<br>    <style><br>        .wandb-row {<br>            display: flex;<br>            flex-direction: row;<br>            flex-wrap: wrap;<br>            justify-content: flex-start;<br>            width: 100%;<br>        }<br>        .wandb-col {<br>            display: flex;<br>            flex-direction: column;<br>            flex-basis: 100%;<br>            flex: 1;<br>            padding: 10px;<br>        }<br>    </style><br><div class=\"wandb-row\"><div class=\"wandb-col\"><h3>Run history:</h3><br/><table class=\"wandb\"><tr><td>0/f1-score</td><td>▁</td></tr><tr><td>0/precision</td><td>▁</td></tr><tr><td>0/recall</td><td>▁</td></tr><tr><td>0/support</td><td>▁</td></tr><tr><td>1/f1-score</td><td>▁</td></tr><tr><td>1/precision</td><td>▁</td></tr><tr><td>1/recall</td><td>▁</td></tr><tr><td>1/support</td><td>▁</td></tr><tr><td>accuracy</td><td>▁</td></tr><tr><td>feature_importance/duration_s</td><td>▁</td></tr><tr><td>macro avg/f1-score</td><td>▁</td></tr><tr><td>macro avg/precision</td><td>▁</td></tr><tr><td>macro avg/recall</td><td>▁</td></tr><tr><td>macro avg/support</td><td>▁</td></tr><tr><td>val/f1_macro</td><td>▁</td></tr><tr><td>weighted avg/f1-score</td><td>▁</td></tr><tr><td>weighted avg/precision</td><td>▁</td></tr><tr><td>weighted avg/recall</td><td>▁</td></tr><tr><td>weighted avg/support</td><td>▁</td></tr></table><br/></div><div class=\"wandb-col\"><h3>Run summary:</h3><br/><table class=\"wandb\"><tr><td>0/f1-score</td><td>0.81301</td></tr><tr><td>0/precision</td><td>0.81705</td></tr><tr><td>0/recall</td><td>0.80901</td></tr><tr><td>0/support</td><td>31085</td></tr><tr><td>1/f1-score</td><td>0.46444</td></tr><tr><td>1/precision</td><td>0.45796</td></tr><tr><td>1/recall</td><td>0.47112</td></tr><tr><td>1/support</td><td>10647</td></tr><tr><td>accuracy</td><td>0.7228</td></tr><tr><td>feature_importance/duration_s</td><td>0.28446</td></tr><tr><td>macro avg/f1-score</td><td>0.63873</td></tr><tr><td>macro avg/precision</td><td>0.6375</td></tr><tr><td>macro avg/recall</td><td>0.64006</td></tr><tr><td>macro avg/support</td><td>41732</td></tr><tr><td>preprocessing/scaler_type</td><td>standard</td></tr><tr><td>val/f1_macro</td><td>0.63873</td></tr><tr><td>weighted avg/f1-score</td><td>0.72408</td></tr><tr><td>weighted avg/precision</td><td>0.72544</td></tr><tr><td>weighted avg/recall</td><td>0.7228</td></tr><tr><td>weighted avg/support</td><td>41732</td></tr></table><br/></div></div>"
      ]
     },
     "metadata": {},
     "output_type": "display_data"
    },
    {
     "data": {
      "text/plain": [
       "<IPython.core.display.HTML object>"
      ],
      "text/html": [
       " View run <strong style=\"color:#cdcd00\">youthful-sweep-10</strong> at: <a href='https://wandb.ai/knezevicoluka-tu-delft/rf-sequence-classification/runs/yz4rafqm' target=\"_blank\">https://wandb.ai/knezevicoluka-tu-delft/rf-sequence-classification/runs/yz4rafqm</a><br> View project at: <a href='https://wandb.ai/knezevicoluka-tu-delft/rf-sequence-classification' target=\"_blank\">https://wandb.ai/knezevicoluka-tu-delft/rf-sequence-classification</a><br>Synced 5 W&B file(s), 0 media file(s), 0 artifact file(s) and 0 other file(s)"
      ]
     },
     "metadata": {},
     "output_type": "display_data"
    },
    {
     "data": {
      "text/plain": [
       "<IPython.core.display.HTML object>"
      ],
      "text/html": [
       "Find logs at: <code>./wandb/run-20250603_143330-yz4rafqm/logs</code>"
      ]
     },
     "metadata": {},
     "output_type": "display_data"
    }
   ],
   "execution_count": 6
  },
  {
   "metadata": {},
   "cell_type": "code",
   "outputs": [],
   "execution_count": null,
   "source": "",
   "id": "c42162af77c47bdc"
  }
 ],
 "metadata": {
  "kernelspec": {
   "display_name": "Python 3",
   "language": "python",
   "name": "python3"
  },
  "language_info": {
   "codemirror_mode": {
    "name": "ipython",
    "version": 2
   },
   "file_extension": ".py",
   "mimetype": "text/x-python",
   "name": "python",
   "nbconvert_exporter": "python",
   "pygments_lexer": "ipython2",
   "version": "2.7.6"
  }
 },
 "nbformat": 4,
 "nbformat_minor": 5
}
