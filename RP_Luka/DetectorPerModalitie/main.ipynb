{
 "cells": [
  {
   "cell_type": "code",
   "id": "initial_id",
   "metadata": {
    "collapsed": true,
    "ExecuteTime": {
     "end_time": "2025-06-18T12:56:24.692535Z",
     "start_time": "2025-06-18T12:55:24.729111Z"
    }
   },
   "source": [
    "from glob import glob\n",
    "from collections import defaultdict\n",
    "import os, pandas as pd, numpy as np\n",
    "\n",
    "ANNOTATION_BASE = \"/Volumes/conflab-mm/v4/release/annotations/actions/laughing\"\n",
    "OUTPUT_DIR      = \"./annotations/per_modality\"\n",
    "os.makedirs(OUTPUT_DIR, exist_ok=True)\n",
    "\n",
    "def load_annotation_files(modality):\n",
    "    folder  = os.path.join(ANNOTATION_BASE, modality)\n",
    "    pattern = os.path.join(folder, \"**\", \"*.csv\")\n",
    "    files   = sorted(glob(pattern, recursive=True))\n",
    "    print(f\"[load] {modality}: found {len(files)} CSV files\")\n",
    "    return files\n",
    "\n",
    "def consolidate_majority(modality, participant_ids=range(1,51)):\n",
    "    seg_ann = defaultdict(list)\n",
    "    files   = load_annotation_files(modality)\n",
    "\n",
    "    for path in files:\n",
    "        fname              = os.path.splitext(os.path.basename(path))[0]\n",
    "        vid, seg, annotator = fname.rsplit(\"_\", 2)\n",
    "        print(f\"[{modality}] loading → {vid}, {seg}, {annotator}\")\n",
    "        # …robust CSV read, cleaning, etc…\n",
    "        df = pd.read_csv(path, encoding=\"latin1\", engine=\"python\", on_bad_lines=\"skip\")\n",
    "        seg_ann[(vid, seg)].append(df)\n",
    "\n",
    "    print(f\"[{modality}] grouped into {len(seg_ann)} (vid,seg) keys:\", seg_ann.keys())\n",
    "\n",
    "    records = []\n",
    "    for (vid, seg), dfs in seg_ann.items():\n",
    "        max_len = max(len(df) for df in dfs)\n",
    "        for pid in participant_ids:\n",
    "            votes = []\n",
    "            for df in dfs:\n",
    "                # turn whatever df.get() gives us into an ndarray\n",
    "                arr = np.asarray(df.get(str(pid), np.zeros(len(df), dtype=int)))\n",
    "                votes.append(np.pad(arr, (0, max_len - len(arr)), constant_values=0))\n",
    "            majority = (np.stack(votes).sum(axis=0) >= 2).astype(int)\n",
    "            for frame, label in enumerate(majority):\n",
    "                records.append({\n",
    "                    \"modality\":   modality,\n",
    "                    \"video_id\":   vid,\n",
    "                    \"segment\":    seg,\n",
    "                    \"participant\":pid,\n",
    "                    \"frame\":      frame,\n",
    "                    \"label\":      label\n",
    "                })\n",
    "\n",
    "    out_df  = pd.DataFrame(records)\n",
    "    out_path = os.path.join(OUTPUT_DIR, f\"annotations_{modality.lower()}_majority.csv\")\n",
    "    out_df.to_csv(out_path, index=False)\n",
    "    print(f\"[save] {out_path}\\n\")\n",
    "\n",
    "for modality in [\"No_Audio\", \"Only_Audio\", \"With_Audio\"]:\n",
    "    consolidate_majority(modality)\n"
   ],
   "outputs": [
    {
     "name": "stdout",
     "output_type": "stream",
     "text": [
      "[load] No_Audio: found 69 CSV files\n",
      "[No_Audio] loading → vid2, seg7, ann1\n",
      "[No_Audio] loading → vid2, seg7, ann2\n",
      "[No_Audio] loading → vid2, seg7, ann3\n",
      "[No_Audio] loading → vid2, seg8, ann1\n",
      "[No_Audio] loading → vid2, seg8, ann2\n",
      "[No_Audio] loading → vid2, seg8, ann3\n",
      "[No_Audio] loading → vid2, seg9, ann1\n",
      "[No_Audio] loading → vid2, seg9, ann2\n",
      "[No_Audio] loading → vid2, seg9, ann3\n",
      "[No_Audio] loading → vid3, seg1, ann1\n",
      "[No_Audio] loading → vid3, seg1, ann2\n",
      "[No_Audio] loading → vid3, seg1, ann3\n",
      "[No_Audio] loading → vid3, seg2, ann1\n",
      "[No_Audio] loading → vid3, seg2, ann2\n",
      "[No_Audio] loading → vid3, seg2, ann3\n",
      "[No_Audio] loading → vid3, seg3, ann1\n",
      "[No_Audio] loading → vid3, seg3, ann2\n",
      "[No_Audio] loading → vid3, seg3, ann3\n",
      "[No_Audio] loading → vid3, seg4, ann1\n",
      "[No_Audio] loading → vid3, seg4, ann2\n",
      "[No_Audio] loading → vid3, seg4, ann3\n",
      "[No_Audio] loading → vid3, seg5, ann1\n",
      "[No_Audio] loading → vid3, seg5, ann2\n",
      "[No_Audio] loading → vid3, seg5, ann3\n",
      "[No_Audio] loading → vid3, seg6, ann1\n",
      "[No_Audio] loading → vid3, seg6, ann2\n",
      "[No_Audio] loading → vid3, seg6, ann3\n",
      "[No_Audio] loading → vid3, seg7, ann1\n",
      "[No_Audio] loading → vid3, seg7, ann2\n",
      "[No_Audio] loading → vid3, seg7, ann3\n",
      "[No_Audio] loading → vid3, seg8, ann1\n",
      "[No_Audio] loading → vid3, seg8, ann2\n",
      "[No_Audio] loading → vid3, seg8, ann3\n",
      "[No_Audio] loading → vid3, seg9, ann1\n",
      "[No_Audio] loading → vid3, seg9, ann2\n",
      "[No_Audio] loading → vid3, seg9, ann3\n",
      "[No_Audio] loading → vid4, seg1, ann1\n",
      "[No_Audio] loading → vid4, seg1, ann2\n",
      "[No_Audio] loading → vid4, seg1, ann3\n",
      "[No_Audio] loading → vid4, seg2, ann1\n",
      "[No_Audio] loading → vid4, seg2, ann2\n",
      "[No_Audio] loading → vid4, seg2, ann3\n",
      "[No_Audio] loading → vid4, seg3, ann1\n",
      "[No_Audio] loading → vid4, seg3, ann2\n",
      "[No_Audio] loading → vid4, seg3, ann3\n",
      "[No_Audio] loading → vid4, seg4, ann1\n",
      "[No_Audio] loading → vid4, seg4, ann2\n",
      "[No_Audio] loading → vid4, seg4, ann3\n",
      "[No_Audio] loading → vid4, seg5, ann1\n",
      "[No_Audio] loading → vid4, seg5, ann2\n",
      "[No_Audio] loading → vid4, seg5, ann3\n",
      "[No_Audio] loading → vid4, seg6, ann1\n",
      "[No_Audio] loading → vid4, seg6, ann2\n",
      "[No_Audio] loading → vid4, seg6, ann3\n",
      "[No_Audio] loading → vid4, seg7, ann1\n",
      "[No_Audio] loading → vid4, seg7, ann2\n",
      "[No_Audio] loading → vid4, seg7, ann3\n",
      "[No_Audio] loading → vid4, seg8, ann1\n",
      "[No_Audio] loading → vid4, seg8, ann2\n",
      "[No_Audio] loading → vid4, seg8, ann3\n",
      "[No_Audio] loading → vid4, seg9, ann1\n",
      "[No_Audio] loading → vid4, seg9, ann2\n",
      "[No_Audio] loading → vid4, seg9, ann3\n",
      "[No_Audio] loading → vid5, seg1, ann1\n",
      "[No_Audio] loading → vid5, seg1, ann2\n",
      "[No_Audio] loading → vid5, seg1, ann3\n",
      "[No_Audio] loading → vid5, seg2, ann1\n",
      "[No_Audio] loading → vid5, seg2, ann2\n",
      "[No_Audio] loading → vid5, seg2, ann3\n",
      "[No_Audio] grouped into 23 (vid,seg) keys: dict_keys([('vid2', 'seg7'), ('vid2', 'seg8'), ('vid2', 'seg9'), ('vid3', 'seg1'), ('vid3', 'seg2'), ('vid3', 'seg3'), ('vid3', 'seg4'), ('vid3', 'seg5'), ('vid3', 'seg6'), ('vid3', 'seg7'), ('vid3', 'seg8'), ('vid3', 'seg9'), ('vid4', 'seg1'), ('vid4', 'seg2'), ('vid4', 'seg3'), ('vid4', 'seg4'), ('vid4', 'seg5'), ('vid4', 'seg6'), ('vid4', 'seg7'), ('vid4', 'seg8'), ('vid4', 'seg9'), ('vid5', 'seg1'), ('vid5', 'seg2')])\n",
      "[save] ./annotations/per_modality/annotations_no_audio_majority.csv\n",
      "\n",
      "[load] Only_Audio: found 69 CSV files\n",
      "[Only_Audio] loading → vid2, seg7, ann1\n",
      "[Only_Audio] loading → vid2, seg7, ann2\n",
      "[Only_Audio] loading → vid2, seg7, ann3\n",
      "[Only_Audio] loading → vid2, seg8, ann1\n",
      "[Only_Audio] loading → vid2, seg8, ann2\n",
      "[Only_Audio] loading → vid2, seg8, ann3\n",
      "[Only_Audio] loading → vid2, seg9, ann1\n",
      "[Only_Audio] loading → vid2, seg9, ann2\n",
      "[Only_Audio] loading → vid2, seg9, ann3\n",
      "[Only_Audio] loading → vid3, seg1, ann1\n",
      "[Only_Audio] loading → vid3, seg1, ann2\n",
      "[Only_Audio] loading → vid3, seg1, ann3\n",
      "[Only_Audio] loading → vid3, seg2, ann1\n",
      "[Only_Audio] loading → vid3, seg2, ann2\n",
      "[Only_Audio] loading → vid3, seg2, ann3\n",
      "[Only_Audio] loading → vid3, seg3, ann1\n",
      "[Only_Audio] loading → vid3, seg3, ann2\n",
      "[Only_Audio] loading → vid3, seg3, ann3\n",
      "[Only_Audio] loading → vid3, seg4, ann1\n",
      "[Only_Audio] loading → vid3, seg4, ann2\n",
      "[Only_Audio] loading → vid3, seg4, ann3\n",
      "[Only_Audio] loading → vid3, seg5, ann1\n",
      "[Only_Audio] loading → vid3, seg5, ann2\n",
      "[Only_Audio] loading → vid3, seg5, ann3\n",
      "[Only_Audio] loading → vid3, seg6, ann1\n",
      "[Only_Audio] loading → vid3, seg6, ann2\n",
      "[Only_Audio] loading → vid3, seg6, ann3\n",
      "[Only_Audio] loading → vid3, seg7, ann1\n",
      "[Only_Audio] loading → vid3, seg7, ann2\n",
      "[Only_Audio] loading → vid3, seg7, ann3\n",
      "[Only_Audio] loading → vid3, seg8, ann1\n",
      "[Only_Audio] loading → vid3, seg8, ann2\n",
      "[Only_Audio] loading → vid3, seg8, ann3\n",
      "[Only_Audio] loading → vid3, seg9, ann1\n",
      "[Only_Audio] loading → vid3, seg9, ann2\n",
      "[Only_Audio] loading → vid3, seg9, ann3\n",
      "[Only_Audio] loading → vid4, seg1, ann1\n",
      "[Only_Audio] loading → vid4, seg1, ann2\n",
      "[Only_Audio] loading → vid4, seg1, ann3\n",
      "[Only_Audio] loading → vid4, seg2, ann1\n",
      "[Only_Audio] loading → vid4, seg2, ann2\n",
      "[Only_Audio] loading → vid4, seg2, ann3\n",
      "[Only_Audio] loading → vid4, seg3, ann1\n",
      "[Only_Audio] loading → vid4, seg3, ann2\n",
      "[Only_Audio] loading → vid4, seg3, ann3\n",
      "[Only_Audio] loading → vid4, seg4, ann1\n",
      "[Only_Audio] loading → vid4, seg4, ann2\n",
      "[Only_Audio] loading → vid4, seg4, ann3\n",
      "[Only_Audio] loading → vid4, seg5, ann1\n",
      "[Only_Audio] loading → vid4, seg5, ann2\n",
      "[Only_Audio] loading → vid4, seg5, ann3\n",
      "[Only_Audio] loading → vid4, seg6, ann1\n",
      "[Only_Audio] loading → vid4, seg6, ann2\n",
      "[Only_Audio] loading → vid4, seg6, ann3\n",
      "[Only_Audio] loading → vid4, seg7, ann1\n",
      "[Only_Audio] loading → vid4, seg7, ann2\n",
      "[Only_Audio] loading → vid4, seg7, ann3\n",
      "[Only_Audio] loading → vid4, seg8, ann1\n",
      "[Only_Audio] loading → vid4, seg8, ann2\n",
      "[Only_Audio] loading → vid4, seg8, ann3\n",
      "[Only_Audio] loading → vid4, seg9, ann1\n",
      "[Only_Audio] loading → vid4, seg9, ann2\n",
      "[Only_Audio] loading → vid4, seg9, ann3\n",
      "[Only_Audio] loading → vid5, seg1, ann1\n",
      "[Only_Audio] loading → vid5, seg1, ann2\n",
      "[Only_Audio] loading → vid5, seg1, ann3\n",
      "[Only_Audio] loading → vid5, seg2, ann1\n",
      "[Only_Audio] loading → vid5, seg2, ann2\n",
      "[Only_Audio] loading → vid5, seg2, ann3\n",
      "[Only_Audio] grouped into 23 (vid,seg) keys: dict_keys([('vid2', 'seg7'), ('vid2', 'seg8'), ('vid2', 'seg9'), ('vid3', 'seg1'), ('vid3', 'seg2'), ('vid3', 'seg3'), ('vid3', 'seg4'), ('vid3', 'seg5'), ('vid3', 'seg6'), ('vid3', 'seg7'), ('vid3', 'seg8'), ('vid3', 'seg9'), ('vid4', 'seg1'), ('vid4', 'seg2'), ('vid4', 'seg3'), ('vid4', 'seg4'), ('vid4', 'seg5'), ('vid4', 'seg6'), ('vid4', 'seg7'), ('vid4', 'seg8'), ('vid4', 'seg9'), ('vid5', 'seg1'), ('vid5', 'seg2')])\n",
      "[save] ./annotations/per_modality/annotations_only_audio_majority.csv\n",
      "\n",
      "[load] With_Audio: found 69 CSV files\n",
      "[With_Audio] loading → vid2, seg7, ann1\n",
      "[With_Audio] loading → vid2, seg7, ann2\n",
      "[With_Audio] loading → vid2, seg7, ann3\n",
      "[With_Audio] loading → vid2, seg8, ann1\n",
      "[With_Audio] loading → vid2, seg8, ann2\n",
      "[With_Audio] loading → vid2, seg8, ann3\n",
      "[With_Audio] loading → vid2, seg9, ann1\n",
      "[With_Audio] loading → vid2, seg9, ann2\n",
      "[With_Audio] loading → vid2, seg9, ann3\n",
      "[With_Audio] loading → vid3, seg1, ann1\n",
      "[With_Audio] loading → vid3, seg1, ann2\n",
      "[With_Audio] loading → vid3, seg1, ann3\n",
      "[With_Audio] loading → vid3, seg2, ann1\n",
      "[With_Audio] loading → vid3, seg2, ann2\n",
      "[With_Audio] loading → vid3, seg2, ann3\n",
      "[With_Audio] loading → vid3, seg3, ann1\n",
      "[With_Audio] loading → vid3, seg3, ann2\n",
      "[With_Audio] loading → vid3, seg3, ann3\n",
      "[With_Audio] loading → vid3, seg4, ann1\n",
      "[With_Audio] loading → vid3, seg4, ann2\n",
      "[With_Audio] loading → vid3, seg4, ann3\n",
      "[With_Audio] loading → vid3, seg5, ann1\n",
      "[With_Audio] loading → vid3, seg5, ann2\n",
      "[With_Audio] loading → vid3, seg5, ann3\n",
      "[With_Audio] loading → vid3, seg6, ann1\n",
      "[With_Audio] loading → vid3, seg6, ann2\n",
      "[With_Audio] loading → vid3, seg6, ann3\n",
      "[With_Audio] loading → vid3, seg7, ann1\n",
      "[With_Audio] loading → vid3, seg7, ann2\n",
      "[With_Audio] loading → vid3, seg7, ann3\n",
      "[With_Audio] loading → vid3, seg8, ann1\n",
      "[With_Audio] loading → vid3, seg8, ann2\n",
      "[With_Audio] loading → vid3, seg8, ann3\n",
      "[With_Audio] loading → vid3, seg9, ann1\n",
      "[With_Audio] loading → vid3, seg9, ann2\n",
      "[With_Audio] loading → vid3, seg9, ann3\n",
      "[With_Audio] loading → vid4, seg1, ann1\n",
      "[With_Audio] loading → vid4, seg1, ann2\n",
      "[With_Audio] loading → vid4, seg1, ann3\n",
      "[With_Audio] loading → vid4, seg2, ann1\n",
      "[With_Audio] loading → vid4, seg2, ann2\n",
      "[With_Audio] loading → vid4, seg2, ann3\n",
      "[With_Audio] loading → vid4, seg3, ann1\n",
      "[With_Audio] loading → vid4, seg3, ann2\n",
      "[With_Audio] loading → vid4, seg3, ann3\n",
      "[With_Audio] loading → vid4, seg4, ann1\n",
      "[With_Audio] loading → vid4, seg4, ann2\n",
      "[With_Audio] loading → vid4, seg4, ann3\n",
      "[With_Audio] loading → vid4, seg5, ann1\n",
      "[With_Audio] loading → vid4, seg5, ann2\n",
      "[With_Audio] loading → vid4, seg5, ann3\n",
      "[With_Audio] loading → vid4, seg6, ann1\n",
      "[With_Audio] loading → vid4, seg6, ann2\n",
      "[With_Audio] loading → vid4, seg6, ann3\n",
      "[With_Audio] loading → vid4, seg7, ann1\n",
      "[With_Audio] loading → vid4, seg7, ann2\n",
      "[With_Audio] loading → vid4, seg7, ann3\n",
      "[With_Audio] loading → vid4, seg8, ann1\n",
      "[With_Audio] loading → vid4, seg8, ann2\n",
      "[With_Audio] loading → vid4, seg8, ann3\n",
      "[With_Audio] loading → vid4, seg9, ann1\n",
      "[With_Audio] loading → vid4, seg9, ann2\n",
      "[With_Audio] loading → vid4, seg9, ann3\n",
      "[With_Audio] loading → vid5, seg1, ann1\n",
      "[With_Audio] loading → vid5, seg1, ann2\n",
      "[With_Audio] loading → vid5, seg1, ann3\n",
      "[With_Audio] loading → vid5, seg2, ann1\n",
      "[With_Audio] loading → vid5, seg2, ann2\n",
      "[With_Audio] loading → vid5, seg2, ann3\n",
      "[With_Audio] grouped into 23 (vid,seg) keys: dict_keys([('vid2', 'seg7'), ('vid2', 'seg8'), ('vid2', 'seg9'), ('vid3', 'seg1'), ('vid3', 'seg2'), ('vid3', 'seg3'), ('vid3', 'seg4'), ('vid3', 'seg5'), ('vid3', 'seg6'), ('vid3', 'seg7'), ('vid3', 'seg8'), ('vid3', 'seg9'), ('vid4', 'seg1'), ('vid4', 'seg2'), ('vid4', 'seg3'), ('vid4', 'seg4'), ('vid4', 'seg5'), ('vid4', 'seg6'), ('vid4', 'seg7'), ('vid4', 'seg8'), ('vid4', 'seg9'), ('vid5', 'seg1'), ('vid5', 'seg2')])\n",
      "[save] ./annotations/per_modality/annotations_with_audio_majority.csv\n",
      "\n"
     ]
    }
   ],
   "execution_count": 4
  },
  {
   "metadata": {
    "ExecuteTime": {
     "end_time": "2025-06-18T13:02:10.593082Z",
     "start_time": "2025-06-18T13:02:08.448357Z"
    }
   },
   "cell_type": "code",
   "source": [
    "ann_path = \"./annotations/per_modality/annotations_only_audio_majority.csv\"\n",
    "\n",
    "df = pd.read_csv(ann_path)\n",
    "\n",
    "for (vid, seg) in df.groupby([\"video_id\", \"segment\"]):\n",
    "    print(vid)"
   ],
   "id": "be2cb102b89595a3",
   "outputs": [
    {
     "name": "stdout",
     "output_type": "stream",
     "text": [
      "('vid2', 'seg7')\n",
      "('vid2', 'seg8')\n",
      "('vid2', 'seg9')\n",
      "('vid3', 'seg1')\n",
      "('vid3', 'seg2')\n",
      "('vid3', 'seg3')\n",
      "('vid3', 'seg4')\n",
      "('vid3', 'seg5')\n",
      "('vid3', 'seg6')\n",
      "('vid3', 'seg7')\n",
      "('vid3', 'seg8')\n",
      "('vid3', 'seg9')\n",
      "('vid4', 'seg1')\n",
      "('vid4', 'seg2')\n",
      "('vid4', 'seg3')\n",
      "('vid4', 'seg4')\n",
      "('vid4', 'seg5')\n",
      "('vid4', 'seg6')\n",
      "('vid4', 'seg7')\n",
      "('vid4', 'seg8')\n",
      "('vid4', 'seg9')\n",
      "('vid5', 'seg1')\n",
      "('vid5', 'seg2')\n"
     ]
    }
   ],
   "execution_count": 5
  },
  {
   "metadata": {
    "ExecuteTime": {
     "end_time": "2025-06-13T15:02:18.729661Z",
     "start_time": "2025-06-13T15:00:08.461466Z"
    }
   },
   "cell_type": "code",
   "source": [
    "import os\n",
    "import pandas as pd\n",
    "\n",
    "# ─── CONFIG ────────────────────────────────────────────────────────────────\n",
    "# Ruta al CSV resultante de “majority” (sin duplicados de frame)\n",
    "ann_path = \"./annotations/per_modality/annotations_only_audio_majority.csv\"\n",
    "output_dir = \"./annotations/cont/\"\n",
    "os.makedirs(output_dir, exist_ok=True)\n",
    "\n",
    "# Frecuencia de muestreo de las anotaciones (60 Hz)\n",
    "FPS = 60.0\n",
    "\n",
    "# ─── 1. Cargar anotaciones “majority” ────────────────────────────────────────\n",
    "df = pd.read_csv(ann_path)\n",
    "\n",
    "# ─── 2. Generar segmentos contiguos para cada (video_id, segment, participant) ─\n",
    "segments = []\n",
    "for (vid, seg, pid), group in df.groupby([\"video_id\", \"segment\", \"participant\"]):\n",
    "    # Ordenar por frame ascendente\n",
    "    group = group.sort_values(\"frame\").reset_index(drop=True)\n",
    "    current_label = group.loc[0, \"label\"]\n",
    "    start_frame   = group.loc[0, \"frame\"]\n",
    "\n",
    "    # Recorrer cada fila para detectar cambios de etiqueta o saltos en el frame\n",
    "    for i in range(1, len(group)):\n",
    "        row        = group.loc[i]\n",
    "        prev_frame = group.loc[i - 1, \"frame\"]\n",
    "\n",
    "        # Si cambia el label o no_audio es frame consecutivo: cerramos segmento\n",
    "        if (row[\"label\"] != current_label) or (row[\"frame\"] != prev_frame + 1):\n",
    "            end_frame = prev_frame\n",
    "            duration_s = (end_frame - start_frame + 1) / FPS\n",
    "\n",
    "            segments.append({\n",
    "                \"video_id\":    vid,\n",
    "                \"segment\":     seg,\n",
    "                \"participant\": pid,\n",
    "                \"start_frame\": int(start_frame),\n",
    "                \"end_frame\":   int(end_frame),\n",
    "                \"start_time\":  start_frame / FPS,\n",
    "                \"end_time\":    end_frame / FPS,\n",
    "                \"duration_s\":  duration_s,\n",
    "                \"label\":       int(current_label)\n",
    "            })\n",
    "\n",
    "            # Comenzar nuevo segmento\n",
    "            start_frame   = row[\"frame\"]\n",
    "            current_label = row[\"label\"]\n",
    "\n",
    "    # Agregar el último segmento abierto\n",
    "    end_frame = group.loc[len(group)-1, \"frame\"]\n",
    "    duration_s = (end_frame - start_frame + 1) / FPS\n",
    "    segments.append({\n",
    "        \"video_id\":    vid,\n",
    "        \"segment\":     seg,\n",
    "        \"participant\": pid,\n",
    "        \"start_frame\": int(start_frame),\n",
    "        \"end_frame\":   int(end_frame),\n",
    "        \"start_time\":  start_frame / FPS,\n",
    "        \"end_time\":    end_frame / FPS,\n",
    "        \"duration_s\":  duration_s,\n",
    "        \"label\":       int(current_label)\n",
    "    })\n",
    "\n",
    "# ─── 3. Convertir a DataFrame y guardar ────────────────────────────────────────\n",
    "df_segments = pd.DataFrame(segments)\n",
    "out_path = os.path.join(output_dir, \"annotations_only_audio_majority_cont.csv\")\n",
    "df_segments.to_csv(out_path, index=False)\n",
    "\n",
    "print(f\"✅ Guardado contiguous segments → {out_path}\")\n"
   ],
   "id": "d8b51e20f7e88518",
   "outputs": [
    {
     "name": "stdout",
     "output_type": "stream",
     "text": [
      "✅ Guardado contiguous segments → ./annotations/cont/annotations_only_audio_majority_cont.csv\n"
     ]
    }
   ],
   "execution_count": 6
  },
  {
   "metadata": {
    "ExecuteTime": {
     "end_time": "2025-06-16T17:17:04.769081Z",
     "start_time": "2025-06-16T17:16:35.878209Z"
    }
   },
   "cell_type": "code",
   "source": [
    "import os\n",
    "import pickle\n",
    "import numpy as np\n",
    "import pandas as pd\n",
    "from glob import glob\n",
    "\n",
    "# CONFIG\n",
    "ANN_CSV = \"./annotations/cont/annotations_with_audio_majority_cont.csv\"\n",
    "PKL_DIR = \"./accelerometer/filtered\"\n",
    "OUT_CSV = \"./features/fixed_really/with_audio/features_with_audio_2s.csv\"\n",
    "os.makedirs(os.path.dirname(OUT_CSV), exist_ok=True)\n",
    "\n",
    "FS = 56.0  # Sampling rate in Hz\n",
    "WIN_SEC = 2.0\n",
    "WIN_SAMPLES = int(WIN_SEC * FS)\n",
    "FILTERED_COLS = [\"accelX_filtered\", \"accelY_filtered\", \"accelZ_filtered\"]\n",
    "\n",
    "# Load annotations\n",
    "df_ann = pd.read_csv(ANN_CSV)\n",
    "df_ann = df_ann[df_ann[\"duration_s\"] > 0.2]\n",
    "\n",
    "# Load signals\n",
    "signals = {}\n",
    "for pkl in glob(os.path.join(PKL_DIR, \"*.pkl\")):\n",
    "    pid = int(os.path.splitext(os.path.basename(pkl))[0])\n",
    "    with open(pkl, \"rb\") as f:\n",
    "        signals[pid] = pickle.load(f)\n",
    "\n",
    "# Feature extractor for fixed 10s segments\n",
    "def extract_fixed10s_features(df_sig, t0, t1):\n",
    "    seg = df_sig[(df_sig[\"time\"] >= t0) & (df_sig[\"time\"] < t1)]\n",
    "    X = seg[FILTERED_COLS].to_numpy()\n",
    "    L, F = X.shape  # L = real samples, F = 3\n",
    "\n",
    "    if L == 0:\n",
    "        X2 = np.zeros((WIN_SAMPLES, F))\n",
    "    elif L < WIN_SAMPLES:\n",
    "        pad_rows = np.tile(X[-1], (WIN_SAMPLES - L, 1))\n",
    "        X2 = np.vstack([X, pad_rows])\n",
    "    else:\n",
    "        X2 = X[:WIN_SAMPLES]\n",
    "\n",
    "    feats = {}\n",
    "    for i, col in enumerate(FILTERED_COLS):\n",
    "        arr = X2[:, i]\n",
    "        feats[f\"{col}_mean\"] = arr.mean()\n",
    "        feats[f\"{col}_var\"] = arr.var()\n",
    "        feats[f\"{col}_energy\"] = (arr ** 2).sum()\n",
    "        d = np.diff(arr)\n",
    "        feats[f\"{col}_deriv_mean\"] = d.mean() if len(d) > 0 else 0\n",
    "        feats[f\"{col}_deriv_std\"] = d.std() if len(d) > 0 else 0\n",
    "\n",
    "    feats[\"SMA\"] = np.abs(X2).sum()\n",
    "    if X2.shape[0] > 1:\n",
    "        def safe_corr(x, y):\n",
    "            if np.std(x) == 0 or np.std(y) == 0:\n",
    "                return 0.0\n",
    "            return np.corrcoef(x, y)[0, 1]\n",
    "\n",
    "        feats[\"corr_xy\"] = safe_corr(X2[:, 0], X2[:, 1])\n",
    "        feats[\"corr_xz\"] = safe_corr(X2[:, 0], X2[:, 2])\n",
    "        feats[\"corr_yz\"] = safe_corr(X2[:, 1], X2[:, 2])\n",
    "\n",
    "    else:\n",
    "        feats.update({k: 0 for k in (\"corr_xy\", \"corr_xz\", \"corr_yz\")})\n",
    "\n",
    "    feats[\"padded_duration_s\"] = WIN_SEC\n",
    "    feats[\"real_sample_count\"] = L\n",
    "    feats[\"expected_sample_count\"] = WIN_SAMPLES\n",
    "    feats[\"padding_applied\"] = int(L < WIN_SAMPLES)\n",
    "\n",
    "    return feats\n",
    "\n",
    "# Process segments into fixed-length chunks\n",
    "records = []\n",
    "for _, row in df_ann.iterrows():\n",
    "    pid = row[\"participant\"]\n",
    "    if pid not in signals:\n",
    "        continue\n",
    "\n",
    "    df_sig = signals[pid]\n",
    "    t0 = row[\"start_time\"]\n",
    "    t1 = row[\"end_time\"]\n",
    "    duration = t1 - t0\n",
    "    num_chunks = int(np.ceil(duration / WIN_SEC))\n",
    "\n",
    "    for i in range(num_chunks):\n",
    "        start = t0 + i * WIN_SEC\n",
    "        end = min(start + WIN_SEC, t1)\n",
    "        feats = extract_fixed10s_features(df_sig, start, end)\n",
    "\n",
    "        # Add metadata\n",
    "        feats.update({\n",
    "            \"video_id\": row[\"video_id\"],\n",
    "            \"segment\": f\"{row['segment']}_chunk{i}\",\n",
    "            \"participant\": pid,\n",
    "            \"start_time\": start,\n",
    "            \"end_time\": end,\n",
    "            \"original_duration\": duration,\n",
    "            \"label\": row[\"label\"]\n",
    "        })\n",
    "        records.append(feats)\n",
    "\n",
    "# Save to CSV\n",
    "df_out = pd.DataFrame.from_records(records)\n",
    "df_out.to_csv(OUT_CSV, index=False)\n",
    "print(f\"✅ Saved {len(records)} → {OUT_CSV}\")\n"
   ],
   "id": "595238ddc6c78c4",
   "outputs": [
    {
     "name": "stdout",
     "output_type": "stream",
     "text": [
      "✅ Saved 66789 → ./features/fixed/with_audio/features_with_audio_2s.csv\n"
     ]
    }
   ],
   "execution_count": 7
  },
  {
   "metadata": {
    "ExecuteTime": {
     "end_time": "2025-06-20T12:07:05.062056Z",
     "start_time": "2025-06-20T12:07:05.053220Z"
    }
   },
   "cell_type": "code",
   "source": [
    "import pandas as pd\n",
    "\n",
    "BASE_ANN_CONT = \"./annotations/cont/annotations_with_audio_majority_cont.csv\"\n",
    "\n",
    "df = pd.read_csv(BASE_ANN_CONT)\n",
    "\n",
    "# Sumar cuántos labels son 1\n",
    "print((df[\"label\"] == 1).sum())\n",
    "print((df[\"label\"] == 0).sum())\n"
   ],
   "id": "1e4bf3780204d580",
   "outputs": [
    {
     "name": "stdout",
     "output_type": "stream",
     "text": [
      "1270\n",
      "2419\n",
      "1008\n"
     ]
    }
   ],
   "execution_count": 14
  },
  {
   "metadata": {
    "ExecuteTime": {
     "end_time": "2025-06-20T12:13:49.320433Z",
     "start_time": "2025-06-20T12:13:33.264719Z"
    }
   },
   "cell_type": "code",
   "source": [
    "import os\n",
    "import numpy as np\n",
    "import pandas as pd\n",
    "import pickle\n",
    "from glob import glob\n",
    "\n",
    "# CONFIG\n",
    "MODALITIES = [\"with_audio\", \"only_audio\", \"no_audio\"]\n",
    "DURATIONS = [1, 2, 10]  # in seconds\n",
    "BASE_ANN_CONT = \"./annotations/cont/annotations_{modality}_majority_cont.csv\"\n",
    "PKL_DIR = \"./accelerometer/filtered\"\n",
    "FILTERED_COLS = [\"accelX_filtered\", \"accelY_filtered\", \"accelZ_filtered\"]\n",
    "FS = 56.0  # Hz\n",
    "\n",
    "# Load signals\n",
    "signals = {}\n",
    "for pkl in glob(os.path.join(PKL_DIR, \"*.pkl\")):\n",
    "    pid = int(os.path.splitext(os.path.basename(pkl))[0])\n",
    "    with open(pkl, \"rb\") as f:\n",
    "        signals[pid] = pickle.load(f)\n",
    "\n",
    "def extract_centered_features_flexible(df_sig, center, duration):\n",
    "    t0 = center - duration / 2\n",
    "    t1 = center + duration / 2\n",
    "\n",
    "    # Limitar a lo que realmente existe en la señal\n",
    "    min_t, max_t = df_sig[\"time\"].min(), df_sig[\"time\"].max()\n",
    "    t0 = max(t0, min_t)\n",
    "    t1 = min(t1, max_t)\n",
    "\n",
    "    seg = df_sig[(df_sig[\"time\"] >= t0) & (df_sig[\"time\"] < t1)]\n",
    "    X = seg[FILTERED_COLS].to_numpy()\n",
    "    L, F = X.shape\n",
    "    feats = {}\n",
    "\n",
    "    for i, col in enumerate(FILTERED_COLS):\n",
    "        arr = X[:, i]\n",
    "        feats[f\"{col}_mean\"] = arr.mean() if L > 0 else 0\n",
    "        feats[f\"{col}_var\"] = arr.var() if L > 0 else 0\n",
    "        feats[f\"{col}_energy\"] = (arr ** 2).sum() if L > 0 else 0\n",
    "        d = np.diff(arr)\n",
    "        feats[f\"{col}_deriv_mean\"] = d.mean() if len(d) > 0 else 0\n",
    "        feats[f\"{col}_deriv_std\"] = d.std() if len(d) > 0 else 0\n",
    "\n",
    "    feats[\"SMA\"] = np.abs(X).sum() if L > 0 else 0\n",
    "\n",
    "    if L > 1:\n",
    "        def safe_corr(x, y):\n",
    "            if np.std(x) == 0 or np.std(y) == 0:\n",
    "                return 0.0\n",
    "            return np.corrcoef(x, y)[0, 1]\n",
    "        feats[\"corr_xy\"] = safe_corr(X[:, 0], X[:, 1])\n",
    "        feats[\"corr_xz\"] = safe_corr(X[:, 0], X[:, 2])\n",
    "        feats[\"corr_yz\"] = safe_corr(X[:, 1], X[:, 2])\n",
    "    else:\n",
    "        feats.update({k: 0 for k in (\"corr_xy\", \"corr_xz\", \"corr_yz\")})\n",
    "\n",
    "    feats[\"duration_s\"] = t1 - t0\n",
    "    feats[\"real_sample_count\"] = L\n",
    "    feats[\"start_time\"] = t0\n",
    "    feats[\"end_time\"] = t1\n",
    "    return feats\n",
    "\n",
    "\n",
    "# Main loop over modality and duration\n",
    "for modality in MODALITIES:\n",
    "    ann_path = BASE_ANN_CONT.format(modality=modality)\n",
    "    df_cont = pd.read_csv(ann_path)\n",
    "    df_cont = df_cont[df_cont[\"duration_s\"] >= 0.2]\n",
    "\n",
    "    for dur in DURATIONS:\n",
    "        df_dur = df_cont.copy()\n",
    "        records = []\n",
    "\n",
    "        for _, row in df_dur.iterrows():\n",
    "            pid = row[\"participant\"]\n",
    "            if pid not in signals:\n",
    "                continue\n",
    "\n",
    "            df_sig = signals[pid]\n",
    "            center = (row[\"start_time\"] + row[\"end_time\"]) / 2.0\n",
    "\n",
    "            feats = extract_centered_features_flexible(df_sig, center, dur)\n",
    "\n",
    "            feats.update({\n",
    "                \"video_id\": row[\"video_id\"],\n",
    "                \"segment\": row[\"segment\"],\n",
    "                \"participant\": pid,\n",
    "                \"label\": row[\"label\"],\n",
    "                \"original_cont_duration\": row[\"duration_s\"]\n",
    "            })\n",
    "            records.append(feats)\n",
    "\n",
    "        output_dir = f\"./features/from_centered/{modality}/{dur}s\"\n",
    "        os.makedirs(output_dir, exist_ok=True)\n",
    "        out_path = os.path.join(output_dir, f\"annotations_{modality}_centered_{dur}s.csv\")\n",
    "        pd.DataFrame.from_records(records).to_csv(out_path, index=False)\n",
    "        print(f\"✅ Saved {len(records)} segments → {out_path}\")\n"
   ],
   "id": "88b0818c160fe2b6",
   "outputs": [
    {
     "name": "stdout",
     "output_type": "stream",
     "text": [
      "✅ Saved 3270 segments → ./features/from_centered/with_audio/1s/annotations_with_audio_centered_1s.csv\n",
      "✅ Saved 3270 segments → ./features/from_centered/with_audio/2s/annotations_with_audio_centered_2s.csv\n",
      "✅ Saved 3270 segments → ./features/from_centered/with_audio/10s/annotations_with_audio_centered_10s.csv\n",
      "✅ Saved 3975 segments → ./features/from_centered/only_audio/1s/annotations_only_audio_centered_1s.csv\n",
      "✅ Saved 3975 segments → ./features/from_centered/only_audio/2s/annotations_only_audio_centered_2s.csv\n",
      "✅ Saved 3975 segments → ./features/from_centered/only_audio/10s/annotations_only_audio_centered_10s.csv\n",
      "✅ Saved 3488 segments → ./features/from_centered/no_audio/1s/annotations_no_audio_centered_1s.csv\n",
      "✅ Saved 3488 segments → ./features/from_centered/no_audio/2s/annotations_no_audio_centered_2s.csv\n",
      "✅ Saved 3488 segments → ./features/from_centered/no_audio/10s/annotations_no_audio_centered_10s.csv\n"
     ]
    }
   ],
   "execution_count": 16
  },
  {
   "metadata": {
    "ExecuteTime": {
     "end_time": "2025-06-16T17:58:16.494015Z",
     "start_time": "2025-06-16T17:58:16.482624Z"
    }
   },
   "cell_type": "code",
   "source": [
    "import os\n",
    "import wandb\n",
    "import pandas as pd\n",
    "import numpy as np\n",
    "\n",
    "from sklearn.model_selection import train_test_split\n",
    "from sklearn.ensemble      import RandomForestClassifier\n",
    "from sklearn.metrics       import classification_report, f1_score\n",
    "\n",
    "def train():\n",
    "    # 1) Start a W&B run\n",
    "    run = wandb.init(project=\"rf-segment-classification\", job_type=\"train\")\n",
    "    cfg = run.config\n",
    "\n",
    "    # 2) Choose the right feature file\n",
    "    base = \"./features/fixed/no_audio\"\n",
    "    feat_file = os.path.join(base, f\"features_no_audio_2s.csv\")\n",
    "\n",
    "    if not os.path.exists(feat_file):\n",
    "        raise FileNotFoundError(f\"Missing feature file: {feat_file}\")\n",
    "\n",
    "    # 3) Load data\n",
    "    df = pd.read_csv(feat_file)\n",
    "    drop_cols = [\n",
    "    \"video_id\", \"segment\", \"participant\",\n",
    "    \"start_time\", \"end_time\", \"label\",\n",
    "    \"padded_duration_s\", \"original_duration\",\n",
    "    \"real_sample_count\", \"expected_sample_count\",\n",
    "    \"padding_applied\"\n",
    "    ]\n",
    "    feature_cols = [c for c in df.columns if c not in drop_cols]\n",
    "\n",
    "    feature_cols = [c for c in df.columns if c not in drop_cols]\n",
    "\n",
    "    X = df[feature_cols].fillna(0)\n",
    "    y = df[\"label\"]\n",
    "\n",
    "    # 4) Stratified train/test split\n",
    "    X_tr, X_te, y_tr, y_te = train_test_split(\n",
    "        X, y, test_size=0.2, stratify=y, random_state=cfg.random_state\n",
    "    )\n",
    "\n",
    "    # 5) Train RandomForest\n",
    "    clf = RandomForestClassifier(\n",
    "        n_estimators   = cfg.n_estimators,\n",
    "        max_depth      = cfg.max_depth,\n",
    "        class_weight   = \"balanced\",\n",
    "        random_state   = cfg.random_state,\n",
    "        n_jobs         = -1\n",
    "    )\n",
    "    clf.fit(X_tr, y_tr)\n",
    "\n",
    "    # 6) Evaluate\n",
    "    y_pred = clf.predict(X_te)\n",
    "    report = classification_report(y_te, y_pred, output_dict=True, zero_division=0)\n",
    "    f1_macro = f1_score(y_te, y_pred, average=\"macro\")\n",
    "\n",
    "    # 7) Log all metrics\n",
    "    metrics = {\n",
    "        \"test/accuracy\":    report[\"accuracy\"],\n",
    "        \"test/f1_macro\":    f1_macro,\n",
    "        \"test/precision_0\": report[\"0\"][\"precision\"],\n",
    "        \"test/recall_0\":    report[\"0\"][\"recall\"],\n",
    "        \"test/f1_0\":        report[\"0\"][\"f1-score\"],\n",
    "        \"test/precision_1\": report[\"1\"][\"precision\"],\n",
    "        \"test/recall_1\":    report[\"1\"][\"recall\"],\n",
    "        \"test/f1_1\":        report[\"1\"][\"f1-score\"],\n",
    "        \"f1\":               report[\"macro avg\"][\"f1-score\"]\n",
    "    }\n",
    "    run.log(metrics)\n",
    "\n",
    "    # 8) Log top‐10 feature importances\n",
    "    importances = pd.Series(clf.feature_importances_, index=feature_cols)\n",
    "    top10 = importances.nlargest(10)\n",
    "    for feat, val in top10.items():\n",
    "        run.log({f\"feature_importance/{feat}\": val})\n",
    "\n",
    "    run.finish()\n"
   ],
   "id": "a4fd49c4f27a77fe",
   "outputs": [],
   "execution_count": 16
  },
  {
   "metadata": {
    "ExecuteTime": {
     "end_time": "2025-06-16T17:58:18.892767Z",
     "start_time": "2025-06-16T17:58:18.392586Z"
    }
   },
   "cell_type": "code",
   "source": [
    "import wandb\n",
    "\n",
    "sweep_config = {\n",
    "    \"method\": \"bayes\",\n",
    "    \"metric\": {\"name\": \"test/f1_macro\", \"goal\": \"maximize\"},\n",
    "    \"parameters\": {\n",
    "        \"n_estimators\":        {\"values\": [50, 100, 200]},\n",
    "        \"max_depth\":           {\"values\": [None, 5, 10]},\n",
    "        \"random_state\":        {\"value\": 42}\n",
    "    }\n",
    "}\n",
    "\n",
    "sweep_id = wandb.sweep(sweep_config, project=\"rf-segment-classification\")\n",
    "print(\"Sweep ID:\", sweep_id)\n"
   ],
   "id": "2607c65a0b15c30d",
   "outputs": [
    {
     "name": "stdout",
     "output_type": "stream",
     "text": [
      "Create sweep with ID: qj7z584c\n",
      "Sweep URL: https://wandb.ai/knezevicoluka-tu-delft/rf-segment-classification/sweeps/qj7z584c\n",
      "Sweep ID: qj7z584c\n"
     ]
    }
   ],
   "execution_count": 17
  },
  {
   "metadata": {
    "ExecuteTime": {
     "end_time": "2025-06-16T17:59:35.783955Z",
     "start_time": "2025-06-16T17:58:20.897570Z"
    }
   },
   "cell_type": "code",
   "source": [
    "# Run 12 trials (one for each window_size × hyperparam combination)\n",
    "wandb.agent(sweep_id, function=train, count=12)\n"
   ],
   "id": "f4d700574cbc89a7",
   "outputs": [
    {
     "name": "stderr",
     "output_type": "stream",
     "text": [
      "\u001B[34m\u001B[1mwandb\u001B[0m: Agent Starting Run: n6xap2j1 with config:\n",
      "\u001B[34m\u001B[1mwandb\u001B[0m: \tmax_depth: None\n",
      "\u001B[34m\u001B[1mwandb\u001B[0m: \tn_estimators: 200\n",
      "\u001B[34m\u001B[1mwandb\u001B[0m: \trandom_state: 42\n"
     ]
    },
    {
     "data": {
      "text/plain": [
       "<IPython.core.display.HTML object>"
      ],
      "text/html": [
       "Ignoring project 'rf-segment-classification' when running a sweep."
      ]
     },
     "metadata": {},
     "output_type": "display_data"
    },
    {
     "data": {
      "text/plain": [
       "<IPython.core.display.HTML object>"
      ],
      "text/html": [
       "Tracking run with wandb version 0.20.1"
      ]
     },
     "metadata": {},
     "output_type": "display_data"
    },
    {
     "data": {
      "text/plain": [
       "<IPython.core.display.HTML object>"
      ],
      "text/html": [
       "Run data is saved locally in <code>/Users/lukini/PycharmProjects/DetectorPerModalitie/wandb/run-20250616_195822-n6xap2j1</code>"
      ]
     },
     "metadata": {},
     "output_type": "display_data"
    },
    {
     "data": {
      "text/plain": [
       "<IPython.core.display.HTML object>"
      ],
      "text/html": [
       "Syncing run <strong><a href='https://wandb.ai/knezevicoluka-tu-delft/rf-segment-classification/runs/n6xap2j1' target=\"_blank\">rosy-sweep-1</a></strong> to <a href='https://wandb.ai/knezevicoluka-tu-delft/rf-segment-classification' target=\"_blank\">Weights & Biases</a> (<a href='https://wandb.me/developer-guide' target=\"_blank\">docs</a>)<br>Sweep page: <a href='https://wandb.ai/knezevicoluka-tu-delft/rf-segment-classification/sweeps/qj7z584c' target=\"_blank\">https://wandb.ai/knezevicoluka-tu-delft/rf-segment-classification/sweeps/qj7z584c</a>"
      ]
     },
     "metadata": {},
     "output_type": "display_data"
    },
    {
     "data": {
      "text/plain": [
       "<IPython.core.display.HTML object>"
      ],
      "text/html": [
       " View project at <a href='https://wandb.ai/knezevicoluka-tu-delft/rf-segment-classification' target=\"_blank\">https://wandb.ai/knezevicoluka-tu-delft/rf-segment-classification</a>"
      ]
     },
     "metadata": {},
     "output_type": "display_data"
    },
    {
     "data": {
      "text/plain": [
       "<IPython.core.display.HTML object>"
      ],
      "text/html": [
       " View sweep at <a href='https://wandb.ai/knezevicoluka-tu-delft/rf-segment-classification/sweeps/qj7z584c' target=\"_blank\">https://wandb.ai/knezevicoluka-tu-delft/rf-segment-classification/sweeps/qj7z584c</a>"
      ]
     },
     "metadata": {},
     "output_type": "display_data"
    },
    {
     "data": {
      "text/plain": [
       "<IPython.core.display.HTML object>"
      ],
      "text/html": [
       " View run at <a href='https://wandb.ai/knezevicoluka-tu-delft/rf-segment-classification/runs/n6xap2j1' target=\"_blank\">https://wandb.ai/knezevicoluka-tu-delft/rf-segment-classification/runs/n6xap2j1</a>"
      ]
     },
     "metadata": {},
     "output_type": "display_data"
    },
    {
     "data": {
      "text/plain": [
       "<IPython.core.display.HTML object>"
      ],
      "text/html": []
     },
     "metadata": {},
     "output_type": "display_data"
    },
    {
     "data": {
      "text/plain": [
       "<IPython.core.display.HTML object>"
      ],
      "text/html": [
       "<br>    <style><br>        .wandb-row {<br>            display: flex;<br>            flex-direction: row;<br>            flex-wrap: wrap;<br>            justify-content: flex-start;<br>            width: 100%;<br>        }<br>        .wandb-col {<br>            display: flex;<br>            flex-direction: column;<br>            flex-basis: 100%;<br>            flex: 1;<br>            padding: 10px;<br>        }<br>    </style><br><div class=\"wandb-row\"><div class=\"wandb-col\"><h3>Run history:</h3><br/><table class=\"wandb\"><tr><td>f1</td><td>▁</td></tr><tr><td>feature_importance/accelX_filtered_deriv_std</td><td>▁</td></tr><tr><td>feature_importance/accelX_filtered_mean</td><td>▁</td></tr><tr><td>feature_importance/accelX_filtered_var</td><td>▁</td></tr><tr><td>feature_importance/accelY_filtered_deriv_std</td><td>▁</td></tr><tr><td>feature_importance/accelY_filtered_mean</td><td>▁</td></tr><tr><td>feature_importance/accelY_filtered_var</td><td>▁</td></tr><tr><td>feature_importance/accelZ_filtered_deriv_std</td><td>▁</td></tr><tr><td>feature_importance/accelZ_filtered_mean</td><td>▁</td></tr><tr><td>feature_importance/accelZ_filtered_var</td><td>▁</td></tr><tr><td>feature_importance/corr_xy</td><td>▁</td></tr><tr><td>test/accuracy</td><td>▁</td></tr><tr><td>test/f1_0</td><td>▁</td></tr><tr><td>test/f1_1</td><td>▁</td></tr><tr><td>test/f1_macro</td><td>▁</td></tr><tr><td>test/precision_0</td><td>▁</td></tr><tr><td>test/precision_1</td><td>▁</td></tr><tr><td>test/recall_0</td><td>▁</td></tr><tr><td>test/recall_1</td><td>▁</td></tr></table><br/></div><div class=\"wandb-col\"><h3>Run summary:</h3><br/><table class=\"wandb\"><tr><td>f1</td><td>0.56458</td></tr><tr><td>feature_importance/accelX_filtered_deriv_std</td><td>0.0797</td></tr><tr><td>feature_importance/accelX_filtered_mean</td><td>0.10681</td></tr><tr><td>feature_importance/accelX_filtered_var</td><td>0.04948</td></tr><tr><td>feature_importance/accelY_filtered_deriv_std</td><td>0.05854</td></tr><tr><td>feature_importance/accelY_filtered_mean</td><td>0.11987</td></tr><tr><td>feature_importance/accelY_filtered_var</td><td>0.04007</td></tr><tr><td>feature_importance/accelZ_filtered_deriv_std</td><td>0.05739</td></tr><tr><td>feature_importance/accelZ_filtered_mean</td><td>0.11353</td></tr><tr><td>feature_importance/accelZ_filtered_var</td><td>0.04621</td></tr><tr><td>feature_importance/corr_xy</td><td>0.03988</td></tr><tr><td>test/accuracy</td><td>0.9804</td></tr><tr><td>test/f1_0</td><td>0.99009</td></tr><tr><td>test/f1_1</td><td>0.13907</td></tr><tr><td>test/f1_macro</td><td>0.56458</td></tr><tr><td>test/precision_0</td><td>0.98215</td></tr><tr><td>test/precision_1</td><td>0.46667</td></tr><tr><td>test/recall_0</td><td>0.99816</td></tr><tr><td>test/recall_1</td><td>0.08171</td></tr></table><br/></div></div>"
      ]
     },
     "metadata": {},
     "output_type": "display_data"
    },
    {
     "data": {
      "text/plain": [
       "<IPython.core.display.HTML object>"
      ],
      "text/html": [
       " View run <strong style=\"color:#cdcd00\">rosy-sweep-1</strong> at: <a href='https://wandb.ai/knezevicoluka-tu-delft/rf-segment-classification/runs/n6xap2j1' target=\"_blank\">https://wandb.ai/knezevicoluka-tu-delft/rf-segment-classification/runs/n6xap2j1</a><br> View project at: <a href='https://wandb.ai/knezevicoluka-tu-delft/rf-segment-classification' target=\"_blank\">https://wandb.ai/knezevicoluka-tu-delft/rf-segment-classification</a><br>Synced 5 W&B file(s), 0 media file(s), 0 artifact file(s) and 0 other file(s)"
      ]
     },
     "metadata": {},
     "output_type": "display_data"
    },
    {
     "data": {
      "text/plain": [
       "<IPython.core.display.HTML object>"
      ],
      "text/html": [
       "Find logs at: <code>./wandb/run-20250616_195822-n6xap2j1/logs</code>"
      ]
     },
     "metadata": {},
     "output_type": "display_data"
    },
    {
     "name": "stderr",
     "output_type": "stream",
     "text": [
      "\u001B[34m\u001B[1mwandb\u001B[0m: Sweep Agent: Waiting for job.\n",
      "\u001B[34m\u001B[1mwandb\u001B[0m: Job received.\n",
      "\u001B[34m\u001B[1mwandb\u001B[0m: Agent Starting Run: nr52jo5c with config:\n",
      "\u001B[34m\u001B[1mwandb\u001B[0m: \tmax_depth: 10\n",
      "\u001B[34m\u001B[1mwandb\u001B[0m: \tn_estimators: 50\n",
      "\u001B[34m\u001B[1mwandb\u001B[0m: \trandom_state: 42\n"
     ]
    },
    {
     "data": {
      "text/plain": [
       "<IPython.core.display.HTML object>"
      ],
      "text/html": [
       "Ignoring project 'rf-segment-classification' when running a sweep."
      ]
     },
     "metadata": {},
     "output_type": "display_data"
    },
    {
     "data": {
      "text/plain": [
       "<IPython.core.display.HTML object>"
      ],
      "text/html": [
       "Tracking run with wandb version 0.20.1"
      ]
     },
     "metadata": {},
     "output_type": "display_data"
    },
    {
     "data": {
      "text/plain": [
       "<IPython.core.display.HTML object>"
      ],
      "text/html": [
       "Run data is saved locally in <code>/Users/lukini/PycharmProjects/DetectorPerModalitie/wandb/run-20250616_195837-nr52jo5c</code>"
      ]
     },
     "metadata": {},
     "output_type": "display_data"
    },
    {
     "data": {
      "text/plain": [
       "<IPython.core.display.HTML object>"
      ],
      "text/html": [
       "Syncing run <strong><a href='https://wandb.ai/knezevicoluka-tu-delft/rf-segment-classification/runs/nr52jo5c' target=\"_blank\">vague-sweep-2</a></strong> to <a href='https://wandb.ai/knezevicoluka-tu-delft/rf-segment-classification' target=\"_blank\">Weights & Biases</a> (<a href='https://wandb.me/developer-guide' target=\"_blank\">docs</a>)<br>Sweep page: <a href='https://wandb.ai/knezevicoluka-tu-delft/rf-segment-classification/sweeps/qj7z584c' target=\"_blank\">https://wandb.ai/knezevicoluka-tu-delft/rf-segment-classification/sweeps/qj7z584c</a>"
      ]
     },
     "metadata": {},
     "output_type": "display_data"
    },
    {
     "data": {
      "text/plain": [
       "<IPython.core.display.HTML object>"
      ],
      "text/html": [
       " View project at <a href='https://wandb.ai/knezevicoluka-tu-delft/rf-segment-classification' target=\"_blank\">https://wandb.ai/knezevicoluka-tu-delft/rf-segment-classification</a>"
      ]
     },
     "metadata": {},
     "output_type": "display_data"
    },
    {
     "data": {
      "text/plain": [
       "<IPython.core.display.HTML object>"
      ],
      "text/html": [
       " View sweep at <a href='https://wandb.ai/knezevicoluka-tu-delft/rf-segment-classification/sweeps/qj7z584c' target=\"_blank\">https://wandb.ai/knezevicoluka-tu-delft/rf-segment-classification/sweeps/qj7z584c</a>"
      ]
     },
     "metadata": {},
     "output_type": "display_data"
    },
    {
     "data": {
      "text/plain": [
       "<IPython.core.display.HTML object>"
      ],
      "text/html": [
       " View run at <a href='https://wandb.ai/knezevicoluka-tu-delft/rf-segment-classification/runs/nr52jo5c' target=\"_blank\">https://wandb.ai/knezevicoluka-tu-delft/rf-segment-classification/runs/nr52jo5c</a>"
      ]
     },
     "metadata": {},
     "output_type": "display_data"
    },
    {
     "data": {
      "text/plain": [
       "<IPython.core.display.HTML object>"
      ],
      "text/html": []
     },
     "metadata": {},
     "output_type": "display_data"
    },
    {
     "data": {
      "text/plain": [
       "<IPython.core.display.HTML object>"
      ],
      "text/html": [
       "<br>    <style><br>        .wandb-row {<br>            display: flex;<br>            flex-direction: row;<br>            flex-wrap: wrap;<br>            justify-content: flex-start;<br>            width: 100%;<br>        }<br>        .wandb-col {<br>            display: flex;<br>            flex-direction: column;<br>            flex-basis: 100%;<br>            flex: 1;<br>            padding: 10px;<br>        }<br>    </style><br><div class=\"wandb-row\"><div class=\"wandb-col\"><h3>Run history:</h3><br/><table class=\"wandb\"><tr><td>f1</td><td>▁</td></tr><tr><td>feature_importance/accelX_filtered_deriv_std</td><td>▁</td></tr><tr><td>feature_importance/accelX_filtered_mean</td><td>▁</td></tr><tr><td>feature_importance/accelX_filtered_var</td><td>▁</td></tr><tr><td>feature_importance/accelY_filtered_deriv_std</td><td>▁</td></tr><tr><td>feature_importance/accelY_filtered_mean</td><td>▁</td></tr><tr><td>feature_importance/accelY_filtered_var</td><td>▁</td></tr><tr><td>feature_importance/accelZ_filtered_deriv_std</td><td>▁</td></tr><tr><td>feature_importance/accelZ_filtered_mean</td><td>▁</td></tr><tr><td>feature_importance/accelZ_filtered_var</td><td>▁</td></tr><tr><td>feature_importance/corr_xy</td><td>▁</td></tr><tr><td>test/accuracy</td><td>▁</td></tr><tr><td>test/f1_0</td><td>▁</td></tr><tr><td>test/f1_1</td><td>▁</td></tr><tr><td>test/f1_macro</td><td>▁</td></tr><tr><td>test/precision_0</td><td>▁</td></tr><tr><td>test/precision_1</td><td>▁</td></tr><tr><td>test/recall_0</td><td>▁</td></tr><tr><td>test/recall_1</td><td>▁</td></tr></table><br/></div><div class=\"wandb-col\"><h3>Run summary:</h3><br/><table class=\"wandb\"><tr><td>f1</td><td>0.73822</td></tr><tr><td>feature_importance/accelX_filtered_deriv_std</td><td>0.08731</td></tr><tr><td>feature_importance/accelX_filtered_mean</td><td>0.10974</td></tr><tr><td>feature_importance/accelX_filtered_var</td><td>0.06071</td></tr><tr><td>feature_importance/accelY_filtered_deriv_std</td><td>0.06795</td></tr><tr><td>feature_importance/accelY_filtered_mean</td><td>0.16363</td></tr><tr><td>feature_importance/accelY_filtered_var</td><td>0.03373</td></tr><tr><td>feature_importance/accelZ_filtered_deriv_std</td><td>0.06604</td></tr><tr><td>feature_importance/accelZ_filtered_mean</td><td>0.12512</td></tr><tr><td>feature_importance/accelZ_filtered_var</td><td>0.04203</td></tr><tr><td>feature_importance/corr_xy</td><td>0.0347</td></tr><tr><td>test/accuracy</td><td>0.97844</td></tr><tr><td>test/f1_0</td><td>0.98899</td></tr><tr><td>test/f1_1</td><td>0.48746</td></tr><tr><td>test/f1_macro</td><td>0.73822</td></tr><tr><td>test/precision_0</td><td>0.99067</td></tr><tr><td>test/precision_1</td><td>0.45183</td></tr><tr><td>test/recall_0</td><td>0.98732</td></tr><tr><td>test/recall_1</td><td>0.52918</td></tr></table><br/></div></div>"
      ]
     },
     "metadata": {},
     "output_type": "display_data"
    },
    {
     "data": {
      "text/plain": [
       "<IPython.core.display.HTML object>"
      ],
      "text/html": [
       " View run <strong style=\"color:#cdcd00\">vague-sweep-2</strong> at: <a href='https://wandb.ai/knezevicoluka-tu-delft/rf-segment-classification/runs/nr52jo5c' target=\"_blank\">https://wandb.ai/knezevicoluka-tu-delft/rf-segment-classification/runs/nr52jo5c</a><br> View project at: <a href='https://wandb.ai/knezevicoluka-tu-delft/rf-segment-classification' target=\"_blank\">https://wandb.ai/knezevicoluka-tu-delft/rf-segment-classification</a><br>Synced 5 W&B file(s), 0 media file(s), 0 artifact file(s) and 0 other file(s)"
      ]
     },
     "metadata": {},
     "output_type": "display_data"
    },
    {
     "data": {
      "text/plain": [
       "<IPython.core.display.HTML object>"
      ],
      "text/html": [
       "Find logs at: <code>./wandb/run-20250616_195837-nr52jo5c/logs</code>"
      ]
     },
     "metadata": {},
     "output_type": "display_data"
    },
    {
     "name": "stderr",
     "output_type": "stream",
     "text": [
      "\u001B[34m\u001B[1mwandb\u001B[0m: Agent Starting Run: z4dncg49 with config:\n",
      "\u001B[34m\u001B[1mwandb\u001B[0m: \tmax_depth: None\n",
      "\u001B[34m\u001B[1mwandb\u001B[0m: \tn_estimators: 100\n",
      "\u001B[34m\u001B[1mwandb\u001B[0m: \trandom_state: 42\n"
     ]
    },
    {
     "data": {
      "text/plain": [
       "<IPython.core.display.HTML object>"
      ],
      "text/html": [
       "Ignoring project 'rf-segment-classification' when running a sweep."
      ]
     },
     "metadata": {},
     "output_type": "display_data"
    },
    {
     "data": {
      "text/plain": [
       "<IPython.core.display.HTML object>"
      ],
      "text/html": [
       "Tracking run with wandb version 0.20.1"
      ]
     },
     "metadata": {},
     "output_type": "display_data"
    },
    {
     "data": {
      "text/plain": [
       "<IPython.core.display.HTML object>"
      ],
      "text/html": [
       "Run data is saved locally in <code>/Users/lukini/PycharmProjects/DetectorPerModalitie/wandb/run-20250616_195843-z4dncg49</code>"
      ]
     },
     "metadata": {},
     "output_type": "display_data"
    },
    {
     "data": {
      "text/plain": [
       "<IPython.core.display.HTML object>"
      ],
      "text/html": [
       "Syncing run <strong><a href='https://wandb.ai/knezevicoluka-tu-delft/rf-segment-classification/runs/z4dncg49' target=\"_blank\">devoted-sweep-3</a></strong> to <a href='https://wandb.ai/knezevicoluka-tu-delft/rf-segment-classification' target=\"_blank\">Weights & Biases</a> (<a href='https://wandb.me/developer-guide' target=\"_blank\">docs</a>)<br>Sweep page: <a href='https://wandb.ai/knezevicoluka-tu-delft/rf-segment-classification/sweeps/qj7z584c' target=\"_blank\">https://wandb.ai/knezevicoluka-tu-delft/rf-segment-classification/sweeps/qj7z584c</a>"
      ]
     },
     "metadata": {},
     "output_type": "display_data"
    },
    {
     "data": {
      "text/plain": [
       "<IPython.core.display.HTML object>"
      ],
      "text/html": [
       " View project at <a href='https://wandb.ai/knezevicoluka-tu-delft/rf-segment-classification' target=\"_blank\">https://wandb.ai/knezevicoluka-tu-delft/rf-segment-classification</a>"
      ]
     },
     "metadata": {},
     "output_type": "display_data"
    },
    {
     "data": {
      "text/plain": [
       "<IPython.core.display.HTML object>"
      ],
      "text/html": [
       " View sweep at <a href='https://wandb.ai/knezevicoluka-tu-delft/rf-segment-classification/sweeps/qj7z584c' target=\"_blank\">https://wandb.ai/knezevicoluka-tu-delft/rf-segment-classification/sweeps/qj7z584c</a>"
      ]
     },
     "metadata": {},
     "output_type": "display_data"
    },
    {
     "data": {
      "text/plain": [
       "<IPython.core.display.HTML object>"
      ],
      "text/html": [
       " View run at <a href='https://wandb.ai/knezevicoluka-tu-delft/rf-segment-classification/runs/z4dncg49' target=\"_blank\">https://wandb.ai/knezevicoluka-tu-delft/rf-segment-classification/runs/z4dncg49</a>"
      ]
     },
     "metadata": {},
     "output_type": "display_data"
    },
    {
     "data": {
      "text/plain": [
       "<IPython.core.display.HTML object>"
      ],
      "text/html": []
     },
     "metadata": {},
     "output_type": "display_data"
    },
    {
     "data": {
      "text/plain": [
       "<IPython.core.display.HTML object>"
      ],
      "text/html": [
       "<br>    <style><br>        .wandb-row {<br>            display: flex;<br>            flex-direction: row;<br>            flex-wrap: wrap;<br>            justify-content: flex-start;<br>            width: 100%;<br>        }<br>        .wandb-col {<br>            display: flex;<br>            flex-direction: column;<br>            flex-basis: 100%;<br>            flex: 1;<br>            padding: 10px;<br>        }<br>    </style><br><div class=\"wandb-row\"><div class=\"wandb-col\"><h3>Run history:</h3><br/><table class=\"wandb\"><tr><td>f1</td><td>▁</td></tr><tr><td>feature_importance/accelX_filtered_deriv_std</td><td>▁</td></tr><tr><td>feature_importance/accelX_filtered_mean</td><td>▁</td></tr><tr><td>feature_importance/accelX_filtered_var</td><td>▁</td></tr><tr><td>feature_importance/accelY_filtered_deriv_std</td><td>▁</td></tr><tr><td>feature_importance/accelY_filtered_mean</td><td>▁</td></tr><tr><td>feature_importance/accelY_filtered_var</td><td>▁</td></tr><tr><td>feature_importance/accelZ_filtered_deriv_std</td><td>▁</td></tr><tr><td>feature_importance/accelZ_filtered_mean</td><td>▁</td></tr><tr><td>feature_importance/accelZ_filtered_var</td><td>▁</td></tr><tr><td>feature_importance/corr_xy</td><td>▁</td></tr><tr><td>test/accuracy</td><td>▁</td></tr><tr><td>test/f1_0</td><td>▁</td></tr><tr><td>test/f1_1</td><td>▁</td></tr><tr><td>test/f1_macro</td><td>▁</td></tr><tr><td>test/precision_0</td><td>▁</td></tr><tr><td>test/precision_1</td><td>▁</td></tr><tr><td>test/recall_0</td><td>▁</td></tr><tr><td>test/recall_1</td><td>▁</td></tr></table><br/></div><div class=\"wandb-col\"><h3>Run summary:</h3><br/><table class=\"wandb\"><tr><td>f1</td><td>0.56559</td></tr><tr><td>feature_importance/accelX_filtered_deriv_std</td><td>0.07557</td></tr><tr><td>feature_importance/accelX_filtered_mean</td><td>0.11251</td></tr><tr><td>feature_importance/accelX_filtered_var</td><td>0.05147</td></tr><tr><td>feature_importance/accelY_filtered_deriv_std</td><td>0.06267</td></tr><tr><td>feature_importance/accelY_filtered_mean</td><td>0.11586</td></tr><tr><td>feature_importance/accelY_filtered_var</td><td>0.03757</td></tr><tr><td>feature_importance/accelZ_filtered_deriv_std</td><td>0.05933</td></tr><tr><td>feature_importance/accelZ_filtered_mean</td><td>0.11274</td></tr><tr><td>feature_importance/accelZ_filtered_var</td><td>0.04521</td></tr><tr><td>feature_importance/corr_xy</td><td>0.04097</td></tr><tr><td>test/accuracy</td><td>0.9807</td></tr><tr><td>test/f1_0</td><td>0.99024</td></tr><tr><td>test/f1_1</td><td>0.14094</td></tr><tr><td>test/f1_macro</td><td>0.56559</td></tr><tr><td>test/precision_0</td><td>0.98216</td></tr><tr><td>test/precision_1</td><td>0.5122</td></tr><tr><td>test/recall_0</td><td>0.99846</td></tr><tr><td>test/recall_1</td><td>0.08171</td></tr></table><br/></div></div>"
      ]
     },
     "metadata": {},
     "output_type": "display_data"
    },
    {
     "data": {
      "text/plain": [
       "<IPython.core.display.HTML object>"
      ],
      "text/html": [
       " View run <strong style=\"color:#cdcd00\">devoted-sweep-3</strong> at: <a href='https://wandb.ai/knezevicoluka-tu-delft/rf-segment-classification/runs/z4dncg49' target=\"_blank\">https://wandb.ai/knezevicoluka-tu-delft/rf-segment-classification/runs/z4dncg49</a><br> View project at: <a href='https://wandb.ai/knezevicoluka-tu-delft/rf-segment-classification' target=\"_blank\">https://wandb.ai/knezevicoluka-tu-delft/rf-segment-classification</a><br>Synced 5 W&B file(s), 0 media file(s), 0 artifact file(s) and 0 other file(s)"
      ]
     },
     "metadata": {},
     "output_type": "display_data"
    },
    {
     "data": {
      "text/plain": [
       "<IPython.core.display.HTML object>"
      ],
      "text/html": [
       "Find logs at: <code>./wandb/run-20250616_195843-z4dncg49/logs</code>"
      ]
     },
     "metadata": {},
     "output_type": "display_data"
    },
    {
     "name": "stderr",
     "output_type": "stream",
     "text": [
      "\u001B[34m\u001B[1mwandb\u001B[0m: Agent Starting Run: 2ixc0fdo with config:\n",
      "\u001B[34m\u001B[1mwandb\u001B[0m: \tmax_depth: 10\n",
      "\u001B[34m\u001B[1mwandb\u001B[0m: \tn_estimators: 50\n",
      "\u001B[34m\u001B[1mwandb\u001B[0m: \trandom_state: 42\n"
     ]
    },
    {
     "data": {
      "text/plain": [
       "<IPython.core.display.HTML object>"
      ],
      "text/html": [
       "Ignoring project 'rf-segment-classification' when running a sweep."
      ]
     },
     "metadata": {},
     "output_type": "display_data"
    },
    {
     "data": {
      "text/plain": [
       "<IPython.core.display.HTML object>"
      ],
      "text/html": [
       "Tracking run with wandb version 0.20.1"
      ]
     },
     "metadata": {},
     "output_type": "display_data"
    },
    {
     "data": {
      "text/plain": [
       "<IPython.core.display.HTML object>"
      ],
      "text/html": [
       "Run data is saved locally in <code>/Users/lukini/PycharmProjects/DetectorPerModalitie/wandb/run-20250616_195849-2ixc0fdo</code>"
      ]
     },
     "metadata": {},
     "output_type": "display_data"
    },
    {
     "data": {
      "text/plain": [
       "<IPython.core.display.HTML object>"
      ],
      "text/html": [
       "Syncing run <strong><a href='https://wandb.ai/knezevicoluka-tu-delft/rf-segment-classification/runs/2ixc0fdo' target=\"_blank\">iconic-sweep-4</a></strong> to <a href='https://wandb.ai/knezevicoluka-tu-delft/rf-segment-classification' target=\"_blank\">Weights & Biases</a> (<a href='https://wandb.me/developer-guide' target=\"_blank\">docs</a>)<br>Sweep page: <a href='https://wandb.ai/knezevicoluka-tu-delft/rf-segment-classification/sweeps/qj7z584c' target=\"_blank\">https://wandb.ai/knezevicoluka-tu-delft/rf-segment-classification/sweeps/qj7z584c</a>"
      ]
     },
     "metadata": {},
     "output_type": "display_data"
    },
    {
     "data": {
      "text/plain": [
       "<IPython.core.display.HTML object>"
      ],
      "text/html": [
       " View project at <a href='https://wandb.ai/knezevicoluka-tu-delft/rf-segment-classification' target=\"_blank\">https://wandb.ai/knezevicoluka-tu-delft/rf-segment-classification</a>"
      ]
     },
     "metadata": {},
     "output_type": "display_data"
    },
    {
     "data": {
      "text/plain": [
       "<IPython.core.display.HTML object>"
      ],
      "text/html": [
       " View sweep at <a href='https://wandb.ai/knezevicoluka-tu-delft/rf-segment-classification/sweeps/qj7z584c' target=\"_blank\">https://wandb.ai/knezevicoluka-tu-delft/rf-segment-classification/sweeps/qj7z584c</a>"
      ]
     },
     "metadata": {},
     "output_type": "display_data"
    },
    {
     "data": {
      "text/plain": [
       "<IPython.core.display.HTML object>"
      ],
      "text/html": [
       " View run at <a href='https://wandb.ai/knezevicoluka-tu-delft/rf-segment-classification/runs/2ixc0fdo' target=\"_blank\">https://wandb.ai/knezevicoluka-tu-delft/rf-segment-classification/runs/2ixc0fdo</a>"
      ]
     },
     "metadata": {},
     "output_type": "display_data"
    },
    {
     "data": {
      "text/plain": [
       "<IPython.core.display.HTML object>"
      ],
      "text/html": []
     },
     "metadata": {},
     "output_type": "display_data"
    },
    {
     "data": {
      "text/plain": [
       "<IPython.core.display.HTML object>"
      ],
      "text/html": [
       "<br>    <style><br>        .wandb-row {<br>            display: flex;<br>            flex-direction: row;<br>            flex-wrap: wrap;<br>            justify-content: flex-start;<br>            width: 100%;<br>        }<br>        .wandb-col {<br>            display: flex;<br>            flex-direction: column;<br>            flex-basis: 100%;<br>            flex: 1;<br>            padding: 10px;<br>        }<br>    </style><br><div class=\"wandb-row\"><div class=\"wandb-col\"><h3>Run history:</h3><br/><table class=\"wandb\"><tr><td>f1</td><td>▁</td></tr><tr><td>feature_importance/accelX_filtered_deriv_std</td><td>▁</td></tr><tr><td>feature_importance/accelX_filtered_mean</td><td>▁</td></tr><tr><td>feature_importance/accelX_filtered_var</td><td>▁</td></tr><tr><td>feature_importance/accelY_filtered_deriv_std</td><td>▁</td></tr><tr><td>feature_importance/accelY_filtered_mean</td><td>▁</td></tr><tr><td>feature_importance/accelY_filtered_var</td><td>▁</td></tr><tr><td>feature_importance/accelZ_filtered_deriv_std</td><td>▁</td></tr><tr><td>feature_importance/accelZ_filtered_mean</td><td>▁</td></tr><tr><td>feature_importance/accelZ_filtered_var</td><td>▁</td></tr><tr><td>feature_importance/corr_xy</td><td>▁</td></tr><tr><td>test/accuracy</td><td>▁</td></tr><tr><td>test/f1_0</td><td>▁</td></tr><tr><td>test/f1_1</td><td>▁</td></tr><tr><td>test/f1_macro</td><td>▁</td></tr><tr><td>test/precision_0</td><td>▁</td></tr><tr><td>test/precision_1</td><td>▁</td></tr><tr><td>test/recall_0</td><td>▁</td></tr><tr><td>test/recall_1</td><td>▁</td></tr></table><br/></div><div class=\"wandb-col\"><h3>Run summary:</h3><br/><table class=\"wandb\"><tr><td>f1</td><td>0.73822</td></tr><tr><td>feature_importance/accelX_filtered_deriv_std</td><td>0.08731</td></tr><tr><td>feature_importance/accelX_filtered_mean</td><td>0.10974</td></tr><tr><td>feature_importance/accelX_filtered_var</td><td>0.06071</td></tr><tr><td>feature_importance/accelY_filtered_deriv_std</td><td>0.06795</td></tr><tr><td>feature_importance/accelY_filtered_mean</td><td>0.16363</td></tr><tr><td>feature_importance/accelY_filtered_var</td><td>0.03373</td></tr><tr><td>feature_importance/accelZ_filtered_deriv_std</td><td>0.06604</td></tr><tr><td>feature_importance/accelZ_filtered_mean</td><td>0.12512</td></tr><tr><td>feature_importance/accelZ_filtered_var</td><td>0.04203</td></tr><tr><td>feature_importance/corr_xy</td><td>0.0347</td></tr><tr><td>test/accuracy</td><td>0.97844</td></tr><tr><td>test/f1_0</td><td>0.98899</td></tr><tr><td>test/f1_1</td><td>0.48746</td></tr><tr><td>test/f1_macro</td><td>0.73822</td></tr><tr><td>test/precision_0</td><td>0.99067</td></tr><tr><td>test/precision_1</td><td>0.45183</td></tr><tr><td>test/recall_0</td><td>0.98732</td></tr><tr><td>test/recall_1</td><td>0.52918</td></tr></table><br/></div></div>"
      ]
     },
     "metadata": {},
     "output_type": "display_data"
    },
    {
     "data": {
      "text/plain": [
       "<IPython.core.display.HTML object>"
      ],
      "text/html": [
       " View run <strong style=\"color:#cdcd00\">iconic-sweep-4</strong> at: <a href='https://wandb.ai/knezevicoluka-tu-delft/rf-segment-classification/runs/2ixc0fdo' target=\"_blank\">https://wandb.ai/knezevicoluka-tu-delft/rf-segment-classification/runs/2ixc0fdo</a><br> View project at: <a href='https://wandb.ai/knezevicoluka-tu-delft/rf-segment-classification' target=\"_blank\">https://wandb.ai/knezevicoluka-tu-delft/rf-segment-classification</a><br>Synced 5 W&B file(s), 0 media file(s), 0 artifact file(s) and 0 other file(s)"
      ]
     },
     "metadata": {},
     "output_type": "display_data"
    },
    {
     "data": {
      "text/plain": [
       "<IPython.core.display.HTML object>"
      ],
      "text/html": [
       "Find logs at: <code>./wandb/run-20250616_195849-2ixc0fdo/logs</code>"
      ]
     },
     "metadata": {},
     "output_type": "display_data"
    },
    {
     "name": "stderr",
     "output_type": "stream",
     "text": [
      "\u001B[34m\u001B[1mwandb\u001B[0m: Agent Starting Run: 7xlu1ofz with config:\n",
      "\u001B[34m\u001B[1mwandb\u001B[0m: \tmax_depth: 10\n",
      "\u001B[34m\u001B[1mwandb\u001B[0m: \tn_estimators: 50\n",
      "\u001B[34m\u001B[1mwandb\u001B[0m: \trandom_state: 42\n"
     ]
    },
    {
     "data": {
      "text/plain": [
       "<IPython.core.display.HTML object>"
      ],
      "text/html": [
       "Ignoring project 'rf-segment-classification' when running a sweep."
      ]
     },
     "metadata": {},
     "output_type": "display_data"
    },
    {
     "data": {
      "text/plain": [
       "<IPython.core.display.HTML object>"
      ],
      "text/html": [
       "Tracking run with wandb version 0.20.1"
      ]
     },
     "metadata": {},
     "output_type": "display_data"
    },
    {
     "data": {
      "text/plain": [
       "<IPython.core.display.HTML object>"
      ],
      "text/html": [
       "Run data is saved locally in <code>/Users/lukini/PycharmProjects/DetectorPerModalitie/wandb/run-20250616_195854-7xlu1ofz</code>"
      ]
     },
     "metadata": {},
     "output_type": "display_data"
    },
    {
     "data": {
      "text/plain": [
       "<IPython.core.display.HTML object>"
      ],
      "text/html": [
       "Syncing run <strong><a href='https://wandb.ai/knezevicoluka-tu-delft/rf-segment-classification/runs/7xlu1ofz' target=\"_blank\">lucky-sweep-5</a></strong> to <a href='https://wandb.ai/knezevicoluka-tu-delft/rf-segment-classification' target=\"_blank\">Weights & Biases</a> (<a href='https://wandb.me/developer-guide' target=\"_blank\">docs</a>)<br>Sweep page: <a href='https://wandb.ai/knezevicoluka-tu-delft/rf-segment-classification/sweeps/qj7z584c' target=\"_blank\">https://wandb.ai/knezevicoluka-tu-delft/rf-segment-classification/sweeps/qj7z584c</a>"
      ]
     },
     "metadata": {},
     "output_type": "display_data"
    },
    {
     "data": {
      "text/plain": [
       "<IPython.core.display.HTML object>"
      ],
      "text/html": [
       " View project at <a href='https://wandb.ai/knezevicoluka-tu-delft/rf-segment-classification' target=\"_blank\">https://wandb.ai/knezevicoluka-tu-delft/rf-segment-classification</a>"
      ]
     },
     "metadata": {},
     "output_type": "display_data"
    },
    {
     "data": {
      "text/plain": [
       "<IPython.core.display.HTML object>"
      ],
      "text/html": [
       " View sweep at <a href='https://wandb.ai/knezevicoluka-tu-delft/rf-segment-classification/sweeps/qj7z584c' target=\"_blank\">https://wandb.ai/knezevicoluka-tu-delft/rf-segment-classification/sweeps/qj7z584c</a>"
      ]
     },
     "metadata": {},
     "output_type": "display_data"
    },
    {
     "data": {
      "text/plain": [
       "<IPython.core.display.HTML object>"
      ],
      "text/html": [
       " View run at <a href='https://wandb.ai/knezevicoluka-tu-delft/rf-segment-classification/runs/7xlu1ofz' target=\"_blank\">https://wandb.ai/knezevicoluka-tu-delft/rf-segment-classification/runs/7xlu1ofz</a>"
      ]
     },
     "metadata": {},
     "output_type": "display_data"
    },
    {
     "data": {
      "text/plain": [
       "<IPython.core.display.HTML object>"
      ],
      "text/html": []
     },
     "metadata": {},
     "output_type": "display_data"
    },
    {
     "data": {
      "text/plain": [
       "<IPython.core.display.HTML object>"
      ],
      "text/html": [
       "<br>    <style><br>        .wandb-row {<br>            display: flex;<br>            flex-direction: row;<br>            flex-wrap: wrap;<br>            justify-content: flex-start;<br>            width: 100%;<br>        }<br>        .wandb-col {<br>            display: flex;<br>            flex-direction: column;<br>            flex-basis: 100%;<br>            flex: 1;<br>            padding: 10px;<br>        }<br>    </style><br><div class=\"wandb-row\"><div class=\"wandb-col\"><h3>Run history:</h3><br/><table class=\"wandb\"><tr><td>f1</td><td>▁</td></tr><tr><td>feature_importance/accelX_filtered_deriv_std</td><td>▁</td></tr><tr><td>feature_importance/accelX_filtered_mean</td><td>▁</td></tr><tr><td>feature_importance/accelX_filtered_var</td><td>▁</td></tr><tr><td>feature_importance/accelY_filtered_deriv_std</td><td>▁</td></tr><tr><td>feature_importance/accelY_filtered_mean</td><td>▁</td></tr><tr><td>feature_importance/accelY_filtered_var</td><td>▁</td></tr><tr><td>feature_importance/accelZ_filtered_deriv_std</td><td>▁</td></tr><tr><td>feature_importance/accelZ_filtered_mean</td><td>▁</td></tr><tr><td>feature_importance/accelZ_filtered_var</td><td>▁</td></tr><tr><td>feature_importance/corr_xy</td><td>▁</td></tr><tr><td>test/accuracy</td><td>▁</td></tr><tr><td>test/f1_0</td><td>▁</td></tr><tr><td>test/f1_1</td><td>▁</td></tr><tr><td>test/f1_macro</td><td>▁</td></tr><tr><td>test/precision_0</td><td>▁</td></tr><tr><td>test/precision_1</td><td>▁</td></tr><tr><td>test/recall_0</td><td>▁</td></tr><tr><td>test/recall_1</td><td>▁</td></tr></table><br/></div><div class=\"wandb-col\"><h3>Run summary:</h3><br/><table class=\"wandb\"><tr><td>f1</td><td>0.73822</td></tr><tr><td>feature_importance/accelX_filtered_deriv_std</td><td>0.08731</td></tr><tr><td>feature_importance/accelX_filtered_mean</td><td>0.10974</td></tr><tr><td>feature_importance/accelX_filtered_var</td><td>0.06071</td></tr><tr><td>feature_importance/accelY_filtered_deriv_std</td><td>0.06795</td></tr><tr><td>feature_importance/accelY_filtered_mean</td><td>0.16363</td></tr><tr><td>feature_importance/accelY_filtered_var</td><td>0.03373</td></tr><tr><td>feature_importance/accelZ_filtered_deriv_std</td><td>0.06604</td></tr><tr><td>feature_importance/accelZ_filtered_mean</td><td>0.12512</td></tr><tr><td>feature_importance/accelZ_filtered_var</td><td>0.04203</td></tr><tr><td>feature_importance/corr_xy</td><td>0.0347</td></tr><tr><td>test/accuracy</td><td>0.97844</td></tr><tr><td>test/f1_0</td><td>0.98899</td></tr><tr><td>test/f1_1</td><td>0.48746</td></tr><tr><td>test/f1_macro</td><td>0.73822</td></tr><tr><td>test/precision_0</td><td>0.99067</td></tr><tr><td>test/precision_1</td><td>0.45183</td></tr><tr><td>test/recall_0</td><td>0.98732</td></tr><tr><td>test/recall_1</td><td>0.52918</td></tr></table><br/></div></div>"
      ]
     },
     "metadata": {},
     "output_type": "display_data"
    },
    {
     "data": {
      "text/plain": [
       "<IPython.core.display.HTML object>"
      ],
      "text/html": [
       " View run <strong style=\"color:#cdcd00\">lucky-sweep-5</strong> at: <a href='https://wandb.ai/knezevicoluka-tu-delft/rf-segment-classification/runs/7xlu1ofz' target=\"_blank\">https://wandb.ai/knezevicoluka-tu-delft/rf-segment-classification/runs/7xlu1ofz</a><br> View project at: <a href='https://wandb.ai/knezevicoluka-tu-delft/rf-segment-classification' target=\"_blank\">https://wandb.ai/knezevicoluka-tu-delft/rf-segment-classification</a><br>Synced 5 W&B file(s), 0 media file(s), 0 artifact file(s) and 0 other file(s)"
      ]
     },
     "metadata": {},
     "output_type": "display_data"
    },
    {
     "data": {
      "text/plain": [
       "<IPython.core.display.HTML object>"
      ],
      "text/html": [
       "Find logs at: <code>./wandb/run-20250616_195854-7xlu1ofz/logs</code>"
      ]
     },
     "metadata": {},
     "output_type": "display_data"
    },
    {
     "name": "stderr",
     "output_type": "stream",
     "text": [
      "\u001B[34m\u001B[1mwandb\u001B[0m: Agent Starting Run: 4nksk8ng with config:\n",
      "\u001B[34m\u001B[1mwandb\u001B[0m: \tmax_depth: 10\n",
      "\u001B[34m\u001B[1mwandb\u001B[0m: \tn_estimators: 50\n",
      "\u001B[34m\u001B[1mwandb\u001B[0m: \trandom_state: 42\n"
     ]
    },
    {
     "data": {
      "text/plain": [
       "<IPython.core.display.HTML object>"
      ],
      "text/html": [
       "Ignoring project 'rf-segment-classification' when running a sweep."
      ]
     },
     "metadata": {},
     "output_type": "display_data"
    },
    {
     "data": {
      "text/plain": [
       "<IPython.core.display.HTML object>"
      ],
      "text/html": [
       "Tracking run with wandb version 0.20.1"
      ]
     },
     "metadata": {},
     "output_type": "display_data"
    },
    {
     "data": {
      "text/plain": [
       "<IPython.core.display.HTML object>"
      ],
      "text/html": [
       "Run data is saved locally in <code>/Users/lukini/PycharmProjects/DetectorPerModalitie/wandb/run-20250616_195900-4nksk8ng</code>"
      ]
     },
     "metadata": {},
     "output_type": "display_data"
    },
    {
     "data": {
      "text/plain": [
       "<IPython.core.display.HTML object>"
      ],
      "text/html": [
       "Syncing run <strong><a href='https://wandb.ai/knezevicoluka-tu-delft/rf-segment-classification/runs/4nksk8ng' target=\"_blank\">dauntless-sweep-6</a></strong> to <a href='https://wandb.ai/knezevicoluka-tu-delft/rf-segment-classification' target=\"_blank\">Weights & Biases</a> (<a href='https://wandb.me/developer-guide' target=\"_blank\">docs</a>)<br>Sweep page: <a href='https://wandb.ai/knezevicoluka-tu-delft/rf-segment-classification/sweeps/qj7z584c' target=\"_blank\">https://wandb.ai/knezevicoluka-tu-delft/rf-segment-classification/sweeps/qj7z584c</a>"
      ]
     },
     "metadata": {},
     "output_type": "display_data"
    },
    {
     "data": {
      "text/plain": [
       "<IPython.core.display.HTML object>"
      ],
      "text/html": [
       " View project at <a href='https://wandb.ai/knezevicoluka-tu-delft/rf-segment-classification' target=\"_blank\">https://wandb.ai/knezevicoluka-tu-delft/rf-segment-classification</a>"
      ]
     },
     "metadata": {},
     "output_type": "display_data"
    },
    {
     "data": {
      "text/plain": [
       "<IPython.core.display.HTML object>"
      ],
      "text/html": [
       " View sweep at <a href='https://wandb.ai/knezevicoluka-tu-delft/rf-segment-classification/sweeps/qj7z584c' target=\"_blank\">https://wandb.ai/knezevicoluka-tu-delft/rf-segment-classification/sweeps/qj7z584c</a>"
      ]
     },
     "metadata": {},
     "output_type": "display_data"
    },
    {
     "data": {
      "text/plain": [
       "<IPython.core.display.HTML object>"
      ],
      "text/html": [
       " View run at <a href='https://wandb.ai/knezevicoluka-tu-delft/rf-segment-classification/runs/4nksk8ng' target=\"_blank\">https://wandb.ai/knezevicoluka-tu-delft/rf-segment-classification/runs/4nksk8ng</a>"
      ]
     },
     "metadata": {},
     "output_type": "display_data"
    },
    {
     "data": {
      "text/plain": [
       "<IPython.core.display.HTML object>"
      ],
      "text/html": []
     },
     "metadata": {},
     "output_type": "display_data"
    },
    {
     "data": {
      "text/plain": [
       "<IPython.core.display.HTML object>"
      ],
      "text/html": [
       "<br>    <style><br>        .wandb-row {<br>            display: flex;<br>            flex-direction: row;<br>            flex-wrap: wrap;<br>            justify-content: flex-start;<br>            width: 100%;<br>        }<br>        .wandb-col {<br>            display: flex;<br>            flex-direction: column;<br>            flex-basis: 100%;<br>            flex: 1;<br>            padding: 10px;<br>        }<br>    </style><br><div class=\"wandb-row\"><div class=\"wandb-col\"><h3>Run history:</h3><br/><table class=\"wandb\"><tr><td>f1</td><td>▁</td></tr><tr><td>feature_importance/accelX_filtered_deriv_std</td><td>▁</td></tr><tr><td>feature_importance/accelX_filtered_mean</td><td>▁</td></tr><tr><td>feature_importance/accelX_filtered_var</td><td>▁</td></tr><tr><td>feature_importance/accelY_filtered_deriv_std</td><td>▁</td></tr><tr><td>feature_importance/accelY_filtered_mean</td><td>▁</td></tr><tr><td>feature_importance/accelY_filtered_var</td><td>▁</td></tr><tr><td>feature_importance/accelZ_filtered_deriv_std</td><td>▁</td></tr><tr><td>feature_importance/accelZ_filtered_mean</td><td>▁</td></tr><tr><td>feature_importance/accelZ_filtered_var</td><td>▁</td></tr><tr><td>feature_importance/corr_xy</td><td>▁</td></tr><tr><td>test/accuracy</td><td>▁</td></tr><tr><td>test/f1_0</td><td>▁</td></tr><tr><td>test/f1_1</td><td>▁</td></tr><tr><td>test/f1_macro</td><td>▁</td></tr><tr><td>test/precision_0</td><td>▁</td></tr><tr><td>test/precision_1</td><td>▁</td></tr><tr><td>test/recall_0</td><td>▁</td></tr><tr><td>test/recall_1</td><td>▁</td></tr></table><br/></div><div class=\"wandb-col\"><h3>Run summary:</h3><br/><table class=\"wandb\"><tr><td>f1</td><td>0.73822</td></tr><tr><td>feature_importance/accelX_filtered_deriv_std</td><td>0.08731</td></tr><tr><td>feature_importance/accelX_filtered_mean</td><td>0.10974</td></tr><tr><td>feature_importance/accelX_filtered_var</td><td>0.06071</td></tr><tr><td>feature_importance/accelY_filtered_deriv_std</td><td>0.06795</td></tr><tr><td>feature_importance/accelY_filtered_mean</td><td>0.16363</td></tr><tr><td>feature_importance/accelY_filtered_var</td><td>0.03373</td></tr><tr><td>feature_importance/accelZ_filtered_deriv_std</td><td>0.06604</td></tr><tr><td>feature_importance/accelZ_filtered_mean</td><td>0.12512</td></tr><tr><td>feature_importance/accelZ_filtered_var</td><td>0.04203</td></tr><tr><td>feature_importance/corr_xy</td><td>0.0347</td></tr><tr><td>test/accuracy</td><td>0.97844</td></tr><tr><td>test/f1_0</td><td>0.98899</td></tr><tr><td>test/f1_1</td><td>0.48746</td></tr><tr><td>test/f1_macro</td><td>0.73822</td></tr><tr><td>test/precision_0</td><td>0.99067</td></tr><tr><td>test/precision_1</td><td>0.45183</td></tr><tr><td>test/recall_0</td><td>0.98732</td></tr><tr><td>test/recall_1</td><td>0.52918</td></tr></table><br/></div></div>"
      ]
     },
     "metadata": {},
     "output_type": "display_data"
    },
    {
     "data": {
      "text/plain": [
       "<IPython.core.display.HTML object>"
      ],
      "text/html": [
       " View run <strong style=\"color:#cdcd00\">dauntless-sweep-6</strong> at: <a href='https://wandb.ai/knezevicoluka-tu-delft/rf-segment-classification/runs/4nksk8ng' target=\"_blank\">https://wandb.ai/knezevicoluka-tu-delft/rf-segment-classification/runs/4nksk8ng</a><br> View project at: <a href='https://wandb.ai/knezevicoluka-tu-delft/rf-segment-classification' target=\"_blank\">https://wandb.ai/knezevicoluka-tu-delft/rf-segment-classification</a><br>Synced 5 W&B file(s), 0 media file(s), 0 artifact file(s) and 0 other file(s)"
      ]
     },
     "metadata": {},
     "output_type": "display_data"
    },
    {
     "data": {
      "text/plain": [
       "<IPython.core.display.HTML object>"
      ],
      "text/html": [
       "Find logs at: <code>./wandb/run-20250616_195900-4nksk8ng/logs</code>"
      ]
     },
     "metadata": {},
     "output_type": "display_data"
    },
    {
     "name": "stderr",
     "output_type": "stream",
     "text": [
      "\u001B[34m\u001B[1mwandb\u001B[0m: Agent Starting Run: w0kyx2r6 with config:\n",
      "\u001B[34m\u001B[1mwandb\u001B[0m: \tmax_depth: 10\n",
      "\u001B[34m\u001B[1mwandb\u001B[0m: \tn_estimators: 50\n",
      "\u001B[34m\u001B[1mwandb\u001B[0m: \trandom_state: 42\n"
     ]
    },
    {
     "data": {
      "text/plain": [
       "<IPython.core.display.HTML object>"
      ],
      "text/html": [
       "Ignoring project 'rf-segment-classification' when running a sweep."
      ]
     },
     "metadata": {},
     "output_type": "display_data"
    },
    {
     "data": {
      "text/plain": [
       "<IPython.core.display.HTML object>"
      ],
      "text/html": [
       "Tracking run with wandb version 0.20.1"
      ]
     },
     "metadata": {},
     "output_type": "display_data"
    },
    {
     "data": {
      "text/plain": [
       "<IPython.core.display.HTML object>"
      ],
      "text/html": [
       "Run data is saved locally in <code>/Users/lukini/PycharmProjects/DetectorPerModalitie/wandb/run-20250616_195905-w0kyx2r6</code>"
      ]
     },
     "metadata": {},
     "output_type": "display_data"
    },
    {
     "data": {
      "text/plain": [
       "<IPython.core.display.HTML object>"
      ],
      "text/html": [
       "Syncing run <strong><a href='https://wandb.ai/knezevicoluka-tu-delft/rf-segment-classification/runs/w0kyx2r6' target=\"_blank\">celestial-sweep-7</a></strong> to <a href='https://wandb.ai/knezevicoluka-tu-delft/rf-segment-classification' target=\"_blank\">Weights & Biases</a> (<a href='https://wandb.me/developer-guide' target=\"_blank\">docs</a>)<br>Sweep page: <a href='https://wandb.ai/knezevicoluka-tu-delft/rf-segment-classification/sweeps/qj7z584c' target=\"_blank\">https://wandb.ai/knezevicoluka-tu-delft/rf-segment-classification/sweeps/qj7z584c</a>"
      ]
     },
     "metadata": {},
     "output_type": "display_data"
    },
    {
     "data": {
      "text/plain": [
       "<IPython.core.display.HTML object>"
      ],
      "text/html": [
       " View project at <a href='https://wandb.ai/knezevicoluka-tu-delft/rf-segment-classification' target=\"_blank\">https://wandb.ai/knezevicoluka-tu-delft/rf-segment-classification</a>"
      ]
     },
     "metadata": {},
     "output_type": "display_data"
    },
    {
     "data": {
      "text/plain": [
       "<IPython.core.display.HTML object>"
      ],
      "text/html": [
       " View sweep at <a href='https://wandb.ai/knezevicoluka-tu-delft/rf-segment-classification/sweeps/qj7z584c' target=\"_blank\">https://wandb.ai/knezevicoluka-tu-delft/rf-segment-classification/sweeps/qj7z584c</a>"
      ]
     },
     "metadata": {},
     "output_type": "display_data"
    },
    {
     "data": {
      "text/plain": [
       "<IPython.core.display.HTML object>"
      ],
      "text/html": [
       " View run at <a href='https://wandb.ai/knezevicoluka-tu-delft/rf-segment-classification/runs/w0kyx2r6' target=\"_blank\">https://wandb.ai/knezevicoluka-tu-delft/rf-segment-classification/runs/w0kyx2r6</a>"
      ]
     },
     "metadata": {},
     "output_type": "display_data"
    },
    {
     "data": {
      "text/plain": [
       "<IPython.core.display.HTML object>"
      ],
      "text/html": []
     },
     "metadata": {},
     "output_type": "display_data"
    },
    {
     "data": {
      "text/plain": [
       "<IPython.core.display.HTML object>"
      ],
      "text/html": [
       "<br>    <style><br>        .wandb-row {<br>            display: flex;<br>            flex-direction: row;<br>            flex-wrap: wrap;<br>            justify-content: flex-start;<br>            width: 100%;<br>        }<br>        .wandb-col {<br>            display: flex;<br>            flex-direction: column;<br>            flex-basis: 100%;<br>            flex: 1;<br>            padding: 10px;<br>        }<br>    </style><br><div class=\"wandb-row\"><div class=\"wandb-col\"><h3>Run history:</h3><br/><table class=\"wandb\"><tr><td>f1</td><td>▁</td></tr><tr><td>feature_importance/accelX_filtered_deriv_std</td><td>▁</td></tr><tr><td>feature_importance/accelX_filtered_mean</td><td>▁</td></tr><tr><td>feature_importance/accelX_filtered_var</td><td>▁</td></tr><tr><td>feature_importance/accelY_filtered_deriv_std</td><td>▁</td></tr><tr><td>feature_importance/accelY_filtered_mean</td><td>▁</td></tr><tr><td>feature_importance/accelY_filtered_var</td><td>▁</td></tr><tr><td>feature_importance/accelZ_filtered_deriv_std</td><td>▁</td></tr><tr><td>feature_importance/accelZ_filtered_mean</td><td>▁</td></tr><tr><td>feature_importance/accelZ_filtered_var</td><td>▁</td></tr><tr><td>feature_importance/corr_xy</td><td>▁</td></tr><tr><td>test/accuracy</td><td>▁</td></tr><tr><td>test/f1_0</td><td>▁</td></tr><tr><td>test/f1_1</td><td>▁</td></tr><tr><td>test/f1_macro</td><td>▁</td></tr><tr><td>test/precision_0</td><td>▁</td></tr><tr><td>test/precision_1</td><td>▁</td></tr><tr><td>test/recall_0</td><td>▁</td></tr><tr><td>test/recall_1</td><td>▁</td></tr></table><br/></div><div class=\"wandb-col\"><h3>Run summary:</h3><br/><table class=\"wandb\"><tr><td>f1</td><td>0.73822</td></tr><tr><td>feature_importance/accelX_filtered_deriv_std</td><td>0.08731</td></tr><tr><td>feature_importance/accelX_filtered_mean</td><td>0.10974</td></tr><tr><td>feature_importance/accelX_filtered_var</td><td>0.06071</td></tr><tr><td>feature_importance/accelY_filtered_deriv_std</td><td>0.06795</td></tr><tr><td>feature_importance/accelY_filtered_mean</td><td>0.16363</td></tr><tr><td>feature_importance/accelY_filtered_var</td><td>0.03373</td></tr><tr><td>feature_importance/accelZ_filtered_deriv_std</td><td>0.06604</td></tr><tr><td>feature_importance/accelZ_filtered_mean</td><td>0.12512</td></tr><tr><td>feature_importance/accelZ_filtered_var</td><td>0.04203</td></tr><tr><td>feature_importance/corr_xy</td><td>0.0347</td></tr><tr><td>test/accuracy</td><td>0.97844</td></tr><tr><td>test/f1_0</td><td>0.98899</td></tr><tr><td>test/f1_1</td><td>0.48746</td></tr><tr><td>test/f1_macro</td><td>0.73822</td></tr><tr><td>test/precision_0</td><td>0.99067</td></tr><tr><td>test/precision_1</td><td>0.45183</td></tr><tr><td>test/recall_0</td><td>0.98732</td></tr><tr><td>test/recall_1</td><td>0.52918</td></tr></table><br/></div></div>"
      ]
     },
     "metadata": {},
     "output_type": "display_data"
    },
    {
     "data": {
      "text/plain": [
       "<IPython.core.display.HTML object>"
      ],
      "text/html": [
       " View run <strong style=\"color:#cdcd00\">celestial-sweep-7</strong> at: <a href='https://wandb.ai/knezevicoluka-tu-delft/rf-segment-classification/runs/w0kyx2r6' target=\"_blank\">https://wandb.ai/knezevicoluka-tu-delft/rf-segment-classification/runs/w0kyx2r6</a><br> View project at: <a href='https://wandb.ai/knezevicoluka-tu-delft/rf-segment-classification' target=\"_blank\">https://wandb.ai/knezevicoluka-tu-delft/rf-segment-classification</a><br>Synced 5 W&B file(s), 0 media file(s), 0 artifact file(s) and 0 other file(s)"
      ]
     },
     "metadata": {},
     "output_type": "display_data"
    },
    {
     "data": {
      "text/plain": [
       "<IPython.core.display.HTML object>"
      ],
      "text/html": [
       "Find logs at: <code>./wandb/run-20250616_195905-w0kyx2r6/logs</code>"
      ]
     },
     "metadata": {},
     "output_type": "display_data"
    },
    {
     "name": "stderr",
     "output_type": "stream",
     "text": [
      "\u001B[34m\u001B[1mwandb\u001B[0m: Agent Starting Run: 7sv5mxw3 with config:\n",
      "\u001B[34m\u001B[1mwandb\u001B[0m: \tmax_depth: 10\n",
      "\u001B[34m\u001B[1mwandb\u001B[0m: \tn_estimators: 50\n",
      "\u001B[34m\u001B[1mwandb\u001B[0m: \trandom_state: 42\n"
     ]
    },
    {
     "data": {
      "text/plain": [
       "<IPython.core.display.HTML object>"
      ],
      "text/html": [
       "Ignoring project 'rf-segment-classification' when running a sweep."
      ]
     },
     "metadata": {},
     "output_type": "display_data"
    },
    {
     "data": {
      "text/plain": [
       "<IPython.core.display.HTML object>"
      ],
      "text/html": [
       "Tracking run with wandb version 0.20.1"
      ]
     },
     "metadata": {},
     "output_type": "display_data"
    },
    {
     "data": {
      "text/plain": [
       "<IPython.core.display.HTML object>"
      ],
      "text/html": [
       "Run data is saved locally in <code>/Users/lukini/PycharmProjects/DetectorPerModalitie/wandb/run-20250616_195910-7sv5mxw3</code>"
      ]
     },
     "metadata": {},
     "output_type": "display_data"
    },
    {
     "data": {
      "text/plain": [
       "<IPython.core.display.HTML object>"
      ],
      "text/html": [
       "Syncing run <strong><a href='https://wandb.ai/knezevicoluka-tu-delft/rf-segment-classification/runs/7sv5mxw3' target=\"_blank\">glamorous-sweep-8</a></strong> to <a href='https://wandb.ai/knezevicoluka-tu-delft/rf-segment-classification' target=\"_blank\">Weights & Biases</a> (<a href='https://wandb.me/developer-guide' target=\"_blank\">docs</a>)<br>Sweep page: <a href='https://wandb.ai/knezevicoluka-tu-delft/rf-segment-classification/sweeps/qj7z584c' target=\"_blank\">https://wandb.ai/knezevicoluka-tu-delft/rf-segment-classification/sweeps/qj7z584c</a>"
      ]
     },
     "metadata": {},
     "output_type": "display_data"
    },
    {
     "data": {
      "text/plain": [
       "<IPython.core.display.HTML object>"
      ],
      "text/html": [
       " View project at <a href='https://wandb.ai/knezevicoluka-tu-delft/rf-segment-classification' target=\"_blank\">https://wandb.ai/knezevicoluka-tu-delft/rf-segment-classification</a>"
      ]
     },
     "metadata": {},
     "output_type": "display_data"
    },
    {
     "data": {
      "text/plain": [
       "<IPython.core.display.HTML object>"
      ],
      "text/html": [
       " View sweep at <a href='https://wandb.ai/knezevicoluka-tu-delft/rf-segment-classification/sweeps/qj7z584c' target=\"_blank\">https://wandb.ai/knezevicoluka-tu-delft/rf-segment-classification/sweeps/qj7z584c</a>"
      ]
     },
     "metadata": {},
     "output_type": "display_data"
    },
    {
     "data": {
      "text/plain": [
       "<IPython.core.display.HTML object>"
      ],
      "text/html": [
       " View run at <a href='https://wandb.ai/knezevicoluka-tu-delft/rf-segment-classification/runs/7sv5mxw3' target=\"_blank\">https://wandb.ai/knezevicoluka-tu-delft/rf-segment-classification/runs/7sv5mxw3</a>"
      ]
     },
     "metadata": {},
     "output_type": "display_data"
    },
    {
     "data": {
      "text/plain": [
       "<IPython.core.display.HTML object>"
      ],
      "text/html": []
     },
     "metadata": {},
     "output_type": "display_data"
    },
    {
     "data": {
      "text/plain": [
       "<IPython.core.display.HTML object>"
      ],
      "text/html": [
       "<br>    <style><br>        .wandb-row {<br>            display: flex;<br>            flex-direction: row;<br>            flex-wrap: wrap;<br>            justify-content: flex-start;<br>            width: 100%;<br>        }<br>        .wandb-col {<br>            display: flex;<br>            flex-direction: column;<br>            flex-basis: 100%;<br>            flex: 1;<br>            padding: 10px;<br>        }<br>    </style><br><div class=\"wandb-row\"><div class=\"wandb-col\"><h3>Run history:</h3><br/><table class=\"wandb\"><tr><td>f1</td><td>▁</td></tr><tr><td>feature_importance/accelX_filtered_deriv_std</td><td>▁</td></tr><tr><td>feature_importance/accelX_filtered_mean</td><td>▁</td></tr><tr><td>feature_importance/accelX_filtered_var</td><td>▁</td></tr><tr><td>feature_importance/accelY_filtered_deriv_std</td><td>▁</td></tr><tr><td>feature_importance/accelY_filtered_mean</td><td>▁</td></tr><tr><td>feature_importance/accelY_filtered_var</td><td>▁</td></tr><tr><td>feature_importance/accelZ_filtered_deriv_std</td><td>▁</td></tr><tr><td>feature_importance/accelZ_filtered_mean</td><td>▁</td></tr><tr><td>feature_importance/accelZ_filtered_var</td><td>▁</td></tr><tr><td>feature_importance/corr_xy</td><td>▁</td></tr><tr><td>test/accuracy</td><td>▁</td></tr><tr><td>test/f1_0</td><td>▁</td></tr><tr><td>test/f1_1</td><td>▁</td></tr><tr><td>test/f1_macro</td><td>▁</td></tr><tr><td>test/precision_0</td><td>▁</td></tr><tr><td>test/precision_1</td><td>▁</td></tr><tr><td>test/recall_0</td><td>▁</td></tr><tr><td>test/recall_1</td><td>▁</td></tr></table><br/></div><div class=\"wandb-col\"><h3>Run summary:</h3><br/><table class=\"wandb\"><tr><td>f1</td><td>0.73822</td></tr><tr><td>feature_importance/accelX_filtered_deriv_std</td><td>0.08731</td></tr><tr><td>feature_importance/accelX_filtered_mean</td><td>0.10974</td></tr><tr><td>feature_importance/accelX_filtered_var</td><td>0.06071</td></tr><tr><td>feature_importance/accelY_filtered_deriv_std</td><td>0.06795</td></tr><tr><td>feature_importance/accelY_filtered_mean</td><td>0.16363</td></tr><tr><td>feature_importance/accelY_filtered_var</td><td>0.03373</td></tr><tr><td>feature_importance/accelZ_filtered_deriv_std</td><td>0.06604</td></tr><tr><td>feature_importance/accelZ_filtered_mean</td><td>0.12512</td></tr><tr><td>feature_importance/accelZ_filtered_var</td><td>0.04203</td></tr><tr><td>feature_importance/corr_xy</td><td>0.0347</td></tr><tr><td>test/accuracy</td><td>0.97844</td></tr><tr><td>test/f1_0</td><td>0.98899</td></tr><tr><td>test/f1_1</td><td>0.48746</td></tr><tr><td>test/f1_macro</td><td>0.73822</td></tr><tr><td>test/precision_0</td><td>0.99067</td></tr><tr><td>test/precision_1</td><td>0.45183</td></tr><tr><td>test/recall_0</td><td>0.98732</td></tr><tr><td>test/recall_1</td><td>0.52918</td></tr></table><br/></div></div>"
      ]
     },
     "metadata": {},
     "output_type": "display_data"
    },
    {
     "data": {
      "text/plain": [
       "<IPython.core.display.HTML object>"
      ],
      "text/html": [
       " View run <strong style=\"color:#cdcd00\">glamorous-sweep-8</strong> at: <a href='https://wandb.ai/knezevicoluka-tu-delft/rf-segment-classification/runs/7sv5mxw3' target=\"_blank\">https://wandb.ai/knezevicoluka-tu-delft/rf-segment-classification/runs/7sv5mxw3</a><br> View project at: <a href='https://wandb.ai/knezevicoluka-tu-delft/rf-segment-classification' target=\"_blank\">https://wandb.ai/knezevicoluka-tu-delft/rf-segment-classification</a><br>Synced 5 W&B file(s), 0 media file(s), 0 artifact file(s) and 0 other file(s)"
      ]
     },
     "metadata": {},
     "output_type": "display_data"
    },
    {
     "data": {
      "text/plain": [
       "<IPython.core.display.HTML object>"
      ],
      "text/html": [
       "Find logs at: <code>./wandb/run-20250616_195910-7sv5mxw3/logs</code>"
      ]
     },
     "metadata": {},
     "output_type": "display_data"
    },
    {
     "name": "stderr",
     "output_type": "stream",
     "text": [
      "\u001B[34m\u001B[1mwandb\u001B[0m: Agent Starting Run: k7ly70pv with config:\n",
      "\u001B[34m\u001B[1mwandb\u001B[0m: \tmax_depth: 10\n",
      "\u001B[34m\u001B[1mwandb\u001B[0m: \tn_estimators: 50\n",
      "\u001B[34m\u001B[1mwandb\u001B[0m: \trandom_state: 42\n"
     ]
    },
    {
     "data": {
      "text/plain": [
       "<IPython.core.display.HTML object>"
      ],
      "text/html": [
       "Ignoring project 'rf-segment-classification' when running a sweep."
      ]
     },
     "metadata": {},
     "output_type": "display_data"
    },
    {
     "data": {
      "text/plain": [
       "<IPython.core.display.HTML object>"
      ],
      "text/html": [
       "Tracking run with wandb version 0.20.1"
      ]
     },
     "metadata": {},
     "output_type": "display_data"
    },
    {
     "data": {
      "text/plain": [
       "<IPython.core.display.HTML object>"
      ],
      "text/html": [
       "Run data is saved locally in <code>/Users/lukini/PycharmProjects/DetectorPerModalitie/wandb/run-20250616_195916-k7ly70pv</code>"
      ]
     },
     "metadata": {},
     "output_type": "display_data"
    },
    {
     "data": {
      "text/plain": [
       "<IPython.core.display.HTML object>"
      ],
      "text/html": [
       "Syncing run <strong><a href='https://wandb.ai/knezevicoluka-tu-delft/rf-segment-classification/runs/k7ly70pv' target=\"_blank\">fresh-sweep-9</a></strong> to <a href='https://wandb.ai/knezevicoluka-tu-delft/rf-segment-classification' target=\"_blank\">Weights & Biases</a> (<a href='https://wandb.me/developer-guide' target=\"_blank\">docs</a>)<br>Sweep page: <a href='https://wandb.ai/knezevicoluka-tu-delft/rf-segment-classification/sweeps/qj7z584c' target=\"_blank\">https://wandb.ai/knezevicoluka-tu-delft/rf-segment-classification/sweeps/qj7z584c</a>"
      ]
     },
     "metadata": {},
     "output_type": "display_data"
    },
    {
     "data": {
      "text/plain": [
       "<IPython.core.display.HTML object>"
      ],
      "text/html": [
       " View project at <a href='https://wandb.ai/knezevicoluka-tu-delft/rf-segment-classification' target=\"_blank\">https://wandb.ai/knezevicoluka-tu-delft/rf-segment-classification</a>"
      ]
     },
     "metadata": {},
     "output_type": "display_data"
    },
    {
     "data": {
      "text/plain": [
       "<IPython.core.display.HTML object>"
      ],
      "text/html": [
       " View sweep at <a href='https://wandb.ai/knezevicoluka-tu-delft/rf-segment-classification/sweeps/qj7z584c' target=\"_blank\">https://wandb.ai/knezevicoluka-tu-delft/rf-segment-classification/sweeps/qj7z584c</a>"
      ]
     },
     "metadata": {},
     "output_type": "display_data"
    },
    {
     "data": {
      "text/plain": [
       "<IPython.core.display.HTML object>"
      ],
      "text/html": [
       " View run at <a href='https://wandb.ai/knezevicoluka-tu-delft/rf-segment-classification/runs/k7ly70pv' target=\"_blank\">https://wandb.ai/knezevicoluka-tu-delft/rf-segment-classification/runs/k7ly70pv</a>"
      ]
     },
     "metadata": {},
     "output_type": "display_data"
    },
    {
     "data": {
      "text/plain": [
       "<IPython.core.display.HTML object>"
      ],
      "text/html": []
     },
     "metadata": {},
     "output_type": "display_data"
    },
    {
     "data": {
      "text/plain": [
       "<IPython.core.display.HTML object>"
      ],
      "text/html": [
       "<br>    <style><br>        .wandb-row {<br>            display: flex;<br>            flex-direction: row;<br>            flex-wrap: wrap;<br>            justify-content: flex-start;<br>            width: 100%;<br>        }<br>        .wandb-col {<br>            display: flex;<br>            flex-direction: column;<br>            flex-basis: 100%;<br>            flex: 1;<br>            padding: 10px;<br>        }<br>    </style><br><div class=\"wandb-row\"><div class=\"wandb-col\"><h3>Run history:</h3><br/><table class=\"wandb\"><tr><td>f1</td><td>▁</td></tr><tr><td>feature_importance/accelX_filtered_deriv_std</td><td>▁</td></tr><tr><td>feature_importance/accelX_filtered_mean</td><td>▁</td></tr><tr><td>feature_importance/accelX_filtered_var</td><td>▁</td></tr><tr><td>feature_importance/accelY_filtered_deriv_std</td><td>▁</td></tr><tr><td>feature_importance/accelY_filtered_mean</td><td>▁</td></tr><tr><td>feature_importance/accelY_filtered_var</td><td>▁</td></tr><tr><td>feature_importance/accelZ_filtered_deriv_std</td><td>▁</td></tr><tr><td>feature_importance/accelZ_filtered_mean</td><td>▁</td></tr><tr><td>feature_importance/accelZ_filtered_var</td><td>▁</td></tr><tr><td>feature_importance/corr_xy</td><td>▁</td></tr><tr><td>test/accuracy</td><td>▁</td></tr><tr><td>test/f1_0</td><td>▁</td></tr><tr><td>test/f1_1</td><td>▁</td></tr><tr><td>test/f1_macro</td><td>▁</td></tr><tr><td>test/precision_0</td><td>▁</td></tr><tr><td>test/precision_1</td><td>▁</td></tr><tr><td>test/recall_0</td><td>▁</td></tr><tr><td>test/recall_1</td><td>▁</td></tr></table><br/></div><div class=\"wandb-col\"><h3>Run summary:</h3><br/><table class=\"wandb\"><tr><td>f1</td><td>0.73822</td></tr><tr><td>feature_importance/accelX_filtered_deriv_std</td><td>0.08731</td></tr><tr><td>feature_importance/accelX_filtered_mean</td><td>0.10974</td></tr><tr><td>feature_importance/accelX_filtered_var</td><td>0.06071</td></tr><tr><td>feature_importance/accelY_filtered_deriv_std</td><td>0.06795</td></tr><tr><td>feature_importance/accelY_filtered_mean</td><td>0.16363</td></tr><tr><td>feature_importance/accelY_filtered_var</td><td>0.03373</td></tr><tr><td>feature_importance/accelZ_filtered_deriv_std</td><td>0.06604</td></tr><tr><td>feature_importance/accelZ_filtered_mean</td><td>0.12512</td></tr><tr><td>feature_importance/accelZ_filtered_var</td><td>0.04203</td></tr><tr><td>feature_importance/corr_xy</td><td>0.0347</td></tr><tr><td>test/accuracy</td><td>0.97844</td></tr><tr><td>test/f1_0</td><td>0.98899</td></tr><tr><td>test/f1_1</td><td>0.48746</td></tr><tr><td>test/f1_macro</td><td>0.73822</td></tr><tr><td>test/precision_0</td><td>0.99067</td></tr><tr><td>test/precision_1</td><td>0.45183</td></tr><tr><td>test/recall_0</td><td>0.98732</td></tr><tr><td>test/recall_1</td><td>0.52918</td></tr></table><br/></div></div>"
      ]
     },
     "metadata": {},
     "output_type": "display_data"
    },
    {
     "data": {
      "text/plain": [
       "<IPython.core.display.HTML object>"
      ],
      "text/html": [
       " View run <strong style=\"color:#cdcd00\">fresh-sweep-9</strong> at: <a href='https://wandb.ai/knezevicoluka-tu-delft/rf-segment-classification/runs/k7ly70pv' target=\"_blank\">https://wandb.ai/knezevicoluka-tu-delft/rf-segment-classification/runs/k7ly70pv</a><br> View project at: <a href='https://wandb.ai/knezevicoluka-tu-delft/rf-segment-classification' target=\"_blank\">https://wandb.ai/knezevicoluka-tu-delft/rf-segment-classification</a><br>Synced 5 W&B file(s), 0 media file(s), 0 artifact file(s) and 0 other file(s)"
      ]
     },
     "metadata": {},
     "output_type": "display_data"
    },
    {
     "data": {
      "text/plain": [
       "<IPython.core.display.HTML object>"
      ],
      "text/html": [
       "Find logs at: <code>./wandb/run-20250616_195916-k7ly70pv/logs</code>"
      ]
     },
     "metadata": {},
     "output_type": "display_data"
    },
    {
     "name": "stderr",
     "output_type": "stream",
     "text": [
      "\u001B[34m\u001B[1mwandb\u001B[0m: Agent Starting Run: t1lynet2 with config:\n",
      "\u001B[34m\u001B[1mwandb\u001B[0m: \tmax_depth: 10\n",
      "\u001B[34m\u001B[1mwandb\u001B[0m: \tn_estimators: 50\n",
      "\u001B[34m\u001B[1mwandb\u001B[0m: \trandom_state: 42\n"
     ]
    },
    {
     "data": {
      "text/plain": [
       "<IPython.core.display.HTML object>"
      ],
      "text/html": [
       "Ignoring project 'rf-segment-classification' when running a sweep."
      ]
     },
     "metadata": {},
     "output_type": "display_data"
    },
    {
     "data": {
      "text/plain": [
       "<IPython.core.display.HTML object>"
      ],
      "text/html": [
       "Tracking run with wandb version 0.20.1"
      ]
     },
     "metadata": {},
     "output_type": "display_data"
    },
    {
     "data": {
      "text/plain": [
       "<IPython.core.display.HTML object>"
      ],
      "text/html": [
       "Run data is saved locally in <code>/Users/lukini/PycharmProjects/DetectorPerModalitie/wandb/run-20250616_195922-t1lynet2</code>"
      ]
     },
     "metadata": {},
     "output_type": "display_data"
    },
    {
     "data": {
      "text/plain": [
       "<IPython.core.display.HTML object>"
      ],
      "text/html": [
       "Syncing run <strong><a href='https://wandb.ai/knezevicoluka-tu-delft/rf-segment-classification/runs/t1lynet2' target=\"_blank\">dark-sweep-10</a></strong> to <a href='https://wandb.ai/knezevicoluka-tu-delft/rf-segment-classification' target=\"_blank\">Weights & Biases</a> (<a href='https://wandb.me/developer-guide' target=\"_blank\">docs</a>)<br>Sweep page: <a href='https://wandb.ai/knezevicoluka-tu-delft/rf-segment-classification/sweeps/qj7z584c' target=\"_blank\">https://wandb.ai/knezevicoluka-tu-delft/rf-segment-classification/sweeps/qj7z584c</a>"
      ]
     },
     "metadata": {},
     "output_type": "display_data"
    },
    {
     "data": {
      "text/plain": [
       "<IPython.core.display.HTML object>"
      ],
      "text/html": [
       " View project at <a href='https://wandb.ai/knezevicoluka-tu-delft/rf-segment-classification' target=\"_blank\">https://wandb.ai/knezevicoluka-tu-delft/rf-segment-classification</a>"
      ]
     },
     "metadata": {},
     "output_type": "display_data"
    },
    {
     "data": {
      "text/plain": [
       "<IPython.core.display.HTML object>"
      ],
      "text/html": [
       " View sweep at <a href='https://wandb.ai/knezevicoluka-tu-delft/rf-segment-classification/sweeps/qj7z584c' target=\"_blank\">https://wandb.ai/knezevicoluka-tu-delft/rf-segment-classification/sweeps/qj7z584c</a>"
      ]
     },
     "metadata": {},
     "output_type": "display_data"
    },
    {
     "data": {
      "text/plain": [
       "<IPython.core.display.HTML object>"
      ],
      "text/html": [
       " View run at <a href='https://wandb.ai/knezevicoluka-tu-delft/rf-segment-classification/runs/t1lynet2' target=\"_blank\">https://wandb.ai/knezevicoluka-tu-delft/rf-segment-classification/runs/t1lynet2</a>"
      ]
     },
     "metadata": {},
     "output_type": "display_data"
    },
    {
     "data": {
      "text/plain": [
       "<IPython.core.display.HTML object>"
      ],
      "text/html": []
     },
     "metadata": {},
     "output_type": "display_data"
    },
    {
     "data": {
      "text/plain": [
       "<IPython.core.display.HTML object>"
      ],
      "text/html": [
       "<br>    <style><br>        .wandb-row {<br>            display: flex;<br>            flex-direction: row;<br>            flex-wrap: wrap;<br>            justify-content: flex-start;<br>            width: 100%;<br>        }<br>        .wandb-col {<br>            display: flex;<br>            flex-direction: column;<br>            flex-basis: 100%;<br>            flex: 1;<br>            padding: 10px;<br>        }<br>    </style><br><div class=\"wandb-row\"><div class=\"wandb-col\"><h3>Run history:</h3><br/><table class=\"wandb\"><tr><td>f1</td><td>▁</td></tr><tr><td>feature_importance/accelX_filtered_deriv_std</td><td>▁</td></tr><tr><td>feature_importance/accelX_filtered_mean</td><td>▁</td></tr><tr><td>feature_importance/accelX_filtered_var</td><td>▁</td></tr><tr><td>feature_importance/accelY_filtered_deriv_std</td><td>▁</td></tr><tr><td>feature_importance/accelY_filtered_mean</td><td>▁</td></tr><tr><td>feature_importance/accelY_filtered_var</td><td>▁</td></tr><tr><td>feature_importance/accelZ_filtered_deriv_std</td><td>▁</td></tr><tr><td>feature_importance/accelZ_filtered_mean</td><td>▁</td></tr><tr><td>feature_importance/accelZ_filtered_var</td><td>▁</td></tr><tr><td>feature_importance/corr_xy</td><td>▁</td></tr><tr><td>test/accuracy</td><td>▁</td></tr><tr><td>test/f1_0</td><td>▁</td></tr><tr><td>test/f1_1</td><td>▁</td></tr><tr><td>test/f1_macro</td><td>▁</td></tr><tr><td>test/precision_0</td><td>▁</td></tr><tr><td>test/precision_1</td><td>▁</td></tr><tr><td>test/recall_0</td><td>▁</td></tr><tr><td>test/recall_1</td><td>▁</td></tr></table><br/></div><div class=\"wandb-col\"><h3>Run summary:</h3><br/><table class=\"wandb\"><tr><td>f1</td><td>0.73822</td></tr><tr><td>feature_importance/accelX_filtered_deriv_std</td><td>0.08731</td></tr><tr><td>feature_importance/accelX_filtered_mean</td><td>0.10974</td></tr><tr><td>feature_importance/accelX_filtered_var</td><td>0.06071</td></tr><tr><td>feature_importance/accelY_filtered_deriv_std</td><td>0.06795</td></tr><tr><td>feature_importance/accelY_filtered_mean</td><td>0.16363</td></tr><tr><td>feature_importance/accelY_filtered_var</td><td>0.03373</td></tr><tr><td>feature_importance/accelZ_filtered_deriv_std</td><td>0.06604</td></tr><tr><td>feature_importance/accelZ_filtered_mean</td><td>0.12512</td></tr><tr><td>feature_importance/accelZ_filtered_var</td><td>0.04203</td></tr><tr><td>feature_importance/corr_xy</td><td>0.0347</td></tr><tr><td>test/accuracy</td><td>0.97844</td></tr><tr><td>test/f1_0</td><td>0.98899</td></tr><tr><td>test/f1_1</td><td>0.48746</td></tr><tr><td>test/f1_macro</td><td>0.73822</td></tr><tr><td>test/precision_0</td><td>0.99067</td></tr><tr><td>test/precision_1</td><td>0.45183</td></tr><tr><td>test/recall_0</td><td>0.98732</td></tr><tr><td>test/recall_1</td><td>0.52918</td></tr></table><br/></div></div>"
      ]
     },
     "metadata": {},
     "output_type": "display_data"
    },
    {
     "data": {
      "text/plain": [
       "<IPython.core.display.HTML object>"
      ],
      "text/html": [
       " View run <strong style=\"color:#cdcd00\">dark-sweep-10</strong> at: <a href='https://wandb.ai/knezevicoluka-tu-delft/rf-segment-classification/runs/t1lynet2' target=\"_blank\">https://wandb.ai/knezevicoluka-tu-delft/rf-segment-classification/runs/t1lynet2</a><br> View project at: <a href='https://wandb.ai/knezevicoluka-tu-delft/rf-segment-classification' target=\"_blank\">https://wandb.ai/knezevicoluka-tu-delft/rf-segment-classification</a><br>Synced 5 W&B file(s), 0 media file(s), 0 artifact file(s) and 0 other file(s)"
      ]
     },
     "metadata": {},
     "output_type": "display_data"
    },
    {
     "data": {
      "text/plain": [
       "<IPython.core.display.HTML object>"
      ],
      "text/html": [
       "Find logs at: <code>./wandb/run-20250616_195922-t1lynet2/logs</code>"
      ]
     },
     "metadata": {},
     "output_type": "display_data"
    },
    {
     "name": "stderr",
     "output_type": "stream",
     "text": [
      "\u001B[34m\u001B[1mwandb\u001B[0m: Agent Starting Run: kgl1xqic with config:\n",
      "\u001B[34m\u001B[1mwandb\u001B[0m: \tmax_depth: 10\n",
      "\u001B[34m\u001B[1mwandb\u001B[0m: \tn_estimators: 50\n",
      "\u001B[34m\u001B[1mwandb\u001B[0m: \trandom_state: 42\n"
     ]
    },
    {
     "data": {
      "text/plain": [
       "<IPython.core.display.HTML object>"
      ],
      "text/html": [
       "Ignoring project 'rf-segment-classification' when running a sweep."
      ]
     },
     "metadata": {},
     "output_type": "display_data"
    },
    {
     "data": {
      "text/plain": [
       "<IPython.core.display.HTML object>"
      ],
      "text/html": [
       "Tracking run with wandb version 0.20.1"
      ]
     },
     "metadata": {},
     "output_type": "display_data"
    },
    {
     "data": {
      "text/plain": [
       "<IPython.core.display.HTML object>"
      ],
      "text/html": [
       "Run data is saved locally in <code>/Users/lukini/PycharmProjects/DetectorPerModalitie/wandb/run-20250616_195927-kgl1xqic</code>"
      ]
     },
     "metadata": {},
     "output_type": "display_data"
    },
    {
     "data": {
      "text/plain": [
       "<IPython.core.display.HTML object>"
      ],
      "text/html": [
       "Syncing run <strong><a href='https://wandb.ai/knezevicoluka-tu-delft/rf-segment-classification/runs/kgl1xqic' target=\"_blank\">good-sweep-11</a></strong> to <a href='https://wandb.ai/knezevicoluka-tu-delft/rf-segment-classification' target=\"_blank\">Weights & Biases</a> (<a href='https://wandb.me/developer-guide' target=\"_blank\">docs</a>)<br>Sweep page: <a href='https://wandb.ai/knezevicoluka-tu-delft/rf-segment-classification/sweeps/qj7z584c' target=\"_blank\">https://wandb.ai/knezevicoluka-tu-delft/rf-segment-classification/sweeps/qj7z584c</a>"
      ]
     },
     "metadata": {},
     "output_type": "display_data"
    },
    {
     "data": {
      "text/plain": [
       "<IPython.core.display.HTML object>"
      ],
      "text/html": [
       " View project at <a href='https://wandb.ai/knezevicoluka-tu-delft/rf-segment-classification' target=\"_blank\">https://wandb.ai/knezevicoluka-tu-delft/rf-segment-classification</a>"
      ]
     },
     "metadata": {},
     "output_type": "display_data"
    },
    {
     "data": {
      "text/plain": [
       "<IPython.core.display.HTML object>"
      ],
      "text/html": [
       " View sweep at <a href='https://wandb.ai/knezevicoluka-tu-delft/rf-segment-classification/sweeps/qj7z584c' target=\"_blank\">https://wandb.ai/knezevicoluka-tu-delft/rf-segment-classification/sweeps/qj7z584c</a>"
      ]
     },
     "metadata": {},
     "output_type": "display_data"
    },
    {
     "data": {
      "text/plain": [
       "<IPython.core.display.HTML object>"
      ],
      "text/html": [
       " View run at <a href='https://wandb.ai/knezevicoluka-tu-delft/rf-segment-classification/runs/kgl1xqic' target=\"_blank\">https://wandb.ai/knezevicoluka-tu-delft/rf-segment-classification/runs/kgl1xqic</a>"
      ]
     },
     "metadata": {},
     "output_type": "display_data"
    },
    {
     "data": {
      "text/plain": [
       "<IPython.core.display.HTML object>"
      ],
      "text/html": []
     },
     "metadata": {},
     "output_type": "display_data"
    },
    {
     "data": {
      "text/plain": [
       "<IPython.core.display.HTML object>"
      ],
      "text/html": [
       "<br>    <style><br>        .wandb-row {<br>            display: flex;<br>            flex-direction: row;<br>            flex-wrap: wrap;<br>            justify-content: flex-start;<br>            width: 100%;<br>        }<br>        .wandb-col {<br>            display: flex;<br>            flex-direction: column;<br>            flex-basis: 100%;<br>            flex: 1;<br>            padding: 10px;<br>        }<br>    </style><br><div class=\"wandb-row\"><div class=\"wandb-col\"><h3>Run history:</h3><br/><table class=\"wandb\"><tr><td>f1</td><td>▁</td></tr><tr><td>feature_importance/accelX_filtered_deriv_std</td><td>▁</td></tr><tr><td>feature_importance/accelX_filtered_mean</td><td>▁</td></tr><tr><td>feature_importance/accelX_filtered_var</td><td>▁</td></tr><tr><td>feature_importance/accelY_filtered_deriv_std</td><td>▁</td></tr><tr><td>feature_importance/accelY_filtered_mean</td><td>▁</td></tr><tr><td>feature_importance/accelY_filtered_var</td><td>▁</td></tr><tr><td>feature_importance/accelZ_filtered_deriv_std</td><td>▁</td></tr><tr><td>feature_importance/accelZ_filtered_mean</td><td>▁</td></tr><tr><td>feature_importance/accelZ_filtered_var</td><td>▁</td></tr><tr><td>feature_importance/corr_xy</td><td>▁</td></tr><tr><td>test/accuracy</td><td>▁</td></tr><tr><td>test/f1_0</td><td>▁</td></tr><tr><td>test/f1_1</td><td>▁</td></tr><tr><td>test/f1_macro</td><td>▁</td></tr><tr><td>test/precision_0</td><td>▁</td></tr><tr><td>test/precision_1</td><td>▁</td></tr><tr><td>test/recall_0</td><td>▁</td></tr><tr><td>test/recall_1</td><td>▁</td></tr></table><br/></div><div class=\"wandb-col\"><h3>Run summary:</h3><br/><table class=\"wandb\"><tr><td>f1</td><td>0.73822</td></tr><tr><td>feature_importance/accelX_filtered_deriv_std</td><td>0.08731</td></tr><tr><td>feature_importance/accelX_filtered_mean</td><td>0.10974</td></tr><tr><td>feature_importance/accelX_filtered_var</td><td>0.06071</td></tr><tr><td>feature_importance/accelY_filtered_deriv_std</td><td>0.06795</td></tr><tr><td>feature_importance/accelY_filtered_mean</td><td>0.16363</td></tr><tr><td>feature_importance/accelY_filtered_var</td><td>0.03373</td></tr><tr><td>feature_importance/accelZ_filtered_deriv_std</td><td>0.06604</td></tr><tr><td>feature_importance/accelZ_filtered_mean</td><td>0.12512</td></tr><tr><td>feature_importance/accelZ_filtered_var</td><td>0.04203</td></tr><tr><td>feature_importance/corr_xy</td><td>0.0347</td></tr><tr><td>test/accuracy</td><td>0.97844</td></tr><tr><td>test/f1_0</td><td>0.98899</td></tr><tr><td>test/f1_1</td><td>0.48746</td></tr><tr><td>test/f1_macro</td><td>0.73822</td></tr><tr><td>test/precision_0</td><td>0.99067</td></tr><tr><td>test/precision_1</td><td>0.45183</td></tr><tr><td>test/recall_0</td><td>0.98732</td></tr><tr><td>test/recall_1</td><td>0.52918</td></tr></table><br/></div></div>"
      ]
     },
     "metadata": {},
     "output_type": "display_data"
    },
    {
     "data": {
      "text/plain": [
       "<IPython.core.display.HTML object>"
      ],
      "text/html": [
       " View run <strong style=\"color:#cdcd00\">good-sweep-11</strong> at: <a href='https://wandb.ai/knezevicoluka-tu-delft/rf-segment-classification/runs/kgl1xqic' target=\"_blank\">https://wandb.ai/knezevicoluka-tu-delft/rf-segment-classification/runs/kgl1xqic</a><br> View project at: <a href='https://wandb.ai/knezevicoluka-tu-delft/rf-segment-classification' target=\"_blank\">https://wandb.ai/knezevicoluka-tu-delft/rf-segment-classification</a><br>Synced 5 W&B file(s), 0 media file(s), 0 artifact file(s) and 0 other file(s)"
      ]
     },
     "metadata": {},
     "output_type": "display_data"
    },
    {
     "data": {
      "text/plain": [
       "<IPython.core.display.HTML object>"
      ],
      "text/html": [
       "Find logs at: <code>./wandb/run-20250616_195927-kgl1xqic/logs</code>"
      ]
     },
     "metadata": {},
     "output_type": "display_data"
    },
    {
     "name": "stderr",
     "output_type": "stream",
     "text": [
      "\u001B[34m\u001B[1mwandb\u001B[0m: Agent Starting Run: uwk48t87 with config:\n",
      "\u001B[34m\u001B[1mwandb\u001B[0m: \tmax_depth: 10\n",
      "\u001B[34m\u001B[1mwandb\u001B[0m: \tn_estimators: 50\n",
      "\u001B[34m\u001B[1mwandb\u001B[0m: \trandom_state: 42\n"
     ]
    },
    {
     "data": {
      "text/plain": [
       "<IPython.core.display.HTML object>"
      ],
      "text/html": [
       "Ignoring project 'rf-segment-classification' when running a sweep."
      ]
     },
     "metadata": {},
     "output_type": "display_data"
    },
    {
     "data": {
      "text/plain": [
       "<IPython.core.display.HTML object>"
      ],
      "text/html": [
       "Tracking run with wandb version 0.20.1"
      ]
     },
     "metadata": {},
     "output_type": "display_data"
    },
    {
     "data": {
      "text/plain": [
       "<IPython.core.display.HTML object>"
      ],
      "text/html": [
       "Run data is saved locally in <code>/Users/lukini/PycharmProjects/DetectorPerModalitie/wandb/run-20250616_195933-uwk48t87</code>"
      ]
     },
     "metadata": {},
     "output_type": "display_data"
    },
    {
     "data": {
      "text/plain": [
       "<IPython.core.display.HTML object>"
      ],
      "text/html": [
       "Syncing run <strong><a href='https://wandb.ai/knezevicoluka-tu-delft/rf-segment-classification/runs/uwk48t87' target=\"_blank\">vivid-sweep-12</a></strong> to <a href='https://wandb.ai/knezevicoluka-tu-delft/rf-segment-classification' target=\"_blank\">Weights & Biases</a> (<a href='https://wandb.me/developer-guide' target=\"_blank\">docs</a>)<br>Sweep page: <a href='https://wandb.ai/knezevicoluka-tu-delft/rf-segment-classification/sweeps/qj7z584c' target=\"_blank\">https://wandb.ai/knezevicoluka-tu-delft/rf-segment-classification/sweeps/qj7z584c</a>"
      ]
     },
     "metadata": {},
     "output_type": "display_data"
    },
    {
     "data": {
      "text/plain": [
       "<IPython.core.display.HTML object>"
      ],
      "text/html": [
       " View project at <a href='https://wandb.ai/knezevicoluka-tu-delft/rf-segment-classification' target=\"_blank\">https://wandb.ai/knezevicoluka-tu-delft/rf-segment-classification</a>"
      ]
     },
     "metadata": {},
     "output_type": "display_data"
    },
    {
     "data": {
      "text/plain": [
       "<IPython.core.display.HTML object>"
      ],
      "text/html": [
       " View sweep at <a href='https://wandb.ai/knezevicoluka-tu-delft/rf-segment-classification/sweeps/qj7z584c' target=\"_blank\">https://wandb.ai/knezevicoluka-tu-delft/rf-segment-classification/sweeps/qj7z584c</a>"
      ]
     },
     "metadata": {},
     "output_type": "display_data"
    },
    {
     "data": {
      "text/plain": [
       "<IPython.core.display.HTML object>"
      ],
      "text/html": [
       " View run at <a href='https://wandb.ai/knezevicoluka-tu-delft/rf-segment-classification/runs/uwk48t87' target=\"_blank\">https://wandb.ai/knezevicoluka-tu-delft/rf-segment-classification/runs/uwk48t87</a>"
      ]
     },
     "metadata": {},
     "output_type": "display_data"
    },
    {
     "data": {
      "text/plain": [
       "<IPython.core.display.HTML object>"
      ],
      "text/html": []
     },
     "metadata": {},
     "output_type": "display_data"
    },
    {
     "data": {
      "text/plain": [
       "<IPython.core.display.HTML object>"
      ],
      "text/html": [
       "<br>    <style><br>        .wandb-row {<br>            display: flex;<br>            flex-direction: row;<br>            flex-wrap: wrap;<br>            justify-content: flex-start;<br>            width: 100%;<br>        }<br>        .wandb-col {<br>            display: flex;<br>            flex-direction: column;<br>            flex-basis: 100%;<br>            flex: 1;<br>            padding: 10px;<br>        }<br>    </style><br><div class=\"wandb-row\"><div class=\"wandb-col\"><h3>Run history:</h3><br/><table class=\"wandb\"><tr><td>f1</td><td>▁</td></tr><tr><td>feature_importance/accelX_filtered_deriv_std</td><td>▁</td></tr><tr><td>feature_importance/accelX_filtered_mean</td><td>▁</td></tr><tr><td>feature_importance/accelX_filtered_var</td><td>▁</td></tr><tr><td>feature_importance/accelY_filtered_deriv_std</td><td>▁</td></tr><tr><td>feature_importance/accelY_filtered_mean</td><td>▁</td></tr><tr><td>feature_importance/accelY_filtered_var</td><td>▁</td></tr><tr><td>feature_importance/accelZ_filtered_deriv_std</td><td>▁</td></tr><tr><td>feature_importance/accelZ_filtered_mean</td><td>▁</td></tr><tr><td>feature_importance/accelZ_filtered_var</td><td>▁</td></tr><tr><td>feature_importance/corr_xy</td><td>▁</td></tr><tr><td>test/accuracy</td><td>▁</td></tr><tr><td>test/f1_0</td><td>▁</td></tr><tr><td>test/f1_1</td><td>▁</td></tr><tr><td>test/f1_macro</td><td>▁</td></tr><tr><td>test/precision_0</td><td>▁</td></tr><tr><td>test/precision_1</td><td>▁</td></tr><tr><td>test/recall_0</td><td>▁</td></tr><tr><td>test/recall_1</td><td>▁</td></tr></table><br/></div><div class=\"wandb-col\"><h3>Run summary:</h3><br/><table class=\"wandb\"><tr><td>f1</td><td>0.73822</td></tr><tr><td>feature_importance/accelX_filtered_deriv_std</td><td>0.08731</td></tr><tr><td>feature_importance/accelX_filtered_mean</td><td>0.10974</td></tr><tr><td>feature_importance/accelX_filtered_var</td><td>0.06071</td></tr><tr><td>feature_importance/accelY_filtered_deriv_std</td><td>0.06795</td></tr><tr><td>feature_importance/accelY_filtered_mean</td><td>0.16363</td></tr><tr><td>feature_importance/accelY_filtered_var</td><td>0.03373</td></tr><tr><td>feature_importance/accelZ_filtered_deriv_std</td><td>0.06604</td></tr><tr><td>feature_importance/accelZ_filtered_mean</td><td>0.12512</td></tr><tr><td>feature_importance/accelZ_filtered_var</td><td>0.04203</td></tr><tr><td>feature_importance/corr_xy</td><td>0.0347</td></tr><tr><td>test/accuracy</td><td>0.97844</td></tr><tr><td>test/f1_0</td><td>0.98899</td></tr><tr><td>test/f1_1</td><td>0.48746</td></tr><tr><td>test/f1_macro</td><td>0.73822</td></tr><tr><td>test/precision_0</td><td>0.99067</td></tr><tr><td>test/precision_1</td><td>0.45183</td></tr><tr><td>test/recall_0</td><td>0.98732</td></tr><tr><td>test/recall_1</td><td>0.52918</td></tr></table><br/></div></div>"
      ]
     },
     "metadata": {},
     "output_type": "display_data"
    },
    {
     "data": {
      "text/plain": [
       "<IPython.core.display.HTML object>"
      ],
      "text/html": [
       " View run <strong style=\"color:#cdcd00\">vivid-sweep-12</strong> at: <a href='https://wandb.ai/knezevicoluka-tu-delft/rf-segment-classification/runs/uwk48t87' target=\"_blank\">https://wandb.ai/knezevicoluka-tu-delft/rf-segment-classification/runs/uwk48t87</a><br> View project at: <a href='https://wandb.ai/knezevicoluka-tu-delft/rf-segment-classification' target=\"_blank\">https://wandb.ai/knezevicoluka-tu-delft/rf-segment-classification</a><br>Synced 5 W&B file(s), 0 media file(s), 0 artifact file(s) and 0 other file(s)"
      ]
     },
     "metadata": {},
     "output_type": "display_data"
    },
    {
     "data": {
      "text/plain": [
       "<IPython.core.display.HTML object>"
      ],
      "text/html": [
       "Find logs at: <code>./wandb/run-20250616_195933-uwk48t87/logs</code>"
      ]
     },
     "metadata": {},
     "output_type": "display_data"
    }
   ],
   "execution_count": 18
  },
  {
   "metadata": {},
   "cell_type": "code",
   "outputs": [],
   "execution_count": null,
   "source": "",
   "id": "52bd75cb23382dad"
  }
 ],
 "metadata": {
  "kernelspec": {
   "display_name": "Python 3",
   "language": "python",
   "name": "python3"
  },
  "language_info": {
   "codemirror_mode": {
    "name": "ipython",
    "version": 2
   },
   "file_extension": ".py",
   "mimetype": "text/x-python",
   "name": "python",
   "nbconvert_exporter": "python",
   "pygments_lexer": "ipython2",
   "version": "2.7.6"
  }
 },
 "nbformat": 4,
 "nbformat_minor": 5
}
