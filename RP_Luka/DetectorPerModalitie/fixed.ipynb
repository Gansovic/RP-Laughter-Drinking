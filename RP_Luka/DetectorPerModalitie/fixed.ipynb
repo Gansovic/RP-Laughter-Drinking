{
 "cells": [
  {
   "metadata": {
    "ExecuteTime": {
     "end_time": "2025-06-22T07:56:13.336196Z",
     "start_time": "2025-06-22T07:56:04.949880Z"
    }
   },
   "cell_type": "code",
   "source": [
    "import numpy as np\n",
    "import pandas as pd\n",
    "from glob import glob\n",
    "import os\n",
    "mod = \"no_audio\"\n",
    "# ── CONFIG ─────────────────────────────────────────────────────────────────────\n",
    "SR_SIGNAL    = 56      # for padding later, but not needed here\n",
    "WINDOW_SIZES = [1.0, 2.0, 10.0]\n",
    "STEP_SIZE    = 0.5\n",
    "ANN_PER_FRAME_CSV = f'./annotations/per_modality/annotations_{mod}_majority.csv'\n",
    "\n",
    "# ── Load the per‐frame annotations (this has 'frame'!) ─────────────────────────\n",
    "df_ann = pd.read_csv(ANN_PER_FRAME_CSV)\n",
    "\n",
    "def sliding_windows(arr, window_s, step_s, sr, pad=True):\n",
    "    ws = int(window_s * sr)\n",
    "    st = int(step_s   * sr)\n",
    "    for start in range(0, len(arr), st):\n",
    "        end = start + ws\n",
    "        seg = arr[start:end]\n",
    "        if len(seg) < ws:\n",
    "            if pad:\n",
    "                seg = np.pad(seg, (0, ws - len(seg)), mode='edge')\n",
    "            else:\n",
    "                break\n",
    "        yield start, seg\n",
    "\n",
    "# ── For each window size, build fixed‐window CSV ───────────────────────────────\n",
    "for w in WINDOW_SIZES:\n",
    "    records = []\n",
    "    # group by video/segment/participant in the per‐frame DataFrame\n",
    "    for (vid, seg, pid), sub in df_ann.groupby(['video_id','segment','participant']):\n",
    "        # now you *can* sort by 'frame'\n",
    "        sub = sub.sort_values('frame')\n",
    "        labels = sub['label'].to_numpy()\n",
    "        ctx   = (vid, seg, pid)\n",
    "\n",
    "        # slide\n",
    "        for start_idx, seg_lbls in sliding_windows(labels, w, STEP_SIZE, SR_SIGNAL, pad=True):\n",
    "            lbl_win = int(seg_lbls.mean() >= 0.5)\n",
    "            records.append({\n",
    "                'video_id':            vid,\n",
    "                'segment':             seg,\n",
    "                'participant':         pid,\n",
    "                'window_start_frame':  start_idx,\n",
    "                'window_size_s':       w,\n",
    "                'step_s':              STEP_SIZE,\n",
    "                'label':               lbl_win\n",
    "            })\n",
    "\n",
    "    # write out one CSV per window\n",
    "    out_dir = f'./annotations/fixed/{mod}'\n",
    "    os.makedirs(out_dir, exist_ok=True)\n",
    "    out_fname = os.path.join(out_dir, f'annotations_fixed_{int(w)}s.csv')\n",
    "    pd.DataFrame(records).to_csv(out_fname, index=False)\n",
    "    print(f\"✅ Saved fixed‐window annotations ({w}s) to {out_fname}\")\n"
   ],
   "id": "c61cda771bd3ee3f",
   "outputs": [
    {
     "name": "stdout",
     "output_type": "stream",
     "text": [
      "✅ Saved fixed‐window annotations (1.0s) to ./annotations/fixed/no_audio/annotations_fixed_1s.csv\n",
      "✅ Saved fixed‐window annotations (2.0s) to ./annotations/fixed/no_audio/annotations_fixed_2s.csv\n",
      "✅ Saved fixed‐window annotations (10.0s) to ./annotations/fixed/no_audio/annotations_fixed_10s.csv\n"
     ]
    }
   ],
   "execution_count": 1
  },
  {
   "metadata": {
    "ExecuteTime": {
     "end_time": "2025-06-22T07:56:16.144070Z",
     "start_time": "2025-06-22T07:56:15.627916Z"
    }
   },
   "cell_type": "code",
   "source": [
    "for mod in [\"with_audio\", \"only_audio\", \"no_audio\"]:\n",
    "    for w in [1, 2, 10]:\n",
    "        df = pd.read_csv(f\"./annotations/fixed/{mod}/annotations_fixed_{w}s.csv\")\n",
    "        print(f\"{mod:>12} | {w}s | total: {len(df):>5} | label==1: {(df['label'] == 1).sum():>5}\")"
   ],
   "id": "d5488eedb2dc4f3b",
   "outputs": [
    {
     "name": "stdout",
     "output_type": "stream",
     "text": [
      "  with_audio | 1s | total: 291800 | label==1:  3608\n",
      "  with_audio | 2s | total: 291800 | label==1:  4767\n",
      "  with_audio | 10s | total: 291800 | label==1:  6413\n",
      "  only_audio | 1s | total: 291200 | label==1:  4546\n",
      "  only_audio | 2s | total: 291200 | label==1:  5992\n",
      "  only_audio | 10s | total: 291200 | label==1:  8200\n",
      "    no_audio | 1s | total: 289650 | label==1:  2444\n",
      "    no_audio | 2s | total: 289650 | label==1:  2005\n",
      "    no_audio | 10s | total: 289650 | label==1:   613\n"
     ]
    }
   ],
   "execution_count": 2
  },
  {
   "metadata": {
    "ExecuteTime": {
     "end_time": "2025-06-22T08:03:21.167160Z",
     "start_time": "2025-06-22T07:57:27.362717Z"
    }
   },
   "cell_type": "code",
   "source": [
    "import os\n",
    "import pickle\n",
    "import numpy as np\n",
    "import pandas as pd\n",
    "from glob import glob\n",
    "\n",
    "# ── CONFIG ─────────────────────────────────────────────────────────────────────\n",
    "PKL_DIR = \"./accelerometer/filtered\"\n",
    "\n",
    "mod = \"no_audio\"\n",
    "ANN_DIR = f\"./annotations/fixed/{mod}\"       # contains annotations_fixed_1s.csv, etc.\n",
    "OUT_DIR = f\"features/fixed_really/{mod}\"\n",
    "os.makedirs(OUT_DIR, exist_ok=True)\n",
    "\n",
    "FS         = 56.0\n",
    "FILTERED_COLS = [\"accelX_filtered\", \"accelY_filtered\", \"accelZ_filtered\"]\n",
    "\n",
    "# ── LOAD SIGNALS ────────────────────────────────────────────────────────────────\n",
    "signals = {}\n",
    "for p in glob(os.path.join(PKL_DIR, \"*.pkl\")):\n",
    "    pid = int(os.path.splitext(os.path.basename(p))[0])\n",
    "    with open(p, \"rb\") as f:\n",
    "        signals[pid] = pickle.load(f)\n",
    "\n",
    "# ── FEATURE EXTRACTOR ──────────────────────────────────────────────────────────\n",
    "def extract_fixed_features(df_sig, t0, t1, win_sec):\n",
    "    \"\"\"Exactly your old extract_fixed10s_features, parameterized for any win_sec.\"\"\"\n",
    "    win_samples = int(win_sec * FS)\n",
    "    seg = df_sig[(df_sig[\"time\"] >= t0) & (df_sig[\"time\"] < t1)]\n",
    "    X = seg[FILTERED_COLS].to_numpy()\n",
    "    L, F = X.shape\n",
    "\n",
    "    if L == 0:\n",
    "        X2 = np.zeros((win_samples, F))\n",
    "    elif L < win_samples:\n",
    "        pad_rows = np.tile(X[-1], (win_samples - L, 1))\n",
    "        X2 = np.vstack([X, pad_rows])\n",
    "    else:\n",
    "        X2 = X[:win_samples]\n",
    "\n",
    "    feats = {}\n",
    "    for i, col in enumerate(FILTERED_COLS):\n",
    "        arr = X2[:, i]\n",
    "        feats[f\"{col}_mean\"]       = arr.mean()\n",
    "        feats[f\"{col}_var\"]        = arr.var()\n",
    "        feats[f\"{col}_energy\"]     = (arr ** 2).sum()\n",
    "        d = np.diff(arr)\n",
    "        feats[f\"{col}_deriv_mean\"] = d.mean() if len(d) > 0 else 0\n",
    "        feats[f\"{col}_deriv_std\"]  = d.std()  if len(d) > 0 else 0\n",
    "\n",
    "    feats[\"SMA\"] = np.abs(X2).sum()\n",
    "\n",
    "    if win_samples > 1:\n",
    "        def safe_corr(x, y):\n",
    "            return 0.0 if x.std() == 0 or y.std() == 0 else np.corrcoef(x, y)[0, 1]\n",
    "        x, y, z = X2.T\n",
    "        feats[\"corr_xy\"] = safe_corr(x, y)\n",
    "        feats[\"corr_xz\"] = safe_corr(x, z)\n",
    "        feats[\"corr_yz\"] = safe_corr(y, z)\n",
    "    else:\n",
    "        feats.update({k: 0 for k in (\"corr_xy\",\"corr_xz\",\"corr_yz\")})\n",
    "\n",
    "    feats[\"padded_duration_s\"]     = win_sec\n",
    "    feats[\"real_sample_count\"]     = L\n",
    "    feats[\"expected_sample_count\"] = win_samples\n",
    "    feats[\"padding_applied\"]       = int(L < win_samples)\n",
    "\n",
    "    return feats\n",
    "\n",
    "# ── MAIN LOOP ─────────────────────────────────────────────────────────────────\n",
    "for win_sec in [1.0, 2.0, 10.0]:\n",
    "    ann_csv = os.path.join(ANN_DIR, f\"annotations_fixed_{int(win_sec)}s.csv\")\n",
    "    df_ann  = pd.read_csv(ann_csv)\n",
    "\n",
    "    out_records = []\n",
    "    for _, row in df_ann.iterrows():\n",
    "        pid = row[\"participant\"]\n",
    "        df_sig = signals.get(pid)\n",
    "        if df_sig is None:\n",
    "            continue\n",
    "\n",
    "        # compute window bounds from frame + size\n",
    "        t0 = row[\"window_start_frame\"] / FS\n",
    "        t1 = t0 + row[\"window_size_s\"]\n",
    "        win_sec = row[\"window_size_s\"]\n",
    "        win_samples = int(win_sec * FS)\n",
    "\n",
    "        # slice & pad/truncate\n",
    "        feats = extract_fixed_features(df_sig, t0, t1, win_sec)\n",
    "\n",
    "        # metadata\n",
    "        feats.update({\n",
    "            \"video_id\":    row[\"video_id\"],\n",
    "            \"segment\":     row[\"segment\"],\n",
    "            \"participant\": pid,\n",
    "            \"window_start_frame\": row[\"window_start_frame\"],\n",
    "            \"window_size_s\":      win_sec,\n",
    "            \"label\":              row[\"label\"]\n",
    "        })\n",
    "        out_records.append(feats)\n",
    "\n",
    "    # write out one CSV per window size\n",
    "    out_path = os.path.join(OUT_DIR, f\"features_{mod}_{int(win_sec)}s.csv\")\n",
    "    pd.DataFrame(out_records).to_csv(out_path, index=False)\n",
    "    print(f\"✅ Saved {len(out_records)} windows → {out_path}\")\n"
   ],
   "id": "49daf46b6d9804e0",
   "outputs": [
    {
     "name": "stdout",
     "output_type": "stream",
     "text": [
      "✅ Saved 278064 windows → features/fixed_really/no_audio/features_no_audio_1s.csv\n",
      "✅ Saved 278064 windows → features/fixed_really/no_audio/features_no_audio_2s.csv\n",
      "✅ Saved 278064 windows → features/fixed_really/no_audio/features_no_audio_10s.csv\n"
     ]
    }
   ],
   "execution_count": 3
  },
  {
   "metadata": {
    "ExecuteTime": {
     "end_time": "2025-06-22T20:42:59.275616Z",
     "start_time": "2025-06-22T20:42:55.229243Z"
    }
   },
   "cell_type": "code",
   "source": [
    "import pandas as pd\n",
    "from sklearn.utils import resample\n",
    "\n",
    "# 1) Load data\n",
    "df = pd.read_csv('./features/fixed_really/only_audio/features_only_audio_10s.csv')\n",
    "\n",
    "# 2) Split minority/majority\n",
    "df_pos = df[df.label == 1]\n",
    "df_neg = df[df.label == 0]\n",
    "\n",
    "# 3) Decide target ratio (e.g. 10% positives)\n",
    "total = len(df)\n",
    "pos_target = int(total * 0.50)\n",
    "neg_target = total - pos_target\n",
    "\n",
    "# 4) Oversample positives up to pos_target\n",
    "df_pos_res = resample(df_pos,\n",
    "                      replace=True,\n",
    "                      n_samples=pos_target,\n",
    "                      random_state=42)\n",
    "\n",
    "# 5) Undersample negatives down to neg_target\n",
    "df_neg_res = resample(df_neg,\n",
    "                      replace=False,\n",
    "                      n_samples=neg_target,\n",
    "                      random_state=42)\n",
    "\n",
    "# 6) Combine and shuffle\n",
    "df_bal = pd.concat([df_pos_res, df_neg_res]).sample(frac=1, random_state=42)\n",
    "\n",
    "# 7) Export\n",
    "df_bal.to_csv('./features/fixed_really/balanced/only_audio/features_only_audio_10s_balanced.csv', index=False)\n",
    "print(\"New positive ratio:\", df_bal.label.mean())"
   ],
   "id": "a0879cd7c94818b5",
   "outputs": [
    {
     "name": "stdout",
     "output_type": "stream",
     "text": [
      "New positive ratio: 0.5\n"
     ]
    }
   ],
   "execution_count": 6
  },
  {
   "metadata": {
    "ExecuteTime": {
     "end_time": "2025-06-22T20:41:49.138916Z",
     "start_time": "2025-06-22T20:41:48.197031Z"
    }
   },
   "cell_type": "code",
   "source": [
    "# %%\n",
    "# Cell 1: imports and mixed-train_cross_modality (returns metrics)\n",
    "import os\n",
    "import wandb\n",
    "import pandas as pd\n",
    "import numpy as np\n",
    "from sklearn.ensemble import RandomForestClassifier\n",
    "from sklearn.metrics import classification_report, f1_score\n",
    "\n",
    "def train_mixed_cross_modality(\n",
    "    train_modality: str,\n",
    "    test_modality: str,\n",
    "    duration_s: int,\n",
    "    cfg: dict = None\n",
    "):\n",
    "    # Default hyperparameters\n",
    "    defaults = {\"n_estimators\": 100, \"max_depth\": 10, \"random_state\": 42}\n",
    "    params = defaults.copy()\n",
    "    if cfg:\n",
    "        params.update(cfg)\n",
    "\n",
    "    run = wandb.init(\n",
    "        project=\"rf-segment-classification\",\n",
    "        job_type=f\"mixed_train_{train_modality}_test_{test_modality}_{duration_s}s\",\n",
    "        config=params\n",
    "    )\n",
    "    config = run.config\n",
    "\n",
    "    # Paths for cont-padded and balanced sliding windows\n",
    "    base_cont   = \"./features/fixed\"\n",
    "    base_slide  = \"./features/fixed_really/balanced\"\n",
    "\n",
    "    cont_file   = os.path.join(base_cont, train_modality, f\"features_{train_modality}_{duration_s}s.csv\")\n",
    "    slide_file  = os.path.join(base_slide, train_modality, f\"features_{train_modality}_{duration_s}s_balanced.csv\")\n",
    "    test_file   = os.path.join(base_slide, test_modality,  f\"features_{test_modality}_{duration_s}s_balanced.csv\")\n",
    "\n",
    "    # 1) Load and mix training sets\n",
    "    df_cont  = pd.read_csv(cont_file)\n",
    "    df_slide = pd.read_csv(slide_file)\n",
    "    df_tr    = pd.concat([df_cont, df_slide], axis=0).sample(frac=1, random_state=42).reset_index(drop=True)\n",
    "    # 2) Load test set\n",
    "    df_te = pd.read_csv(test_file)\n",
    "\n",
    "    # 3) Align features\n",
    "    drop     = [\"video_id\",\"segment\",\"participant\",\"start_time\",\"end_time\",\"label\",\n",
    "                \"padded_duration_s\",\"original_duration\",\"real_sample_count\",\n",
    "                \"expected_sample_count\",\"padding_applied\"]\n",
    "    feats_tr = set(df_tr.columns) - set(drop)\n",
    "    feats_te = set(df_te.columns) - set(drop)\n",
    "    common   = sorted(feats_tr & feats_te)\n",
    "\n",
    "    X_tr, y_tr = df_tr[common].fillna(0), df_tr[\"label\"]\n",
    "    X_te, y_te = df_te[common].fillna(0), df_te[\"label\"]\n",
    "\n",
    "    # 4) Train & eval\n",
    "    clf = RandomForestClassifier(\n",
    "        n_estimators=config.n_estimators,\n",
    "        max_depth=config.max_depth,\n",
    "        class_weight=\"balanced\",\n",
    "        random_state=config.random_state,\n",
    "        n_jobs=-1\n",
    "    )\n",
    "    clf.fit(X_tr, y_tr)\n",
    "    preds = clf.predict(X_te)\n",
    "\n",
    "    report = classification_report(y_te, preds, output_dict=True, zero_division=0)\n",
    "    f1_mac = f1_score(y_te, preds, average=\"macro\")\n",
    "\n",
    "    # 5) Log metrics\n",
    "    metrics = {\n",
    "        \"train_modality\": train_modality,\n",
    "        \"test_modality\":  test_modality,\n",
    "        \"duration_s\":     duration_s,\n",
    "        \"accuracy\":       report[\"accuracy\"],\n",
    "        \"f1_macro\":       f1_mac,\n",
    "        \"precision_1\":    report[\"1\"][\"precision\"],\n",
    "        \"recall_1\":       report[\"1\"][\"recall\"],\n",
    "        \"f1_1\":           report[\"1\"][\"f1-score\"]\n",
    "    }\n",
    "    run.log({k: v for k, v in metrics.items() if k not in (\"train_modality\",\"test_modality\",\"duration_s\")})\n",
    "\n",
    "    # 6) Log top 10 importances\n",
    "    imps = pd.Series(clf.feature_importances_, index=common).nlargest(10)\n",
    "    for feat, val in imps.items():\n",
    "        run.log({feat: val})\n",
    "\n",
    "    run.finish()\n",
    "    return metrics\n",
    "\n"
   ],
   "id": "33162761310da920",
   "outputs": [],
   "execution_count": 4
  },
  {
   "metadata": {
    "ExecuteTime": {
     "end_time": "2025-06-19T17:25:23.230363Z",
     "start_time": "2025-06-19T17:25:03.281191Z"
    }
   },
   "cell_type": "code",
   "source": [
    "# %%\n",
    "# Cell 1: imports and train_mixed_cross_modality with held-out split from balanced windows\n",
    "import os\n",
    "import pandas as pd\n",
    "import numpy as np\n",
    "from sklearn.ensemble import RandomForestClassifier\n",
    "from sklearn.metrics import classification_report, f1_score\n",
    "from sklearn.model_selection import train_test_split\n",
    "\n",
    "def train_mixed_cross_modality(\n",
    "    train_modality: str,\n",
    "    duration_s: int,\n",
    "    holdout_frac: float = 0.2,\n",
    "    cfg: dict = None\n",
    "):\n",
    "    \"\"\"\n",
    "    Train on a mix of contiguously-padded segments and balanced sliding windows,\n",
    "    with a held-out split from the sliding windows as test set.\n",
    "    \"\"\"\n",
    "    # 1) Hyperparameters\n",
    "    defaults = {\"n_estimators\": 100, \"max_depth\": 10, \"random_state\": 42}\n",
    "    params = defaults.copy()\n",
    "    if cfg:\n",
    "        params.update(cfg)\n",
    "\n",
    "    # 2) File paths (adjust these to your folders)\n",
    "    base_cont  = \"./features/fixed\"                      # contiguously-padded features\n",
    "    base_slide = \"./features/fixed_really/balanced\"      # balanced sliding-window features\n",
    "    cont_file  = os.path.join(base_cont, train_modality, f\"features_{train_modality}_{duration_s}s.csv\")\n",
    "    slide_file = os.path.join(base_slide, train_modality, f\"features_{train_modality}_{duration_s}s_balanced.csv\")\n",
    "\n",
    "    # 3) Load contiguously-padded features\n",
    "    df_cont = pd.read_csv(cont_file)\n",
    "\n",
    "    # 4) Load balanced sliding-window features and split into train/test\n",
    "    df_slide = pd.read_csv(slide_file)\n",
    "    df_slide_tr, df_slide_te = train_test_split(\n",
    "        df_slide,\n",
    "        test_size=holdout_frac,\n",
    "        stratify=df_slide['label'],\n",
    "        random_state=params[\"random_state\"]\n",
    "    )\n",
    "\n",
    "    # 5) Build mixed training set and test set\n",
    "    #df_tr = pd.concat([df_cont, df_slide_tr], axis=0)\\\n",
    "              #.sample(frac=1, random_state=params[\"random_state\"])\\\n",
    "              #.reset_index(drop=True)\n",
    "    df_tr = df_cont\n",
    "    df_te = df_slide\n",
    "\n",
    "    # 6) Align features\n",
    "    drop_cols = [\n",
    "        \"video_id\",\"segment\",\"participant\",\"start_time\",\"end_time\",\"label\",\n",
    "        \"padded_duration_s\",\"original_duration\",\"real_sample_count\",\n",
    "        \"expected_sample_count\",\"padding_applied\"\n",
    "    ]\n",
    "    feats_tr = set(df_tr.columns) - set(drop_cols)\n",
    "    feats_te = set(df_te.columns) - set(drop_cols)\n",
    "    common   = sorted(feats_tr & feats_te)\n",
    "\n",
    "    X_tr, y_tr = df_tr[common].fillna(0), df_tr[\"label\"]\n",
    "    X_te, y_te = df_te[common].fillna(0), df_te[\"label\"]\n",
    "\n",
    "    # 7) Train & evaluate\n",
    "    clf = RandomForestClassifier(\n",
    "        n_estimators=params[\"n_estimators\"],\n",
    "        max_depth=params[\"max_depth\"],\n",
    "        class_weight=\"balanced\",\n",
    "        random_state=params[\"random_state\"],\n",
    "        n_jobs=-1\n",
    "    )\n",
    "    clf.fit(X_tr, y_tr)\n",
    "    preds = clf.predict(X_te)\n",
    "\n",
    "    report = classification_report(y_te, preds, output_dict=True, zero_division=0)\n",
    "    f1_macro = f1_score(y_te, preds, average=\"macro\")\n",
    "\n",
    "    # 8) Collect metrics\n",
    "    metrics = {\n",
    "        \"train_modality\": train_modality,\n",
    "        \"duration_s\":     duration_s,\n",
    "        \"accuracy\":       report[\"accuracy\"],\n",
    "        \"f1_macro\":       f1_macro,\n",
    "        \"precision_1\":    report[\"1\"][\"precision\"],\n",
    "        \"recall_1\":       report[\"1\"][\"recall\"],\n",
    "        \"f1_1\":           report[\"1\"][\"f1-score\"]\n",
    "    }\n",
    "    print(f\"Results for {train_modality} @ {duration_s}s:\", metrics)\n",
    "    return metrics\n",
    "\n",
    "# %%\n",
    "# Cell 2: iterate over modalities and durations with mixed training and hold-out testing\n",
    "import pandas as pd\n",
    "\n",
    "modalities = [\"with_audio\", \"no_audio\", \"only_audio\"]\n",
    "durations  = [1, 2, 10]\n",
    "\n",
    "results = []\n",
    "for mod in modalities:\n",
    "    for dur in durations:\n",
    "        res = train_mixed_cross_modality(\n",
    "            train_modality=mod,\n",
    "            duration_s=dur,\n",
    "            holdout_frac=0.2\n",
    "        )\n",
    "        results.append(res)\n",
    "\n",
    "df_results = pd.DataFrame(results)\n",
    "print(df_results)\n",
    "df_results.to_csv(\"mixed_fixed_and_sliding_summary.csv\", index=False)\n"
   ],
   "id": "b325a93355ace31c",
   "outputs": [
    {
     "name": "stdout",
     "output_type": "stream",
     "text": [
      "Results for with_audio @ 1s: {'train_modality': 'with_audio', 'duration_s': 1, 'accuracy': 0.8938128284212932, 'f1_macro': 0.4853666395787466, 'precision_1': 0.1607981220657277, 'recall_1': 0.014672283307154076, 'f1_1': 0.026890866265375558}\n",
      "Results for with_audio @ 2s: {'train_modality': 'with_audio', 'duration_s': 2, 'accuracy': 0.8991175462645647, 'f1_macro': 0.47495232448977026, 'precision_1': 0.12874251497005987, 'recall_1': 0.0015350564043981152, 'f1_1': 0.003033937768997389}\n",
      "Results for with_audio @ 10s: {'train_modality': 'with_audio', 'duration_s': 10, 'accuracy': 0.9002991489604752, 'f1_macro': 0.4774178292346055, 'precision_1': 0.8373983739837398, 'recall_1': 0.0036769955733257174, 'f1_1': 0.007321841123156211}\n",
      "Results for no_audio @ 1s: {'train_modality': 'no_audio', 'duration_s': 1, 'accuracy': 0.8914422578974625, 'f1_macro': 0.5027267835577748, 'precision_1': 0.2302810516772439, 'recall_1': 0.0365388765014745, 'f1_1': 0.0630703333540257}\n",
      "Results for no_audio @ 2s: {'train_modality': 'no_audio', 'duration_s': 2, 'accuracy': 0.8973905287991254, 'f1_macro': 0.4803618359203351, 'precision_1': 0.18598615916955016, 'recall_1': 0.007732144141552183, 'f1_1': 0.01484704095021062}\n",
      "Results for no_audio @ 10s: {'train_modality': 'no_audio', 'duration_s': 10, 'accuracy': 0.8998575867426204, 'f1_macro': 0.47364475791338717, 'precision_1': 0.0, 'recall_1': 0.0, 'f1_1': 0.0}\n",
      "Results for only_audio @ 1s: {'train_modality': 'only_audio', 'duration_s': 1, 'accuracy': 0.8901957417582418, 'f1_macro': 0.4878887328723236, 'precision_1': 0.14132426066474746, 'recall_1': 0.01931675907708818, 'f1_1': 0.033987915407854986}\n",
      "Results for only_audio @ 2s: {'train_modality': 'only_audio', 'duration_s': 2, 'accuracy': 0.8974430517399268, 'f1_macro': 0.4750529018372612, 'precision_1': 0.0718562874251497, 'recall_1': 0.0021463065641209086, 'f1_1': 0.004168113928447377}\n",
      "Results for only_audio @ 10s: {'train_modality': 'only_audio', 'duration_s': 10, 'accuracy': 0.8997968177655677, 'f1_macro': 0.47362792133942894, 'precision_1': 0.0, 'recall_1': 0.0, 'f1_1': 0.0}\n",
      "  train_modality  duration_s  accuracy  f1_macro  precision_1  recall_1  \\\n",
      "0     with_audio           1  0.893813  0.485367     0.160798  0.014672   \n",
      "1     with_audio           2  0.899118  0.474952     0.128743  0.001535   \n",
      "2     with_audio          10  0.900299  0.477418     0.837398  0.003677   \n",
      "3       no_audio           1  0.891442  0.502727     0.230281  0.036539   \n",
      "4       no_audio           2  0.897391  0.480362     0.185986  0.007732   \n",
      "5       no_audio          10  0.899858  0.473645     0.000000  0.000000   \n",
      "6     only_audio           1  0.890196  0.487889     0.141324  0.019317   \n",
      "7     only_audio           2  0.897443  0.475053     0.071856  0.002146   \n",
      "8     only_audio          10  0.899797  0.473628     0.000000  0.000000   \n",
      "\n",
      "       f1_1  \n",
      "0  0.026891  \n",
      "1  0.003034  \n",
      "2  0.007322  \n",
      "3  0.063070  \n",
      "4  0.014847  \n",
      "5  0.000000  \n",
      "6  0.033988  \n",
      "7  0.004168  \n",
      "8  0.000000  \n"
     ]
    }
   ],
   "execution_count": 87
  },
  {
   "metadata": {
    "ExecuteTime": {
     "end_time": "2025-06-19T17:08:41.244953Z",
     "start_time": "2025-06-19T17:07:29.713411Z"
    }
   },
   "cell_type": "code",
   "source": [
    "# %%\n",
    "# Cell 2: iterate over modalities and durations with mixed training\n",
    "wandb.login()\n",
    "\n",
    "modalities = [\"with_audio\", \"no_audio\", \"only_audio\"]\n",
    "durations  = [1, 2, 10]\n",
    "\n",
    "results = []\n",
    "for mod in modalities:\n",
    "    for dur in durations:\n",
    "        print(f\"▶ Mixed train on {mod}, test on {mod}, window {dur}s\")\n",
    "        res = train_mixed_cross_modality(train_modality=mod, test_modality=mod, duration_s=dur)\n",
    "        results.append(res)\n",
    "\n",
    "df_results = pd.DataFrame(results)\n",
    "print(df_results)\n",
    "df_results.to_csv(\"mixed_fixed_and_sliding_summary.csv\", index=False)\n"
   ],
   "id": "3323587c1345cd13",
   "outputs": [
    {
     "name": "stdout",
     "output_type": "stream",
     "text": [
      "▶ Mixed train on with_audio, test on with_audio, window 1s\n"
     ]
    },
    {
     "data": {
      "text/plain": [
       "<IPython.core.display.HTML object>"
      ],
      "text/html": [
       "Tracking run with wandb version 0.20.1"
      ]
     },
     "metadata": {},
     "output_type": "display_data"
    },
    {
     "data": {
      "text/plain": [
       "<IPython.core.display.HTML object>"
      ],
      "text/html": [
       "Run data is saved locally in <code>/Users/lukini/PycharmProjects/DetectorPerModalitie/wandb/run-20250619_190729-73aqjnue</code>"
      ]
     },
     "metadata": {},
     "output_type": "display_data"
    },
    {
     "data": {
      "text/plain": [
       "<IPython.core.display.HTML object>"
      ],
      "text/html": [
       "Syncing run <strong><a href='https://wandb.ai/knezevicoluka-tu-delft/rf-segment-classification/runs/73aqjnue' target=\"_blank\">radiant-resonance-434</a></strong> to <a href='https://wandb.ai/knezevicoluka-tu-delft/rf-segment-classification' target=\"_blank\">Weights & Biases</a> (<a href='https://wandb.me/developer-guide' target=\"_blank\">docs</a>)<br>"
      ]
     },
     "metadata": {},
     "output_type": "display_data"
    },
    {
     "data": {
      "text/plain": [
       "<IPython.core.display.HTML object>"
      ],
      "text/html": [
       " View project at <a href='https://wandb.ai/knezevicoluka-tu-delft/rf-segment-classification' target=\"_blank\">https://wandb.ai/knezevicoluka-tu-delft/rf-segment-classification</a>"
      ]
     },
     "metadata": {},
     "output_type": "display_data"
    },
    {
     "data": {
      "text/plain": [
       "<IPython.core.display.HTML object>"
      ],
      "text/html": [
       " View run at <a href='https://wandb.ai/knezevicoluka-tu-delft/rf-segment-classification/runs/73aqjnue' target=\"_blank\">https://wandb.ai/knezevicoluka-tu-delft/rf-segment-classification/runs/73aqjnue</a>"
      ]
     },
     "metadata": {},
     "output_type": "display_data"
    },
    {
     "data": {
      "text/plain": [
       "<IPython.core.display.HTML object>"
      ],
      "text/html": []
     },
     "metadata": {},
     "output_type": "display_data"
    },
    {
     "data": {
      "text/plain": [
       "<IPython.core.display.HTML object>"
      ],
      "text/html": [
       "<br>    <style><br>        .wandb-row {<br>            display: flex;<br>            flex-direction: row;<br>            flex-wrap: wrap;<br>            justify-content: flex-start;<br>            width: 100%;<br>        }<br>        .wandb-col {<br>            display: flex;<br>            flex-direction: column;<br>            flex-basis: 100%;<br>            flex: 1;<br>            padding: 10px;<br>        }<br>    </style><br><div class=\"wandb-row\"><div class=\"wandb-col\"><h3>Run history:</h3><br/><table class=\"wandb\"><tr><td>SMA</td><td>▁</td></tr><tr><td>accelX_filtered_deriv_std</td><td>▁</td></tr><tr><td>accelY_filtered_deriv_std</td><td>▁</td></tr><tr><td>accelY_filtered_mean</td><td>▁</td></tr><tr><td>accelY_filtered_var</td><td>▁</td></tr><tr><td>accelZ_filtered_deriv_std</td><td>▁</td></tr><tr><td>accuracy</td><td>▁</td></tr><tr><td>corr_xz</td><td>▁</td></tr><tr><td>corr_yz</td><td>▁</td></tr><tr><td>f1_1</td><td>▁</td></tr><tr><td>f1_macro</td><td>▁</td></tr><tr><td>precision_1</td><td>▁</td></tr><tr><td>recall_1</td><td>▁</td></tr><tr><td>window_size_s</td><td>▁</td></tr><tr><td>window_start_frame</td><td>▁</td></tr></table><br/></div><div class=\"wandb-col\"><h3>Run summary:</h3><br/><table class=\"wandb\"><tr><td>SMA</td><td>0.02645</td></tr><tr><td>accelX_filtered_deriv_std</td><td>0.02995</td></tr><tr><td>accelY_filtered_deriv_std</td><td>0.02748</td></tr><tr><td>accelY_filtered_mean</td><td>0.02681</td></tr><tr><td>accelY_filtered_var</td><td>0.02422</td></tr><tr><td>accelZ_filtered_deriv_std</td><td>0.02764</td></tr><tr><td>accuracy</td><td>0.44373</td></tr><tr><td>corr_xz</td><td>0.02814</td></tr><tr><td>corr_yz</td><td>0.03413</td></tr><tr><td>f1_1</td><td>0.26345</td></tr><tr><td>f1_macro</td><td>0.40828</td></tr><tr><td>precision_1</td><td>0.15183</td></tr><tr><td>recall_1</td><td>0.99486</td></tr><tr><td>window_size_s</td><td>0.23213</td></tr><tr><td>window_start_frame</td><td>0.32492</td></tr></table><br/></div></div>"
      ]
     },
     "metadata": {},
     "output_type": "display_data"
    },
    {
     "data": {
      "text/plain": [
       "<IPython.core.display.HTML object>"
      ],
      "text/html": [
       " View run <strong style=\"color:#cdcd00\">radiant-resonance-434</strong> at: <a href='https://wandb.ai/knezevicoluka-tu-delft/rf-segment-classification/runs/73aqjnue' target=\"_blank\">https://wandb.ai/knezevicoluka-tu-delft/rf-segment-classification/runs/73aqjnue</a><br> View project at: <a href='https://wandb.ai/knezevicoluka-tu-delft/rf-segment-classification' target=\"_blank\">https://wandb.ai/knezevicoluka-tu-delft/rf-segment-classification</a><br>Synced 5 W&B file(s), 0 media file(s), 0 artifact file(s) and 0 other file(s)"
      ]
     },
     "metadata": {},
     "output_type": "display_data"
    },
    {
     "data": {
      "text/plain": [
       "<IPython.core.display.HTML object>"
      ],
      "text/html": [
       "Find logs at: <code>./wandb/run-20250619_190729-73aqjnue/logs</code>"
      ]
     },
     "metadata": {},
     "output_type": "display_data"
    },
    {
     "name": "stdout",
     "output_type": "stream",
     "text": [
      "▶ Mixed train on with_audio, test on with_audio, window 2s\n"
     ]
    },
    {
     "data": {
      "text/plain": [
       "<IPython.core.display.HTML object>"
      ],
      "text/html": [
       "Tracking run with wandb version 0.20.1"
      ]
     },
     "metadata": {},
     "output_type": "display_data"
    },
    {
     "data": {
      "text/plain": [
       "<IPython.core.display.HTML object>"
      ],
      "text/html": [
       "Run data is saved locally in <code>/Users/lukini/PycharmProjects/DetectorPerModalitie/wandb/run-20250619_190739-nclofo1y</code>"
      ]
     },
     "metadata": {},
     "output_type": "display_data"
    },
    {
     "data": {
      "text/plain": [
       "<IPython.core.display.HTML object>"
      ],
      "text/html": [
       "Syncing run <strong><a href='https://wandb.ai/knezevicoluka-tu-delft/rf-segment-classification/runs/nclofo1y' target=\"_blank\">snowy-violet-435</a></strong> to <a href='https://wandb.ai/knezevicoluka-tu-delft/rf-segment-classification' target=\"_blank\">Weights & Biases</a> (<a href='https://wandb.me/developer-guide' target=\"_blank\">docs</a>)<br>"
      ]
     },
     "metadata": {},
     "output_type": "display_data"
    },
    {
     "data": {
      "text/plain": [
       "<IPython.core.display.HTML object>"
      ],
      "text/html": [
       " View project at <a href='https://wandb.ai/knezevicoluka-tu-delft/rf-segment-classification' target=\"_blank\">https://wandb.ai/knezevicoluka-tu-delft/rf-segment-classification</a>"
      ]
     },
     "metadata": {},
     "output_type": "display_data"
    },
    {
     "data": {
      "text/plain": [
       "<IPython.core.display.HTML object>"
      ],
      "text/html": [
       " View run at <a href='https://wandb.ai/knezevicoluka-tu-delft/rf-segment-classification/runs/nclofo1y' target=\"_blank\">https://wandb.ai/knezevicoluka-tu-delft/rf-segment-classification/runs/nclofo1y</a>"
      ]
     },
     "metadata": {},
     "output_type": "display_data"
    },
    {
     "data": {
      "text/plain": [
       "<IPython.core.display.HTML object>"
      ],
      "text/html": []
     },
     "metadata": {},
     "output_type": "display_data"
    },
    {
     "data": {
      "text/plain": [
       "<IPython.core.display.HTML object>"
      ],
      "text/html": [
       "<br>    <style><br>        .wandb-row {<br>            display: flex;<br>            flex-direction: row;<br>            flex-wrap: wrap;<br>            justify-content: flex-start;<br>            width: 100%;<br>        }<br>        .wandb-col {<br>            display: flex;<br>            flex-direction: column;<br>            flex-basis: 100%;<br>            flex: 1;<br>            padding: 10px;<br>        }<br>    </style><br><div class=\"wandb-row\"><div class=\"wandb-col\"><h3>Run history:</h3><br/><table class=\"wandb\"><tr><td>SMA</td><td>▁</td></tr><tr><td>accelX_filtered_deriv_std</td><td>▁</td></tr><tr><td>accelY_filtered_deriv_std</td><td>▁</td></tr><tr><td>accelZ_filtered_deriv_std</td><td>▁</td></tr><tr><td>accelZ_filtered_energy</td><td>▁</td></tr><tr><td>accelZ_filtered_var</td><td>▁</td></tr><tr><td>accuracy</td><td>▁</td></tr><tr><td>corr_xz</td><td>▁</td></tr><tr><td>corr_yz</td><td>▁</td></tr><tr><td>f1_1</td><td>▁</td></tr><tr><td>f1_macro</td><td>▁</td></tr><tr><td>precision_1</td><td>▁</td></tr><tr><td>recall_1</td><td>▁</td></tr><tr><td>window_size_s</td><td>▁</td></tr><tr><td>window_start_frame</td><td>▁</td></tr></table><br/></div><div class=\"wandb-col\"><h3>Run summary:</h3><br/><table class=\"wandb\"><tr><td>SMA</td><td>0.03762</td></tr><tr><td>accelX_filtered_deriv_std</td><td>0.05294</td></tr><tr><td>accelY_filtered_deriv_std</td><td>0.04274</td></tr><tr><td>accelZ_filtered_deriv_std</td><td>0.04957</td></tr><tr><td>accelZ_filtered_energy</td><td>0.03602</td></tr><tr><td>accelZ_filtered_var</td><td>0.03962</td></tr><tr><td>accuracy</td><td>0.69679</td></tr><tr><td>corr_xz</td><td>0.0498</td></tr><tr><td>corr_yz</td><td>0.05286</td></tr><tr><td>f1_1</td><td>0.39208</td></tr><tr><td>f1_macro</td><td>0.59505</td></tr><tr><td>precision_1</td><td>0.2452</td></tr><tr><td>recall_1</td><td>0.97783</td></tr><tr><td>window_size_s</td><td>0.12698</td></tr><tr><td>window_start_frame</td><td>0.228</td></tr></table><br/></div></div>"
      ]
     },
     "metadata": {},
     "output_type": "display_data"
    },
    {
     "data": {
      "text/plain": [
       "<IPython.core.display.HTML object>"
      ],
      "text/html": [
       " View run <strong style=\"color:#cdcd00\">snowy-violet-435</strong> at: <a href='https://wandb.ai/knezevicoluka-tu-delft/rf-segment-classification/runs/nclofo1y' target=\"_blank\">https://wandb.ai/knezevicoluka-tu-delft/rf-segment-classification/runs/nclofo1y</a><br> View project at: <a href='https://wandb.ai/knezevicoluka-tu-delft/rf-segment-classification' target=\"_blank\">https://wandb.ai/knezevicoluka-tu-delft/rf-segment-classification</a><br>Synced 5 W&B file(s), 0 media file(s), 0 artifact file(s) and 0 other file(s)"
      ]
     },
     "metadata": {},
     "output_type": "display_data"
    },
    {
     "data": {
      "text/plain": [
       "<IPython.core.display.HTML object>"
      ],
      "text/html": [
       "Find logs at: <code>./wandb/run-20250619_190739-nclofo1y/logs</code>"
      ]
     },
     "metadata": {},
     "output_type": "display_data"
    },
    {
     "name": "stdout",
     "output_type": "stream",
     "text": [
      "▶ Mixed train on with_audio, test on with_audio, window 10s\n"
     ]
    },
    {
     "data": {
      "text/plain": [
       "<IPython.core.display.HTML object>"
      ],
      "text/html": [
       "Tracking run with wandb version 0.20.1"
      ]
     },
     "metadata": {},
     "output_type": "display_data"
    },
    {
     "data": {
      "text/plain": [
       "<IPython.core.display.HTML object>"
      ],
      "text/html": [
       "Run data is saved locally in <code>/Users/lukini/PycharmProjects/DetectorPerModalitie/wandb/run-20250619_190746-ha8bgri8</code>"
      ]
     },
     "metadata": {},
     "output_type": "display_data"
    },
    {
     "data": {
      "text/plain": [
       "<IPython.core.display.HTML object>"
      ],
      "text/html": [
       "Syncing run <strong><a href='https://wandb.ai/knezevicoluka-tu-delft/rf-segment-classification/runs/ha8bgri8' target=\"_blank\">fearless-river-436</a></strong> to <a href='https://wandb.ai/knezevicoluka-tu-delft/rf-segment-classification' target=\"_blank\">Weights & Biases</a> (<a href='https://wandb.me/developer-guide' target=\"_blank\">docs</a>)<br>"
      ]
     },
     "metadata": {},
     "output_type": "display_data"
    },
    {
     "data": {
      "text/plain": [
       "<IPython.core.display.HTML object>"
      ],
      "text/html": [
       " View project at <a href='https://wandb.ai/knezevicoluka-tu-delft/rf-segment-classification' target=\"_blank\">https://wandb.ai/knezevicoluka-tu-delft/rf-segment-classification</a>"
      ]
     },
     "metadata": {},
     "output_type": "display_data"
    },
    {
     "data": {
      "text/plain": [
       "<IPython.core.display.HTML object>"
      ],
      "text/html": [
       " View run at <a href='https://wandb.ai/knezevicoluka-tu-delft/rf-segment-classification/runs/ha8bgri8' target=\"_blank\">https://wandb.ai/knezevicoluka-tu-delft/rf-segment-classification/runs/ha8bgri8</a>"
      ]
     },
     "metadata": {},
     "output_type": "display_data"
    },
    {
     "data": {
      "text/plain": [
       "<IPython.core.display.HTML object>"
      ],
      "text/html": []
     },
     "metadata": {},
     "output_type": "display_data"
    },
    {
     "data": {
      "text/plain": [
       "<IPython.core.display.HTML object>"
      ],
      "text/html": [
       "<br>    <style><br>        .wandb-row {<br>            display: flex;<br>            flex-direction: row;<br>            flex-wrap: wrap;<br>            justify-content: flex-start;<br>            width: 100%;<br>        }<br>        .wandb-col {<br>            display: flex;<br>            flex-direction: column;<br>            flex-basis: 100%;<br>            flex: 1;<br>            padding: 10px;<br>        }<br>    </style><br><div class=\"wandb-row\"><div class=\"wandb-col\"><h3>Run history:</h3><br/><table class=\"wandb\"><tr><td>SMA</td><td>▁</td></tr><tr><td>accelX_filtered_deriv_std</td><td>▁</td></tr><tr><td>accelX_filtered_energy</td><td>▁</td></tr><tr><td>accelX_filtered_var</td><td>▁</td></tr><tr><td>accelY_filtered_deriv_std</td><td>▁</td></tr><tr><td>accelZ_filtered_deriv_std</td><td>▁</td></tr><tr><td>accelZ_filtered_var</td><td>▁</td></tr><tr><td>accuracy</td><td>▁</td></tr><tr><td>corr_xz</td><td>▁</td></tr><tr><td>corr_yz</td><td>▁</td></tr><tr><td>f1_1</td><td>▁</td></tr><tr><td>f1_macro</td><td>▁</td></tr><tr><td>precision_1</td><td>▁</td></tr><tr><td>recall_1</td><td>▁</td></tr><tr><td>window_start_frame</td><td>▁</td></tr></table><br/></div><div class=\"wandb-col\"><h3>Run summary:</h3><br/><table class=\"wandb\"><tr><td>SMA</td><td>0.07274</td></tr><tr><td>accelX_filtered_deriv_std</td><td>0.11594</td></tr><tr><td>accelX_filtered_energy</td><td>0.04506</td></tr><tr><td>accelX_filtered_var</td><td>0.0561</td></tr><tr><td>accelY_filtered_deriv_std</td><td>0.05795</td></tr><tr><td>accelZ_filtered_deriv_std</td><td>0.09299</td></tr><tr><td>accelZ_filtered_var</td><td>0.04698</td></tr><tr><td>accuracy</td><td>0.97569</td></tr><tr><td>corr_xz</td><td>0.08791</td></tr><tr><td>corr_yz</td><td>0.05979</td></tr><tr><td>f1_1</td><td>0.8916</td></tr><tr><td>f1_macro</td><td>0.93896</td></tr><tr><td>precision_1</td><td>0.80441</td></tr><tr><td>recall_1</td><td>1</td></tr><tr><td>window_start_frame</td><td>0.15387</td></tr></table><br/></div></div>"
      ]
     },
     "metadata": {},
     "output_type": "display_data"
    },
    {
     "data": {
      "text/plain": [
       "<IPython.core.display.HTML object>"
      ],
      "text/html": [
       " View run <strong style=\"color:#cdcd00\">fearless-river-436</strong> at: <a href='https://wandb.ai/knezevicoluka-tu-delft/rf-segment-classification/runs/ha8bgri8' target=\"_blank\">https://wandb.ai/knezevicoluka-tu-delft/rf-segment-classification/runs/ha8bgri8</a><br> View project at: <a href='https://wandb.ai/knezevicoluka-tu-delft/rf-segment-classification' target=\"_blank\">https://wandb.ai/knezevicoluka-tu-delft/rf-segment-classification</a><br>Synced 5 W&B file(s), 0 media file(s), 0 artifact file(s) and 0 other file(s)"
      ]
     },
     "metadata": {},
     "output_type": "display_data"
    },
    {
     "data": {
      "text/plain": [
       "<IPython.core.display.HTML object>"
      ],
      "text/html": [
       "Find logs at: <code>./wandb/run-20250619_190746-ha8bgri8/logs</code>"
      ]
     },
     "metadata": {},
     "output_type": "display_data"
    },
    {
     "name": "stdout",
     "output_type": "stream",
     "text": [
      "▶ Mixed train on no_audio, test on no_audio, window 1s\n"
     ]
    },
    {
     "data": {
      "text/plain": [
       "<IPython.core.display.HTML object>"
      ],
      "text/html": [
       "Tracking run with wandb version 0.20.1"
      ]
     },
     "metadata": {},
     "output_type": "display_data"
    },
    {
     "data": {
      "text/plain": [
       "<IPython.core.display.HTML object>"
      ],
      "text/html": [
       "Run data is saved locally in <code>/Users/lukini/PycharmProjects/DetectorPerModalitie/wandb/run-20250619_190753-2yvzo6ya</code>"
      ]
     },
     "metadata": {},
     "output_type": "display_data"
    },
    {
     "data": {
      "text/plain": [
       "<IPython.core.display.HTML object>"
      ],
      "text/html": [
       "Syncing run <strong><a href='https://wandb.ai/knezevicoluka-tu-delft/rf-segment-classification/runs/2yvzo6ya' target=\"_blank\">feasible-pine-437</a></strong> to <a href='https://wandb.ai/knezevicoluka-tu-delft/rf-segment-classification' target=\"_blank\">Weights & Biases</a> (<a href='https://wandb.me/developer-guide' target=\"_blank\">docs</a>)<br>"
      ]
     },
     "metadata": {},
     "output_type": "display_data"
    },
    {
     "data": {
      "text/plain": [
       "<IPython.core.display.HTML object>"
      ],
      "text/html": [
       " View project at <a href='https://wandb.ai/knezevicoluka-tu-delft/rf-segment-classification' target=\"_blank\">https://wandb.ai/knezevicoluka-tu-delft/rf-segment-classification</a>"
      ]
     },
     "metadata": {},
     "output_type": "display_data"
    },
    {
     "data": {
      "text/plain": [
       "<IPython.core.display.HTML object>"
      ],
      "text/html": [
       " View run at <a href='https://wandb.ai/knezevicoluka-tu-delft/rf-segment-classification/runs/2yvzo6ya' target=\"_blank\">https://wandb.ai/knezevicoluka-tu-delft/rf-segment-classification/runs/2yvzo6ya</a>"
      ]
     },
     "metadata": {},
     "output_type": "display_data"
    },
    {
     "data": {
      "text/plain": [
       "<IPython.core.display.HTML object>"
      ],
      "text/html": []
     },
     "metadata": {},
     "output_type": "display_data"
    },
    {
     "data": {
      "text/plain": [
       "<IPython.core.display.HTML object>"
      ],
      "text/html": [
       "<br>    <style><br>        .wandb-row {<br>            display: flex;<br>            flex-direction: row;<br>            flex-wrap: wrap;<br>            justify-content: flex-start;<br>            width: 100%;<br>        }<br>        .wandb-col {<br>            display: flex;<br>            flex-direction: column;<br>            flex-basis: 100%;<br>            flex: 1;<br>            padding: 10px;<br>        }<br>    </style><br><div class=\"wandb-row\"><div class=\"wandb-col\"><h3>Run history:</h3><br/><table class=\"wandb\"><tr><td>accelX_filtered_deriv_std</td><td>▁</td></tr><tr><td>accelX_filtered_var</td><td>▁</td></tr><tr><td>accelY_filtered_mean</td><td>▁</td></tr><tr><td>accelZ_filtered_deriv_std</td><td>▁</td></tr><tr><td>accelZ_filtered_mean</td><td>▁</td></tr><tr><td>accuracy</td><td>▁</td></tr><tr><td>corr_xy</td><td>▁</td></tr><tr><td>corr_xz</td><td>▁</td></tr><tr><td>corr_yz</td><td>▁</td></tr><tr><td>f1_1</td><td>▁</td></tr><tr><td>f1_macro</td><td>▁</td></tr><tr><td>precision_1</td><td>▁</td></tr><tr><td>recall_1</td><td>▁</td></tr><tr><td>window_size_s</td><td>▁</td></tr><tr><td>window_start_frame</td><td>▁</td></tr></table><br/></div><div class=\"wandb-col\"><h3>Run summary:</h3><br/><table class=\"wandb\"><tr><td>accelX_filtered_deriv_std</td><td>0.02851</td></tr><tr><td>accelX_filtered_var</td><td>0.02945</td></tr><tr><td>accelY_filtered_mean</td><td>0.02825</td></tr><tr><td>accelZ_filtered_deriv_std</td><td>0.03288</td></tr><tr><td>accelZ_filtered_mean</td><td>0.02774</td></tr><tr><td>accuracy</td><td>0.45385</td></tr><tr><td>corr_xy</td><td>0.03069</td></tr><tr><td>corr_xz</td><td>0.02781</td></tr><tr><td>corr_yz</td><td>0.04354</td></tr><tr><td>f1_1</td><td>0.26689</td></tr><tr><td>f1_macro</td><td>0.41586</td></tr><tr><td>precision_1</td><td>0.15414</td></tr><tr><td>recall_1</td><td>0.99417</td></tr><tr><td>window_size_s</td><td>0.20068</td></tr><tr><td>window_start_frame</td><td>0.30792</td></tr></table><br/></div></div>"
      ]
     },
     "metadata": {},
     "output_type": "display_data"
    },
    {
     "data": {
      "text/plain": [
       "<IPython.core.display.HTML object>"
      ],
      "text/html": [
       " View run <strong style=\"color:#cdcd00\">feasible-pine-437</strong> at: <a href='https://wandb.ai/knezevicoluka-tu-delft/rf-segment-classification/runs/2yvzo6ya' target=\"_blank\">https://wandb.ai/knezevicoluka-tu-delft/rf-segment-classification/runs/2yvzo6ya</a><br> View project at: <a href='https://wandb.ai/knezevicoluka-tu-delft/rf-segment-classification' target=\"_blank\">https://wandb.ai/knezevicoluka-tu-delft/rf-segment-classification</a><br>Synced 5 W&B file(s), 0 media file(s), 0 artifact file(s) and 0 other file(s)"
      ]
     },
     "metadata": {},
     "output_type": "display_data"
    },
    {
     "data": {
      "text/plain": [
       "<IPython.core.display.HTML object>"
      ],
      "text/html": [
       "Find logs at: <code>./wandb/run-20250619_190753-2yvzo6ya/logs</code>"
      ]
     },
     "metadata": {},
     "output_type": "display_data"
    },
    {
     "name": "stdout",
     "output_type": "stream",
     "text": [
      "▶ Mixed train on no_audio, test on no_audio, window 2s\n"
     ]
    },
    {
     "data": {
      "text/plain": [
       "<IPython.core.display.HTML object>"
      ],
      "text/html": [
       "Tracking run with wandb version 0.20.1"
      ]
     },
     "metadata": {},
     "output_type": "display_data"
    },
    {
     "data": {
      "text/plain": [
       "<IPython.core.display.HTML object>"
      ],
      "text/html": [
       "Run data is saved locally in <code>/Users/lukini/PycharmProjects/DetectorPerModalitie/wandb/run-20250619_190802-haipfmbb</code>"
      ]
     },
     "metadata": {},
     "output_type": "display_data"
    },
    {
     "data": {
      "text/plain": [
       "<IPython.core.display.HTML object>"
      ],
      "text/html": [
       "Syncing run <strong><a href='https://wandb.ai/knezevicoluka-tu-delft/rf-segment-classification/runs/haipfmbb' target=\"_blank\">earthy-darkness-438</a></strong> to <a href='https://wandb.ai/knezevicoluka-tu-delft/rf-segment-classification' target=\"_blank\">Weights & Biases</a> (<a href='https://wandb.me/developer-guide' target=\"_blank\">docs</a>)<br>"
      ]
     },
     "metadata": {},
     "output_type": "display_data"
    },
    {
     "data": {
      "text/plain": [
       "<IPython.core.display.HTML object>"
      ],
      "text/html": [
       " View project at <a href='https://wandb.ai/knezevicoluka-tu-delft/rf-segment-classification' target=\"_blank\">https://wandb.ai/knezevicoluka-tu-delft/rf-segment-classification</a>"
      ]
     },
     "metadata": {},
     "output_type": "display_data"
    },
    {
     "data": {
      "text/plain": [
       "<IPython.core.display.HTML object>"
      ],
      "text/html": [
       " View run at <a href='https://wandb.ai/knezevicoluka-tu-delft/rf-segment-classification/runs/haipfmbb' target=\"_blank\">https://wandb.ai/knezevicoluka-tu-delft/rf-segment-classification/runs/haipfmbb</a>"
      ]
     },
     "metadata": {},
     "output_type": "display_data"
    },
    {
     "data": {
      "text/plain": [
       "<IPython.core.display.HTML object>"
      ],
      "text/html": []
     },
     "metadata": {},
     "output_type": "display_data"
    },
    {
     "data": {
      "text/plain": [
       "<IPython.core.display.HTML object>"
      ],
      "text/html": [
       "<br>    <style><br>        .wandb-row {<br>            display: flex;<br>            flex-direction: row;<br>            flex-wrap: wrap;<br>            justify-content: flex-start;<br>            width: 100%;<br>        }<br>        .wandb-col {<br>            display: flex;<br>            flex-direction: column;<br>            flex-basis: 100%;<br>            flex: 1;<br>            padding: 10px;<br>        }<br>    </style><br><div class=\"wandb-row\"><div class=\"wandb-col\"><h3>Run history:</h3><br/><table class=\"wandb\"><tr><td>accelX_filtered_deriv_std</td><td>▁</td></tr><tr><td>accelX_filtered_var</td><td>▁</td></tr><tr><td>accelY_filtered_deriv_std</td><td>▁</td></tr><tr><td>accelZ_filtered_deriv_std</td><td>▁</td></tr><tr><td>accelZ_filtered_var</td><td>▁</td></tr><tr><td>accuracy</td><td>▁</td></tr><tr><td>corr_xy</td><td>▁</td></tr><tr><td>corr_xz</td><td>▁</td></tr><tr><td>corr_yz</td><td>▁</td></tr><tr><td>f1_1</td><td>▁</td></tr><tr><td>f1_macro</td><td>▁</td></tr><tr><td>precision_1</td><td>▁</td></tr><tr><td>recall_1</td><td>▁</td></tr><tr><td>window_size_s</td><td>▁</td></tr><tr><td>window_start_frame</td><td>▁</td></tr></table><br/></div><div class=\"wandb-col\"><h3>Run summary:</h3><br/><table class=\"wandb\"><tr><td>accelX_filtered_deriv_std</td><td>0.04494</td></tr><tr><td>accelX_filtered_var</td><td>0.04497</td></tr><tr><td>accelY_filtered_deriv_std</td><td>0.04771</td></tr><tr><td>accelZ_filtered_deriv_std</td><td>0.06143</td></tr><tr><td>accelZ_filtered_var</td><td>0.04027</td></tr><tr><td>accuracy</td><td>0.72025</td></tr><tr><td>corr_xy</td><td>0.03952</td></tr><tr><td>corr_xz</td><td>0.04524</td></tr><tr><td>corr_yz</td><td>0.07378</td></tr><tr><td>f1_1</td><td>0.3976</td></tr><tr><td>f1_macro</td><td>0.60771</td></tr><tr><td>precision_1</td><td>0.25336</td></tr><tr><td>recall_1</td><td>0.92322</td></tr><tr><td>window_size_s</td><td>0.09761</td></tr><tr><td>window_start_frame</td><td>0.19019</td></tr></table><br/></div></div>"
      ]
     },
     "metadata": {},
     "output_type": "display_data"
    },
    {
     "data": {
      "text/plain": [
       "<IPython.core.display.HTML object>"
      ],
      "text/html": [
       " View run <strong style=\"color:#cdcd00\">earthy-darkness-438</strong> at: <a href='https://wandb.ai/knezevicoluka-tu-delft/rf-segment-classification/runs/haipfmbb' target=\"_blank\">https://wandb.ai/knezevicoluka-tu-delft/rf-segment-classification/runs/haipfmbb</a><br> View project at: <a href='https://wandb.ai/knezevicoluka-tu-delft/rf-segment-classification' target=\"_blank\">https://wandb.ai/knezevicoluka-tu-delft/rf-segment-classification</a><br>Synced 5 W&B file(s), 0 media file(s), 0 artifact file(s) and 0 other file(s)"
      ]
     },
     "metadata": {},
     "output_type": "display_data"
    },
    {
     "data": {
      "text/plain": [
       "<IPython.core.display.HTML object>"
      ],
      "text/html": [
       "Find logs at: <code>./wandb/run-20250619_190802-haipfmbb/logs</code>"
      ]
     },
     "metadata": {},
     "output_type": "display_data"
    },
    {
     "name": "stdout",
     "output_type": "stream",
     "text": [
      "▶ Mixed train on no_audio, test on no_audio, window 10s\n"
     ]
    },
    {
     "data": {
      "text/plain": [
       "<IPython.core.display.HTML object>"
      ],
      "text/html": [
       "Tracking run with wandb version 0.20.1"
      ]
     },
     "metadata": {},
     "output_type": "display_data"
    },
    {
     "data": {
      "text/plain": [
       "<IPython.core.display.HTML object>"
      ],
      "text/html": [
       "Run data is saved locally in <code>/Users/lukini/PycharmProjects/DetectorPerModalitie/wandb/run-20250619_190810-fiqfwrba</code>"
      ]
     },
     "metadata": {},
     "output_type": "display_data"
    },
    {
     "data": {
      "text/plain": [
       "<IPython.core.display.HTML object>"
      ],
      "text/html": [
       "Syncing run <strong><a href='https://wandb.ai/knezevicoluka-tu-delft/rf-segment-classification/runs/fiqfwrba' target=\"_blank\">upbeat-butterfly-439</a></strong> to <a href='https://wandb.ai/knezevicoluka-tu-delft/rf-segment-classification' target=\"_blank\">Weights & Biases</a> (<a href='https://wandb.me/developer-guide' target=\"_blank\">docs</a>)<br>"
      ]
     },
     "metadata": {},
     "output_type": "display_data"
    },
    {
     "data": {
      "text/plain": [
       "<IPython.core.display.HTML object>"
      ],
      "text/html": [
       " View project at <a href='https://wandb.ai/knezevicoluka-tu-delft/rf-segment-classification' target=\"_blank\">https://wandb.ai/knezevicoluka-tu-delft/rf-segment-classification</a>"
      ]
     },
     "metadata": {},
     "output_type": "display_data"
    },
    {
     "data": {
      "text/plain": [
       "<IPython.core.display.HTML object>"
      ],
      "text/html": [
       " View run at <a href='https://wandb.ai/knezevicoluka-tu-delft/rf-segment-classification/runs/fiqfwrba' target=\"_blank\">https://wandb.ai/knezevicoluka-tu-delft/rf-segment-classification/runs/fiqfwrba</a>"
      ]
     },
     "metadata": {},
     "output_type": "display_data"
    },
    {
     "data": {
      "text/plain": [
       "<IPython.core.display.HTML object>"
      ],
      "text/html": []
     },
     "metadata": {},
     "output_type": "display_data"
    },
    {
     "data": {
      "text/plain": [
       "<IPython.core.display.HTML object>"
      ],
      "text/html": [
       "<br>    <style><br>        .wandb-row {<br>            display: flex;<br>            flex-direction: row;<br>            flex-wrap: wrap;<br>            justify-content: flex-start;<br>            width: 100%;<br>        }<br>        .wandb-col {<br>            display: flex;<br>            flex-direction: column;<br>            flex-basis: 100%;<br>            flex: 1;<br>            padding: 10px;<br>        }<br>    </style><br><div class=\"wandb-row\"><div class=\"wandb-col\"><h3>Run history:</h3><br/><table class=\"wandb\"><tr><td>accelX_filtered_deriv_std</td><td>▁</td></tr><tr><td>accelX_filtered_energy</td><td>▁</td></tr><tr><td>accelX_filtered_var</td><td>▁</td></tr><tr><td>accelY_filtered_deriv_std</td><td>▁</td></tr><tr><td>accelZ_filtered_deriv_std</td><td>▁</td></tr><tr><td>accelZ_filtered_energy</td><td>▁</td></tr><tr><td>accuracy</td><td>▁</td></tr><tr><td>corr_xy</td><td>▁</td></tr><tr><td>corr_xz</td><td>▁</td></tr><tr><td>corr_yz</td><td>▁</td></tr><tr><td>f1_1</td><td>▁</td></tr><tr><td>f1_macro</td><td>▁</td></tr><tr><td>precision_1</td><td>▁</td></tr><tr><td>recall_1</td><td>▁</td></tr><tr><td>window_start_frame</td><td>▁</td></tr></table><br/></div><div class=\"wandb-col\"><h3>Run summary:</h3><br/><table class=\"wandb\"><tr><td>accelX_filtered_deriv_std</td><td>0.11783</td></tr><tr><td>accelX_filtered_energy</td><td>0.06473</td></tr><tr><td>accelX_filtered_var</td><td>0.07512</td></tr><tr><td>accelY_filtered_deriv_std</td><td>0.07081</td></tr><tr><td>accelZ_filtered_deriv_std</td><td>0.08327</td></tr><tr><td>accelZ_filtered_energy</td><td>0.0477</td></tr><tr><td>accuracy</td><td>0.942</td></tr><tr><td>corr_xy</td><td>0.04773</td></tr><tr><td>corr_xz</td><td>0.05705</td></tr><tr><td>corr_yz</td><td>0.09722</td></tr><tr><td>f1_1</td><td>0.77312</td></tr><tr><td>f1_macro</td><td>0.86994</td></tr><tr><td>precision_1</td><td>0.63493</td></tr><tr><td>recall_1</td><td>0.9882</td></tr><tr><td>window_start_frame</td><td>0.12411</td></tr></table><br/></div></div>"
      ]
     },
     "metadata": {},
     "output_type": "display_data"
    },
    {
     "data": {
      "text/plain": [
       "<IPython.core.display.HTML object>"
      ],
      "text/html": [
       " View run <strong style=\"color:#cdcd00\">upbeat-butterfly-439</strong> at: <a href='https://wandb.ai/knezevicoluka-tu-delft/rf-segment-classification/runs/fiqfwrba' target=\"_blank\">https://wandb.ai/knezevicoluka-tu-delft/rf-segment-classification/runs/fiqfwrba</a><br> View project at: <a href='https://wandb.ai/knezevicoluka-tu-delft/rf-segment-classification' target=\"_blank\">https://wandb.ai/knezevicoluka-tu-delft/rf-segment-classification</a><br>Synced 5 W&B file(s), 0 media file(s), 0 artifact file(s) and 0 other file(s)"
      ]
     },
     "metadata": {},
     "output_type": "display_data"
    },
    {
     "data": {
      "text/plain": [
       "<IPython.core.display.HTML object>"
      ],
      "text/html": [
       "Find logs at: <code>./wandb/run-20250619_190810-fiqfwrba/logs</code>"
      ]
     },
     "metadata": {},
     "output_type": "display_data"
    },
    {
     "name": "stdout",
     "output_type": "stream",
     "text": [
      "▶ Mixed train on only_audio, test on only_audio, window 1s\n"
     ]
    },
    {
     "data": {
      "text/plain": [
       "<IPython.core.display.HTML object>"
      ],
      "text/html": [
       "Tracking run with wandb version 0.20.1"
      ]
     },
     "metadata": {},
     "output_type": "display_data"
    },
    {
     "data": {
      "text/plain": [
       "<IPython.core.display.HTML object>"
      ],
      "text/html": [
       "Run data is saved locally in <code>/Users/lukini/PycharmProjects/DetectorPerModalitie/wandb/run-20250619_190816-9w4e6pal</code>"
      ]
     },
     "metadata": {},
     "output_type": "display_data"
    },
    {
     "data": {
      "text/plain": [
       "<IPython.core.display.HTML object>"
      ],
      "text/html": [
       "Syncing run <strong><a href='https://wandb.ai/knezevicoluka-tu-delft/rf-segment-classification/runs/9w4e6pal' target=\"_blank\">breezy-spaceship-440</a></strong> to <a href='https://wandb.ai/knezevicoluka-tu-delft/rf-segment-classification' target=\"_blank\">Weights & Biases</a> (<a href='https://wandb.me/developer-guide' target=\"_blank\">docs</a>)<br>"
      ]
     },
     "metadata": {},
     "output_type": "display_data"
    },
    {
     "data": {
      "text/plain": [
       "<IPython.core.display.HTML object>"
      ],
      "text/html": [
       " View project at <a href='https://wandb.ai/knezevicoluka-tu-delft/rf-segment-classification' target=\"_blank\">https://wandb.ai/knezevicoluka-tu-delft/rf-segment-classification</a>"
      ]
     },
     "metadata": {},
     "output_type": "display_data"
    },
    {
     "data": {
      "text/plain": [
       "<IPython.core.display.HTML object>"
      ],
      "text/html": [
       " View run at <a href='https://wandb.ai/knezevicoluka-tu-delft/rf-segment-classification/runs/9w4e6pal' target=\"_blank\">https://wandb.ai/knezevicoluka-tu-delft/rf-segment-classification/runs/9w4e6pal</a>"
      ]
     },
     "metadata": {},
     "output_type": "display_data"
    },
    {
     "data": {
      "text/plain": [
       "<IPython.core.display.HTML object>"
      ],
      "text/html": []
     },
     "metadata": {},
     "output_type": "display_data"
    },
    {
     "data": {
      "text/plain": [
       "<IPython.core.display.HTML object>"
      ],
      "text/html": [
       "<br>    <style><br>        .wandb-row {<br>            display: flex;<br>            flex-direction: row;<br>            flex-wrap: wrap;<br>            justify-content: flex-start;<br>            width: 100%;<br>        }<br>        .wandb-col {<br>            display: flex;<br>            flex-direction: column;<br>            flex-basis: 100%;<br>            flex: 1;<br>            padding: 10px;<br>        }<br>    </style><br><div class=\"wandb-row\"><div class=\"wandb-col\"><h3>Run history:</h3><br/><table class=\"wandb\"><tr><td>accelX_filtered_deriv_std</td><td>▁</td></tr><tr><td>accelX_filtered_mean</td><td>▁</td></tr><tr><td>accelX_filtered_var</td><td>▁</td></tr><tr><td>accelY_filtered_mean</td><td>▁</td></tr><tr><td>accelZ_filtered_deriv_std</td><td>▁</td></tr><tr><td>accelZ_filtered_mean</td><td>▁</td></tr><tr><td>accuracy</td><td>▁</td></tr><tr><td>corr_xz</td><td>▁</td></tr><tr><td>corr_yz</td><td>▁</td></tr><tr><td>f1_1</td><td>▁</td></tr><tr><td>f1_macro</td><td>▁</td></tr><tr><td>precision_1</td><td>▁</td></tr><tr><td>recall_1</td><td>▁</td></tr><tr><td>window_size_s</td><td>▁</td></tr><tr><td>window_start_frame</td><td>▁</td></tr></table><br/></div><div class=\"wandb-col\"><h3>Run summary:</h3><br/><table class=\"wandb\"><tr><td>accelX_filtered_deriv_std</td><td>0.03264</td></tr><tr><td>accelX_filtered_mean</td><td>0.02406</td></tr><tr><td>accelX_filtered_var</td><td>0.02451</td></tr><tr><td>accelY_filtered_mean</td><td>0.03432</td></tr><tr><td>accelZ_filtered_deriv_std</td><td>0.03049</td></tr><tr><td>accelZ_filtered_mean</td><td>0.02975</td></tr><tr><td>accuracy</td><td>0.43897</td></tr><tr><td>corr_xz</td><td>0.02424</td></tr><tr><td>corr_yz</td><td>0.02369</td></tr><tr><td>f1_1</td><td>0.26265</td></tr><tr><td>f1_macro</td><td>0.40495</td></tr><tr><td>precision_1</td><td>0.1512</td></tr><tr><td>recall_1</td><td>0.99925</td></tr><tr><td>window_size_s</td><td>0.24669</td></tr><tr><td>window_start_frame</td><td>0.31117</td></tr></table><br/></div></div>"
      ]
     },
     "metadata": {},
     "output_type": "display_data"
    },
    {
     "data": {
      "text/plain": [
       "<IPython.core.display.HTML object>"
      ],
      "text/html": [
       " View run <strong style=\"color:#cdcd00\">breezy-spaceship-440</strong> at: <a href='https://wandb.ai/knezevicoluka-tu-delft/rf-segment-classification/runs/9w4e6pal' target=\"_blank\">https://wandb.ai/knezevicoluka-tu-delft/rf-segment-classification/runs/9w4e6pal</a><br> View project at: <a href='https://wandb.ai/knezevicoluka-tu-delft/rf-segment-classification' target=\"_blank\">https://wandb.ai/knezevicoluka-tu-delft/rf-segment-classification</a><br>Synced 5 W&B file(s), 0 media file(s), 0 artifact file(s) and 0 other file(s)"
      ]
     },
     "metadata": {},
     "output_type": "display_data"
    },
    {
     "data": {
      "text/plain": [
       "<IPython.core.display.HTML object>"
      ],
      "text/html": [
       "Find logs at: <code>./wandb/run-20250619_190816-9w4e6pal/logs</code>"
      ]
     },
     "metadata": {},
     "output_type": "display_data"
    },
    {
     "name": "stdout",
     "output_type": "stream",
     "text": [
      "▶ Mixed train on only_audio, test on only_audio, window 2s\n"
     ]
    },
    {
     "data": {
      "text/plain": [
       "<IPython.core.display.HTML object>"
      ],
      "text/html": [
       "Tracking run with wandb version 0.20.1"
      ]
     },
     "metadata": {},
     "output_type": "display_data"
    },
    {
     "data": {
      "text/plain": [
       "<IPython.core.display.HTML object>"
      ],
      "text/html": [
       "Run data is saved locally in <code>/Users/lukini/PycharmProjects/DetectorPerModalitie/wandb/run-20250619_190826-hokojpog</code>"
      ]
     },
     "metadata": {},
     "output_type": "display_data"
    },
    {
     "data": {
      "text/plain": [
       "<IPython.core.display.HTML object>"
      ],
      "text/html": [
       "Syncing run <strong><a href='https://wandb.ai/knezevicoluka-tu-delft/rf-segment-classification/runs/hokojpog' target=\"_blank\">hopeful-planet-441</a></strong> to <a href='https://wandb.ai/knezevicoluka-tu-delft/rf-segment-classification' target=\"_blank\">Weights & Biases</a> (<a href='https://wandb.me/developer-guide' target=\"_blank\">docs</a>)<br>"
      ]
     },
     "metadata": {},
     "output_type": "display_data"
    },
    {
     "data": {
      "text/plain": [
       "<IPython.core.display.HTML object>"
      ],
      "text/html": [
       " View project at <a href='https://wandb.ai/knezevicoluka-tu-delft/rf-segment-classification' target=\"_blank\">https://wandb.ai/knezevicoluka-tu-delft/rf-segment-classification</a>"
      ]
     },
     "metadata": {},
     "output_type": "display_data"
    },
    {
     "data": {
      "text/plain": [
       "<IPython.core.display.HTML object>"
      ],
      "text/html": [
       " View run at <a href='https://wandb.ai/knezevicoluka-tu-delft/rf-segment-classification/runs/hokojpog' target=\"_blank\">https://wandb.ai/knezevicoluka-tu-delft/rf-segment-classification/runs/hokojpog</a>"
      ]
     },
     "metadata": {},
     "output_type": "display_data"
    },
    {
     "data": {
      "text/plain": [
       "<IPython.core.display.HTML object>"
      ],
      "text/html": []
     },
     "metadata": {},
     "output_type": "display_data"
    },
    {
     "data": {
      "text/plain": [
       "<IPython.core.display.HTML object>"
      ],
      "text/html": [
       "<br>    <style><br>        .wandb-row {<br>            display: flex;<br>            flex-direction: row;<br>            flex-wrap: wrap;<br>            justify-content: flex-start;<br>            width: 100%;<br>        }<br>        .wandb-col {<br>            display: flex;<br>            flex-direction: column;<br>            flex-basis: 100%;<br>            flex: 1;<br>            padding: 10px;<br>        }<br>    </style><br><div class=\"wandb-row\"><div class=\"wandb-col\"><h3>Run history:</h3><br/><table class=\"wandb\"><tr><td>SMA</td><td>▁</td></tr><tr><td>accelX_filtered_deriv_std</td><td>▁</td></tr><tr><td>accelX_filtered_mean</td><td>▁</td></tr><tr><td>accelX_filtered_var</td><td>▁</td></tr><tr><td>accelY_filtered_deriv_std</td><td>▁</td></tr><tr><td>accelY_filtered_mean</td><td>▁</td></tr><tr><td>accelZ_filtered_deriv_std</td><td>▁</td></tr><tr><td>accelZ_filtered_var</td><td>▁</td></tr><tr><td>accuracy</td><td>▁</td></tr><tr><td>f1_1</td><td>▁</td></tr><tr><td>f1_macro</td><td>▁</td></tr><tr><td>precision_1</td><td>▁</td></tr><tr><td>recall_1</td><td>▁</td></tr><tr><td>window_size_s</td><td>▁</td></tr><tr><td>window_start_frame</td><td>▁</td></tr></table><br/></div><div class=\"wandb-col\"><h3>Run summary:</h3><br/><table class=\"wandb\"><tr><td>SMA</td><td>0.0394</td></tr><tr><td>accelX_filtered_deriv_std</td><td>0.05819</td></tr><tr><td>accelX_filtered_mean</td><td>0.03979</td></tr><tr><td>accelX_filtered_var</td><td>0.04331</td></tr><tr><td>accelY_filtered_deriv_std</td><td>0.03741</td></tr><tr><td>accelY_filtered_mean</td><td>0.04296</td></tr><tr><td>accelZ_filtered_deriv_std</td><td>0.0421</td></tr><tr><td>accelZ_filtered_var</td><td>0.04266</td></tr><tr><td>accuracy</td><td>0.66213</td></tr><tr><td>f1_1</td><td>0.36801</td></tr><tr><td>f1_macro</td><td>0.56873</td></tr><tr><td>precision_1</td><td>0.22634</td></tr><tr><td>recall_1</td><td>0.98372</td></tr><tr><td>window_size_s</td><td>0.09905</td></tr><tr><td>window_start_frame</td><td>0.22285</td></tr></table><br/></div></div>"
      ]
     },
     "metadata": {},
     "output_type": "display_data"
    },
    {
     "data": {
      "text/plain": [
       "<IPython.core.display.HTML object>"
      ],
      "text/html": [
       " View run <strong style=\"color:#cdcd00\">hopeful-planet-441</strong> at: <a href='https://wandb.ai/knezevicoluka-tu-delft/rf-segment-classification/runs/hokojpog' target=\"_blank\">https://wandb.ai/knezevicoluka-tu-delft/rf-segment-classification/runs/hokojpog</a><br> View project at: <a href='https://wandb.ai/knezevicoluka-tu-delft/rf-segment-classification' target=\"_blank\">https://wandb.ai/knezevicoluka-tu-delft/rf-segment-classification</a><br>Synced 5 W&B file(s), 0 media file(s), 0 artifact file(s) and 0 other file(s)"
      ]
     },
     "metadata": {},
     "output_type": "display_data"
    },
    {
     "data": {
      "text/plain": [
       "<IPython.core.display.HTML object>"
      ],
      "text/html": [
       "Find logs at: <code>./wandb/run-20250619_190826-hokojpog/logs</code>"
      ]
     },
     "metadata": {},
     "output_type": "display_data"
    },
    {
     "name": "stdout",
     "output_type": "stream",
     "text": [
      "▶ Mixed train on only_audio, test on only_audio, window 10s\n"
     ]
    },
    {
     "data": {
      "text/plain": [
       "<IPython.core.display.HTML object>"
      ],
      "text/html": [
       "Tracking run with wandb version 0.20.1"
      ]
     },
     "metadata": {},
     "output_type": "display_data"
    },
    {
     "data": {
      "text/plain": [
       "<IPython.core.display.HTML object>"
      ],
      "text/html": [
       "Run data is saved locally in <code>/Users/lukini/PycharmProjects/DetectorPerModalitie/wandb/run-20250619_190834-4oyxttoa</code>"
      ]
     },
     "metadata": {},
     "output_type": "display_data"
    },
    {
     "data": {
      "text/plain": [
       "<IPython.core.display.HTML object>"
      ],
      "text/html": [
       "Syncing run <strong><a href='https://wandb.ai/knezevicoluka-tu-delft/rf-segment-classification/runs/4oyxttoa' target=\"_blank\">sweet-fire-442</a></strong> to <a href='https://wandb.ai/knezevicoluka-tu-delft/rf-segment-classification' target=\"_blank\">Weights & Biases</a> (<a href='https://wandb.me/developer-guide' target=\"_blank\">docs</a>)<br>"
      ]
     },
     "metadata": {},
     "output_type": "display_data"
    },
    {
     "data": {
      "text/plain": [
       "<IPython.core.display.HTML object>"
      ],
      "text/html": [
       " View project at <a href='https://wandb.ai/knezevicoluka-tu-delft/rf-segment-classification' target=\"_blank\">https://wandb.ai/knezevicoluka-tu-delft/rf-segment-classification</a>"
      ]
     },
     "metadata": {},
     "output_type": "display_data"
    },
    {
     "data": {
      "text/plain": [
       "<IPython.core.display.HTML object>"
      ],
      "text/html": [
       " View run at <a href='https://wandb.ai/knezevicoluka-tu-delft/rf-segment-classification/runs/4oyxttoa' target=\"_blank\">https://wandb.ai/knezevicoluka-tu-delft/rf-segment-classification/runs/4oyxttoa</a>"
      ]
     },
     "metadata": {},
     "output_type": "display_data"
    },
    {
     "data": {
      "text/plain": [
       "<IPython.core.display.HTML object>"
      ],
      "text/html": []
     },
     "metadata": {},
     "output_type": "display_data"
    },
    {
     "data": {
      "text/plain": [
       "<IPython.core.display.HTML object>"
      ],
      "text/html": [
       "<br>    <style><br>        .wandb-row {<br>            display: flex;<br>            flex-direction: row;<br>            flex-wrap: wrap;<br>            justify-content: flex-start;<br>            width: 100%;<br>        }<br>        .wandb-col {<br>            display: flex;<br>            flex-direction: column;<br>            flex-basis: 100%;<br>            flex: 1;<br>            padding: 10px;<br>        }<br>    </style><br><div class=\"wandb-row\"><div class=\"wandb-col\"><h3>Run history:</h3><br/><table class=\"wandb\"><tr><td>SMA</td><td>▁</td></tr><tr><td>accelX_filtered_deriv_std</td><td>▁</td></tr><tr><td>accelY_filtered_deriv_std</td><td>▁</td></tr><tr><td>accelY_filtered_energy</td><td>▁</td></tr><tr><td>accelY_filtered_var</td><td>▁</td></tr><tr><td>accelZ_filtered_deriv_std</td><td>▁</td></tr><tr><td>accelZ_filtered_energy</td><td>▁</td></tr><tr><td>accelZ_filtered_var</td><td>▁</td></tr><tr><td>accuracy</td><td>▁</td></tr><tr><td>corr_xz</td><td>▁</td></tr><tr><td>f1_1</td><td>▁</td></tr><tr><td>f1_macro</td><td>▁</td></tr><tr><td>precision_1</td><td>▁</td></tr><tr><td>recall_1</td><td>▁</td></tr><tr><td>window_start_frame</td><td>▁</td></tr></table><br/></div><div class=\"wandb-col\"><h3>Run summary:</h3><br/><table class=\"wandb\"><tr><td>SMA</td><td>0.05468</td></tr><tr><td>accelX_filtered_deriv_std</td><td>0.09953</td></tr><tr><td>accelY_filtered_deriv_std</td><td>0.06532</td></tr><tr><td>accelY_filtered_energy</td><td>0.05056</td></tr><tr><td>accelY_filtered_var</td><td>0.05722</td></tr><tr><td>accelZ_filtered_deriv_std</td><td>0.08472</td></tr><tr><td>accelZ_filtered_energy</td><td>0.05808</td></tr><tr><td>accelZ_filtered_var</td><td>0.05737</td></tr><tr><td>accuracy</td><td>0.98576</td></tr><tr><td>corr_xz</td><td>0.06642</td></tr><tr><td>f1_1</td><td>0.93353</td></tr><tr><td>f1_macro</td><td>0.96278</td></tr><tr><td>precision_1</td><td>0.87534</td></tr><tr><td>recall_1</td><td>1</td></tr><tr><td>window_start_frame</td><td>0.15073</td></tr></table><br/></div></div>"
      ]
     },
     "metadata": {},
     "output_type": "display_data"
    },
    {
     "data": {
      "text/plain": [
       "<IPython.core.display.HTML object>"
      ],
      "text/html": [
       " View run <strong style=\"color:#cdcd00\">sweet-fire-442</strong> at: <a href='https://wandb.ai/knezevicoluka-tu-delft/rf-segment-classification/runs/4oyxttoa' target=\"_blank\">https://wandb.ai/knezevicoluka-tu-delft/rf-segment-classification/runs/4oyxttoa</a><br> View project at: <a href='https://wandb.ai/knezevicoluka-tu-delft/rf-segment-classification' target=\"_blank\">https://wandb.ai/knezevicoluka-tu-delft/rf-segment-classification</a><br>Synced 5 W&B file(s), 0 media file(s), 0 artifact file(s) and 0 other file(s)"
      ]
     },
     "metadata": {},
     "output_type": "display_data"
    },
    {
     "data": {
      "text/plain": [
       "<IPython.core.display.HTML object>"
      ],
      "text/html": [
       "Find logs at: <code>./wandb/run-20250619_190834-4oyxttoa/logs</code>"
      ]
     },
     "metadata": {},
     "output_type": "display_data"
    },
    {
     "name": "stdout",
     "output_type": "stream",
     "text": [
      "  train_modality test_modality  duration_s  accuracy  f1_macro  precision_1  \\\n",
      "0     with_audio    with_audio           1  0.443729  0.408280     0.151827   \n",
      "1     with_audio    with_audio           2  0.696789  0.595054     0.245202   \n",
      "2     with_audio    with_audio          10  0.975686  0.938956     0.804411   \n",
      "3       no_audio      no_audio           1  0.453845  0.415857     0.154136   \n",
      "4       no_audio      no_audio           2  0.720251  0.607713     0.253356   \n",
      "5       no_audio      no_audio          10  0.942003  0.869938     0.634933   \n",
      "6     only_audio    only_audio           1  0.438970  0.404945     0.151199   \n",
      "7     only_audio    only_audio           2  0.662134  0.568725     0.226345   \n",
      "8     only_audio    only_audio          10  0.985759  0.962777     0.875344   \n",
      "\n",
      "   recall_1      f1_1  \n",
      "0  0.994859  0.263449  \n",
      "1  0.977831  0.392084  \n",
      "2  1.000000  0.891605  \n",
      "3  0.994174  0.266893  \n",
      "4  0.923218  0.397599  \n",
      "5  0.988204  0.773124  \n",
      "6  0.999249  0.262655  \n",
      "7  0.983724  0.368014  \n",
      "8  1.000000  0.933529  \n"
     ]
    }
   ],
   "execution_count": 83
  },
  {
   "metadata": {},
   "cell_type": "code",
   "outputs": [],
   "execution_count": null,
   "source": "",
   "id": "c58e496db71a2da2"
  }
 ],
 "metadata": {
  "kernelspec": {
   "display_name": "Python 3",
   "language": "python",
   "name": "python3"
  },
  "language_info": {
   "codemirror_mode": {
    "name": "ipython",
    "version": 2
   },
   "file_extension": ".py",
   "mimetype": "text/x-python",
   "name": "python",
   "nbconvert_exporter": "python",
   "pygments_lexer": "ipython2",
   "version": "2.7.6"
  }
 },
 "nbformat": 4,
 "nbformat_minor": 5
}
