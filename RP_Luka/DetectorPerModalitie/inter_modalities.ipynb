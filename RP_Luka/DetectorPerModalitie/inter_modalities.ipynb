{
 "cells": [
  {
   "cell_type": "code",
   "id": "initial_id",
   "metadata": {
    "collapsed": true,
    "ExecuteTime": {
     "end_time": "2025-06-22T20:50:54.282525Z",
     "start_time": "2025-06-22T20:50:54.267531Z"
    }
   },
   "source": [
    "# %%\n",
    "# Cell 1: Imports and cross-modality training function\n",
    "import os\n",
    "import wandb\n",
    "import pandas as pd\n",
    "import numpy as np\n",
    "from sklearn.ensemble import RandomForestClassifier\n",
    "from sklearn.metrics import classification_report, f1_score\n",
    "\n",
    "def train_cross_modality(\n",
    "    train_modality: str = \"no_audio\",\n",
    "    test_modality: str = \"only_audio\",\n",
    "    duration_s: int = 10,\n",
    "    cfg: dict = None\n",
    "):\n",
    "    \"\"\"\n",
    "    Train a RandomForest on one modality and evaluate on another.\n",
    "\n",
    "    Args:\n",
    "        train_modality: feature set for training (e.g., 'no_audio', 'with_audio', 'only_audio')\n",
    "        test_modality: feature set for testing\n",
    "        duration_s: window duration in seconds\n",
    "        cfg: dict of hyperparameters (keys: n_estimators, max_depth, random_state)\n",
    "    Returns:\n",
    "        dict: test metrics for local collection\n",
    "    \"\"\"\n",
    "    # Default hyperparameters\n",
    "    defaults = {\"n_estimators\": 100, \"max_depth\": 10, \"random_state\": 42}\n",
    "    params = defaults.copy()\n",
    "    if cfg:\n",
    "        params.update(cfg)\n",
    "\n",
    "    # Start a W&B run\n",
    "    run = wandb.init(\n",
    "        project=\"rf-segment-classification\",\n",
    "        job_type=f\"train_{train_modality}_test_{test_modality}\",\n",
    "        config=params\n",
    "    )\n",
    "    config = run.config\n",
    "\n",
    "    # Build file paths\n",
    "    base_dir = \"./features/fixed_really/balanced\"\n",
    "    train_file = os.path.join(base_dir, train_modality, f\"features_{train_modality}_{duration_s}s_balanced.csv\")\n",
    "    test_file  = os.path.join(base_dir, test_modality,  f\"features_{test_modality}_{duration_s}s_balanced.csv\")\n",
    "\n",
    "    # Load and align data\n",
    "    df_tr = pd.read_csv(train_file)\n",
    "    df_te = pd.read_csv(test_file)\n",
    "    drop = [\"video_id\",\"segment\",\"participant\",\"start_time\",\"end_time\",\"label\",\n",
    "            \"padded_duration_s\",\"original_duration\",\"real_sample_count\",\n",
    "            \"expected_sample_count\",\"padding_applied\"]\n",
    "    feat_tr = set(df_tr.columns) - set(drop)\n",
    "    feat_te = set(df_te.columns) - set(drop)\n",
    "    common = sorted(feat_tr & feat_te)\n",
    "\n",
    "    X_tr, y_tr = df_tr[common].fillna(0), df_tr[\"label\"]\n",
    "    X_te, y_te = df_te[common].fillna(0), df_te[\"label\"]\n",
    "\n",
    "    # Train and predict\n",
    "    clf = RandomForestClassifier(\n",
    "        n_estimators=config.n_estimators,\n",
    "        max_depth=config.max_depth,\n",
    "        class_weight=\"balanced\",\n",
    "        random_state=config.random_state,\n",
    "        n_jobs=-1\n",
    "    )\n",
    "    clf.fit(X_tr, y_tr)\n",
    "    preds = clf.predict(X_te)\n",
    "\n",
    "    report = classification_report(y_te, preds, output_dict=True, zero_division=0)\n",
    "    f1_mac = f1_score(y_te, preds, average=\"macro\")\n",
    "\n",
    "    # Log to W&B\n",
    "    metrics = {\n",
    "        \"test/accuracy\": report[\"accuracy\"],\n",
    "        \"test/f1_macro\": f1_mac,\n",
    "        **{f\"test/{cls}/{m}\": report[cls][m]\n",
    "           for cls in [\"0\",\"1\"] for m in [\"precision\",\"recall\",\"f1-score\"]}\n",
    "    }\n",
    "    run.log(metrics)\n",
    "\n",
    "    imps = pd.Series(clf.feature_importances_, index=common).nlargest(10)\n",
    "    for feat, val in imps.items():\n",
    "        run.log({f\"{feat}\": val})\n",
    "\n",
    "    run.finish()\n",
    "\n",
    "    return {\n",
    "        \"train_modality\": train_modality,\n",
    "        \"test_modality\": test_modality,\n",
    "        \"duration_s\": duration_s,\n",
    "        \"accuracy\": report[\"accuracy\"],\n",
    "        \"f1_macro\": f1_mac,\n",
    "        \"precision_1\": report[\"1\"][\"precision\"],\n",
    "        \"recall_1\": report[\"1\"][\"recall\"],\n",
    "        \"f1_1\": report[\"1\"][\"f1-score\"]\n",
    "    }\n",
    "\n",
    "# %%\n",
    "# Cell 2: Run all cross-modality tests\n",
    "import itertools\n",
    "\n",
    "def run_all_cross_modality_tests(duration_s=10, cfg=None):\n",
    "    modalities = [\"with_audio\", \"no_audio\", \"only_audio\"]\n",
    "    results = []\n",
    "\n",
    "    for train_mod in modalities:\n",
    "        for test_mod in modalities:\n",
    "            print(f\"▶ Training on {train_mod}, Testing on {test_mod}\")\n",
    "            res = train_cross_modality(train_modality=train_mod, test_modality=test_mod, duration_s=duration_s, cfg=cfg)\n",
    "            results.append(res)\n",
    "\n",
    "\n",
    "    return pd.DataFrame(results)\n",
    "\n"
   ],
   "outputs": [],
   "execution_count": 3
  },
  {
   "metadata": {
    "ExecuteTime": {
     "end_time": "2025-06-22T20:51:45.699044Z",
     "start_time": "2025-06-22T20:50:55.477869Z"
    }
   },
   "cell_type": "code",
   "source": [
    "# %%\n",
    "# Cell 3: Run & display results\n",
    "wandb.login()\n",
    "df_results = run_all_cross_modality_tests(duration_s=10)\n",
    "print(df_results)\n"
   ],
   "id": "ebf63b9e61a68caf",
   "outputs": [
    {
     "name": "stdout",
     "output_type": "stream",
     "text": [
      "▶ Training on with_audio, Testing on with_audio\n"
     ]
    },
    {
     "data": {
      "text/plain": [
       "<IPython.core.display.HTML object>"
      ],
      "text/html": [
       "Tracking run with wandb version 0.20.1"
      ]
     },
     "metadata": {},
     "output_type": "display_data"
    },
    {
     "data": {
      "text/plain": [
       "<IPython.core.display.HTML object>"
      ],
      "text/html": [
       "Run data is saved locally in <code>/Users/lukini/PycharmProjects/DetectorPerModalitie/wandb/run-20250622_225055-vefbd6di</code>"
      ]
     },
     "metadata": {},
     "output_type": "display_data"
    },
    {
     "data": {
      "text/plain": [
       "<IPython.core.display.HTML object>"
      ],
      "text/html": [
       "Syncing run <strong><a href='https://wandb.ai/knezevicoluka-tu-delft/rf-segment-classification/runs/vefbd6di' target=\"_blank\">visionary-dragon-449</a></strong> to <a href='https://wandb.ai/knezevicoluka-tu-delft/rf-segment-classification' target=\"_blank\">Weights & Biases</a> (<a href='https://wandb.me/developer-guide' target=\"_blank\">docs</a>)<br>"
      ]
     },
     "metadata": {},
     "output_type": "display_data"
    },
    {
     "data": {
      "text/plain": [
       "<IPython.core.display.HTML object>"
      ],
      "text/html": [
       " View project at <a href='https://wandb.ai/knezevicoluka-tu-delft/rf-segment-classification' target=\"_blank\">https://wandb.ai/knezevicoluka-tu-delft/rf-segment-classification</a>"
      ]
     },
     "metadata": {},
     "output_type": "display_data"
    },
    {
     "data": {
      "text/plain": [
       "<IPython.core.display.HTML object>"
      ],
      "text/html": [
       " View run at <a href='https://wandb.ai/knezevicoluka-tu-delft/rf-segment-classification/runs/vefbd6di' target=\"_blank\">https://wandb.ai/knezevicoluka-tu-delft/rf-segment-classification/runs/vefbd6di</a>"
      ]
     },
     "metadata": {},
     "output_type": "display_data"
    },
    {
     "data": {
      "text/plain": [
       "<IPython.core.display.HTML object>"
      ],
      "text/html": []
     },
     "metadata": {},
     "output_type": "display_data"
    },
    {
     "data": {
      "text/plain": [
       "<IPython.core.display.HTML object>"
      ],
      "text/html": [
       "<br>    <style><br>        .wandb-row {<br>            display: flex;<br>            flex-direction: row;<br>            flex-wrap: wrap;<br>            justify-content: flex-start;<br>            width: 100%;<br>        }<br>        .wandb-col {<br>            display: flex;<br>            flex-direction: column;<br>            flex-basis: 100%;<br>            flex: 1;<br>            padding: 10px;<br>        }<br>    </style><br><div class=\"wandb-row\"><div class=\"wandb-col\"><h3>Run history:</h3><br/><table class=\"wandb\"><tr><td>SMA</td><td>▁</td></tr><tr><td>accelX_filtered_deriv_std</td><td>▁</td></tr><tr><td>accelX_filtered_energy</td><td>▁</td></tr><tr><td>accelX_filtered_var</td><td>▁</td></tr><tr><td>accelY_filtered_deriv_std</td><td>▁</td></tr><tr><td>accelZ_filtered_deriv_std</td><td>▁</td></tr><tr><td>accelZ_filtered_var</td><td>▁</td></tr><tr><td>corr_xz</td><td>▁</td></tr><tr><td>corr_yz</td><td>▁</td></tr><tr><td>test/0/f1-score</td><td>▁</td></tr><tr><td>test/0/precision</td><td>▁</td></tr><tr><td>test/0/recall</td><td>▁</td></tr><tr><td>test/1/f1-score</td><td>▁</td></tr><tr><td>test/1/precision</td><td>▁</td></tr><tr><td>test/1/recall</td><td>▁</td></tr><tr><td>test/accuracy</td><td>▁</td></tr><tr><td>test/f1_macro</td><td>▁</td></tr><tr><td>window_start_frame</td><td>▁</td></tr></table><br/></div><div class=\"wandb-col\"><h3>Run summary:</h3><br/><table class=\"wandb\"><tr><td>SMA</td><td>0.06868</td></tr><tr><td>accelX_filtered_deriv_std</td><td>0.10279</td></tr><tr><td>accelX_filtered_energy</td><td>0.04593</td></tr><tr><td>accelX_filtered_var</td><td>0.05146</td></tr><tr><td>accelY_filtered_deriv_std</td><td>0.05379</td></tr><tr><td>accelZ_filtered_deriv_std</td><td>0.09164</td></tr><tr><td>accelZ_filtered_var</td><td>0.05117</td></tr><tr><td>corr_xz</td><td>0.09022</td></tr><tr><td>corr_yz</td><td>0.06824</td></tr><tr><td>test/0/f1-score</td><td>0.98506</td></tr><tr><td>test/0/precision</td><td>1</td></tr><tr><td>test/0/recall</td><td>0.97055</td></tr><tr><td>test/1/f1-score</td><td>0.88299</td></tr><tr><td>test/1/precision</td><td>0.7905</td></tr><tr><td>test/1/recall</td><td>1</td></tr><tr><td>test/accuracy</td><td>0.9735</td></tr><tr><td>test/f1_macro</td><td>0.93402</td></tr><tr><td>window_start_frame</td><td>0.18102</td></tr></table><br/></div></div>"
      ]
     },
     "metadata": {},
     "output_type": "display_data"
    },
    {
     "data": {
      "text/plain": [
       "<IPython.core.display.HTML object>"
      ],
      "text/html": [
       " View run <strong style=\"color:#cdcd00\">visionary-dragon-449</strong> at: <a href='https://wandb.ai/knezevicoluka-tu-delft/rf-segment-classification/runs/vefbd6di' target=\"_blank\">https://wandb.ai/knezevicoluka-tu-delft/rf-segment-classification/runs/vefbd6di</a><br> View project at: <a href='https://wandb.ai/knezevicoluka-tu-delft/rf-segment-classification' target=\"_blank\">https://wandb.ai/knezevicoluka-tu-delft/rf-segment-classification</a><br>Synced 5 W&B file(s), 0 media file(s), 0 artifact file(s) and 0 other file(s)"
      ]
     },
     "metadata": {},
     "output_type": "display_data"
    },
    {
     "data": {
      "text/plain": [
       "<IPython.core.display.HTML object>"
      ],
      "text/html": [
       "Find logs at: <code>./wandb/run-20250622_225055-vefbd6di/logs</code>"
      ]
     },
     "metadata": {},
     "output_type": "display_data"
    },
    {
     "name": "stdout",
     "output_type": "stream",
     "text": [
      "▶ Training on with_audio, Testing on no_audio\n"
     ]
    },
    {
     "data": {
      "text/plain": [
       "<IPython.core.display.HTML object>"
      ],
      "text/html": [
       "Tracking run with wandb version 0.20.1"
      ]
     },
     "metadata": {},
     "output_type": "display_data"
    },
    {
     "data": {
      "text/plain": [
       "<IPython.core.display.HTML object>"
      ],
      "text/html": [
       "Run data is saved locally in <code>/Users/lukini/PycharmProjects/DetectorPerModalitie/wandb/run-20250622_225100-lvkwgqax</code>"
      ]
     },
     "metadata": {},
     "output_type": "display_data"
    },
    {
     "data": {
      "text/plain": [
       "<IPython.core.display.HTML object>"
      ],
      "text/html": [
       "Syncing run <strong><a href='https://wandb.ai/knezevicoluka-tu-delft/rf-segment-classification/runs/lvkwgqax' target=\"_blank\">smart-oath-450</a></strong> to <a href='https://wandb.ai/knezevicoluka-tu-delft/rf-segment-classification' target=\"_blank\">Weights & Biases</a> (<a href='https://wandb.me/developer-guide' target=\"_blank\">docs</a>)<br>"
      ]
     },
     "metadata": {},
     "output_type": "display_data"
    },
    {
     "data": {
      "text/plain": [
       "<IPython.core.display.HTML object>"
      ],
      "text/html": [
       " View project at <a href='https://wandb.ai/knezevicoluka-tu-delft/rf-segment-classification' target=\"_blank\">https://wandb.ai/knezevicoluka-tu-delft/rf-segment-classification</a>"
      ]
     },
     "metadata": {},
     "output_type": "display_data"
    },
    {
     "data": {
      "text/plain": [
       "<IPython.core.display.HTML object>"
      ],
      "text/html": [
       " View run at <a href='https://wandb.ai/knezevicoluka-tu-delft/rf-segment-classification/runs/lvkwgqax' target=\"_blank\">https://wandb.ai/knezevicoluka-tu-delft/rf-segment-classification/runs/lvkwgqax</a>"
      ]
     },
     "metadata": {},
     "output_type": "display_data"
    },
    {
     "data": {
      "text/plain": [
       "<IPython.core.display.HTML object>"
      ],
      "text/html": []
     },
     "metadata": {},
     "output_type": "display_data"
    },
    {
     "data": {
      "text/plain": [
       "<IPython.core.display.HTML object>"
      ],
      "text/html": [
       "<br>    <style><br>        .wandb-row {<br>            display: flex;<br>            flex-direction: row;<br>            flex-wrap: wrap;<br>            justify-content: flex-start;<br>            width: 100%;<br>        }<br>        .wandb-col {<br>            display: flex;<br>            flex-direction: column;<br>            flex-basis: 100%;<br>            flex: 1;<br>            padding: 10px;<br>        }<br>    </style><br><div class=\"wandb-row\"><div class=\"wandb-col\"><h3>Run history:</h3><br/><table class=\"wandb\"><tr><td>SMA</td><td>▁</td></tr><tr><td>accelX_filtered_deriv_std</td><td>▁</td></tr><tr><td>accelX_filtered_energy</td><td>▁</td></tr><tr><td>accelX_filtered_var</td><td>▁</td></tr><tr><td>accelY_filtered_deriv_std</td><td>▁</td></tr><tr><td>accelZ_filtered_deriv_std</td><td>▁</td></tr><tr><td>accelZ_filtered_var</td><td>▁</td></tr><tr><td>corr_xz</td><td>▁</td></tr><tr><td>corr_yz</td><td>▁</td></tr><tr><td>test/0/f1-score</td><td>▁</td></tr><tr><td>test/0/precision</td><td>▁</td></tr><tr><td>test/0/recall</td><td>▁</td></tr><tr><td>test/1/f1-score</td><td>▁</td></tr><tr><td>test/1/precision</td><td>▁</td></tr><tr><td>test/1/recall</td><td>▁</td></tr><tr><td>test/accuracy</td><td>▁</td></tr><tr><td>test/f1_macro</td><td>▁</td></tr><tr><td>window_start_frame</td><td>▁</td></tr></table><br/></div><div class=\"wandb-col\"><h3>Run summary:</h3><br/><table class=\"wandb\"><tr><td>SMA</td><td>0.06868</td></tr><tr><td>accelX_filtered_deriv_std</td><td>0.10279</td></tr><tr><td>accelX_filtered_energy</td><td>0.04593</td></tr><tr><td>accelX_filtered_var</td><td>0.05146</td></tr><tr><td>accelY_filtered_deriv_std</td><td>0.05379</td></tr><tr><td>accelZ_filtered_deriv_std</td><td>0.09164</td></tr><tr><td>accelZ_filtered_var</td><td>0.05117</td></tr><tr><td>corr_xz</td><td>0.09022</td></tr><tr><td>corr_yz</td><td>0.06824</td></tr><tr><td>test/0/f1-score</td><td>0.94534</td></tr><tr><td>test/0/precision</td><td>0.9219</td></tr><tr><td>test/0/recall</td><td>0.97001</td></tr><tr><td>test/1/f1-score</td><td>0.34033</td></tr><tr><td>test/1/precision</td><td>0.49102</td></tr><tr><td>test/1/recall</td><td>0.26041</td></tr><tr><td>test/accuracy</td><td>0.89905</td></tr><tr><td>test/f1_macro</td><td>0.64284</td></tr><tr><td>window_start_frame</td><td>0.18102</td></tr></table><br/></div></div>"
      ]
     },
     "metadata": {},
     "output_type": "display_data"
    },
    {
     "data": {
      "text/plain": [
       "<IPython.core.display.HTML object>"
      ],
      "text/html": [
       " View run <strong style=\"color:#cdcd00\">smart-oath-450</strong> at: <a href='https://wandb.ai/knezevicoluka-tu-delft/rf-segment-classification/runs/lvkwgqax' target=\"_blank\">https://wandb.ai/knezevicoluka-tu-delft/rf-segment-classification/runs/lvkwgqax</a><br> View project at: <a href='https://wandb.ai/knezevicoluka-tu-delft/rf-segment-classification' target=\"_blank\">https://wandb.ai/knezevicoluka-tu-delft/rf-segment-classification</a><br>Synced 5 W&B file(s), 0 media file(s), 0 artifact file(s) and 0 other file(s)"
      ]
     },
     "metadata": {},
     "output_type": "display_data"
    },
    {
     "data": {
      "text/plain": [
       "<IPython.core.display.HTML object>"
      ],
      "text/html": [
       "Find logs at: <code>./wandb/run-20250622_225100-lvkwgqax/logs</code>"
      ]
     },
     "metadata": {},
     "output_type": "display_data"
    },
    {
     "name": "stdout",
     "output_type": "stream",
     "text": [
      "▶ Training on with_audio, Testing on only_audio\n"
     ]
    },
    {
     "data": {
      "text/plain": [
       "<IPython.core.display.HTML object>"
      ],
      "text/html": [
       "Tracking run with wandb version 0.20.1"
      ]
     },
     "metadata": {},
     "output_type": "display_data"
    },
    {
     "data": {
      "text/plain": [
       "<IPython.core.display.HTML object>"
      ],
      "text/html": [
       "Run data is saved locally in <code>/Users/lukini/PycharmProjects/DetectorPerModalitie/wandb/run-20250622_225106-jr1kkjpd</code>"
      ]
     },
     "metadata": {},
     "output_type": "display_data"
    },
    {
     "data": {
      "text/plain": [
       "<IPython.core.display.HTML object>"
      ],
      "text/html": [
       "Syncing run <strong><a href='https://wandb.ai/knezevicoluka-tu-delft/rf-segment-classification/runs/jr1kkjpd' target=\"_blank\">sparkling-wildflower-451</a></strong> to <a href='https://wandb.ai/knezevicoluka-tu-delft/rf-segment-classification' target=\"_blank\">Weights & Biases</a> (<a href='https://wandb.me/developer-guide' target=\"_blank\">docs</a>)<br>"
      ]
     },
     "metadata": {},
     "output_type": "display_data"
    },
    {
     "data": {
      "text/plain": [
       "<IPython.core.display.HTML object>"
      ],
      "text/html": [
       " View project at <a href='https://wandb.ai/knezevicoluka-tu-delft/rf-segment-classification' target=\"_blank\">https://wandb.ai/knezevicoluka-tu-delft/rf-segment-classification</a>"
      ]
     },
     "metadata": {},
     "output_type": "display_data"
    },
    {
     "data": {
      "text/plain": [
       "<IPython.core.display.HTML object>"
      ],
      "text/html": [
       " View run at <a href='https://wandb.ai/knezevicoluka-tu-delft/rf-segment-classification/runs/jr1kkjpd' target=\"_blank\">https://wandb.ai/knezevicoluka-tu-delft/rf-segment-classification/runs/jr1kkjpd</a>"
      ]
     },
     "metadata": {},
     "output_type": "display_data"
    },
    {
     "data": {
      "text/plain": [
       "<IPython.core.display.HTML object>"
      ],
      "text/html": []
     },
     "metadata": {},
     "output_type": "display_data"
    },
    {
     "data": {
      "text/plain": [
       "<IPython.core.display.HTML object>"
      ],
      "text/html": [
       "<br>    <style><br>        .wandb-row {<br>            display: flex;<br>            flex-direction: row;<br>            flex-wrap: wrap;<br>            justify-content: flex-start;<br>            width: 100%;<br>        }<br>        .wandb-col {<br>            display: flex;<br>            flex-direction: column;<br>            flex-basis: 100%;<br>            flex: 1;<br>            padding: 10px;<br>        }<br>    </style><br><div class=\"wandb-row\"><div class=\"wandb-col\"><h3>Run history:</h3><br/><table class=\"wandb\"><tr><td>SMA</td><td>▁</td></tr><tr><td>accelX_filtered_deriv_std</td><td>▁</td></tr><tr><td>accelX_filtered_energy</td><td>▁</td></tr><tr><td>accelX_filtered_var</td><td>▁</td></tr><tr><td>accelY_filtered_deriv_std</td><td>▁</td></tr><tr><td>accelZ_filtered_deriv_std</td><td>▁</td></tr><tr><td>accelZ_filtered_var</td><td>▁</td></tr><tr><td>corr_xz</td><td>▁</td></tr><tr><td>corr_yz</td><td>▁</td></tr><tr><td>test/0/f1-score</td><td>▁</td></tr><tr><td>test/0/precision</td><td>▁</td></tr><tr><td>test/0/recall</td><td>▁</td></tr><tr><td>test/1/f1-score</td><td>▁</td></tr><tr><td>test/1/precision</td><td>▁</td></tr><tr><td>test/1/recall</td><td>▁</td></tr><tr><td>test/accuracy</td><td>▁</td></tr><tr><td>test/f1_macro</td><td>▁</td></tr><tr><td>window_start_frame</td><td>▁</td></tr></table><br/></div><div class=\"wandb-col\"><h3>Run summary:</h3><br/><table class=\"wandb\"><tr><td>SMA</td><td>0.06868</td></tr><tr><td>accelX_filtered_deriv_std</td><td>0.10279</td></tr><tr><td>accelX_filtered_energy</td><td>0.04593</td></tr><tr><td>accelX_filtered_var</td><td>0.05146</td></tr><tr><td>accelY_filtered_deriv_std</td><td>0.05379</td></tr><tr><td>accelZ_filtered_deriv_std</td><td>0.09164</td></tr><tr><td>accelZ_filtered_var</td><td>0.05117</td></tr><tr><td>corr_xz</td><td>0.09022</td></tr><tr><td>corr_yz</td><td>0.06824</td></tr><tr><td>test/0/f1-score</td><td>0.6691</td></tr><tr><td>test/0/precision</td><td>0.50972</td></tr><tr><td>test/0/recall</td><td>0.97351</td></tr><tr><td>test/1/f1-score</td><td>0.11669</td></tr><tr><td>test/1/precision</td><td>0.706</td></tr><tr><td>test/1/recall</td><td>0.0636</td></tr><tr><td>test/accuracy</td><td>0.51856</td></tr><tr><td>test/f1_macro</td><td>0.3929</td></tr><tr><td>window_start_frame</td><td>0.18102</td></tr></table><br/></div></div>"
      ]
     },
     "metadata": {},
     "output_type": "display_data"
    },
    {
     "data": {
      "text/plain": [
       "<IPython.core.display.HTML object>"
      ],
      "text/html": [
       " View run <strong style=\"color:#cdcd00\">sparkling-wildflower-451</strong> at: <a href='https://wandb.ai/knezevicoluka-tu-delft/rf-segment-classification/runs/jr1kkjpd' target=\"_blank\">https://wandb.ai/knezevicoluka-tu-delft/rf-segment-classification/runs/jr1kkjpd</a><br> View project at: <a href='https://wandb.ai/knezevicoluka-tu-delft/rf-segment-classification' target=\"_blank\">https://wandb.ai/knezevicoluka-tu-delft/rf-segment-classification</a><br>Synced 5 W&B file(s), 0 media file(s), 0 artifact file(s) and 0 other file(s)"
      ]
     },
     "metadata": {},
     "output_type": "display_data"
    },
    {
     "data": {
      "text/plain": [
       "<IPython.core.display.HTML object>"
      ],
      "text/html": [
       "Find logs at: <code>./wandb/run-20250622_225106-jr1kkjpd/logs</code>"
      ]
     },
     "metadata": {},
     "output_type": "display_data"
    },
    {
     "name": "stdout",
     "output_type": "stream",
     "text": [
      "▶ Training on no_audio, Testing on with_audio\n"
     ]
    },
    {
     "data": {
      "text/plain": [
       "<IPython.core.display.HTML object>"
      ],
      "text/html": [
       "Tracking run with wandb version 0.20.1"
      ]
     },
     "metadata": {},
     "output_type": "display_data"
    },
    {
     "data": {
      "text/plain": [
       "<IPython.core.display.HTML object>"
      ],
      "text/html": [
       "Run data is saved locally in <code>/Users/lukini/PycharmProjects/DetectorPerModalitie/wandb/run-20250622_225111-g0ac29bi</code>"
      ]
     },
     "metadata": {},
     "output_type": "display_data"
    },
    {
     "data": {
      "text/plain": [
       "<IPython.core.display.HTML object>"
      ],
      "text/html": [
       "Syncing run <strong><a href='https://wandb.ai/knezevicoluka-tu-delft/rf-segment-classification/runs/g0ac29bi' target=\"_blank\">lucky-dawn-452</a></strong> to <a href='https://wandb.ai/knezevicoluka-tu-delft/rf-segment-classification' target=\"_blank\">Weights & Biases</a> (<a href='https://wandb.me/developer-guide' target=\"_blank\">docs</a>)<br>"
      ]
     },
     "metadata": {},
     "output_type": "display_data"
    },
    {
     "data": {
      "text/plain": [
       "<IPython.core.display.HTML object>"
      ],
      "text/html": [
       " View project at <a href='https://wandb.ai/knezevicoluka-tu-delft/rf-segment-classification' target=\"_blank\">https://wandb.ai/knezevicoluka-tu-delft/rf-segment-classification</a>"
      ]
     },
     "metadata": {},
     "output_type": "display_data"
    },
    {
     "data": {
      "text/plain": [
       "<IPython.core.display.HTML object>"
      ],
      "text/html": [
       " View run at <a href='https://wandb.ai/knezevicoluka-tu-delft/rf-segment-classification/runs/g0ac29bi' target=\"_blank\">https://wandb.ai/knezevicoluka-tu-delft/rf-segment-classification/runs/g0ac29bi</a>"
      ]
     },
     "metadata": {},
     "output_type": "display_data"
    },
    {
     "data": {
      "text/plain": [
       "<IPython.core.display.HTML object>"
      ],
      "text/html": []
     },
     "metadata": {},
     "output_type": "display_data"
    },
    {
     "data": {
      "text/plain": [
       "<IPython.core.display.HTML object>"
      ],
      "text/html": [
       "<br>    <style><br>        .wandb-row {<br>            display: flex;<br>            flex-direction: row;<br>            flex-wrap: wrap;<br>            justify-content: flex-start;<br>            width: 100%;<br>        }<br>        .wandb-col {<br>            display: flex;<br>            flex-direction: column;<br>            flex-basis: 100%;<br>            flex: 1;<br>            padding: 10px;<br>        }<br>    </style><br><div class=\"wandb-row\"><div class=\"wandb-col\"><h3>Run history:</h3><br/><table class=\"wandb\"><tr><td>accelX_filtered_deriv_std</td><td>▁</td></tr><tr><td>accelX_filtered_energy</td><td>▁</td></tr><tr><td>accelX_filtered_var</td><td>▁</td></tr><tr><td>accelY_filtered_deriv_std</td><td>▁</td></tr><tr><td>accelZ_filtered_deriv_std</td><td>▁</td></tr><tr><td>accelZ_filtered_energy</td><td>▁</td></tr><tr><td>corr_xy</td><td>▁</td></tr><tr><td>corr_xz</td><td>▁</td></tr><tr><td>corr_yz</td><td>▁</td></tr><tr><td>test/0/f1-score</td><td>▁</td></tr><tr><td>test/0/precision</td><td>▁</td></tr><tr><td>test/0/recall</td><td>▁</td></tr><tr><td>test/1/f1-score</td><td>▁</td></tr><tr><td>test/1/precision</td><td>▁</td></tr><tr><td>test/1/recall</td><td>▁</td></tr><tr><td>test/accuracy</td><td>▁</td></tr><tr><td>test/f1_macro</td><td>▁</td></tr><tr><td>window_start_frame</td><td>▁</td></tr></table><br/></div><div class=\"wandb-col\"><h3>Run summary:</h3><br/><table class=\"wandb\"><tr><td>accelX_filtered_deriv_std</td><td>0.11423</td></tr><tr><td>accelX_filtered_energy</td><td>0.07252</td></tr><tr><td>accelX_filtered_var</td><td>0.07695</td></tr><tr><td>accelY_filtered_deriv_std</td><td>0.06991</td></tr><tr><td>accelZ_filtered_deriv_std</td><td>0.07518</td></tr><tr><td>accelZ_filtered_energy</td><td>0.04668</td></tr><tr><td>corr_xy</td><td>0.04928</td></tr><tr><td>corr_xz</td><td>0.06677</td></tr><tr><td>corr_yz</td><td>0.09609</td></tr><tr><td>test/0/f1-score</td><td>0.93581</td></tr><tr><td>test/0/precision</td><td>0.94315</td></tr><tr><td>test/0/recall</td><td>0.92857</td></tr><tr><td>test/1/f1-score</td><td>0.46398</td></tr><tr><td>test/1/precision</td><td>0.43565</td></tr><tr><td>test/1/recall</td><td>0.49625</td></tr><tr><td>test/accuracy</td><td>0.88534</td></tr><tr><td>test/f1_macro</td><td>0.69989</td></tr><tr><td>window_start_frame</td><td>0.12722</td></tr></table><br/></div></div>"
      ]
     },
     "metadata": {},
     "output_type": "display_data"
    },
    {
     "data": {
      "text/plain": [
       "<IPython.core.display.HTML object>"
      ],
      "text/html": [
       " View run <strong style=\"color:#cdcd00\">lucky-dawn-452</strong> at: <a href='https://wandb.ai/knezevicoluka-tu-delft/rf-segment-classification/runs/g0ac29bi' target=\"_blank\">https://wandb.ai/knezevicoluka-tu-delft/rf-segment-classification/runs/g0ac29bi</a><br> View project at: <a href='https://wandb.ai/knezevicoluka-tu-delft/rf-segment-classification' target=\"_blank\">https://wandb.ai/knezevicoluka-tu-delft/rf-segment-classification</a><br>Synced 5 W&B file(s), 0 media file(s), 0 artifact file(s) and 0 other file(s)"
      ]
     },
     "metadata": {},
     "output_type": "display_data"
    },
    {
     "data": {
      "text/plain": [
       "<IPython.core.display.HTML object>"
      ],
      "text/html": [
       "Find logs at: <code>./wandb/run-20250622_225111-g0ac29bi/logs</code>"
      ]
     },
     "metadata": {},
     "output_type": "display_data"
    },
    {
     "name": "stdout",
     "output_type": "stream",
     "text": [
      "▶ Training on no_audio, Testing on no_audio\n"
     ]
    },
    {
     "data": {
      "text/plain": [
       "<IPython.core.display.HTML object>"
      ],
      "text/html": [
       "Tracking run with wandb version 0.20.1"
      ]
     },
     "metadata": {},
     "output_type": "display_data"
    },
    {
     "data": {
      "text/plain": [
       "<IPython.core.display.HTML object>"
      ],
      "text/html": [
       "Run data is saved locally in <code>/Users/lukini/PycharmProjects/DetectorPerModalitie/wandb/run-20250622_225116-8jest18b</code>"
      ]
     },
     "metadata": {},
     "output_type": "display_data"
    },
    {
     "data": {
      "text/plain": [
       "<IPython.core.display.HTML object>"
      ],
      "text/html": [
       "Syncing run <strong><a href='https://wandb.ai/knezevicoluka-tu-delft/rf-segment-classification/runs/8jest18b' target=\"_blank\">faithful-sea-453</a></strong> to <a href='https://wandb.ai/knezevicoluka-tu-delft/rf-segment-classification' target=\"_blank\">Weights & Biases</a> (<a href='https://wandb.me/developer-guide' target=\"_blank\">docs</a>)<br>"
      ]
     },
     "metadata": {},
     "output_type": "display_data"
    },
    {
     "data": {
      "text/plain": [
       "<IPython.core.display.HTML object>"
      ],
      "text/html": [
       " View project at <a href='https://wandb.ai/knezevicoluka-tu-delft/rf-segment-classification' target=\"_blank\">https://wandb.ai/knezevicoluka-tu-delft/rf-segment-classification</a>"
      ]
     },
     "metadata": {},
     "output_type": "display_data"
    },
    {
     "data": {
      "text/plain": [
       "<IPython.core.display.HTML object>"
      ],
      "text/html": [
       " View run at <a href='https://wandb.ai/knezevicoluka-tu-delft/rf-segment-classification/runs/8jest18b' target=\"_blank\">https://wandb.ai/knezevicoluka-tu-delft/rf-segment-classification/runs/8jest18b</a>"
      ]
     },
     "metadata": {},
     "output_type": "display_data"
    },
    {
     "data": {
      "text/plain": [
       "<IPython.core.display.HTML object>"
      ],
      "text/html": []
     },
     "metadata": {},
     "output_type": "display_data"
    },
    {
     "data": {
      "text/plain": [
       "<IPython.core.display.HTML object>"
      ],
      "text/html": [
       "<br>    <style><br>        .wandb-row {<br>            display: flex;<br>            flex-direction: row;<br>            flex-wrap: wrap;<br>            justify-content: flex-start;<br>            width: 100%;<br>        }<br>        .wandb-col {<br>            display: flex;<br>            flex-direction: column;<br>            flex-basis: 100%;<br>            flex: 1;<br>            padding: 10px;<br>        }<br>    </style><br><div class=\"wandb-row\"><div class=\"wandb-col\"><h3>Run history:</h3><br/><table class=\"wandb\"><tr><td>accelX_filtered_deriv_std</td><td>▁</td></tr><tr><td>accelX_filtered_energy</td><td>▁</td></tr><tr><td>accelX_filtered_var</td><td>▁</td></tr><tr><td>accelY_filtered_deriv_std</td><td>▁</td></tr><tr><td>accelZ_filtered_deriv_std</td><td>▁</td></tr><tr><td>accelZ_filtered_energy</td><td>▁</td></tr><tr><td>corr_xy</td><td>▁</td></tr><tr><td>corr_xz</td><td>▁</td></tr><tr><td>corr_yz</td><td>▁</td></tr><tr><td>test/0/f1-score</td><td>▁</td></tr><tr><td>test/0/precision</td><td>▁</td></tr><tr><td>test/0/recall</td><td>▁</td></tr><tr><td>test/1/f1-score</td><td>▁</td></tr><tr><td>test/1/precision</td><td>▁</td></tr><tr><td>test/1/recall</td><td>▁</td></tr><tr><td>test/accuracy</td><td>▁</td></tr><tr><td>test/f1_macro</td><td>▁</td></tr><tr><td>window_start_frame</td><td>▁</td></tr></table><br/></div><div class=\"wandb-col\"><h3>Run summary:</h3><br/><table class=\"wandb\"><tr><td>accelX_filtered_deriv_std</td><td>0.11423</td></tr><tr><td>accelX_filtered_energy</td><td>0.07252</td></tr><tr><td>accelX_filtered_var</td><td>0.07695</td></tr><tr><td>accelY_filtered_deriv_std</td><td>0.06991</td></tr><tr><td>accelZ_filtered_deriv_std</td><td>0.07518</td></tr><tr><td>accelZ_filtered_energy</td><td>0.04668</td></tr><tr><td>corr_xy</td><td>0.04928</td></tr><tr><td>corr_xz</td><td>0.06677</td></tr><tr><td>corr_yz</td><td>0.09609</td></tr><tr><td>test/0/f1-score</td><td>0.96305</td></tr><tr><td>test/0/precision</td><td>0.99843</td></tr><tr><td>test/0/recall</td><td>0.93008</td></tr><tr><td>test/1/f1-score</td><td>0.75444</td></tr><tr><td>test/1/precision</td><td>0.61063</td></tr><tr><td>test/1/recall</td><td>0.98684</td></tr><tr><td>test/accuracy</td><td>0.93576</td></tr><tr><td>test/f1_macro</td><td>0.85874</td></tr><tr><td>window_start_frame</td><td>0.12722</td></tr></table><br/></div></div>"
      ]
     },
     "metadata": {},
     "output_type": "display_data"
    },
    {
     "data": {
      "text/plain": [
       "<IPython.core.display.HTML object>"
      ],
      "text/html": [
       " View run <strong style=\"color:#cdcd00\">faithful-sea-453</strong> at: <a href='https://wandb.ai/knezevicoluka-tu-delft/rf-segment-classification/runs/8jest18b' target=\"_blank\">https://wandb.ai/knezevicoluka-tu-delft/rf-segment-classification/runs/8jest18b</a><br> View project at: <a href='https://wandb.ai/knezevicoluka-tu-delft/rf-segment-classification' target=\"_blank\">https://wandb.ai/knezevicoluka-tu-delft/rf-segment-classification</a><br>Synced 5 W&B file(s), 0 media file(s), 0 artifact file(s) and 0 other file(s)"
      ]
     },
     "metadata": {},
     "output_type": "display_data"
    },
    {
     "data": {
      "text/plain": [
       "<IPython.core.display.HTML object>"
      ],
      "text/html": [
       "Find logs at: <code>./wandb/run-20250622_225116-8jest18b/logs</code>"
      ]
     },
     "metadata": {},
     "output_type": "display_data"
    },
    {
     "name": "stdout",
     "output_type": "stream",
     "text": [
      "▶ Training on no_audio, Testing on only_audio\n"
     ]
    },
    {
     "data": {
      "text/plain": [
       "<IPython.core.display.HTML object>"
      ],
      "text/html": [
       "Tracking run with wandb version 0.20.1"
      ]
     },
     "metadata": {},
     "output_type": "display_data"
    },
    {
     "data": {
      "text/plain": [
       "<IPython.core.display.HTML object>"
      ],
      "text/html": [
       "Run data is saved locally in <code>/Users/lukini/PycharmProjects/DetectorPerModalitie/wandb/run-20250622_225122-gw3q97dp</code>"
      ]
     },
     "metadata": {},
     "output_type": "display_data"
    },
    {
     "data": {
      "text/plain": [
       "<IPython.core.display.HTML object>"
      ],
      "text/html": [
       "Syncing run <strong><a href='https://wandb.ai/knezevicoluka-tu-delft/rf-segment-classification/runs/gw3q97dp' target=\"_blank\">ruby-feather-454</a></strong> to <a href='https://wandb.ai/knezevicoluka-tu-delft/rf-segment-classification' target=\"_blank\">Weights & Biases</a> (<a href='https://wandb.me/developer-guide' target=\"_blank\">docs</a>)<br>"
      ]
     },
     "metadata": {},
     "output_type": "display_data"
    },
    {
     "data": {
      "text/plain": [
       "<IPython.core.display.HTML object>"
      ],
      "text/html": [
       " View project at <a href='https://wandb.ai/knezevicoluka-tu-delft/rf-segment-classification' target=\"_blank\">https://wandb.ai/knezevicoluka-tu-delft/rf-segment-classification</a>"
      ]
     },
     "metadata": {},
     "output_type": "display_data"
    },
    {
     "data": {
      "text/plain": [
       "<IPython.core.display.HTML object>"
      ],
      "text/html": [
       " View run at <a href='https://wandb.ai/knezevicoluka-tu-delft/rf-segment-classification/runs/gw3q97dp' target=\"_blank\">https://wandb.ai/knezevicoluka-tu-delft/rf-segment-classification/runs/gw3q97dp</a>"
      ]
     },
     "metadata": {},
     "output_type": "display_data"
    },
    {
     "data": {
      "text/plain": [
       "<IPython.core.display.HTML object>"
      ],
      "text/html": []
     },
     "metadata": {},
     "output_type": "display_data"
    },
    {
     "data": {
      "text/plain": [
       "<IPython.core.display.HTML object>"
      ],
      "text/html": [
       "<br>    <style><br>        .wandb-row {<br>            display: flex;<br>            flex-direction: row;<br>            flex-wrap: wrap;<br>            justify-content: flex-start;<br>            width: 100%;<br>        }<br>        .wandb-col {<br>            display: flex;<br>            flex-direction: column;<br>            flex-basis: 100%;<br>            flex: 1;<br>            padding: 10px;<br>        }<br>    </style><br><div class=\"wandb-row\"><div class=\"wandb-col\"><h3>Run history:</h3><br/><table class=\"wandb\"><tr><td>accelX_filtered_deriv_std</td><td>▁</td></tr><tr><td>accelX_filtered_energy</td><td>▁</td></tr><tr><td>accelX_filtered_var</td><td>▁</td></tr><tr><td>accelY_filtered_deriv_std</td><td>▁</td></tr><tr><td>accelZ_filtered_deriv_std</td><td>▁</td></tr><tr><td>accelZ_filtered_energy</td><td>▁</td></tr><tr><td>corr_xy</td><td>▁</td></tr><tr><td>corr_xz</td><td>▁</td></tr><tr><td>corr_yz</td><td>▁</td></tr><tr><td>test/0/f1-score</td><td>▁</td></tr><tr><td>test/0/precision</td><td>▁</td></tr><tr><td>test/0/recall</td><td>▁</td></tr><tr><td>test/1/f1-score</td><td>▁</td></tr><tr><td>test/1/precision</td><td>▁</td></tr><tr><td>test/1/recall</td><td>▁</td></tr><tr><td>test/accuracy</td><td>▁</td></tr><tr><td>test/f1_macro</td><td>▁</td></tr><tr><td>window_start_frame</td><td>▁</td></tr></table><br/></div><div class=\"wandb-col\"><h3>Run summary:</h3><br/><table class=\"wandb\"><tr><td>accelX_filtered_deriv_std</td><td>0.11423</td></tr><tr><td>accelX_filtered_energy</td><td>0.07252</td></tr><tr><td>accelX_filtered_var</td><td>0.07695</td></tr><tr><td>accelY_filtered_deriv_std</td><td>0.06991</td></tr><tr><td>accelZ_filtered_deriv_std</td><td>0.07518</td></tr><tr><td>accelZ_filtered_energy</td><td>0.04668</td></tr><tr><td>corr_xy</td><td>0.04928</td></tr><tr><td>corr_xz</td><td>0.06677</td></tr><tr><td>corr_yz</td><td>0.09609</td></tr><tr><td>test/0/f1-score</td><td>0.66203</td></tr><tr><td>test/0/precision</td><td>0.51112</td></tr><tr><td>test/0/recall</td><td>0.93942</td></tr><tr><td>test/1/f1-score</td><td>0.17459</td></tr><tr><td>test/1/precision</td><td>0.62609</td></tr><tr><td>test/1/recall</td><td>0.10144</td></tr><tr><td>test/accuracy</td><td>0.52043</td></tr><tr><td>test/f1_macro</td><td>0.41831</td></tr><tr><td>window_start_frame</td><td>0.12722</td></tr></table><br/></div></div>"
      ]
     },
     "metadata": {},
     "output_type": "display_data"
    },
    {
     "data": {
      "text/plain": [
       "<IPython.core.display.HTML object>"
      ],
      "text/html": [
       " View run <strong style=\"color:#cdcd00\">ruby-feather-454</strong> at: <a href='https://wandb.ai/knezevicoluka-tu-delft/rf-segment-classification/runs/gw3q97dp' target=\"_blank\">https://wandb.ai/knezevicoluka-tu-delft/rf-segment-classification/runs/gw3q97dp</a><br> View project at: <a href='https://wandb.ai/knezevicoluka-tu-delft/rf-segment-classification' target=\"_blank\">https://wandb.ai/knezevicoluka-tu-delft/rf-segment-classification</a><br>Synced 5 W&B file(s), 0 media file(s), 0 artifact file(s) and 0 other file(s)"
      ]
     },
     "metadata": {},
     "output_type": "display_data"
    },
    {
     "data": {
      "text/plain": [
       "<IPython.core.display.HTML object>"
      ],
      "text/html": [
       "Find logs at: <code>./wandb/run-20250622_225122-gw3q97dp/logs</code>"
      ]
     },
     "metadata": {},
     "output_type": "display_data"
    },
    {
     "name": "stdout",
     "output_type": "stream",
     "text": [
      "▶ Training on only_audio, Testing on with_audio\n"
     ]
    },
    {
     "data": {
      "text/plain": [
       "<IPython.core.display.HTML object>"
      ],
      "text/html": [
       "Tracking run with wandb version 0.20.1"
      ]
     },
     "metadata": {},
     "output_type": "display_data"
    },
    {
     "data": {
      "text/plain": [
       "<IPython.core.display.HTML object>"
      ],
      "text/html": [
       "Run data is saved locally in <code>/Users/lukini/PycharmProjects/DetectorPerModalitie/wandb/run-20250622_225127-xukq4fbz</code>"
      ]
     },
     "metadata": {},
     "output_type": "display_data"
    },
    {
     "data": {
      "text/plain": [
       "<IPython.core.display.HTML object>"
      ],
      "text/html": [
       "Syncing run <strong><a href='https://wandb.ai/knezevicoluka-tu-delft/rf-segment-classification/runs/xukq4fbz' target=\"_blank\">smart-firefly-455</a></strong> to <a href='https://wandb.ai/knezevicoluka-tu-delft/rf-segment-classification' target=\"_blank\">Weights & Biases</a> (<a href='https://wandb.me/developer-guide' target=\"_blank\">docs</a>)<br>"
      ]
     },
     "metadata": {},
     "output_type": "display_data"
    },
    {
     "data": {
      "text/plain": [
       "<IPython.core.display.HTML object>"
      ],
      "text/html": [
       " View project at <a href='https://wandb.ai/knezevicoluka-tu-delft/rf-segment-classification' target=\"_blank\">https://wandb.ai/knezevicoluka-tu-delft/rf-segment-classification</a>"
      ]
     },
     "metadata": {},
     "output_type": "display_data"
    },
    {
     "data": {
      "text/plain": [
       "<IPython.core.display.HTML object>"
      ],
      "text/html": [
       " View run at <a href='https://wandb.ai/knezevicoluka-tu-delft/rf-segment-classification/runs/xukq4fbz' target=\"_blank\">https://wandb.ai/knezevicoluka-tu-delft/rf-segment-classification/runs/xukq4fbz</a>"
      ]
     },
     "metadata": {},
     "output_type": "display_data"
    },
    {
     "data": {
      "text/plain": [
       "<IPython.core.display.HTML object>"
      ],
      "text/html": []
     },
     "metadata": {},
     "output_type": "display_data"
    },
    {
     "data": {
      "text/plain": [
       "<IPython.core.display.HTML object>"
      ],
      "text/html": [
       "<br>    <style><br>        .wandb-row {<br>            display: flex;<br>            flex-direction: row;<br>            flex-wrap: wrap;<br>            justify-content: flex-start;<br>            width: 100%;<br>        }<br>        .wandb-col {<br>            display: flex;<br>            flex-direction: column;<br>            flex-basis: 100%;<br>            flex: 1;<br>            padding: 10px;<br>        }<br>    </style><br><div class=\"wandb-row\"><div class=\"wandb-col\"><h3>Run history:</h3><br/><table class=\"wandb\"><tr><td>accelX_filtered_deriv_std</td><td>▁</td></tr><tr><td>accelX_filtered_energy</td><td>▁</td></tr><tr><td>accelX_filtered_var</td><td>▁</td></tr><tr><td>accelY_filtered_deriv_std</td><td>▁</td></tr><tr><td>accelZ_filtered_deriv_std</td><td>▁</td></tr><tr><td>accelZ_filtered_energy</td><td>▁</td></tr><tr><td>accelZ_filtered_var</td><td>▁</td></tr><tr><td>corr_xz</td><td>▁</td></tr><tr><td>corr_yz</td><td>▁</td></tr><tr><td>test/0/f1-score</td><td>▁</td></tr><tr><td>test/0/precision</td><td>▁</td></tr><tr><td>test/0/recall</td><td>▁</td></tr><tr><td>test/1/f1-score</td><td>▁</td></tr><tr><td>test/1/precision</td><td>▁</td></tr><tr><td>test/1/recall</td><td>▁</td></tr><tr><td>test/accuracy</td><td>▁</td></tr><tr><td>test/f1_macro</td><td>▁</td></tr><tr><td>window_start_frame</td><td>▁</td></tr></table><br/></div><div class=\"wandb-col\"><h3>Run summary:</h3><br/><table class=\"wandb\"><tr><td>accelX_filtered_deriv_std</td><td>0.09344</td></tr><tr><td>accelX_filtered_energy</td><td>0.04672</td></tr><tr><td>accelX_filtered_var</td><td>0.04937</td></tr><tr><td>accelY_filtered_deriv_std</td><td>0.0668</td></tr><tr><td>accelZ_filtered_deriv_std</td><td>0.07305</td></tr><tr><td>accelZ_filtered_energy</td><td>0.0548</td></tr><tr><td>accelZ_filtered_var</td><td>0.06005</td></tr><tr><td>corr_xz</td><td>0.05375</td></tr><tr><td>corr_yz</td><td>0.07016</td></tr><tr><td>test/0/f1-score</td><td>0.81166</td></tr><tr><td>test/0/precision</td><td>0.94714</td></tr><tr><td>test/0/recall</td><td>0.71009</td></tr><tr><td>test/1/f1-score</td><td>0.30254</td></tr><tr><td>test/1/precision</td><td>0.19778</td></tr><tr><td>test/1/recall</td><td>0.6433</td></tr><tr><td>test/accuracy</td><td>0.70341</td></tr><tr><td>test/f1_macro</td><td>0.5571</td></tr><tr><td>window_start_frame</td><td>0.22022</td></tr></table><br/></div></div>"
      ]
     },
     "metadata": {},
     "output_type": "display_data"
    },
    {
     "data": {
      "text/plain": [
       "<IPython.core.display.HTML object>"
      ],
      "text/html": [
       " View run <strong style=\"color:#cdcd00\">smart-firefly-455</strong> at: <a href='https://wandb.ai/knezevicoluka-tu-delft/rf-segment-classification/runs/xukq4fbz' target=\"_blank\">https://wandb.ai/knezevicoluka-tu-delft/rf-segment-classification/runs/xukq4fbz</a><br> View project at: <a href='https://wandb.ai/knezevicoluka-tu-delft/rf-segment-classification' target=\"_blank\">https://wandb.ai/knezevicoluka-tu-delft/rf-segment-classification</a><br>Synced 5 W&B file(s), 0 media file(s), 0 artifact file(s) and 0 other file(s)"
      ]
     },
     "metadata": {},
     "output_type": "display_data"
    },
    {
     "data": {
      "text/plain": [
       "<IPython.core.display.HTML object>"
      ],
      "text/html": [
       "Find logs at: <code>./wandb/run-20250622_225127-xukq4fbz/logs</code>"
      ]
     },
     "metadata": {},
     "output_type": "display_data"
    },
    {
     "name": "stdout",
     "output_type": "stream",
     "text": [
      "▶ Training on only_audio, Testing on no_audio\n"
     ]
    },
    {
     "data": {
      "text/plain": [
       "<IPython.core.display.HTML object>"
      ],
      "text/html": [
       "Tracking run with wandb version 0.20.1"
      ]
     },
     "metadata": {},
     "output_type": "display_data"
    },
    {
     "data": {
      "text/plain": [
       "<IPython.core.display.HTML object>"
      ],
      "text/html": [
       "Run data is saved locally in <code>/Users/lukini/PycharmProjects/DetectorPerModalitie/wandb/run-20250622_225133-i841f3kv</code>"
      ]
     },
     "metadata": {},
     "output_type": "display_data"
    },
    {
     "data": {
      "text/plain": [
       "<IPython.core.display.HTML object>"
      ],
      "text/html": [
       "Syncing run <strong><a href='https://wandb.ai/knezevicoluka-tu-delft/rf-segment-classification/runs/i841f3kv' target=\"_blank\">worldly-deluge-456</a></strong> to <a href='https://wandb.ai/knezevicoluka-tu-delft/rf-segment-classification' target=\"_blank\">Weights & Biases</a> (<a href='https://wandb.me/developer-guide' target=\"_blank\">docs</a>)<br>"
      ]
     },
     "metadata": {},
     "output_type": "display_data"
    },
    {
     "data": {
      "text/plain": [
       "<IPython.core.display.HTML object>"
      ],
      "text/html": [
       " View project at <a href='https://wandb.ai/knezevicoluka-tu-delft/rf-segment-classification' target=\"_blank\">https://wandb.ai/knezevicoluka-tu-delft/rf-segment-classification</a>"
      ]
     },
     "metadata": {},
     "output_type": "display_data"
    },
    {
     "data": {
      "text/plain": [
       "<IPython.core.display.HTML object>"
      ],
      "text/html": [
       " View run at <a href='https://wandb.ai/knezevicoluka-tu-delft/rf-segment-classification/runs/i841f3kv' target=\"_blank\">https://wandb.ai/knezevicoluka-tu-delft/rf-segment-classification/runs/i841f3kv</a>"
      ]
     },
     "metadata": {},
     "output_type": "display_data"
    },
    {
     "data": {
      "text/plain": [
       "<IPython.core.display.HTML object>"
      ],
      "text/html": []
     },
     "metadata": {},
     "output_type": "display_data"
    },
    {
     "data": {
      "text/plain": [
       "<IPython.core.display.HTML object>"
      ],
      "text/html": [
       "<br>    <style><br>        .wandb-row {<br>            display: flex;<br>            flex-direction: row;<br>            flex-wrap: wrap;<br>            justify-content: flex-start;<br>            width: 100%;<br>        }<br>        .wandb-col {<br>            display: flex;<br>            flex-direction: column;<br>            flex-basis: 100%;<br>            flex: 1;<br>            padding: 10px;<br>        }<br>    </style><br><div class=\"wandb-row\"><div class=\"wandb-col\"><h3>Run history:</h3><br/><table class=\"wandb\"><tr><td>accelX_filtered_deriv_std</td><td>▁</td></tr><tr><td>accelX_filtered_energy</td><td>▁</td></tr><tr><td>accelX_filtered_var</td><td>▁</td></tr><tr><td>accelY_filtered_deriv_std</td><td>▁</td></tr><tr><td>accelZ_filtered_deriv_std</td><td>▁</td></tr><tr><td>accelZ_filtered_energy</td><td>▁</td></tr><tr><td>accelZ_filtered_var</td><td>▁</td></tr><tr><td>corr_xz</td><td>▁</td></tr><tr><td>corr_yz</td><td>▁</td></tr><tr><td>test/0/f1-score</td><td>▁</td></tr><tr><td>test/0/precision</td><td>▁</td></tr><tr><td>test/0/recall</td><td>▁</td></tr><tr><td>test/1/f1-score</td><td>▁</td></tr><tr><td>test/1/precision</td><td>▁</td></tr><tr><td>test/1/recall</td><td>▁</td></tr><tr><td>test/accuracy</td><td>▁</td></tr><tr><td>test/f1_macro</td><td>▁</td></tr><tr><td>window_start_frame</td><td>▁</td></tr></table><br/></div><div class=\"wandb-col\"><h3>Run summary:</h3><br/><table class=\"wandb\"><tr><td>accelX_filtered_deriv_std</td><td>0.09344</td></tr><tr><td>accelX_filtered_energy</td><td>0.04672</td></tr><tr><td>accelX_filtered_var</td><td>0.04937</td></tr><tr><td>accelY_filtered_deriv_std</td><td>0.0668</td></tr><tr><td>accelZ_filtered_deriv_std</td><td>0.07305</td></tr><tr><td>accelZ_filtered_energy</td><td>0.0548</td></tr><tr><td>accelZ_filtered_var</td><td>0.06005</td></tr><tr><td>corr_xz</td><td>0.05375</td></tr><tr><td>corr_yz</td><td>0.07016</td></tr><tr><td>test/0/f1-score</td><td>0.80251</td></tr><tr><td>test/0/precision</td><td>0.92543</td></tr><tr><td>test/0/recall</td><td>0.70841</td></tr><tr><td>test/1/f1-score</td><td>0.23657</td></tr><tr><td>test/1/precision</td><td>0.15631</td></tr><tr><td>test/1/recall</td><td>0.48623</td></tr><tr><td>test/accuracy</td><td>0.68619</td></tr><tr><td>test/f1_macro</td><td>0.51954</td></tr><tr><td>window_start_frame</td><td>0.22022</td></tr></table><br/></div></div>"
      ]
     },
     "metadata": {},
     "output_type": "display_data"
    },
    {
     "data": {
      "text/plain": [
       "<IPython.core.display.HTML object>"
      ],
      "text/html": [
       " View run <strong style=\"color:#cdcd00\">worldly-deluge-456</strong> at: <a href='https://wandb.ai/knezevicoluka-tu-delft/rf-segment-classification/runs/i841f3kv' target=\"_blank\">https://wandb.ai/knezevicoluka-tu-delft/rf-segment-classification/runs/i841f3kv</a><br> View project at: <a href='https://wandb.ai/knezevicoluka-tu-delft/rf-segment-classification' target=\"_blank\">https://wandb.ai/knezevicoluka-tu-delft/rf-segment-classification</a><br>Synced 5 W&B file(s), 0 media file(s), 0 artifact file(s) and 0 other file(s)"
      ]
     },
     "metadata": {},
     "output_type": "display_data"
    },
    {
     "data": {
      "text/plain": [
       "<IPython.core.display.HTML object>"
      ],
      "text/html": [
       "Find logs at: <code>./wandb/run-20250622_225133-i841f3kv/logs</code>"
      ]
     },
     "metadata": {},
     "output_type": "display_data"
    },
    {
     "name": "stdout",
     "output_type": "stream",
     "text": [
      "▶ Training on only_audio, Testing on only_audio\n"
     ]
    },
    {
     "data": {
      "text/plain": [
       "<IPython.core.display.HTML object>"
      ],
      "text/html": [
       "Tracking run with wandb version 0.20.1"
      ]
     },
     "metadata": {},
     "output_type": "display_data"
    },
    {
     "data": {
      "text/plain": [
       "<IPython.core.display.HTML object>"
      ],
      "text/html": [
       "Run data is saved locally in <code>/Users/lukini/PycharmProjects/DetectorPerModalitie/wandb/run-20250622_225139-p04b8gfy</code>"
      ]
     },
     "metadata": {},
     "output_type": "display_data"
    },
    {
     "data": {
      "text/plain": [
       "<IPython.core.display.HTML object>"
      ],
      "text/html": [
       "Syncing run <strong><a href='https://wandb.ai/knezevicoluka-tu-delft/rf-segment-classification/runs/p04b8gfy' target=\"_blank\">dulcet-galaxy-457</a></strong> to <a href='https://wandb.ai/knezevicoluka-tu-delft/rf-segment-classification' target=\"_blank\">Weights & Biases</a> (<a href='https://wandb.me/developer-guide' target=\"_blank\">docs</a>)<br>"
      ]
     },
     "metadata": {},
     "output_type": "display_data"
    },
    {
     "data": {
      "text/plain": [
       "<IPython.core.display.HTML object>"
      ],
      "text/html": [
       " View project at <a href='https://wandb.ai/knezevicoluka-tu-delft/rf-segment-classification' target=\"_blank\">https://wandb.ai/knezevicoluka-tu-delft/rf-segment-classification</a>"
      ]
     },
     "metadata": {},
     "output_type": "display_data"
    },
    {
     "data": {
      "text/plain": [
       "<IPython.core.display.HTML object>"
      ],
      "text/html": [
       " View run at <a href='https://wandb.ai/knezevicoluka-tu-delft/rf-segment-classification/runs/p04b8gfy' target=\"_blank\">https://wandb.ai/knezevicoluka-tu-delft/rf-segment-classification/runs/p04b8gfy</a>"
      ]
     },
     "metadata": {},
     "output_type": "display_data"
    },
    {
     "data": {
      "text/plain": [
       "<IPython.core.display.HTML object>"
      ],
      "text/html": []
     },
     "metadata": {},
     "output_type": "display_data"
    },
    {
     "data": {
      "text/plain": [
       "<IPython.core.display.HTML object>"
      ],
      "text/html": [
       "<br>    <style><br>        .wandb-row {<br>            display: flex;<br>            flex-direction: row;<br>            flex-wrap: wrap;<br>            justify-content: flex-start;<br>            width: 100%;<br>        }<br>        .wandb-col {<br>            display: flex;<br>            flex-direction: column;<br>            flex-basis: 100%;<br>            flex: 1;<br>            padding: 10px;<br>        }<br>    </style><br><div class=\"wandb-row\"><div class=\"wandb-col\"><h3>Run history:</h3><br/><table class=\"wandb\"><tr><td>accelX_filtered_deriv_std</td><td>▁</td></tr><tr><td>accelX_filtered_energy</td><td>▁</td></tr><tr><td>accelX_filtered_var</td><td>▁</td></tr><tr><td>accelY_filtered_deriv_std</td><td>▁</td></tr><tr><td>accelZ_filtered_deriv_std</td><td>▁</td></tr><tr><td>accelZ_filtered_energy</td><td>▁</td></tr><tr><td>accelZ_filtered_var</td><td>▁</td></tr><tr><td>corr_xz</td><td>▁</td></tr><tr><td>corr_yz</td><td>▁</td></tr><tr><td>test/0/f1-score</td><td>▁</td></tr><tr><td>test/0/precision</td><td>▁</td></tr><tr><td>test/0/recall</td><td>▁</td></tr><tr><td>test/1/f1-score</td><td>▁</td></tr><tr><td>test/1/precision</td><td>▁</td></tr><tr><td>test/1/recall</td><td>▁</td></tr><tr><td>test/accuracy</td><td>▁</td></tr><tr><td>test/f1_macro</td><td>▁</td></tr><tr><td>window_start_frame</td><td>▁</td></tr></table><br/></div><div class=\"wandb-col\"><h3>Run summary:</h3><br/><table class=\"wandb\"><tr><td>accelX_filtered_deriv_std</td><td>0.09344</td></tr><tr><td>accelX_filtered_energy</td><td>0.04672</td></tr><tr><td>accelX_filtered_var</td><td>0.04937</td></tr><tr><td>accelY_filtered_deriv_std</td><td>0.0668</td></tr><tr><td>accelZ_filtered_deriv_std</td><td>0.07305</td></tr><tr><td>accelZ_filtered_energy</td><td>0.0548</td></tr><tr><td>accelZ_filtered_var</td><td>0.06005</td></tr><tr><td>corr_xz</td><td>0.05375</td></tr><tr><td>corr_yz</td><td>0.07016</td></tr><tr><td>test/0/f1-score</td><td>0.70388</td></tr><tr><td>test/0/precision</td><td>0.72227</td></tr><tr><td>test/0/recall</td><td>0.68641</td></tr><tr><td>test/1/f1-score</td><td>0.71823</td></tr><tr><td>test/1/precision</td><td>0.70124</td></tr><tr><td>test/1/recall</td><td>0.73606</td></tr><tr><td>test/accuracy</td><td>0.71123</td></tr><tr><td>test/f1_macro</td><td>0.71106</td></tr><tr><td>window_start_frame</td><td>0.22022</td></tr></table><br/></div></div>"
      ]
     },
     "metadata": {},
     "output_type": "display_data"
    },
    {
     "data": {
      "text/plain": [
       "<IPython.core.display.HTML object>"
      ],
      "text/html": [
       " View run <strong style=\"color:#cdcd00\">dulcet-galaxy-457</strong> at: <a href='https://wandb.ai/knezevicoluka-tu-delft/rf-segment-classification/runs/p04b8gfy' target=\"_blank\">https://wandb.ai/knezevicoluka-tu-delft/rf-segment-classification/runs/p04b8gfy</a><br> View project at: <a href='https://wandb.ai/knezevicoluka-tu-delft/rf-segment-classification' target=\"_blank\">https://wandb.ai/knezevicoluka-tu-delft/rf-segment-classification</a><br>Synced 5 W&B file(s), 0 media file(s), 0 artifact file(s) and 0 other file(s)"
      ]
     },
     "metadata": {},
     "output_type": "display_data"
    },
    {
     "data": {
      "text/plain": [
       "<IPython.core.display.HTML object>"
      ],
      "text/html": [
       "Find logs at: <code>./wandb/run-20250622_225139-p04b8gfy/logs</code>"
      ]
     },
     "metadata": {},
     "output_type": "display_data"
    },
    {
     "name": "stdout",
     "output_type": "stream",
     "text": [
      "  train_modality test_modality  duration_s  accuracy  f1_macro  precision_1  \\\n",
      "0     with_audio    with_audio          10  0.973498  0.934024     0.790496   \n",
      "1     with_audio      no_audio          10  0.899048  0.642835     0.491015   \n",
      "2     with_audio    only_audio          10  0.518558  0.392897     0.706004   \n",
      "3       no_audio    with_audio          10  0.885342  0.699891     0.435645   \n",
      "4       no_audio      no_audio          10  0.935759  0.858741     0.610633   \n",
      "5       no_audio    only_audio          10  0.520429  0.418313     0.626087   \n",
      "6     only_audio    with_audio          10  0.703411  0.557102     0.197781   \n",
      "7     only_audio      no_audio          10  0.686191  0.519539     0.156313   \n",
      "8     only_audio    only_audio          10  0.711234  0.711056     0.701244   \n",
      "\n",
      "   recall_1      f1_1  \n",
      "0  1.000000  0.882991  \n",
      "1  0.260411  0.340329  \n",
      "2  0.063602  0.116691  \n",
      "3  0.496252  0.463978  \n",
      "4  0.986837  0.754437  \n",
      "5  0.101441  0.174593  \n",
      "6  0.643296  0.302544  \n",
      "7  0.486226  0.236572  \n",
      "8  0.736056  0.718228  \n"
     ]
    }
   ],
   "execution_count": 4
  },
  {
   "metadata": {},
   "cell_type": "code",
   "outputs": [],
   "execution_count": null,
   "source": "",
   "id": "6587b1887325ec9f"
  }
 ],
 "metadata": {
  "kernelspec": {
   "display_name": "Python 3",
   "language": "python",
   "name": "python3"
  },
  "language_info": {
   "codemirror_mode": {
    "name": "ipython",
    "version": 2
   },
   "file_extension": ".py",
   "mimetype": "text/x-python",
   "name": "python",
   "nbconvert_exporter": "python",
   "pygments_lexer": "ipython2",
   "version": "2.7.6"
  }
 },
 "nbformat": 4,
 "nbformat_minor": 5
}
